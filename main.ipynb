{
 "cells": [
  {
   "cell_type": "markdown",
   "metadata": {},
   "source": [
    "<div style=\"text-align: center; font-weight: bold; font-size: 200%\"> Modèle épidimiologique - covid-19</div>                                                        \n",
    "<br />      \n",
    "<div style=\"text-align: center; font-size: 150%\">Projet MAP 568 - Ecole polytechnique</div><br />  \n",
    "<div style=\"text-align: center; font-size: 120%\">Calot Paul et Nagaev Sacha</div><br />  \n"
   ]
  },
  {
   "cell_type": "markdown",
   "metadata": {},
   "source": [
    "# Préalable - installation des modules\n",
    "\n",
    "```shell\n",
    "conda create -n map568 python=3.9\n",
    "```\n",
    "Puis :\n",
    "```shell\n",
    "conda activate\n",
    "```\n",
    "Puis : \n",
    "```shell\n",
    "conda install jupyter matplotlib numpy scipy bokeh\n",
    "conda install -c auto prettyprint\n",
    "conda install -c conda-forge pydoe2\n",
    "conda install -c conda-forge salib\n",
    "```\n",
    "\n",
    "\n",
    "Le package *bokeh* permet de créer des graphes avec lesquels on peut interagir (zoom sur une partie de graphe, sélection des courbes à afficher en cliquant sur la légende etc). "
   ]
  },
  {
   "cell_type": "markdown",
   "metadata": {},
   "source": [
    "# Projet\n",
    "Le modèle est définit dans [model](model.py#SEIR). De nombreuses variables et fonctions utilisées dans la suite sont définies dans [utils](utils.py). Nous attirerons l'attention au moment opportun sur les différences fonctions."
   ]
  },
  {
   "cell_type": "code",
   "execution_count": 1,
   "metadata": {},
   "outputs": [
    {
     "data": {
      "application/javascript": [
       "\n",
       "(function(root) {\n",
       "  function now() {\n",
       "    return new Date();\n",
       "  }\n",
       "\n",
       "  var force = true;\n",
       "\n",
       "  if (typeof root._bokeh_onload_callbacks === \"undefined\" || force === true) {\n",
       "    root._bokeh_onload_callbacks = [];\n",
       "    root._bokeh_is_loading = undefined;\n",
       "  }\n",
       "\n",
       "  var JS_MIME_TYPE = 'application/javascript';\n",
       "  var HTML_MIME_TYPE = 'text/html';\n",
       "  var EXEC_MIME_TYPE = 'application/vnd.bokehjs_exec.v0+json';\n",
       "  var CLASS_NAME = 'output_bokeh rendered_html';\n",
       "\n",
       "  /**\n",
       "   * Render data to the DOM node\n",
       "   */\n",
       "  function render(props, node) {\n",
       "    var script = document.createElement(\"script\");\n",
       "    node.appendChild(script);\n",
       "  }\n",
       "\n",
       "  /**\n",
       "   * Handle when an output is cleared or removed\n",
       "   */\n",
       "  function handleClearOutput(event, handle) {\n",
       "    var cell = handle.cell;\n",
       "\n",
       "    var id = cell.output_area._bokeh_element_id;\n",
       "    var server_id = cell.output_area._bokeh_server_id;\n",
       "    // Clean up Bokeh references\n",
       "    if (id != null && id in Bokeh.index) {\n",
       "      Bokeh.index[id].model.document.clear();\n",
       "      delete Bokeh.index[id];\n",
       "    }\n",
       "\n",
       "    if (server_id !== undefined) {\n",
       "      // Clean up Bokeh references\n",
       "      var cmd = \"from bokeh.io.state import curstate; print(curstate().uuid_to_server['\" + server_id + \"'].get_sessions()[0].document.roots[0]._id)\";\n",
       "      cell.notebook.kernel.execute(cmd, {\n",
       "        iopub: {\n",
       "          output: function(msg) {\n",
       "            var id = msg.content.text.trim();\n",
       "            if (id in Bokeh.index) {\n",
       "              Bokeh.index[id].model.document.clear();\n",
       "              delete Bokeh.index[id];\n",
       "            }\n",
       "          }\n",
       "        }\n",
       "      });\n",
       "      // Destroy server and session\n",
       "      var cmd = \"import bokeh.io.notebook as ion; ion.destroy_server('\" + server_id + \"')\";\n",
       "      cell.notebook.kernel.execute(cmd);\n",
       "    }\n",
       "  }\n",
       "\n",
       "  /**\n",
       "   * Handle when a new output is added\n",
       "   */\n",
       "  function handleAddOutput(event, handle) {\n",
       "    var output_area = handle.output_area;\n",
       "    var output = handle.output;\n",
       "\n",
       "    // limit handleAddOutput to display_data with EXEC_MIME_TYPE content only\n",
       "    if ((output.output_type != \"display_data\") || (!output.data.hasOwnProperty(EXEC_MIME_TYPE))) {\n",
       "      return\n",
       "    }\n",
       "\n",
       "    var toinsert = output_area.element.find(\".\" + CLASS_NAME.split(' ')[0]);\n",
       "\n",
       "    if (output.metadata[EXEC_MIME_TYPE][\"id\"] !== undefined) {\n",
       "      toinsert[toinsert.length - 1].firstChild.textContent = output.data[JS_MIME_TYPE];\n",
       "      // store reference to embed id on output_area\n",
       "      output_area._bokeh_element_id = output.metadata[EXEC_MIME_TYPE][\"id\"];\n",
       "    }\n",
       "    if (output.metadata[EXEC_MIME_TYPE][\"server_id\"] !== undefined) {\n",
       "      var bk_div = document.createElement(\"div\");\n",
       "      bk_div.innerHTML = output.data[HTML_MIME_TYPE];\n",
       "      var script_attrs = bk_div.children[0].attributes;\n",
       "      for (var i = 0; i < script_attrs.length; i++) {\n",
       "        toinsert[toinsert.length - 1].firstChild.setAttribute(script_attrs[i].name, script_attrs[i].value);\n",
       "        toinsert[toinsert.length - 1].firstChild.textContent = bk_div.children[0].textContent\n",
       "      }\n",
       "      // store reference to server id on output_area\n",
       "      output_area._bokeh_server_id = output.metadata[EXEC_MIME_TYPE][\"server_id\"];\n",
       "    }\n",
       "  }\n",
       "\n",
       "  function register_renderer(events, OutputArea) {\n",
       "\n",
       "    function append_mime(data, metadata, element) {\n",
       "      // create a DOM node to render to\n",
       "      var toinsert = this.create_output_subarea(\n",
       "        metadata,\n",
       "        CLASS_NAME,\n",
       "        EXEC_MIME_TYPE\n",
       "      );\n",
       "      this.keyboard_manager.register_events(toinsert);\n",
       "      // Render to node\n",
       "      var props = {data: data, metadata: metadata[EXEC_MIME_TYPE]};\n",
       "      render(props, toinsert[toinsert.length - 1]);\n",
       "      element.append(toinsert);\n",
       "      return toinsert\n",
       "    }\n",
       "\n",
       "    /* Handle when an output is cleared or removed */\n",
       "    events.on('clear_output.CodeCell', handleClearOutput);\n",
       "    events.on('delete.Cell', handleClearOutput);\n",
       "\n",
       "    /* Handle when a new output is added */\n",
       "    events.on('output_added.OutputArea', handleAddOutput);\n",
       "\n",
       "    /**\n",
       "     * Register the mime type and append_mime function with output_area\n",
       "     */\n",
       "    OutputArea.prototype.register_mime_type(EXEC_MIME_TYPE, append_mime, {\n",
       "      /* Is output safe? */\n",
       "      safe: true,\n",
       "      /* Index of renderer in `output_area.display_order` */\n",
       "      index: 0\n",
       "    });\n",
       "  }\n",
       "\n",
       "  // register the mime type if in Jupyter Notebook environment and previously unregistered\n",
       "  if (root.Jupyter !== undefined) {\n",
       "    var events = require('base/js/events');\n",
       "    var OutputArea = require('notebook/js/outputarea').OutputArea;\n",
       "\n",
       "    if (OutputArea.prototype.mime_types().indexOf(EXEC_MIME_TYPE) == -1) {\n",
       "      register_renderer(events, OutputArea);\n",
       "    }\n",
       "  }\n",
       "\n",
       "  \n",
       "  if (typeof (root._bokeh_timeout) === \"undefined\" || force === true) {\n",
       "    root._bokeh_timeout = Date.now() + 5000;\n",
       "    root._bokeh_failed_load = false;\n",
       "  }\n",
       "\n",
       "  var NB_LOAD_WARNING = {'data': {'text/html':\n",
       "     \"<div style='background-color: #fdd'>\\n\"+\n",
       "     \"<p>\\n\"+\n",
       "     \"BokehJS does not appear to have successfully loaded. If loading BokehJS from CDN, this \\n\"+\n",
       "     \"may be due to a slow or bad network connection. Possible fixes:\\n\"+\n",
       "     \"</p>\\n\"+\n",
       "     \"<ul>\\n\"+\n",
       "     \"<li>re-rerun `output_notebook()` to attempt to load from CDN again, or</li>\\n\"+\n",
       "     \"<li>use INLINE resources instead, as so:</li>\\n\"+\n",
       "     \"</ul>\\n\"+\n",
       "     \"<code>\\n\"+\n",
       "     \"from bokeh.resources import INLINE\\n\"+\n",
       "     \"output_notebook(resources=INLINE)\\n\"+\n",
       "     \"</code>\\n\"+\n",
       "     \"</div>\"}};\n",
       "\n",
       "  function display_loaded() {\n",
       "    var el = document.getElementById(null);\n",
       "    if (el != null) {\n",
       "      el.textContent = \"BokehJS is loading...\";\n",
       "    }\n",
       "    if (root.Bokeh !== undefined) {\n",
       "      if (el != null) {\n",
       "        el.textContent = \"BokehJS \" + root.Bokeh.version + \" successfully loaded.\";\n",
       "      }\n",
       "    } else if (Date.now() < root._bokeh_timeout) {\n",
       "      setTimeout(display_loaded, 100)\n",
       "    }\n",
       "  }\n",
       "\n",
       "\n",
       "  function run_callbacks() {\n",
       "    try {\n",
       "      root._bokeh_onload_callbacks.forEach(function(callback) {\n",
       "        if (callback != null)\n",
       "          callback();\n",
       "      });\n",
       "    } finally {\n",
       "      delete root._bokeh_onload_callbacks\n",
       "    }\n",
       "    console.debug(\"Bokeh: all callbacks have finished\");\n",
       "  }\n",
       "\n",
       "  function load_libs(css_urls, js_urls, callback) {\n",
       "    if (css_urls == null) css_urls = [];\n",
       "    if (js_urls == null) js_urls = [];\n",
       "\n",
       "    root._bokeh_onload_callbacks.push(callback);\n",
       "    if (root._bokeh_is_loading > 0) {\n",
       "      console.debug(\"Bokeh: BokehJS is being loaded, scheduling callback at\", now());\n",
       "      return null;\n",
       "    }\n",
       "    if (js_urls == null || js_urls.length === 0) {\n",
       "      run_callbacks();\n",
       "      return null;\n",
       "    }\n",
       "    console.debug(\"Bokeh: BokehJS not loaded, scheduling load and callback at\", now());\n",
       "    root._bokeh_is_loading = css_urls.length + js_urls.length;\n",
       "\n",
       "    function on_load() {\n",
       "      root._bokeh_is_loading--;\n",
       "      if (root._bokeh_is_loading === 0) {\n",
       "        console.debug(\"Bokeh: all BokehJS libraries/stylesheets loaded\");\n",
       "        run_callbacks()\n",
       "      }\n",
       "    }\n",
       "\n",
       "    function on_error() {\n",
       "      console.error(\"failed to load \" + url);\n",
       "    }\n",
       "\n",
       "    for (var i = 0; i < css_urls.length; i++) {\n",
       "      var url = css_urls[i];\n",
       "      const element = document.createElement(\"link\");\n",
       "      element.onload = on_load;\n",
       "      element.onerror = on_error;\n",
       "      element.rel = \"stylesheet\";\n",
       "      element.type = \"text/css\";\n",
       "      element.href = url;\n",
       "      console.debug(\"Bokeh: injecting link tag for BokehJS stylesheet: \", url);\n",
       "      document.body.appendChild(element);\n",
       "    }\n",
       "\n",
       "    const hashes = {\"https://cdn.bokeh.org/bokeh/release/bokeh-2.2.3.min.js\": \"T2yuo9Oe71Cz/I4X9Ac5+gpEa5a8PpJCDlqKYO0CfAuEszu1JrXLl8YugMqYe3sM\", \"https://cdn.bokeh.org/bokeh/release/bokeh-widgets-2.2.3.min.js\": \"98GDGJ0kOMCUMUePhksaQ/GYgB3+NH9h996V88sh3aOiUNX3N+fLXAtry6xctSZ6\", \"https://cdn.bokeh.org/bokeh/release/bokeh-tables-2.2.3.min.js\": \"89bArO+nlbP3sgakeHjCo1JYxYR5wufVgA3IbUvDY+K7w4zyxJqssu7wVnfeKCq8\"};\n",
       "\n",
       "    for (var i = 0; i < js_urls.length; i++) {\n",
       "      var url = js_urls[i];\n",
       "      var element = document.createElement('script');\n",
       "      element.onload = on_load;\n",
       "      element.onerror = on_error;\n",
       "      element.async = false;\n",
       "      element.src = url;\n",
       "      if (url in hashes) {\n",
       "        element.crossOrigin = \"anonymous\";\n",
       "        element.integrity = \"sha384-\" + hashes[url];\n",
       "      }\n",
       "      console.debug(\"Bokeh: injecting script tag for BokehJS library: \", url);\n",
       "      document.head.appendChild(element);\n",
       "    }\n",
       "  };\n",
       "\n",
       "  function inject_raw_css(css) {\n",
       "    const element = document.createElement(\"style\");\n",
       "    element.appendChild(document.createTextNode(css));\n",
       "    document.body.appendChild(element);\n",
       "  }\n",
       "\n",
       "  \n",
       "  var js_urls = [\"https://cdn.bokeh.org/bokeh/release/bokeh-2.2.3.min.js\", \"https://cdn.bokeh.org/bokeh/release/bokeh-widgets-2.2.3.min.js\", \"https://cdn.bokeh.org/bokeh/release/bokeh-tables-2.2.3.min.js\"];\n",
       "  var css_urls = [];\n",
       "  \n",
       "\n",
       "  var inline_js = [\n",
       "    function(Bokeh) {\n",
       "      Bokeh.set_log_level(\"info\");\n",
       "    },\n",
       "    function(Bokeh) {\n",
       "    \n",
       "    \n",
       "    }\n",
       "  ];\n",
       "\n",
       "  function run_inline_js() {\n",
       "    \n",
       "    if (root.Bokeh !== undefined || force === true) {\n",
       "      \n",
       "    for (var i = 0; i < inline_js.length; i++) {\n",
       "      inline_js[i].call(root, root.Bokeh);\n",
       "    }\n",
       "    } else if (Date.now() < root._bokeh_timeout) {\n",
       "      setTimeout(run_inline_js, 100);\n",
       "    } else if (!root._bokeh_failed_load) {\n",
       "      console.log(\"Bokeh: BokehJS failed to load within specified timeout.\");\n",
       "      root._bokeh_failed_load = true;\n",
       "    } else if (force !== true) {\n",
       "      var cell = $(document.getElementById(null)).parents('.cell').data().cell;\n",
       "      cell.output_area.append_execute_result(NB_LOAD_WARNING)\n",
       "    }\n",
       "\n",
       "  }\n",
       "\n",
       "  if (root._bokeh_is_loading === 0) {\n",
       "    console.debug(\"Bokeh: BokehJS loaded, going straight to plotting\");\n",
       "    run_inline_js();\n",
       "  } else {\n",
       "    load_libs(css_urls, js_urls, function() {\n",
       "      console.debug(\"Bokeh: BokehJS plotting callback run at\", now());\n",
       "      run_inline_js();\n",
       "    });\n",
       "  }\n",
       "}(window));"
      ],
      "application/vnd.bokehjs_load.v0+json": "\n(function(root) {\n  function now() {\n    return new Date();\n  }\n\n  var force = true;\n\n  if (typeof root._bokeh_onload_callbacks === \"undefined\" || force === true) {\n    root._bokeh_onload_callbacks = [];\n    root._bokeh_is_loading = undefined;\n  }\n\n  \n\n  \n  if (typeof (root._bokeh_timeout) === \"undefined\" || force === true) {\n    root._bokeh_timeout = Date.now() + 5000;\n    root._bokeh_failed_load = false;\n  }\n\n  var NB_LOAD_WARNING = {'data': {'text/html':\n     \"<div style='background-color: #fdd'>\\n\"+\n     \"<p>\\n\"+\n     \"BokehJS does not appear to have successfully loaded. If loading BokehJS from CDN, this \\n\"+\n     \"may be due to a slow or bad network connection. Possible fixes:\\n\"+\n     \"</p>\\n\"+\n     \"<ul>\\n\"+\n     \"<li>re-rerun `output_notebook()` to attempt to load from CDN again, or</li>\\n\"+\n     \"<li>use INLINE resources instead, as so:</li>\\n\"+\n     \"</ul>\\n\"+\n     \"<code>\\n\"+\n     \"from bokeh.resources import INLINE\\n\"+\n     \"output_notebook(resources=INLINE)\\n\"+\n     \"</code>\\n\"+\n     \"</div>\"}};\n\n  function display_loaded() {\n    var el = document.getElementById(null);\n    if (el != null) {\n      el.textContent = \"BokehJS is loading...\";\n    }\n    if (root.Bokeh !== undefined) {\n      if (el != null) {\n        el.textContent = \"BokehJS \" + root.Bokeh.version + \" successfully loaded.\";\n      }\n    } else if (Date.now() < root._bokeh_timeout) {\n      setTimeout(display_loaded, 100)\n    }\n  }\n\n\n  function run_callbacks() {\n    try {\n      root._bokeh_onload_callbacks.forEach(function(callback) {\n        if (callback != null)\n          callback();\n      });\n    } finally {\n      delete root._bokeh_onload_callbacks\n    }\n    console.debug(\"Bokeh: all callbacks have finished\");\n  }\n\n  function load_libs(css_urls, js_urls, callback) {\n    if (css_urls == null) css_urls = [];\n    if (js_urls == null) js_urls = [];\n\n    root._bokeh_onload_callbacks.push(callback);\n    if (root._bokeh_is_loading > 0) {\n      console.debug(\"Bokeh: BokehJS is being loaded, scheduling callback at\", now());\n      return null;\n    }\n    if (js_urls == null || js_urls.length === 0) {\n      run_callbacks();\n      return null;\n    }\n    console.debug(\"Bokeh: BokehJS not loaded, scheduling load and callback at\", now());\n    root._bokeh_is_loading = css_urls.length + js_urls.length;\n\n    function on_load() {\n      root._bokeh_is_loading--;\n      if (root._bokeh_is_loading === 0) {\n        console.debug(\"Bokeh: all BokehJS libraries/stylesheets loaded\");\n        run_callbacks()\n      }\n    }\n\n    function on_error() {\n      console.error(\"failed to load \" + url);\n    }\n\n    for (var i = 0; i < css_urls.length; i++) {\n      var url = css_urls[i];\n      const element = document.createElement(\"link\");\n      element.onload = on_load;\n      element.onerror = on_error;\n      element.rel = \"stylesheet\";\n      element.type = \"text/css\";\n      element.href = url;\n      console.debug(\"Bokeh: injecting link tag for BokehJS stylesheet: \", url);\n      document.body.appendChild(element);\n    }\n\n    const hashes = {\"https://cdn.bokeh.org/bokeh/release/bokeh-2.2.3.min.js\": \"T2yuo9Oe71Cz/I4X9Ac5+gpEa5a8PpJCDlqKYO0CfAuEszu1JrXLl8YugMqYe3sM\", \"https://cdn.bokeh.org/bokeh/release/bokeh-widgets-2.2.3.min.js\": \"98GDGJ0kOMCUMUePhksaQ/GYgB3+NH9h996V88sh3aOiUNX3N+fLXAtry6xctSZ6\", \"https://cdn.bokeh.org/bokeh/release/bokeh-tables-2.2.3.min.js\": \"89bArO+nlbP3sgakeHjCo1JYxYR5wufVgA3IbUvDY+K7w4zyxJqssu7wVnfeKCq8\"};\n\n    for (var i = 0; i < js_urls.length; i++) {\n      var url = js_urls[i];\n      var element = document.createElement('script');\n      element.onload = on_load;\n      element.onerror = on_error;\n      element.async = false;\n      element.src = url;\n      if (url in hashes) {\n        element.crossOrigin = \"anonymous\";\n        element.integrity = \"sha384-\" + hashes[url];\n      }\n      console.debug(\"Bokeh: injecting script tag for BokehJS library: \", url);\n      document.head.appendChild(element);\n    }\n  };\n\n  function inject_raw_css(css) {\n    const element = document.createElement(\"style\");\n    element.appendChild(document.createTextNode(css));\n    document.body.appendChild(element);\n  }\n\n  \n  var js_urls = [\"https://cdn.bokeh.org/bokeh/release/bokeh-2.2.3.min.js\", \"https://cdn.bokeh.org/bokeh/release/bokeh-widgets-2.2.3.min.js\", \"https://cdn.bokeh.org/bokeh/release/bokeh-tables-2.2.3.min.js\"];\n  var css_urls = [];\n  \n\n  var inline_js = [\n    function(Bokeh) {\n      Bokeh.set_log_level(\"info\");\n    },\n    function(Bokeh) {\n    \n    \n    }\n  ];\n\n  function run_inline_js() {\n    \n    if (root.Bokeh !== undefined || force === true) {\n      \n    for (var i = 0; i < inline_js.length; i++) {\n      inline_js[i].call(root, root.Bokeh);\n    }\n    } else if (Date.now() < root._bokeh_timeout) {\n      setTimeout(run_inline_js, 100);\n    } else if (!root._bokeh_failed_load) {\n      console.log(\"Bokeh: BokehJS failed to load within specified timeout.\");\n      root._bokeh_failed_load = true;\n    } else if (force !== true) {\n      var cell = $(document.getElementById(null)).parents('.cell').data().cell;\n      cell.output_area.append_execute_result(NB_LOAD_WARNING)\n    }\n\n  }\n\n  if (root._bokeh_is_loading === 0) {\n    console.debug(\"Bokeh: BokehJS loaded, going straight to plotting\");\n    run_inline_js();\n  } else {\n    load_libs(css_urls, js_urls, function() {\n      console.debug(\"Bokeh: BokehJS plotting callback run at\", now());\n      run_inline_js();\n    });\n  }\n}(window));"
     },
     "metadata": {},
     "output_type": "display_data"
    },
    {
     "data": {
      "application/javascript": [
       "\n",
       "(function(root) {\n",
       "  function now() {\n",
       "    return new Date();\n",
       "  }\n",
       "\n",
       "  var force = true;\n",
       "\n",
       "  if (typeof root._bokeh_onload_callbacks === \"undefined\" || force === true) {\n",
       "    root._bokeh_onload_callbacks = [];\n",
       "    root._bokeh_is_loading = undefined;\n",
       "  }\n",
       "\n",
       "  var JS_MIME_TYPE = 'application/javascript';\n",
       "  var HTML_MIME_TYPE = 'text/html';\n",
       "  var EXEC_MIME_TYPE = 'application/vnd.bokehjs_exec.v0+json';\n",
       "  var CLASS_NAME = 'output_bokeh rendered_html';\n",
       "\n",
       "  /**\n",
       "   * Render data to the DOM node\n",
       "   */\n",
       "  function render(props, node) {\n",
       "    var script = document.createElement(\"script\");\n",
       "    node.appendChild(script);\n",
       "  }\n",
       "\n",
       "  /**\n",
       "   * Handle when an output is cleared or removed\n",
       "   */\n",
       "  function handleClearOutput(event, handle) {\n",
       "    var cell = handle.cell;\n",
       "\n",
       "    var id = cell.output_area._bokeh_element_id;\n",
       "    var server_id = cell.output_area._bokeh_server_id;\n",
       "    // Clean up Bokeh references\n",
       "    if (id != null && id in Bokeh.index) {\n",
       "      Bokeh.index[id].model.document.clear();\n",
       "      delete Bokeh.index[id];\n",
       "    }\n",
       "\n",
       "    if (server_id !== undefined) {\n",
       "      // Clean up Bokeh references\n",
       "      var cmd = \"from bokeh.io.state import curstate; print(curstate().uuid_to_server['\" + server_id + \"'].get_sessions()[0].document.roots[0]._id)\";\n",
       "      cell.notebook.kernel.execute(cmd, {\n",
       "        iopub: {\n",
       "          output: function(msg) {\n",
       "            var id = msg.content.text.trim();\n",
       "            if (id in Bokeh.index) {\n",
       "              Bokeh.index[id].model.document.clear();\n",
       "              delete Bokeh.index[id];\n",
       "            }\n",
       "          }\n",
       "        }\n",
       "      });\n",
       "      // Destroy server and session\n",
       "      var cmd = \"import bokeh.io.notebook as ion; ion.destroy_server('\" + server_id + \"')\";\n",
       "      cell.notebook.kernel.execute(cmd);\n",
       "    }\n",
       "  }\n",
       "\n",
       "  /**\n",
       "   * Handle when a new output is added\n",
       "   */\n",
       "  function handleAddOutput(event, handle) {\n",
       "    var output_area = handle.output_area;\n",
       "    var output = handle.output;\n",
       "\n",
       "    // limit handleAddOutput to display_data with EXEC_MIME_TYPE content only\n",
       "    if ((output.output_type != \"display_data\") || (!output.data.hasOwnProperty(EXEC_MIME_TYPE))) {\n",
       "      return\n",
       "    }\n",
       "\n",
       "    var toinsert = output_area.element.find(\".\" + CLASS_NAME.split(' ')[0]);\n",
       "\n",
       "    if (output.metadata[EXEC_MIME_TYPE][\"id\"] !== undefined) {\n",
       "      toinsert[toinsert.length - 1].firstChild.textContent = output.data[JS_MIME_TYPE];\n",
       "      // store reference to embed id on output_area\n",
       "      output_area._bokeh_element_id = output.metadata[EXEC_MIME_TYPE][\"id\"];\n",
       "    }\n",
       "    if (output.metadata[EXEC_MIME_TYPE][\"server_id\"] !== undefined) {\n",
       "      var bk_div = document.createElement(\"div\");\n",
       "      bk_div.innerHTML = output.data[HTML_MIME_TYPE];\n",
       "      var script_attrs = bk_div.children[0].attributes;\n",
       "      for (var i = 0; i < script_attrs.length; i++) {\n",
       "        toinsert[toinsert.length - 1].firstChild.setAttribute(script_attrs[i].name, script_attrs[i].value);\n",
       "        toinsert[toinsert.length - 1].firstChild.textContent = bk_div.children[0].textContent\n",
       "      }\n",
       "      // store reference to server id on output_area\n",
       "      output_area._bokeh_server_id = output.metadata[EXEC_MIME_TYPE][\"server_id\"];\n",
       "    }\n",
       "  }\n",
       "\n",
       "  function register_renderer(events, OutputArea) {\n",
       "\n",
       "    function append_mime(data, metadata, element) {\n",
       "      // create a DOM node to render to\n",
       "      var toinsert = this.create_output_subarea(\n",
       "        metadata,\n",
       "        CLASS_NAME,\n",
       "        EXEC_MIME_TYPE\n",
       "      );\n",
       "      this.keyboard_manager.register_events(toinsert);\n",
       "      // Render to node\n",
       "      var props = {data: data, metadata: metadata[EXEC_MIME_TYPE]};\n",
       "      render(props, toinsert[toinsert.length - 1]);\n",
       "      element.append(toinsert);\n",
       "      return toinsert\n",
       "    }\n",
       "\n",
       "    /* Handle when an output is cleared or removed */\n",
       "    events.on('clear_output.CodeCell', handleClearOutput);\n",
       "    events.on('delete.Cell', handleClearOutput);\n",
       "\n",
       "    /* Handle when a new output is added */\n",
       "    events.on('output_added.OutputArea', handleAddOutput);\n",
       "\n",
       "    /**\n",
       "     * Register the mime type and append_mime function with output_area\n",
       "     */\n",
       "    OutputArea.prototype.register_mime_type(EXEC_MIME_TYPE, append_mime, {\n",
       "      /* Is output safe? */\n",
       "      safe: true,\n",
       "      /* Index of renderer in `output_area.display_order` */\n",
       "      index: 0\n",
       "    });\n",
       "  }\n",
       "\n",
       "  // register the mime type if in Jupyter Notebook environment and previously unregistered\n",
       "  if (root.Jupyter !== undefined) {\n",
       "    var events = require('base/js/events');\n",
       "    var OutputArea = require('notebook/js/outputarea').OutputArea;\n",
       "\n",
       "    if (OutputArea.prototype.mime_types().indexOf(EXEC_MIME_TYPE) == -1) {\n",
       "      register_renderer(events, OutputArea);\n",
       "    }\n",
       "  }\n",
       "\n",
       "  \n",
       "  if (typeof (root._bokeh_timeout) === \"undefined\" || force === true) {\n",
       "    root._bokeh_timeout = Date.now() + 5000;\n",
       "    root._bokeh_failed_load = false;\n",
       "  }\n",
       "\n",
       "  var NB_LOAD_WARNING = {'data': {'text/html':\n",
       "     \"<div style='background-color: #fdd'>\\n\"+\n",
       "     \"<p>\\n\"+\n",
       "     \"BokehJS does not appear to have successfully loaded. If loading BokehJS from CDN, this \\n\"+\n",
       "     \"may be due to a slow or bad network connection. Possible fixes:\\n\"+\n",
       "     \"</p>\\n\"+\n",
       "     \"<ul>\\n\"+\n",
       "     \"<li>re-rerun `output_notebook()` to attempt to load from CDN again, or</li>\\n\"+\n",
       "     \"<li>use INLINE resources instead, as so:</li>\\n\"+\n",
       "     \"</ul>\\n\"+\n",
       "     \"<code>\\n\"+\n",
       "     \"from bokeh.resources import INLINE\\n\"+\n",
       "     \"output_notebook(resources=INLINE)\\n\"+\n",
       "     \"</code>\\n\"+\n",
       "     \"</div>\"}};\n",
       "\n",
       "  function display_loaded() {\n",
       "    var el = document.getElementById(null);\n",
       "    if (el != null) {\n",
       "      el.textContent = \"BokehJS is loading...\";\n",
       "    }\n",
       "    if (root.Bokeh !== undefined) {\n",
       "      if (el != null) {\n",
       "        el.textContent = \"BokehJS \" + root.Bokeh.version + \" successfully loaded.\";\n",
       "      }\n",
       "    } else if (Date.now() < root._bokeh_timeout) {\n",
       "      setTimeout(display_loaded, 100)\n",
       "    }\n",
       "  }\n",
       "\n",
       "\n",
       "  function run_callbacks() {\n",
       "    try {\n",
       "      root._bokeh_onload_callbacks.forEach(function(callback) {\n",
       "        if (callback != null)\n",
       "          callback();\n",
       "      });\n",
       "    } finally {\n",
       "      delete root._bokeh_onload_callbacks\n",
       "    }\n",
       "    console.debug(\"Bokeh: all callbacks have finished\");\n",
       "  }\n",
       "\n",
       "  function load_libs(css_urls, js_urls, callback) {\n",
       "    if (css_urls == null) css_urls = [];\n",
       "    if (js_urls == null) js_urls = [];\n",
       "\n",
       "    root._bokeh_onload_callbacks.push(callback);\n",
       "    if (root._bokeh_is_loading > 0) {\n",
       "      console.debug(\"Bokeh: BokehJS is being loaded, scheduling callback at\", now());\n",
       "      return null;\n",
       "    }\n",
       "    if (js_urls == null || js_urls.length === 0) {\n",
       "      run_callbacks();\n",
       "      return null;\n",
       "    }\n",
       "    console.debug(\"Bokeh: BokehJS not loaded, scheduling load and callback at\", now());\n",
       "    root._bokeh_is_loading = css_urls.length + js_urls.length;\n",
       "\n",
       "    function on_load() {\n",
       "      root._bokeh_is_loading--;\n",
       "      if (root._bokeh_is_loading === 0) {\n",
       "        console.debug(\"Bokeh: all BokehJS libraries/stylesheets loaded\");\n",
       "        run_callbacks()\n",
       "      }\n",
       "    }\n",
       "\n",
       "    function on_error() {\n",
       "      console.error(\"failed to load \" + url);\n",
       "    }\n",
       "\n",
       "    for (var i = 0; i < css_urls.length; i++) {\n",
       "      var url = css_urls[i];\n",
       "      const element = document.createElement(\"link\");\n",
       "      element.onload = on_load;\n",
       "      element.onerror = on_error;\n",
       "      element.rel = \"stylesheet\";\n",
       "      element.type = \"text/css\";\n",
       "      element.href = url;\n",
       "      console.debug(\"Bokeh: injecting link tag for BokehJS stylesheet: \", url);\n",
       "      document.body.appendChild(element);\n",
       "    }\n",
       "\n",
       "    const hashes = {\"https://cdn.bokeh.org/bokeh/release/bokeh-2.2.3.min.js\": \"T2yuo9Oe71Cz/I4X9Ac5+gpEa5a8PpJCDlqKYO0CfAuEszu1JrXLl8YugMqYe3sM\", \"https://cdn.bokeh.org/bokeh/release/bokeh-widgets-2.2.3.min.js\": \"98GDGJ0kOMCUMUePhksaQ/GYgB3+NH9h996V88sh3aOiUNX3N+fLXAtry6xctSZ6\", \"https://cdn.bokeh.org/bokeh/release/bokeh-tables-2.2.3.min.js\": \"89bArO+nlbP3sgakeHjCo1JYxYR5wufVgA3IbUvDY+K7w4zyxJqssu7wVnfeKCq8\"};\n",
       "\n",
       "    for (var i = 0; i < js_urls.length; i++) {\n",
       "      var url = js_urls[i];\n",
       "      var element = document.createElement('script');\n",
       "      element.onload = on_load;\n",
       "      element.onerror = on_error;\n",
       "      element.async = false;\n",
       "      element.src = url;\n",
       "      if (url in hashes) {\n",
       "        element.crossOrigin = \"anonymous\";\n",
       "        element.integrity = \"sha384-\" + hashes[url];\n",
       "      }\n",
       "      console.debug(\"Bokeh: injecting script tag for BokehJS library: \", url);\n",
       "      document.head.appendChild(element);\n",
       "    }\n",
       "  };\n",
       "\n",
       "  function inject_raw_css(css) {\n",
       "    const element = document.createElement(\"style\");\n",
       "    element.appendChild(document.createTextNode(css));\n",
       "    document.body.appendChild(element);\n",
       "  }\n",
       "\n",
       "  \n",
       "  var js_urls = [\"https://cdn.bokeh.org/bokeh/release/bokeh-2.2.3.min.js\", \"https://cdn.bokeh.org/bokeh/release/bokeh-widgets-2.2.3.min.js\", \"https://cdn.bokeh.org/bokeh/release/bokeh-tables-2.2.3.min.js\"];\n",
       "  var css_urls = [];\n",
       "  \n",
       "\n",
       "  var inline_js = [\n",
       "    function(Bokeh) {\n",
       "      Bokeh.set_log_level(\"info\");\n",
       "    },\n",
       "    function(Bokeh) {\n",
       "    \n",
       "    \n",
       "    }\n",
       "  ];\n",
       "\n",
       "  function run_inline_js() {\n",
       "    \n",
       "    if (root.Bokeh !== undefined || force === true) {\n",
       "      \n",
       "    for (var i = 0; i < inline_js.length; i++) {\n",
       "      inline_js[i].call(root, root.Bokeh);\n",
       "    }\n",
       "    } else if (Date.now() < root._bokeh_timeout) {\n",
       "      setTimeout(run_inline_js, 100);\n",
       "    } else if (!root._bokeh_failed_load) {\n",
       "      console.log(\"Bokeh: BokehJS failed to load within specified timeout.\");\n",
       "      root._bokeh_failed_load = true;\n",
       "    } else if (force !== true) {\n",
       "      var cell = $(document.getElementById(null)).parents('.cell').data().cell;\n",
       "      cell.output_area.append_execute_result(NB_LOAD_WARNING)\n",
       "    }\n",
       "\n",
       "  }\n",
       "\n",
       "  if (root._bokeh_is_loading === 0) {\n",
       "    console.debug(\"Bokeh: BokehJS loaded, going straight to plotting\");\n",
       "    run_inline_js();\n",
       "  } else {\n",
       "    load_libs(css_urls, js_urls, function() {\n",
       "      console.debug(\"Bokeh: BokehJS plotting callback run at\", now());\n",
       "      run_inline_js();\n",
       "    });\n",
       "  }\n",
       "}(window));"
      ],
      "application/vnd.bokehjs_load.v0+json": "\n(function(root) {\n  function now() {\n    return new Date();\n  }\n\n  var force = true;\n\n  if (typeof root._bokeh_onload_callbacks === \"undefined\" || force === true) {\n    root._bokeh_onload_callbacks = [];\n    root._bokeh_is_loading = undefined;\n  }\n\n  \n\n  \n  if (typeof (root._bokeh_timeout) === \"undefined\" || force === true) {\n    root._bokeh_timeout = Date.now() + 5000;\n    root._bokeh_failed_load = false;\n  }\n\n  var NB_LOAD_WARNING = {'data': {'text/html':\n     \"<div style='background-color: #fdd'>\\n\"+\n     \"<p>\\n\"+\n     \"BokehJS does not appear to have successfully loaded. If loading BokehJS from CDN, this \\n\"+\n     \"may be due to a slow or bad network connection. Possible fixes:\\n\"+\n     \"</p>\\n\"+\n     \"<ul>\\n\"+\n     \"<li>re-rerun `output_notebook()` to attempt to load from CDN again, or</li>\\n\"+\n     \"<li>use INLINE resources instead, as so:</li>\\n\"+\n     \"</ul>\\n\"+\n     \"<code>\\n\"+\n     \"from bokeh.resources import INLINE\\n\"+\n     \"output_notebook(resources=INLINE)\\n\"+\n     \"</code>\\n\"+\n     \"</div>\"}};\n\n  function display_loaded() {\n    var el = document.getElementById(null);\n    if (el != null) {\n      el.textContent = \"BokehJS is loading...\";\n    }\n    if (root.Bokeh !== undefined) {\n      if (el != null) {\n        el.textContent = \"BokehJS \" + root.Bokeh.version + \" successfully loaded.\";\n      }\n    } else if (Date.now() < root._bokeh_timeout) {\n      setTimeout(display_loaded, 100)\n    }\n  }\n\n\n  function run_callbacks() {\n    try {\n      root._bokeh_onload_callbacks.forEach(function(callback) {\n        if (callback != null)\n          callback();\n      });\n    } finally {\n      delete root._bokeh_onload_callbacks\n    }\n    console.debug(\"Bokeh: all callbacks have finished\");\n  }\n\n  function load_libs(css_urls, js_urls, callback) {\n    if (css_urls == null) css_urls = [];\n    if (js_urls == null) js_urls = [];\n\n    root._bokeh_onload_callbacks.push(callback);\n    if (root._bokeh_is_loading > 0) {\n      console.debug(\"Bokeh: BokehJS is being loaded, scheduling callback at\", now());\n      return null;\n    }\n    if (js_urls == null || js_urls.length === 0) {\n      run_callbacks();\n      return null;\n    }\n    console.debug(\"Bokeh: BokehJS not loaded, scheduling load and callback at\", now());\n    root._bokeh_is_loading = css_urls.length + js_urls.length;\n\n    function on_load() {\n      root._bokeh_is_loading--;\n      if (root._bokeh_is_loading === 0) {\n        console.debug(\"Bokeh: all BokehJS libraries/stylesheets loaded\");\n        run_callbacks()\n      }\n    }\n\n    function on_error() {\n      console.error(\"failed to load \" + url);\n    }\n\n    for (var i = 0; i < css_urls.length; i++) {\n      var url = css_urls[i];\n      const element = document.createElement(\"link\");\n      element.onload = on_load;\n      element.onerror = on_error;\n      element.rel = \"stylesheet\";\n      element.type = \"text/css\";\n      element.href = url;\n      console.debug(\"Bokeh: injecting link tag for BokehJS stylesheet: \", url);\n      document.body.appendChild(element);\n    }\n\n    const hashes = {\"https://cdn.bokeh.org/bokeh/release/bokeh-2.2.3.min.js\": \"T2yuo9Oe71Cz/I4X9Ac5+gpEa5a8PpJCDlqKYO0CfAuEszu1JrXLl8YugMqYe3sM\", \"https://cdn.bokeh.org/bokeh/release/bokeh-widgets-2.2.3.min.js\": \"98GDGJ0kOMCUMUePhksaQ/GYgB3+NH9h996V88sh3aOiUNX3N+fLXAtry6xctSZ6\", \"https://cdn.bokeh.org/bokeh/release/bokeh-tables-2.2.3.min.js\": \"89bArO+nlbP3sgakeHjCo1JYxYR5wufVgA3IbUvDY+K7w4zyxJqssu7wVnfeKCq8\"};\n\n    for (var i = 0; i < js_urls.length; i++) {\n      var url = js_urls[i];\n      var element = document.createElement('script');\n      element.onload = on_load;\n      element.onerror = on_error;\n      element.async = false;\n      element.src = url;\n      if (url in hashes) {\n        element.crossOrigin = \"anonymous\";\n        element.integrity = \"sha384-\" + hashes[url];\n      }\n      console.debug(\"Bokeh: injecting script tag for BokehJS library: \", url);\n      document.head.appendChild(element);\n    }\n  };\n\n  function inject_raw_css(css) {\n    const element = document.createElement(\"style\");\n    element.appendChild(document.createTextNode(css));\n    document.body.appendChild(element);\n  }\n\n  \n  var js_urls = [\"https://cdn.bokeh.org/bokeh/release/bokeh-2.2.3.min.js\", \"https://cdn.bokeh.org/bokeh/release/bokeh-widgets-2.2.3.min.js\", \"https://cdn.bokeh.org/bokeh/release/bokeh-tables-2.2.3.min.js\"];\n  var css_urls = [];\n  \n\n  var inline_js = [\n    function(Bokeh) {\n      Bokeh.set_log_level(\"info\");\n    },\n    function(Bokeh) {\n    \n    \n    }\n  ];\n\n  function run_inline_js() {\n    \n    if (root.Bokeh !== undefined || force === true) {\n      \n    for (var i = 0; i < inline_js.length; i++) {\n      inline_js[i].call(root, root.Bokeh);\n    }\n    } else if (Date.now() < root._bokeh_timeout) {\n      setTimeout(run_inline_js, 100);\n    } else if (!root._bokeh_failed_load) {\n      console.log(\"Bokeh: BokehJS failed to load within specified timeout.\");\n      root._bokeh_failed_load = true;\n    } else if (force !== true) {\n      var cell = $(document.getElementById(null)).parents('.cell').data().cell;\n      cell.output_area.append_execute_result(NB_LOAD_WARNING)\n    }\n\n  }\n\n  if (root._bokeh_is_loading === 0) {\n    console.debug(\"Bokeh: BokehJS loaded, going straight to plotting\");\n    run_inline_js();\n  } else {\n    load_libs(css_urls, js_urls, function() {\n      console.debug(\"Bokeh: BokehJS plotting callback run at\", now());\n      run_inline_js();\n    });\n  }\n}(window));"
     },
     "metadata": {},
     "output_type": "display_data"
    }
   ],
   "source": [
    "# my modules imports\n",
    "    # Model\n",
    "from model import SEIR\n",
    "from model import f\n",
    "\n",
    "    # utils\n",
    "from utils import init_date, delta_time\n",
    "from utils import draw_input_params, nb_inputs\n",
    "from utils import extract_int_value, get_max_load_intensive_care\n",
    "from utils import idx_to_keys, key_to_idx, input_params, ykeys, box_colors, plotting_names\n",
    "from utils import Monte_Carlo_sampling, lhs\n",
    "\n",
    "    # plotting\n",
    "from utils_plotting import plot_hist, plot_morris, plot_sobol, plot_sobol_time\n",
    "\n",
    "# other imports\n",
    "from pprint import pprint\n",
    "import numpy as np\n",
    "from scipy.integrate import odeint\n",
    "import matplotlib.pyplot as plt\n",
    "from datetime import datetime, timedelta\n",
    "# bokeh plotting\n",
    "from bokeh.io import push_notebook, show, output_notebook\n",
    "from bokeh.plotting import figure\n",
    "from bokeh.layouts import row, column\n",
    "from bokeh.models import PrintfTickFormatter\n",
    "from bokeh.models import CustomJS, DateRangeSlider\n",
    "from bokeh.models import Legend, ColumnDataSource, Label, LabelSet, Range1d\n",
    "from bokeh.palettes import magma, viridis\n",
    "output_notebook(hide_banner=True)\n",
    "\n",
    "from ipywidgets import interact, IntSlider, Dropdown, FloatSlider"
   ]
  },
  {
   "cell_type": "code",
   "execution_count": 2,
   "metadata": {},
   "outputs": [],
   "source": [
    "debug = True\n",
    "seed = 1111"
   ]
  },
  {
   "cell_type": "markdown",
   "metadata": {},
   "source": [
    "## Définition du Modèle\n",
    "\n",
    "La classe *SEIR* importée du module [model](model.py) est utilisée pour créer le modèle épidémiologique à partir d'un tirage aléatoire du vecteur d'entrée $\\vec{X}$ grâce à la fonction [draw_input_params](utils.py) qui prend en argument le *seed* et est définit dans [utils](utils.py), envoyé à la fonction *numpy.random.seed* par défaut :\n",
    "```python\n",
    "seed = None\n",
    "np.random.seed(seed)\n",
    "```\n",
    "\n",
    "Dans la cellule suivante, on initialise un modèle, puis on le *print* en utilisant une [fonction](model.py) définit à l'intérieur de la classe *SEIR* avant d'effectuer un [pas \"manuel\"](model.py). Nous verrons que pour ce qui suit, nous utilisons exclusivement la fonction *odeint* du module *scipy.integrate* pour réaliser l'intégration du modèle.\n",
    "\n",
    "Pour simplier également, plusieurs dictionnaires sont utilisés tout au long du *notebook* : \n",
    "```python\n",
    "\n",
    "idx_to_keys = {\n",
    "    0 : 'pa',\n",
    "    1 : 'pIH',\n",
    "    2 : 'pIU',\n",
    "    3 : 'pHD',\n",
    "    4 : 'pHU',\n",
    "    5 : 'pUD',\n",
    "    6 : 'NI',\n",
    "    7 : 'NH',\n",
    "    8 : 'NU',\n",
    "    9 : 'R0',\n",
    "    10 : 'mu',\n",
    "    11 : 'N',\n",
    "    12 : 't0',\n",
    "    13 : 'Im0',\n",
    "    14 : 'lambda1'\n",
    "}\n",
    "\n",
    "key_to_idx = {v : k for k, v in idx_to_keys.items()}\n",
    "\n",
    "# bounds\n",
    "input_params = {\n",
    "    'pa': [0.4,0.9],\n",
    "    'pIH' : [0.05, 0.2],\n",
    "    'pIU' : [0.01, 0.04],\n",
    "    'pHD' : [0.1, 0.2],\n",
    "    'pHU' : [0.1,0.2],\n",
    "    'pUD' : [0.2, 0.4],\n",
    "    'NI' : [8.0, 12.0],\n",
    "    'NH' : [15.0,25.0],\n",
    "    'NU' : [10., 20.],\n",
    "    'R0' : [2.9, 3.4],\n",
    "    'mu' : [0.01, 0.08],\n",
    "    'N' : [4*7+3, 7*7+3],\n",
    "    't0' : [0, 4*7+3],\n",
    "    'Im0' : [1., 100.],\n",
    "    'lambda1' : [1e-4, 1e-3]\n",
    "}\n",
    "```"
   ]
  },
  {
   "cell_type": "code",
   "execution_count": 3,
   "metadata": {},
   "outputs": [
    {
     "name": "stdout",
     "output_type": "stream",
     "text": [
      "============== SEIR MODEL ==============\n",
      "----------- input parameters -----------\n",
      "OrderedDict([('pa', 0.44777459960438104),\n",
      "             ('pIH', 0.18875055527924495),\n",
      "             ('pIU', 0.020307202696216567),\n",
      "             ('pHD', 0.13104769418698442),\n",
      "             ('pHU', 0.10020098399490976),\n",
      "             ('pUD', 0.2471189448783151),\n",
      "             ('NI', 8.951166880633519),\n",
      "             ('NH', 22.359158732407092),\n",
      "             ('NU', 14.954680759619642),\n",
      "             ('R0', 3.2922126744045577),\n",
      "             ('mu', 0.018855441784553242),\n",
      "             ('N', 49),\n",
      "             ('t0', 10),\n",
      "             ('Im0', 47.1459765189812),\n",
      "             ('lambda1', 0.0003134189119522501)])\n",
      "---------------- Rates -----------------\n",
      "OrderedDict([('gIR', 0.09881985306407182),\n",
      "             ('gIH', 0.011644610401521123),\n",
      "             ('gIU', 0.0012528146653254559),\n",
      "             ('gHD', 0.005861029735302406),\n",
      "             ('gHU', 0.004481429073164532),\n",
      "             ('gHR', 0.03438194303365658),\n",
      "             ('gUD', 0.016524521576253316),\n",
      "             ('gUR', 0.05034417432397492)])\n",
      "---------------- State -----------------\n",
      "OrderedDict([('S', 67000000.0),\n",
      "             ('Im', 47.1459765189812),\n",
      "             ('Ip', 0.0),\n",
      "             ('Rm', 0.0),\n",
      "             ('RI', 0.0),\n",
      "             ('H', 0.0),\n",
      "             ('U', 0.0),\n",
      "             ('RH', 0.0),\n",
      "             ('D', 0.0),\n",
      "             ('DR', 0.0)])\n",
      "------------- Current time -------------\n",
      "10\n",
      "========================================\n",
      "============== SEIR MODEL ==============\n",
      "----------- input parameters -----------\n",
      "OrderedDict([('pa', 0.44777459960438104),\n",
      "             ('pIH', 0.18875055527924495),\n",
      "             ('pIU', 0.020307202696216567),\n",
      "             ('pHD', 0.13104769418698442),\n",
      "             ('pHU', 0.10020098399490976),\n",
      "             ('pUD', 0.2471189448783151),\n",
      "             ('NI', 8.951166880633519),\n",
      "             ('NH', 22.359158732407092),\n",
      "             ('NU', 14.954680759619642),\n",
      "             ('R0', 3.2922126744045577),\n",
      "             ('mu', 0.018855441784553242),\n",
      "             ('N', 49),\n",
      "             ('t0', 10),\n",
      "             ('Im0', 47.1459765189812),\n",
      "             ('lambda1', 0.0003134189119522501)])\n",
      "---------------- Rates -----------------\n",
      "OrderedDict([('gIR', 0.09881985306407182),\n",
      "             ('gIH', 0.011644610401521123),\n",
      "             ('gIU', 0.0012528146653254559),\n",
      "             ('gHD', 0.005861029735302406),\n",
      "             ('gHU', 0.004481429073164532),\n",
      "             ('gHR', 0.03438194303365658),\n",
      "             ('gUD', 0.016524521576253316),\n",
      "             ('gUR', 0.05034417432397492)])\n",
      "---------------- State -----------------\n",
      "OrderedDict([('S', 66999982.61120225),\n",
      "             ('Im', 59.25297765706622),\n",
      "             ('Ip', 0.014776440663505419),\n",
      "             ('Rm', 4.658958472167902),\n",
      "             ('RI', 0.0),\n",
      "             ('H', 0.5489965285627991),\n",
      "             ('U', 0.059065170794069234),\n",
      "             ('RH', 0.0),\n",
      "             ('D', 0.0),\n",
      "             ('DR', 0.6228381400203739)])\n",
      "------------- Current time -------------\n",
      "11.0\n",
      "========================================\n"
     ]
    }
   ],
   "source": [
    "if(debug):\n",
    "    x = draw_input_params(seed)\n",
    "    model = SEIR(x)\n",
    "    model.prettyprint()\n",
    "    model.step(dt = 1.0) # dt in days \n",
    "    model.prettyprint()"
   ]
  },
  {
   "cell_type": "markdown",
   "metadata": {},
   "source": [
    "Les fonctions suivantes permettent de réaliser, à partir d'un vecteur d'entrée $\\vec{X}$ la simulation d'un modèle sur une période de temps donné. Pour des raisons pratiques, nous avons fini par utiliser un pas de temps toujours égal à un jour. La fonction *odeint* qui permet d'intégrer le système est en outre particulièrement précise avec ce pas de temps : aucune différence n'a été constater avec un pas de $0.1$ jour quand les premiers tests ont été effectués."
   ]
  },
  {
   "cell_type": "markdown",
   "metadata": {},
   "source": [
    "```python\n",
    "\n",
    "def f(input_params, tend = datetime(year = 2020, month = 5, day = 11), verbose = False):    \n",
    "    model = SEIR(input_params)\n",
    "    \n",
    "    if(verbose):\n",
    "        model.prettyprint()\n",
    "        \n",
    "    fcn = model.get_fcn()\n",
    "    y_ini = model.get_state()\n",
    "\n",
    "    # in number of days\n",
    "    tini = int(input_params[key_to_idx['t0']])\n",
    "    init_date_simu = init_date+tini*timedelta(days = 1)\n",
    "    \n",
    "    t_simu = np.arange(tini, tini+(tend-init_date_simu).days+1)\n",
    "    \n",
    "    rtol, atol = 1e-3, 1e-6 # default values\n",
    "    solution = odeint(func = fcn, t = t_simu, y0 = y_ini) \n",
    "    \n",
    "    # we will make so that simulations always start from the same initialization time\n",
    "    sol = fill_missing_values(solution, number_missing = tini, filling_value = 'first')\n",
    "    return sol\n",
    "\n",
    "```"
   ]
  },
  {
   "cell_type": "markdown",
   "metadata": {},
   "source": [
    "## Q1) Afficage de la solution\n",
    "\n",
    "Nous définissons ici une fonction permettant de réaliser l'affichage d'une solution via le packet *bokeh*. On utilise la fonction [get_max_load_intensive_care](utils.py) qui retourne la valeur du maximum de *U*, où le nombre de personnes en soin intensif, ainsi que le temps auquel cette valeur est atteinte. \n",
    "\n",
    "Nous faisons également appel à [box_colors](utils.py) et [plotting_names](utils.py) qui définissent les couleurs et noms d'affichage des différentes boîtes.\n",
    "\n",
    "```python\n",
    "plotting_names = {\n",
    "    'S' : 'Susceptible (S)',\n",
    "    'Im' : 'Infec. not Detec. (I-)',\n",
    "    'Ip' : 'Infec. Detec. (I+)',\n",
    "    'Rm' : 'Recov. not Detec. (R-)',\n",
    "    'RI' : 'Recov. Detec. (R+)',\n",
    "    'H' : 'Hospital (H)',\n",
    "    'U' : 'Intensive care (U)',\n",
    "    'RH' : 'Recov. Hosp. (R+H)',\n",
    "    'D' : 'Dead (D)',\n",
    "    'DR' : 'Detected (DR)'\n",
    "}\n",
    "box_colors = {\n",
    "    'S' : 'goldenrod',\n",
    "    'Im' : 'purple',\n",
    "    'Ip' : 'orange',\n",
    "    'Rm' : 'olive',\n",
    "    'RI' : 'olivedrab',\n",
    "    'H' : 'lightblue',\n",
    "    'U' : 'pink',\n",
    "    'RH' : 'darkolivegreen',\n",
    "    'D' : 'red',\n",
    "    'DR' : 'blue'\n",
    "}\n",
    "```"
   ]
  },
  {
   "cell_type": "code",
   "execution_count": 4,
   "metadata": {},
   "outputs": [],
   "source": [
    "def plot_solution(seed = None, do_manually = False, verbose = False):\n",
    "    x = draw_input_params(seed)\n",
    "    tini = x[key_to_idx['t0']]\n",
    "    \n",
    "    sol = f(x)\n",
    "    \n",
    "    times = [init_date+k*delta_time for k in range(sol.shape[0])]\n",
    "    \n",
    "    sum_all = sol[:,:-1].sum(axis=1)\n",
    "    max_time, max_U = get_max_load_intensive_care(sol)\n",
    "    \n",
    "    print('Max intensive care load at days {} with {} patients.'.format(times[max_time], max_U))\n",
    "    \n",
    "    fig_sol = figure(plot_height=450, plot_width=900, title=\"Solution\", x_axis_type='datetime')\n",
    "    \n",
    "    legend_it = []\n",
    "\n",
    "    for idx, (key, name) in enumerate(plotting_names.items()):\n",
    "        c = fig_sol.x(times, sol[:,idx], line_width=1, color = box_colors[key], alpha=0.9, muted_color=box_colors[key], muted_alpha=0.01) # legend_label=\"Speed\")\n",
    "        if(do_manually):\n",
    "            c_ = fig_sol.line(times_, sol_bis[:,idx], line_width=1, color = box_colors[key], alpha=0.9, muted_color=box_colors[key], muted_alpha=0.01) # legend_label=\"Speed\")\n",
    "            legend_it.append((name, [c,c_]))\n",
    "        else:\n",
    "            legend_it.append((name, [c]))\n",
    "    c = fig_sol.x(times,sum_all, line_width=1, color = 'black', alpha=0.9, muted_color=\"black\", muted_alpha=0.01) # legend_label=\"Speed\")\n",
    "    legend_it.append(('Sum', [c]))\n",
    "\n",
    "    legend = Legend(items=legend_it)\n",
    "    legend.click_policy=\"mute\"\n",
    "    fig_sol.add_layout(legend, 'right')\n",
    "\n",
    "    show(fig_sol, notebook_handle=True)\n",
    "    "
   ]
  },
  {
   "cell_type": "markdown",
   "metadata": {},
   "source": [
    "Dans le graphe qui suit, on peut cliquer sur la légend pour cacher certaines courbes."
   ]
  },
  {
   "cell_type": "code",
   "execution_count": 5,
   "metadata": {},
   "outputs": [
    {
     "name": "stdout",
     "output_type": "stream",
     "text": [
      "Max intensive care load at days 2020-04-21 00:00:00 with 305527 patients.\n"
     ]
    },
    {
     "data": {
      "text/html": [
       "\n",
       "\n",
       "\n",
       "\n",
       "\n",
       "\n",
       "  <div class=\"bk-root\" id=\"198334a3-f424-43bb-a164-a28fac31a2a6\" data-root-id=\"1001\"></div>\n"
      ]
     },
     "metadata": {},
     "output_type": "display_data"
    },
    {
     "data": {
      "application/javascript": [
       "(function(root) {\n",
       "  function embed_document(root) {\n",
       "    \n",
       "  var docs_json = {\"f07bcef7-c647-43b5-994b-e737c88031c4\":{\"roots\":{\"references\":[{\"attributes\":{\"below\":[{\"id\":\"1012\"}],\"center\":[{\"id\":\"1015\"},{\"id\":\"1019\"}],\"left\":[{\"id\":\"1016\"}],\"plot_height\":450,\"plot_width\":900,\"renderers\":[{\"id\":\"1038\"},{\"id\":\"1044\"},{\"id\":\"1050\"},{\"id\":\"1056\"},{\"id\":\"1062\"},{\"id\":\"1068\"},{\"id\":\"1074\"},{\"id\":\"1080\"},{\"id\":\"1086\"},{\"id\":\"1092\"},{\"id\":\"1098\"}],\"right\":[{\"id\":\"1100\"}],\"title\":{\"id\":\"1002\"},\"toolbar\":{\"id\":\"1027\"},\"x_range\":{\"id\":\"1004\"},\"x_scale\":{\"id\":\"1008\"},\"y_range\":{\"id\":\"1006\"},\"y_scale\":{\"id\":\"1010\"}},\"id\":\"1001\",\"subtype\":\"Figure\",\"type\":\"Plot\"},{\"attributes\":{\"data_source\":{\"id\":\"1034\"},\"glyph\":{\"id\":\"1035\"},\"hover_glyph\":null,\"muted_glyph\":{\"id\":\"1037\"},\"nonselection_glyph\":{\"id\":\"1036\"},\"selection_glyph\":null,\"view\":{\"id\":\"1039\"}},\"id\":\"1038\",\"type\":\"GlyphRenderer\"},{\"attributes\":{\"bottom_units\":\"screen\",\"fill_alpha\":0.5,\"fill_color\":\"lightgrey\",\"left_units\":\"screen\",\"level\":\"overlay\",\"line_alpha\":1.0,\"line_color\":\"black\",\"line_dash\":[4,4],\"line_width\":2,\"right_units\":\"screen\",\"top_units\":\"screen\"},\"id\":\"1026\",\"type\":\"BoxAnnotation\"},{\"attributes\":{},\"id\":\"1148\",\"type\":\"UnionRenderers\"},{\"attributes\":{},\"id\":\"1149\",\"type\":\"Selection\"},{\"attributes\":{\"label\":{\"value\":\"Susceptible (S)\"},\"renderers\":[{\"id\":\"1038\"}]},\"id\":\"1101\",\"type\":\"LegendItem\"},{\"attributes\":{\"source\":{\"id\":\"1052\"}},\"id\":\"1057\",\"type\":\"CDSView\"},{\"attributes\":{\"click_policy\":\"mute\",\"items\":[{\"id\":\"1101\"},{\"id\":\"1102\"},{\"id\":\"1103\"},{\"id\":\"1104\"},{\"id\":\"1105\"},{\"id\":\"1106\"},{\"id\":\"1107\"},{\"id\":\"1108\"},{\"id\":\"1109\"},{\"id\":\"1110\"},{\"id\":\"1111\"}]},\"id\":\"1100\",\"type\":\"Legend\"},{\"attributes\":{\"fill_alpha\":{\"value\":0.01},\"fill_color\":{\"value\":\"goldenrod\"},\"line_alpha\":{\"value\":0.01},\"line_color\":{\"value\":\"goldenrod\"},\"x\":{\"field\":\"x\"},\"y\":{\"field\":\"y\"}},\"id\":\"1037\",\"type\":\"X\"},{\"attributes\":{\"label\":{\"value\":\"Infec. not Detec. (I-)\"},\"renderers\":[{\"id\":\"1044\"}]},\"id\":\"1102\",\"type\":\"LegendItem\"},{\"attributes\":{\"fill_alpha\":{\"value\":0.9},\"fill_color\":{\"value\":\"purple\"},\"line_alpha\":{\"value\":0.9},\"line_color\":{\"value\":\"purple\"},\"x\":{\"field\":\"x\"},\"y\":{\"field\":\"y\"}},\"id\":\"1041\",\"type\":\"X\"},{\"attributes\":{\"fill_alpha\":{\"value\":0.1},\"fill_color\":{\"value\":\"goldenrod\"},\"line_alpha\":{\"value\":0.1},\"line_color\":{\"value\":\"goldenrod\"},\"x\":{\"field\":\"x\"},\"y\":{\"field\":\"y\"}},\"id\":\"1036\",\"type\":\"X\"},{\"attributes\":{\"label\":{\"value\":\"Infec. Detec. (I+)\"},\"renderers\":[{\"id\":\"1050\"}]},\"id\":\"1103\",\"type\":\"LegendItem\"},{\"attributes\":{},\"id\":\"1150\",\"type\":\"UnionRenderers\"},{\"attributes\":{\"data\":{\"x\":[1579910400000.0,1579996800000.0,1580083200000.0,1580169600000.0,1580256000000.0,1580342400000.0,1580428800000.0,1580515200000.0,1580601600000.0,1580688000000.0,1580774400000.0,1580860800000.0,1580947200000.0,1581033600000.0,1581120000000.0,1581206400000.0,1581292800000.0,1581379200000.0,1581465600000.0,1581552000000.0,1581638400000.0,1581724800000.0,1581811200000.0,1581897600000.0,1581984000000.0,1582070400000.0,1582156800000.0,1582243200000.0,1582329600000.0,1582416000000.0,1582502400000.0,1582588800000.0,1582675200000.0,1582761600000.0,1582848000000.0,1582934400000.0,1583020800000.0,1583107200000.0,1583193600000.0,1583280000000.0,1583366400000.0,1583452800000.0,1583539200000.0,1583625600000.0,1583712000000.0,1583798400000.0,1583884800000.0,1583971200000.0,1584057600000.0,1584144000000.0,1584230400000.0,1584316800000.0,1584403200000.0,1584489600000.0,1584576000000.0,1584662400000.0,1584748800000.0,1584835200000.0,1584921600000.0,1585008000000.0,1585094400000.0,1585180800000.0,1585267200000.0,1585353600000.0,1585440000000.0,1585526400000.0,1585612800000.0,1585699200000.0,1585785600000.0,1585872000000.0,1585958400000.0,1586044800000.0,1586131200000.0,1586217600000.0,1586304000000.0,1586390400000.0,1586476800000.0,1586563200000.0,1586649600000.0,1586736000000.0,1586822400000.0,1586908800000.0,1586995200000.0,1587081600000.0,1587168000000.0,1587254400000.0,1587340800000.0,1587427200000.0,1587513600000.0,1587600000000.0,1587686400000.0,1587772800000.0,1587859200000.0,1587945600000.0,1588032000000.0,1588118400000.0,1588204800000.0,1588291200000.0,1588377600000.0,1588464000000.0,1588550400000.0,1588636800000.0,1588723200000.0,1588809600000.0,1588896000000.0,1588982400000.0,1589068800000.0,1589155200000.0],\"y\":{\"__ndarray__\":\"DIHLW6+SR0AMgctbr5JHQAyBy1uvkkdADIHLW6+SR0AMgctbr5JHQAyBy1uvkkdADIHLW6+SR0AMgctbr5JHQAyBy1uvkkdADIHLW6+SR0AMgctbr5JHQHjCj4OLeU5Afal1K9uyU0A58dOPUndZQD8y3UcJdmBAf4ibxNVHZUCgc6bp3YJrQLaCGzdyyHFAmGCQTVH9dkBasbJbbLh9QKQMfGgBNoNA7AD2DOPViEDBv1bzqA2QQNJdDzPbwJRAbPfnAUzUmkB8pX64i1ehQG5xhQ1Da6ZAZQx+HXD7rECxmQUdtbuyQBnJf5OMN7hAB6A99jtOv0A7SI0i9zvEQIicgVr0J8pAeO7/87Dn0EABQlVh5tnVQOsptOQ/PtxAMjg0ElxA4kCGepPnUZbnQEmyXkzZeu5Ao/LqPd2w80C4kQT0A3D5QHAzu2ddbQBBeA3iFAo2BUGzgscM4mALQTnNZARWqRFB47nVEuLFFkEOmCzwd1cdQfML0ulZ4iJBM8nYnP1GKEH94drMMCkvQSG9Jifs3jNBRPmLTA0dOUHoEJP5InE/QfRW4pGKfUNBB8eS377qR0HNm14a+ghNQXfyEX08bVFBV4R/PHCsVEFdaP0OxTlYQU+/eQBCB1xBxuyJyacAYEG2wF52sgdiQWM4J5CvCmRBkGsMebL6ZUEMs+rzDMlnQTvfcyJoaGlBP4Qak7TNakEWMx9A0vBrQSBW/vTgzGxBh5JPSjpgbUH1C1xSJKxtQfTT/GhTtG1Bms0OmlN+bUG033bQ7hBtQQq+Dn6fc2xB1q/l4Biua0GL4p1d6cdqQQRWTlc2yGlBYrZtQI+1aEE0oKvm05VnQSpoV8EpbmZBzetUZfxCZUGjQZlzBRhkQbcO6H1Z8GJBXcT9lXfOYUHAys/+WbRgQWetHtMNR19BRF0qB0E6XUGH713J50NbQcSeDTgNZVlBb3/An0WeV0GomGrRw+9VQdayU6RrWVRB6ss15eHaUkGcHZ/0mXNRQTWTnEzhIlBBYrEOTtLPTUGhAloanYNLQThWb/xBX0lBRilCzM9gR0Fae6QaToZFQQ3vjFPEzUNBJFcCbz81QkGPX0Vf1rpAQU/bY/lauT5BdKHoL/IxPEEemr2l/ts5QVJvFtIytDdB\",\"dtype\":\"float64\",\"order\":\"little\",\"shape\":[108]}},\"selected\":{\"id\":\"1133\"},\"selection_policy\":{\"id\":\"1132\"}},\"id\":\"1040\",\"type\":\"ColumnDataSource\"},{\"attributes\":{},\"id\":\"1151\",\"type\":\"Selection\"},{\"attributes\":{\"label\":{\"value\":\"Recov. not Detec. (R-)\"},\"renderers\":[{\"id\":\"1056\"}]},\"id\":\"1104\",\"type\":\"LegendItem\"},{\"attributes\":{\"source\":{\"id\":\"1034\"}},\"id\":\"1039\",\"type\":\"CDSView\"},{\"attributes\":{\"label\":{\"value\":\"Recov. Detec. (R+)\"},\"renderers\":[{\"id\":\"1062\"}]},\"id\":\"1105\",\"type\":\"LegendItem\"},{\"attributes\":{\"label\":{\"value\":\"Hospital (H)\"},\"renderers\":[{\"id\":\"1068\"}]},\"id\":\"1106\",\"type\":\"LegendItem\"},{\"attributes\":{\"data\":{\"x\":[1579910400000.0,1579996800000.0,1580083200000.0,1580169600000.0,1580256000000.0,1580342400000.0,1580428800000.0,1580515200000.0,1580601600000.0,1580688000000.0,1580774400000.0,1580860800000.0,1580947200000.0,1581033600000.0,1581120000000.0,1581206400000.0,1581292800000.0,1581379200000.0,1581465600000.0,1581552000000.0,1581638400000.0,1581724800000.0,1581811200000.0,1581897600000.0,1581984000000.0,1582070400000.0,1582156800000.0,1582243200000.0,1582329600000.0,1582416000000.0,1582502400000.0,1582588800000.0,1582675200000.0,1582761600000.0,1582848000000.0,1582934400000.0,1583020800000.0,1583107200000.0,1583193600000.0,1583280000000.0,1583366400000.0,1583452800000.0,1583539200000.0,1583625600000.0,1583712000000.0,1583798400000.0,1583884800000.0,1583971200000.0,1584057600000.0,1584144000000.0,1584230400000.0,1584316800000.0,1584403200000.0,1584489600000.0,1584576000000.0,1584662400000.0,1584748800000.0,1584835200000.0,1584921600000.0,1585008000000.0,1585094400000.0,1585180800000.0,1585267200000.0,1585353600000.0,1585440000000.0,1585526400000.0,1585612800000.0,1585699200000.0,1585785600000.0,1585872000000.0,1585958400000.0,1586044800000.0,1586131200000.0,1586217600000.0,1586304000000.0,1586390400000.0,1586476800000.0,1586563200000.0,1586649600000.0,1586736000000.0,1586822400000.0,1586908800000.0,1586995200000.0,1587081600000.0,1587168000000.0,1587254400000.0,1587340800000.0,1587427200000.0,1587513600000.0,1587600000000.0,1587686400000.0,1587772800000.0,1587859200000.0,1587945600000.0,1588032000000.0,1588118400000.0,1588204800000.0,1588291200000.0,1588377600000.0,1588464000000.0,1588550400000.0,1588636800000.0,1588723200000.0,1588809600000.0,1588896000000.0,1588982400000.0,1589068800000.0,1589155200000.0],\"y\":{\"__ndarray__\":\"AAAAAAAAAAAAAAAAAAAAAAAAAAAAAAAAAAAAAAAAAAAAAAAAAAAAAAAAAAAAAAAAAAAAAAAAAAAAAAAAAAAAAAAAAAAAAAAAAAAAAAAAAAAAAAAAAAAAABUbGP5UL0k/XcFhIqasaj8AXVWiYPt/P7n4PdRhfY4/vUKfwwG2mT9cPlEEJBykP9TDceMG7a0/LWYHJuiAtT9CRTb7UiK+P8Xg1GRWucQ/xCC2CGwbzD8urpWVc9vSP/2L8lJlGNk/Vz/EhaWX4D9GJ5GrHNXlP/4auo/hnew/3otmc7Sy8j/Qa78vfWD4P05u5dTKuP8/BSnXEC+cBEA/OqwRPsAKQAdWtutmWBFA7naGP0x6FkCMzKvo3xwdQB7WwcBT2CJAzo32coVjKEBNMHgU9Y0vQHq/zr9+aDRA2kBJM65kOkCyPJdxXRBBQP8lpv2hD0ZAIBgbcWiETEBUAJ4+rG1SQAfGrhA50FdAsjft1fXDXkCfPd8KXd5jQNLDLPSap2lAfGlFJneOcEC5LDIq/lt1QImJYa2PiXtAsLRGAyy7gUASg6OSZsqGQNaVUUpWNo1Am7MZyiGnkkAR3h1On7aXQHX9qfbz/J1A2wFqN13ZokD6DFmzcYqnQNU4pMieMa1Ajm6fSJ73sUAX+euJbfG1QCdweMjvlLpAYIeXdAjvv0D0jYNsDAXDQC3tNPqxdsZABkKysEtOykBdNPvMwYvOQDSdfyGCltFAUExtaQ0X1ECBJ+77pcTWQFxwZgirm9lAv4jShtqX3EAhLsxtd7TfQKwboU44duFAkJppMUMd40BhcjlptszkQMP5pgH1geZAZjfEw3c66EA2fuB71/PpQJzahNvUq+tAIL7iHV5g7UAEZvS1kg/vQM1JDKDiW/BAfsq6Ab4r8UC1V9wjuPbxQLEwy15GvPJAOoTJmfV780D7aGzkaDX0QHlh/uRX6PRA1DibK42U9UCWK8155Dn2QLWzrglJ2PZA7mEG37Nv90BgDjQmKgD4QOM736e7ifhAkYl8VIEM+UAJcWfpm4j5QP6wJbEy/vlAw5m6XnJt+kBFLSEEjNb6QFzjJyO0OftAs7Ar1yGX+0B72EcXDu/7QKMDvQ6zQfxAktsUikuP/ECbEhB4Etj8QK9A1ntCHP1A\",\"dtype\":\"float64\",\"order\":\"little\",\"shape\":[108]}},\"selected\":{\"id\":\"1139\"},\"selection_policy\":{\"id\":\"1138\"}},\"id\":\"1058\",\"type\":\"ColumnDataSource\"},{\"attributes\":{\"label\":{\"value\":\"Intensive care (U)\"},\"renderers\":[{\"id\":\"1074\"}]},\"id\":\"1107\",\"type\":\"LegendItem\"},{\"attributes\":{\"label\":{\"value\":\"Recov. Hosp. (R+H)\"},\"renderers\":[{\"id\":\"1080\"}]},\"id\":\"1108\",\"type\":\"LegendItem\"},{\"attributes\":{\"label\":{\"value\":\"Dead (D)\"},\"renderers\":[{\"id\":\"1086\"}]},\"id\":\"1109\",\"type\":\"LegendItem\"},{\"attributes\":{\"label\":{\"value\":\"Detected (DR)\"},\"renderers\":[{\"id\":\"1092\"}]},\"id\":\"1110\",\"type\":\"LegendItem\"},{\"attributes\":{\"label\":{\"value\":\"Sum\"},\"renderers\":[{\"id\":\"1098\"}]},\"id\":\"1111\",\"type\":\"LegendItem\"},{\"attributes\":{\"mantissas\":[1,2,5],\"max_interval\":500.0,\"num_minor_ticks\":0},\"id\":\"1118\",\"type\":\"AdaptiveTicker\"},{\"attributes\":{\"base\":60,\"mantissas\":[1,2,5,10,15,20,30],\"max_interval\":1800000.0,\"min_interval\":1000.0,\"num_minor_ticks\":0},\"id\":\"1119\",\"type\":\"AdaptiveTicker\"},{\"attributes\":{\"days\":[1,2,3,4,5,6,7,8,9,10,11,12,13,14,15,16,17,18,19,20,21,22,23,24,25,26,27,28,29,30,31]},\"id\":\"1121\",\"type\":\"DaysTicker\"},{\"attributes\":{\"base\":24,\"mantissas\":[1,2,4,6,8,12],\"max_interval\":43200000.0,\"min_interval\":3600000.0,\"num_minor_ticks\":0},\"id\":\"1120\",\"type\":\"AdaptiveTicker\"},{\"attributes\":{\"months\":[0,1,2,3,4,5,6,7,8,9,10,11]},\"id\":\"1125\",\"type\":\"MonthsTicker\"},{\"attributes\":{\"source\":{\"id\":\"1058\"}},\"id\":\"1063\",\"type\":\"CDSView\"},{\"attributes\":{\"months\":[0,2,4,6,8,10]},\"id\":\"1126\",\"type\":\"MonthsTicker\"},{\"attributes\":{\"fill_alpha\":{\"value\":0.1},\"fill_color\":{\"value\":\"olivedrab\"},\"line_alpha\":{\"value\":0.1},\"line_color\":{\"value\":\"olivedrab\"},\"x\":{\"field\":\"x\"},\"y\":{\"field\":\"y\"}},\"id\":\"1060\",\"type\":\"X\"},{\"attributes\":{\"days\":[1,4,7,10,13,16,19,22,25,28]},\"id\":\"1122\",\"type\":\"DaysTicker\"},{\"attributes\":{\"data_source\":{\"id\":\"1064\"},\"glyph\":{\"id\":\"1065\"},\"hover_glyph\":null,\"muted_glyph\":{\"id\":\"1067\"},\"nonselection_glyph\":{\"id\":\"1066\"},\"selection_glyph\":null,\"view\":{\"id\":\"1069\"}},\"id\":\"1068\",\"type\":\"GlyphRenderer\"},{\"attributes\":{\"days\":[1,15]},\"id\":\"1124\",\"type\":\"DaysTicker\"},{\"attributes\":{\"data_source\":{\"id\":\"1058\"},\"glyph\":{\"id\":\"1059\"},\"hover_glyph\":null,\"muted_glyph\":{\"id\":\"1061\"},\"nonselection_glyph\":{\"id\":\"1060\"},\"selection_glyph\":null,\"view\":{\"id\":\"1063\"}},\"id\":\"1062\",\"type\":\"GlyphRenderer\"},{\"attributes\":{\"months\":[0,6]},\"id\":\"1128\",\"type\":\"MonthsTicker\"},{\"attributes\":{\"days\":[1,8,15,22]},\"id\":\"1123\",\"type\":\"DaysTicker\"},{\"attributes\":{\"fill_alpha\":{\"value\":0.9},\"fill_color\":{\"value\":\"olivedrab\"},\"line_alpha\":{\"value\":0.9},\"line_color\":{\"value\":\"olivedrab\"},\"x\":{\"field\":\"x\"},\"y\":{\"field\":\"y\"}},\"id\":\"1059\",\"type\":\"X\"},{\"attributes\":{},\"id\":\"1129\",\"type\":\"YearsTicker\"},{\"attributes\":{\"fill_alpha\":{\"value\":0.1},\"fill_color\":{\"value\":\"lightblue\"},\"line_alpha\":{\"value\":0.1},\"line_color\":{\"value\":\"lightblue\"},\"x\":{\"field\":\"x\"},\"y\":{\"field\":\"y\"}},\"id\":\"1066\",\"type\":\"X\"},{\"attributes\":{\"months\":[0,4,8]},\"id\":\"1127\",\"type\":\"MonthsTicker\"},{\"attributes\":{\"fill_alpha\":{\"value\":0.01},\"fill_color\":{\"value\":\"olivedrab\"},\"line_alpha\":{\"value\":0.01},\"line_color\":{\"value\":\"olivedrab\"},\"x\":{\"field\":\"x\"},\"y\":{\"field\":\"y\"}},\"id\":\"1061\",\"type\":\"X\"},{\"attributes\":{\"source\":{\"id\":\"1064\"}},\"id\":\"1069\",\"type\":\"CDSView\"},{\"attributes\":{\"fill_alpha\":{\"value\":0.9},\"fill_color\":{\"value\":\"lightblue\"},\"line_alpha\":{\"value\":0.9},\"line_color\":{\"value\":\"lightblue\"},\"x\":{\"field\":\"x\"},\"y\":{\"field\":\"y\"}},\"id\":\"1065\",\"type\":\"X\"},{\"attributes\":{\"data\":{\"x\":[1579910400000.0,1579996800000.0,1580083200000.0,1580169600000.0,1580256000000.0,1580342400000.0,1580428800000.0,1580515200000.0,1580601600000.0,1580688000000.0,1580774400000.0,1580860800000.0,1580947200000.0,1581033600000.0,1581120000000.0,1581206400000.0,1581292800000.0,1581379200000.0,1581465600000.0,1581552000000.0,1581638400000.0,1581724800000.0,1581811200000.0,1581897600000.0,1581984000000.0,1582070400000.0,1582156800000.0,1582243200000.0,1582329600000.0,1582416000000.0,1582502400000.0,1582588800000.0,1582675200000.0,1582761600000.0,1582848000000.0,1582934400000.0,1583020800000.0,1583107200000.0,1583193600000.0,1583280000000.0,1583366400000.0,1583452800000.0,1583539200000.0,1583625600000.0,1583712000000.0,1583798400000.0,1583884800000.0,1583971200000.0,1584057600000.0,1584144000000.0,1584230400000.0,1584316800000.0,1584403200000.0,1584489600000.0,1584576000000.0,1584662400000.0,1584748800000.0,1584835200000.0,1584921600000.0,1585008000000.0,1585094400000.0,1585180800000.0,1585267200000.0,1585353600000.0,1585440000000.0,1585526400000.0,1585612800000.0,1585699200000.0,1585785600000.0,1585872000000.0,1585958400000.0,1586044800000.0,1586131200000.0,1586217600000.0,1586304000000.0,1586390400000.0,1586476800000.0,1586563200000.0,1586649600000.0,1586736000000.0,1586822400000.0,1586908800000.0,1586995200000.0,1587081600000.0,1587168000000.0,1587254400000.0,1587340800000.0,1587427200000.0,1587513600000.0,1587600000000.0,1587686400000.0,1587772800000.0,1587859200000.0,1587945600000.0,1588032000000.0,1588118400000.0,1588204800000.0,1588291200000.0,1588377600000.0,1588464000000.0,1588550400000.0,1588636800000.0,1588723200000.0,1588809600000.0,1588896000000.0,1588982400000.0,1589068800000.0,1589155200000.0],\"y\":{\"__ndarray__\":\"AAAAAAAAAAAAAAAAAAAAAAAAAAAAAAAAAAAAAAAAAAAAAAAAAAAAAAAAAAAAAAAAAAAAAAAAAAAAAAAAAAAAAAAAAAAAAAAAAAAAAAAAAAAAAAAAAAAAAFMQ6yMqnOM/ZoczOP4N9j/i3WWY1L0CQLcjamPrhAxA784DfYp8FEDFJdCienIcQPjuy3ibUyNAjEHlw/3hKUDLDrGR4SgxQPPzS2MlmDZAOdOhQSmaPUDVBILdhFJDQE5knG66KElA2LiFJDJZUEB2+5u/iTdVQONxf43XgVtAP+F1OVjRYUANZSn47BFnQEhResS0221AdjGTleNQc0DoM9rbcvx4QKi3tGdUKIBA8vINtN/khEDoIWoqHgSLQCwScSDhdpFAYTCF6t+TlkDcQN3oii+dQD6aeaLH3KJAPhbs8QZhqEDIyo72eIGvQDOta9L5WrRAtDrh32hMukA/y09rK/zAQP7AIX0t78VAoJxnQQ1RzEBQN+8QP0XSQKGiHpeJkNdA6qckT0Zf3kCRbpjrY47jQF9bLzYXJelASjaOaskc8EDPrMyVMY30QH8OmsNjD/pAC5EpVD1pAEFOnOhozIMEQdCu1PPmbwlBSq9pTalED0GJZUuZDAsTQfxUU22m+RZBQ17CxkdyG0HLcKzabjogQbg8QxJB/iJBLJwNGZr/JUFiR6Qb+jYpQR4b6zGjmixBKhnf74MPMEEueXMjrdsxQYCRyucVqzNByohGOgZ3NUE/3iyYDTk3QTob45c+6zhBg/90H1uIOkE+bZmo8As8QbdeX8Blcj1BHcmiA/u4PkHfcTROwt0/QRv8SHzHb0BBJ8ei0PDeQEH/LSXVaDxBQS3xVQh7iEFBn+NAa6fDQUG3sIzol+5BQcXokKwWCkJBf7CEkQUXQkGfRASoVhZCQYOhv9YFCUJBiMEWgRPwQUF1CRMegMxBQexSxKdIn0FBDZN/xmNpQUH87R+gvytBQff8tDZA50BBA8yOO76cQEEO8AJGBk1AQRfKPbew8T9Bf1KleM9BP0HTvRPHtYs+QSNgT2mX0D1BlZX3kI8RPUGJcLuooU88QbMiREi6iztB3/F+QrDGOkFtVS3GRQE6QTQSYYgpPDlB1jmL8/d3OEGOkUFWPLU3QdOp4A1y9DZB\",\"dtype\":\"float64\",\"order\":\"little\",\"shape\":[108]}},\"selected\":{\"id\":\"1141\"},\"selection_policy\":{\"id\":\"1140\"}},\"id\":\"1064\",\"type\":\"ColumnDataSource\"},{\"attributes\":{\"data\":{\"x\":[1579910400000.0,1579996800000.0,1580083200000.0,1580169600000.0,1580256000000.0,1580342400000.0,1580428800000.0,1580515200000.0,1580601600000.0,1580688000000.0,1580774400000.0,1580860800000.0,1580947200000.0,1581033600000.0,1581120000000.0,1581206400000.0,1581292800000.0,1581379200000.0,1581465600000.0,1581552000000.0,1581638400000.0,1581724800000.0,1581811200000.0,1581897600000.0,1581984000000.0,1582070400000.0,1582156800000.0,1582243200000.0,1582329600000.0,1582416000000.0,1582502400000.0,1582588800000.0,1582675200000.0,1582761600000.0,1582848000000.0,1582934400000.0,1583020800000.0,1583107200000.0,1583193600000.0,1583280000000.0,1583366400000.0,1583452800000.0,1583539200000.0,1583625600000.0,1583712000000.0,1583798400000.0,1583884800000.0,1583971200000.0,1584057600000.0,1584144000000.0,1584230400000.0,1584316800000.0,1584403200000.0,1584489600000.0,1584576000000.0,1584662400000.0,1584748800000.0,1584835200000.0,1584921600000.0,1585008000000.0,1585094400000.0,1585180800000.0,1585267200000.0,1585353600000.0,1585440000000.0,1585526400000.0,1585612800000.0,1585699200000.0,1585785600000.0,1585872000000.0,1585958400000.0,1586044800000.0,1586131200000.0,1586217600000.0,1586304000000.0,1586390400000.0,1586476800000.0,1586563200000.0,1586649600000.0,1586736000000.0,1586822400000.0,1586908800000.0,1586995200000.0,1587081600000.0,1587168000000.0,1587254400000.0,1587340800000.0,1587427200000.0,1587513600000.0,1587600000000.0,1587686400000.0,1587772800000.0,1587859200000.0,1587945600000.0,1588032000000.0,1588118400000.0,1588204800000.0,1588291200000.0,1588377600000.0,1588464000000.0,1588550400000.0,1588636800000.0,1588723200000.0,1588809600000.0,1588896000000.0,1588982400000.0,1589068800000.0,1589155200000.0],\"y\":{\"__ndarray__\":\"AAAAAAAAAAAAAAAAAAAAAAAAAAAAAAAAAAAAAAAAAAAAAAAAAAAAAAAAAAAAAAAAAAAAAAAAAAAAAAAAAAAAAAAAAAAAAAAAAAAAAAAAAAAAAAAAAAAAAONymBmaCLE/TkoSZadPwz+iWpxJSobQP+C3sVXaS9k/paVnMJpD4j/9HTzycHjpPzftAe3gXfE/jxVGi+lT9z9iaufxDQL/P97kx6qfdARARJ9AkxjYCkD++7ijmYsRQKy/bPCe3hZAU/DTcSe/HUD+u1U6zVAjQHNDIgM5DilAXfnb0ow8MEBxKPpFlAc1QAcaAqZ0OTtA5gXr5ZqdQUB86bxGTMpGQIFVvkSIek1A+xvk2NYPU0AkBR/OHaZYQC1TeFW83l9AXrkRlfmZZECAA2wT06FqQFQa3ClsNnFAVYcrhUs/dkBcpjMZYsB8QCNZeWqKk4JAbDuFbScAiEAjoVtBswCPQOwApBnZBJRA163zl07YmUDmYklLMa2gQGgWm8aUgqVAGoy3+uy5q0CWrcgdtdqxQNRflDjI9bZAF3PQCdZuvUCLG9ajdsfCQGo6IDfM08dAxCAEpbcIzkBAiCZtZ8rSQBVWL7COU9dAZx7mL1q23EDRwPY/bIPhQLj/57t5KuVAhR/zaF5V6UD1ZBBzcQXuQKVMebLgm/FAvyNX72Fy9EBYb9X5LYD3QGkAaKIdvfpAgxhNZUof/kCfI4kzw80AQchwKafykgJBPfJguiNZBEHqWr9RbRoGQbP1FntD0QdB/w++RKF4CUFu/YgyJQwLQTSJ/A0hiAxBYPmByp7pDUGMJkqjXC4PQUXGsGdhKhBBLhDxbuqtEEHiHnBIkCERQX0DzdJVhRFBpgz0znDZEUHXjwgnQR4SQeNBiNNIVBJBvp7UhCR8EkGuo3cfhZYSQcHJWA0qpBJBKroiXNylEkHw/eOaapwSQcEyMGeliBJB92fBlFxrEkG8ALfeXEUSQeIOTxNuFxJB0BxepVHiEUGazyeWwaYRQVwqoalvZRFBiuJf2gQfEUGCL9UAIdQQQfirHaZahRBBHOuM+T4zEEFmnZbFo7wPQc6XNFUcDg9BYxo2astbDkFIWTOUg6YNQZhxms4G7wxBHpnkMwc2DEElI/26J3wLQT6jWvr8wQpB\",\"dtype\":\"float64\",\"order\":\"little\",\"shape\":[108]}},\"selected\":{\"id\":\"1143\"},\"selection_policy\":{\"id\":\"1142\"}},\"id\":\"1070\",\"type\":\"ColumnDataSource\"},{\"attributes\":{\"fill_alpha\":{\"value\":0.9},\"fill_color\":{\"value\":\"pink\"},\"line_alpha\":{\"value\":0.9},\"line_color\":{\"value\":\"pink\"},\"x\":{\"field\":\"x\"},\"y\":{\"field\":\"y\"}},\"id\":\"1071\",\"type\":\"X\"},{\"attributes\":{\"fill_alpha\":{\"value\":0.01},\"fill_color\":{\"value\":\"lightblue\"},\"line_alpha\":{\"value\":0.01},\"line_color\":{\"value\":\"lightblue\"},\"x\":{\"field\":\"x\"},\"y\":{\"field\":\"y\"}},\"id\":\"1067\",\"type\":\"X\"},{\"attributes\":{},\"id\":\"1130\",\"type\":\"UnionRenderers\"},{\"attributes\":{},\"id\":\"1114\",\"type\":\"BasicTickFormatter\"},{\"attributes\":{\"source\":{\"id\":\"1070\"}},\"id\":\"1075\",\"type\":\"CDSView\"},{\"attributes\":{},\"id\":\"1131\",\"type\":\"Selection\"},{\"attributes\":{\"fill_alpha\":{\"value\":0.9},\"fill_color\":{\"value\":\"darkolivegreen\"},\"line_alpha\":{\"value\":0.9},\"line_color\":{\"value\":\"darkolivegreen\"},\"x\":{\"field\":\"x\"},\"y\":{\"field\":\"y\"}},\"id\":\"1077\",\"type\":\"X\"},{\"attributes\":{\"data_source\":{\"id\":\"1070\"},\"glyph\":{\"id\":\"1071\"},\"hover_glyph\":null,\"muted_glyph\":{\"id\":\"1073\"},\"nonselection_glyph\":{\"id\":\"1072\"},\"selection_glyph\":null,\"view\":{\"id\":\"1075\"}},\"id\":\"1074\",\"type\":\"GlyphRenderer\"},{\"attributes\":{\"fill_alpha\":{\"value\":0.1},\"fill_color\":{\"value\":\"pink\"},\"line_alpha\":{\"value\":0.1},\"line_color\":{\"value\":\"pink\"},\"x\":{\"field\":\"x\"},\"y\":{\"field\":\"y\"}},\"id\":\"1072\",\"type\":\"X\"},{\"attributes\":{\"fill_alpha\":{\"value\":0.1},\"fill_color\":{\"value\":\"blue\"},\"line_alpha\":{\"value\":0.1},\"line_color\":{\"value\":\"blue\"},\"x\":{\"field\":\"x\"},\"y\":{\"field\":\"y\"}},\"id\":\"1090\",\"type\":\"X\"},{\"attributes\":{\"fill_alpha\":{\"value\":0.01},\"fill_color\":{\"value\":\"pink\"},\"line_alpha\":{\"value\":0.01},\"line_color\":{\"value\":\"pink\"},\"x\":{\"field\":\"x\"},\"y\":{\"field\":\"y\"}},\"id\":\"1073\",\"type\":\"X\"},{\"attributes\":{},\"id\":\"1116\",\"type\":\"DatetimeTickFormatter\"},{\"attributes\":{\"data\":{\"x\":[1579910400000.0,1579996800000.0,1580083200000.0,1580169600000.0,1580256000000.0,1580342400000.0,1580428800000.0,1580515200000.0,1580601600000.0,1580688000000.0,1580774400000.0,1580860800000.0,1580947200000.0,1581033600000.0,1581120000000.0,1581206400000.0,1581292800000.0,1581379200000.0,1581465600000.0,1581552000000.0,1581638400000.0,1581724800000.0,1581811200000.0,1581897600000.0,1581984000000.0,1582070400000.0,1582156800000.0,1582243200000.0,1582329600000.0,1582416000000.0,1582502400000.0,1582588800000.0,1582675200000.0,1582761600000.0,1582848000000.0,1582934400000.0,1583020800000.0,1583107200000.0,1583193600000.0,1583280000000.0,1583366400000.0,1583452800000.0,1583539200000.0,1583625600000.0,1583712000000.0,1583798400000.0,1583884800000.0,1583971200000.0,1584057600000.0,1584144000000.0,1584230400000.0,1584316800000.0,1584403200000.0,1584489600000.0,1584576000000.0,1584662400000.0,1584748800000.0,1584835200000.0,1584921600000.0,1585008000000.0,1585094400000.0,1585180800000.0,1585267200000.0,1585353600000.0,1585440000000.0,1585526400000.0,1585612800000.0,1585699200000.0,1585785600000.0,1585872000000.0,1585958400000.0,1586044800000.0,1586131200000.0,1586217600000.0,1586304000000.0,1586390400000.0,1586476800000.0,1586563200000.0,1586649600000.0,1586736000000.0,1586822400000.0,1586908800000.0,1586995200000.0,1587081600000.0,1587168000000.0,1587254400000.0,1587340800000.0,1587427200000.0,1587513600000.0,1587600000000.0,1587686400000.0,1587772800000.0,1587859200000.0,1587945600000.0,1588032000000.0,1588118400000.0,1588204800000.0,1588291200000.0,1588377600000.0,1588464000000.0,1588550400000.0,1588636800000.0,1588723200000.0,1588809600000.0,1588896000000.0,1588982400000.0,1589068800000.0,1589155200000.0],\"y\":{\"__ndarray__\":\"AAAAAAAAAAAAAAAAAAAAAAAAAAAAAAAAAAAAAAAAAAAAAAAAAAAAAAAAAAAAAAAAAAAAAAAAAAAAAAAAAAAAAAAAAAAAAAAAAAAAAAAAAAAAAAAAAAAAAOvht6/IFog/+r4RYXkNqj+nqsmzWti/P+ZGlMvk5s4/hzPqeap72j8DyCxaAQXlP/maghbwse8/Xs9iB54L9z8yS4z8WlEAQA3bdkJEpwZAh6AK6Yz5DkCL7QVx0+0UQFo+0J0eBhxAOczotHagIkC9eqBG0Z4oQDLCXf2TMjBAY5mTJ1g8NUD5foFz0MI7QPry4dumGkJAfEATQduRR0BvAYGlB6ROQOS4P+6y5FNAbw8bM67OWUC3LDiAMbpgQP9yrx7Oq2VAMmB0TgoQbEC5jdGwoSlyQLiDW8+8gHdAgIfX3sFnfkBh03RquqmDQGSP6I5JbYlAn/25behvkEBiG8yBYD+VQISmGGDjdZtArQ/VwcS9oUDmuCS6G+umQCgIjjfymK1AKd4mvcAas0CkRL4A36a4QKO8xZBuyr9AYQ0Mj1N6xECplTVJR1bKQDxcbR755NBA7BAiLm2a1UCRjjnKC4PbQDogyL8rb+FADjulusn55UCx35cGiIjrQAGrPJ65IvFAvor8tUYu9UA02poYS/35QLBSqnjLpf9AguZWY1IeA0F5TZy8XeoGQR5jgYwbPwtBfNo2bXYREEEkiCz5H80SQRYpp1a00xVB76eiL0klGUHypv0T5cAcQX9JcKFHUiBBgP3M6LNmIkGnOFPY4pskQXE41Qms7yZBvPOqj6RfKUHsRPj6L+krQYAZT3SQiS5BwAW/tPqeMEFdQmNGxAEyQWuR+YO8azNBEVGDboLbNEGN1/JHwE82QTO8upguxzdBoQ8EfJZAOUHqp7hI07o6QYVa6qzTNDxBzQYUUZqtPUGvNCEXPiQ/QRkFtwP1S0BBftSdfe4DQUEgSZOJtLlBQe+bQYL5bEJBu4cxpXgdQ0HqZSKg9cpDQUevphc8dURBx8alKR8cRUEmiWTueL9FQQmI6/kpX0ZBM1Zg3xj7RkE20Ia3MZNHQdr0WatlJ0hByfxRg6q3SEF4Yv07+kNJQZR0HKBSzElBAyJk6LRQSkFboy5hJdFKQVDu0hWrTUtB\",\"dtype\":\"float64\",\"order\":\"little\",\"shape\":[108]}},\"selected\":{\"id\":\"1145\"},\"selection_policy\":{\"id\":\"1144\"}},\"id\":\"1076\",\"type\":\"ColumnDataSource\"},{\"attributes\":{\"source\":{\"id\":\"1076\"}},\"id\":\"1081\",\"type\":\"CDSView\"},{\"attributes\":{\"data_source\":{\"id\":\"1082\"},\"glyph\":{\"id\":\"1083\"},\"hover_glyph\":null,\"muted_glyph\":{\"id\":\"1085\"},\"nonselection_glyph\":{\"id\":\"1084\"},\"selection_glyph\":null,\"view\":{\"id\":\"1087\"}},\"id\":\"1086\",\"type\":\"GlyphRenderer\"},{\"attributes\":{\"data_source\":{\"id\":\"1076\"},\"glyph\":{\"id\":\"1077\"},\"hover_glyph\":null,\"muted_glyph\":{\"id\":\"1079\"},\"nonselection_glyph\":{\"id\":\"1078\"},\"selection_glyph\":null,\"view\":{\"id\":\"1081\"}},\"id\":\"1080\",\"type\":\"GlyphRenderer\"},{\"attributes\":{\"fill_alpha\":{\"value\":0.1},\"fill_color\":{\"value\":\"darkolivegreen\"},\"line_alpha\":{\"value\":0.1},\"line_color\":{\"value\":\"darkolivegreen\"},\"x\":{\"field\":\"x\"},\"y\":{\"field\":\"y\"}},\"id\":\"1078\",\"type\":\"X\"},{\"attributes\":{},\"id\":\"1132\",\"type\":\"UnionRenderers\"},{\"attributes\":{},\"id\":\"1133\",\"type\":\"Selection\"},{\"attributes\":{\"fill_alpha\":{\"value\":0.1},\"fill_color\":{\"value\":\"red\"},\"line_alpha\":{\"value\":0.1},\"line_color\":{\"value\":\"red\"},\"x\":{\"field\":\"x\"},\"y\":{\"field\":\"y\"}},\"id\":\"1084\",\"type\":\"X\"},{\"attributes\":{\"fill_alpha\":{\"value\":0.01},\"fill_color\":{\"value\":\"darkolivegreen\"},\"line_alpha\":{\"value\":0.01},\"line_color\":{\"value\":\"darkolivegreen\"},\"x\":{\"field\":\"x\"},\"y\":{\"field\":\"y\"}},\"id\":\"1079\",\"type\":\"X\"},{\"attributes\":{\"source\":{\"id\":\"1082\"}},\"id\":\"1087\",\"type\":\"CDSView\"},{\"attributes\":{\"data_source\":{\"id\":\"1088\"},\"glyph\":{\"id\":\"1089\"},\"hover_glyph\":null,\"muted_glyph\":{\"id\":\"1091\"},\"nonselection_glyph\":{\"id\":\"1090\"},\"selection_glyph\":null,\"view\":{\"id\":\"1093\"}},\"id\":\"1092\",\"type\":\"GlyphRenderer\"},{\"attributes\":{\"fill_alpha\":{\"value\":0.9},\"fill_color\":{\"value\":\"red\"},\"line_alpha\":{\"value\":0.9},\"line_color\":{\"value\":\"red\"},\"x\":{\"field\":\"x\"},\"y\":{\"field\":\"y\"}},\"id\":\"1083\",\"type\":\"X\"},{\"attributes\":{\"data\":{\"x\":[1579910400000.0,1579996800000.0,1580083200000.0,1580169600000.0,1580256000000.0,1580342400000.0,1580428800000.0,1580515200000.0,1580601600000.0,1580688000000.0,1580774400000.0,1580860800000.0,1580947200000.0,1581033600000.0,1581120000000.0,1581206400000.0,1581292800000.0,1581379200000.0,1581465600000.0,1581552000000.0,1581638400000.0,1581724800000.0,1581811200000.0,1581897600000.0,1581984000000.0,1582070400000.0,1582156800000.0,1582243200000.0,1582329600000.0,1582416000000.0,1582502400000.0,1582588800000.0,1582675200000.0,1582761600000.0,1582848000000.0,1582934400000.0,1583020800000.0,1583107200000.0,1583193600000.0,1583280000000.0,1583366400000.0,1583452800000.0,1583539200000.0,1583625600000.0,1583712000000.0,1583798400000.0,1583884800000.0,1583971200000.0,1584057600000.0,1584144000000.0,1584230400000.0,1584316800000.0,1584403200000.0,1584489600000.0,1584576000000.0,1584662400000.0,1584748800000.0,1584835200000.0,1584921600000.0,1585008000000.0,1585094400000.0,1585180800000.0,1585267200000.0,1585353600000.0,1585440000000.0,1585526400000.0,1585612800000.0,1585699200000.0,1585785600000.0,1585872000000.0,1585958400000.0,1586044800000.0,1586131200000.0,1586217600000.0,1586304000000.0,1586390400000.0,1586476800000.0,1586563200000.0,1586649600000.0,1586736000000.0,1586822400000.0,1586908800000.0,1586995200000.0,1587081600000.0,1587168000000.0,1587254400000.0,1587340800000.0,1587427200000.0,1587513600000.0,1587600000000.0,1587686400000.0,1587772800000.0,1587859200000.0,1587945600000.0,1588032000000.0,1588118400000.0,1588204800000.0,1588291200000.0,1588377600000.0,1588464000000.0,1588550400000.0,1588636800000.0,1588723200000.0,1588809600000.0,1588896000000.0,1588982400000.0,1589068800000.0,1589155200000.0],\"y\":{\"__ndarray__\":\"AAAAAAAAAAAAAAAAAAAAAAAAAAAAAAAAAAAAAAAAAAAAAAAAAAAAAAAAAAAAAAAAAAAAAAAAAAAAAAAAAAAAAAAAAAAAAAAAAAAAAAAAAAAAAAAAAAAAAFelfuN1gWI/AZ2v2YQGhD9xIE20l32YP90ePdDLxqc/wydT061itD+btINgsS/AP+V286Ryasg/NwqbAyTC0T81FDZK1yfZP877r0A8d+E/PANwig/j5z8BYP9uoSTwP299feSJnvU/OYbyenK+/D/pnDfLt/8CQGMHEBVRAAlA17iKL/FjEEBL14Wts20VQD/FGjdl8xtAJPyIMxIyIkBbgT/IyqcnQBHfwteyty5Ab1ZxHuXsM0CRqJojldQ5QAc/X5ORu0BA7JMCIQqrRUCAylD/YQxMQLoHm33aJVJAq6P47VN6V0Cq3Hvyx11eQExia71OomNAeUq5FoViaUBuCoZuMmhwQFU54ZtjNHVAt9gNvjhme0Co9li2i7KBQKVSlErm2oZALIYuV0uBjUATxNU9SwmTQO4aoAWYjJhAV6hfF3Wgn0C88WS7mlakQO3U/E7tF6pAYpvPXQWvsEDMnl4Abj+1QJGWODdS7rpAsacekGz5wEApn0aI00TFQGNbgsPyecpAqsCBKnVd0ED58876OhXUQKeKq3VnddhAwHryTjiO3UBOhuGaNbfhQP4ZjfdSEeVAAqno1nna6EA5QEa3MBbtQEN8VuMv4/BAQV57sKJ180CwPUupvkH2QJJ7O0AMRvlAeGZOwGCA/EDFy7Ao9e3/QEDRUti/xQFBrLMSKqeqA0GJVSx5sKMFQfFisAXBrgdBb7jQra7JCUEnGU71SfILQd6hFq9mJg5By8qzofExEEF9rU1TV1QRQefRY4lmeRJB+WuW0i2gE0FcXoGAyccUQZQdJIxk7xVBXcafHTkWF0FQxnfGkDsYQfQeMnzEXhlBGuozXzx/GkFVj/dYb5wbQRgv8pnitRxBo233ACnLHUH0uMBw4tseQZLMaBq75x9Bdqt1YDV3IEHaXeD82fcgQWD0t7axdSFBhmBJjafwIUGrYZjOqmgiQTzD9b2u3SJBaer3PapPI0Eab1h+l74jQYQx4q1zKiRB16aQsD6TJEFgJRra+vgkQV2ftKysWyVB\",\"dtype\":\"float64\",\"order\":\"little\",\"shape\":[108]}},\"selected\":{\"id\":\"1147\"},\"selection_policy\":{\"id\":\"1146\"}},\"id\":\"1082\",\"type\":\"ColumnDataSource\"},{\"attributes\":{\"fill_alpha\":{\"value\":0.01},\"fill_color\":{\"value\":\"red\"},\"line_alpha\":{\"value\":0.01},\"line_color\":{\"value\":\"red\"},\"x\":{\"field\":\"x\"},\"y\":{\"field\":\"y\"}},\"id\":\"1085\",\"type\":\"X\"},{\"attributes\":{\"source\":{\"id\":\"1088\"}},\"id\":\"1093\",\"type\":\"CDSView\"},{\"attributes\":{\"fill_alpha\":{\"value\":0.01},\"fill_color\":{\"value\":\"black\"},\"line_alpha\":{\"value\":0.01},\"x\":{\"field\":\"x\"},\"y\":{\"field\":\"y\"}},\"id\":\"1097\",\"type\":\"X\"},{\"attributes\":{\"fill_alpha\":{\"value\":0.9},\"fill_color\":{\"value\":\"blue\"},\"line_alpha\":{\"value\":0.9},\"line_color\":{\"value\":\"blue\"},\"x\":{\"field\":\"x\"},\"y\":{\"field\":\"y\"}},\"id\":\"1089\",\"type\":\"X\"},{\"attributes\":{\"data\":{\"x\":[1579910400000.0,1579996800000.0,1580083200000.0,1580169600000.0,1580256000000.0,1580342400000.0,1580428800000.0,1580515200000.0,1580601600000.0,1580688000000.0,1580774400000.0,1580860800000.0,1580947200000.0,1581033600000.0,1581120000000.0,1581206400000.0,1581292800000.0,1581379200000.0,1581465600000.0,1581552000000.0,1581638400000.0,1581724800000.0,1581811200000.0,1581897600000.0,1581984000000.0,1582070400000.0,1582156800000.0,1582243200000.0,1582329600000.0,1582416000000.0,1582502400000.0,1582588800000.0,1582675200000.0,1582761600000.0,1582848000000.0,1582934400000.0,1583020800000.0,1583107200000.0,1583193600000.0,1583280000000.0,1583366400000.0,1583452800000.0,1583539200000.0,1583625600000.0,1583712000000.0,1583798400000.0,1583884800000.0,1583971200000.0,1584057600000.0,1584144000000.0,1584230400000.0,1584316800000.0,1584403200000.0,1584489600000.0,1584576000000.0,1584662400000.0,1584748800000.0,1584835200000.0,1584921600000.0,1585008000000.0,1585094400000.0,1585180800000.0,1585267200000.0,1585353600000.0,1585440000000.0,1585526400000.0,1585612800000.0,1585699200000.0,1585785600000.0,1585872000000.0,1585958400000.0,1586044800000.0,1586131200000.0,1586217600000.0,1586304000000.0,1586390400000.0,1586476800000.0,1586563200000.0,1586649600000.0,1586736000000.0,1586822400000.0,1586908800000.0,1586995200000.0,1587081600000.0,1587168000000.0,1587254400000.0,1587340800000.0,1587427200000.0,1587513600000.0,1587600000000.0,1587686400000.0,1587772800000.0,1587859200000.0,1587945600000.0,1588032000000.0,1588118400000.0,1588204800000.0,1588291200000.0,1588377600000.0,1588464000000.0,1588550400000.0,1588636800000.0,1588723200000.0,1588809600000.0,1588896000000.0,1588982400000.0,1589068800000.0,1589155200000.0],\"y\":{\"__ndarray__\":\"AAAAAAAAAAAAAAAAAAAAAAAAAAAAAAAAAAAAAAAAAAAAAAAAAAAAAAAAAAAAAAAAAAAAAAAAAAAAAAAAAAAAAAAAAAAAAAAAAAAAAAAAAAAAAAAAAAAAAPFS7NvEVd0/x/zPkZlb6D/09+DIubzwP5ICzyCyAPY/J4Gx/j2U/D/1fNdce38CQNnZvnJG7AdA6L8bVTXuDkAaw0Ciaf4TQF5zFzYK2RlA0yVR4jG1IEDGwVyIdpklQCb2OABa7CtA9oLUEJgMMkCAZv5AW1U3QFSXXqwiKj5AuXwZB2x/Q0CTJ2+ZpzRJQKO3Tf3LSlBAZrcZKbEPVUB99f7z4DlbQO3EMUbtmGFAQN3fDlG/ZkBKUmWuUWdtQJMeeFbJAHNAwIYLjsKPeECanEUHcr5/QIRCwwL5goRAphD8hDSBikDd1Km6QR+RQDtDMQcwHpZAT2U0lZ2QnECOxRiXq3CiQPTVF0SQzKdAXPX4aU+zrkAEJUW+AcqzQIsj9bWufblAaoHWHptmwECcPnxEjhPFQO7OATuz/8pAPrLfeQ4s0UDpX5XaO6jVQA9eiTuPD9tA/MwSwMq94ECFo5/YpYDkQP3tJeT11uhAtHqzNMXB7UAjXRYidp3xQCfOC+PhmfRANFtZxjjK90Aohl/2CR77QCsEOOH6gP5AUQjgjvLtAEEgZMUGL4sCQZfDup07DARBnH7DujxmBUF1T53SLpAGQUTtuJFqgwdBlLZPHOU7CEE6BkKBLbgIQdtPcx4y+QhBQw3iB98BCUFYJc7Qp9YIQbHpGzsNfQhBy2kA/ir7B0HS3lf8VVcHQfk9KRvOlwZByTyfgYTCBUG21pJ/9NwEQSk4SkMM7ANBT+J0QyL0AkGfY/Pq8/gBQWZgJCmr/QBBfYBrK+gEAEEsgc54myH+QEJubogdRvxAY1VuAPh5+kCmUqujIr/4QO6OPVsEF/dAEx01/4mC9UB+C5nHOgL0QAaBW0lKlvJAQeALMKg+8UBSwJKeG/bvQKmpSoMTlu1A+FJfbxNc60BVPi6KxUbpQBXDIn2wVOdAmj9i90KE5UB8qJL93NPjQN6CBqPXQeJAxqNcIovM4EBo/BSep+TeQOFnx+0rY9xABfi4fYER2kC50hUUoezXQESqpeWg8dVA\",\"dtype\":\"float64\",\"order\":\"little\",\"shape\":[108]}},\"selected\":{\"id\":\"1149\"},\"selection_policy\":{\"id\":\"1148\"}},\"id\":\"1088\",\"type\":\"ColumnDataSource\"},{\"attributes\":{},\"id\":\"1134\",\"type\":\"UnionRenderers\"},{\"attributes\":{},\"id\":\"1135\",\"type\":\"Selection\"},{\"attributes\":{\"fill_alpha\":{\"value\":0.1},\"fill_color\":{\"value\":\"black\"},\"line_alpha\":{\"value\":0.1},\"x\":{\"field\":\"x\"},\"y\":{\"field\":\"y\"}},\"id\":\"1096\",\"type\":\"X\"},{\"attributes\":{\"fill_alpha\":{\"value\":0.01},\"fill_color\":{\"value\":\"blue\"},\"line_alpha\":{\"value\":0.01},\"line_color\":{\"value\":\"blue\"},\"x\":{\"field\":\"x\"},\"y\":{\"field\":\"y\"}},\"id\":\"1091\",\"type\":\"X\"},{\"attributes\":{\"data_source\":{\"id\":\"1094\"},\"glyph\":{\"id\":\"1095\"},\"hover_glyph\":null,\"muted_glyph\":{\"id\":\"1097\"},\"nonselection_glyph\":{\"id\":\"1096\"},\"selection_glyph\":null,\"view\":{\"id\":\"1099\"}},\"id\":\"1098\",\"type\":\"GlyphRenderer\"},{\"attributes\":{\"source\":{\"id\":\"1094\"}},\"id\":\"1099\",\"type\":\"CDSView\"},{\"attributes\":{\"fill_alpha\":{\"value\":0.9},\"fill_color\":{\"value\":\"black\"},\"line_alpha\":{\"value\":0.9},\"x\":{\"field\":\"x\"},\"y\":{\"field\":\"y\"}},\"id\":\"1095\",\"type\":\"X\"},{\"attributes\":{\"data\":{\"x\":[1579910400000.0,1579996800000.0,1580083200000.0,1580169600000.0,1580256000000.0,1580342400000.0,1580428800000.0,1580515200000.0,1580601600000.0,1580688000000.0,1580774400000.0,1580860800000.0,1580947200000.0,1581033600000.0,1581120000000.0,1581206400000.0,1581292800000.0,1581379200000.0,1581465600000.0,1581552000000.0,1581638400000.0,1581724800000.0,1581811200000.0,1581897600000.0,1581984000000.0,1582070400000.0,1582156800000.0,1582243200000.0,1582329600000.0,1582416000000.0,1582502400000.0,1582588800000.0,1582675200000.0,1582761600000.0,1582848000000.0,1582934400000.0,1583020800000.0,1583107200000.0,1583193600000.0,1583280000000.0,1583366400000.0,1583452800000.0,1583539200000.0,1583625600000.0,1583712000000.0,1583798400000.0,1583884800000.0,1583971200000.0,1584057600000.0,1584144000000.0,1584230400000.0,1584316800000.0,1584403200000.0,1584489600000.0,1584576000000.0,1584662400000.0,1584748800000.0,1584835200000.0,1584921600000.0,1585008000000.0,1585094400000.0,1585180800000.0,1585267200000.0,1585353600000.0,1585440000000.0,1585526400000.0,1585612800000.0,1585699200000.0,1585785600000.0,1585872000000.0,1585958400000.0,1586044800000.0,1586131200000.0,1586217600000.0,1586304000000.0,1586390400000.0,1586476800000.0,1586563200000.0,1586649600000.0,1586736000000.0,1586822400000.0,1586908800000.0,1586995200000.0,1587081600000.0,1587168000000.0,1587254400000.0,1587340800000.0,1587427200000.0,1587513600000.0,1587600000000.0,1587686400000.0,1587772800000.0,1587859200000.0,1587945600000.0,1588032000000.0,1588118400000.0,1588204800000.0,1588291200000.0,1588377600000.0,1588464000000.0,1588550400000.0,1588636800000.0,1588723200000.0,1588809600000.0,1588896000000.0,1588982400000.0,1589068800000.0,1589155200000.0],\"y\":{\"__ndarray__\":\"vfUqebfyj0G99Sp5t/KPQb31Knm38o9BvfUqebfyj0G99Sp5t/KPQb31Knm38o9BvfUqebfyj0G99Sp5t/KPQb31Knm38o9BvfUqebfyj0G99Sp5t/KPQb71Knm38o9Bv/Uqebfyj0HB9Sp5t/KPQcP1Knm38o9BxPUqebfyj0HD9Sp5t/KPQcH1Knm38o9BwfUqebfyj0HB9Sp5t/KPQcL1Knm38o9Bw/Uqebfyj0HA9Sp5t/KPQcL1Knm38o9BwfUqebfyj0HB9Sp5t/KPQcD1Knm38o9BwfUqebfyj0HB9Sp5t/KPQcD1Knm38o9BwfUqebfyj0HC9Sp5t/KPQcL1Knm38o9Bw/Uqebfyj0HC9Sp5t/KPQcP1Knm38o9BwvUqebfyj0HC9Sp5t/KPQcL1Knm38o9BwvUqebfyj0HC9Sp5t/KPQcL1Knm38o9BwfUqebfyj0HD9Sp5t/KPQcL1Knm38o9Bw/Uqebfyj0HB9Sp5t/KPQcL1Knm38o9Bw/Uqebfyj0HD9Sp5t/KPQcD1Knm38o9Bv/Uqebfyj0HA9Sp5t/KPQb/1Knm38o9BwPUqebfyj0HB9Sp5t/KPQcH1Knm38o9BwfUqebfyj0HA9Sp5t/KPQcH1Knm38o9BwfUqebfyj0HB9Sp5t/KPQcH1Knm38o9BwfUqebfyj0HE9Sp5t/KPQcX1Knm38o9BxfUqebfyj0HE9Sp5t/KPQcT1Knm38o9BwvUqebfyj0HD9Sp5t/KPQcL1Knm38o9BwvUqebfyj0HE9Sp5t/KPQcT1Knm38o9BxPUqebfyj0HE9Sp5t/KPQcT1Knm38o9Bw/Uqebfyj0HD9Sp5t/KPQcT1Knm38o9Bw/Uqebfyj0HE9Sp5t/KPQcT1Knm38o9BxfUqebfyj0HF9Sp5t/KPQcX1Knm38o9BxPUqebfyj0HE9Sp5t/KPQcT1Knm38o9BxfUqebfyj0HF9Sp5t/KPQcT1Knm38o9Bw/Uqebfyj0HD9Sp5t/KPQcP1Knm38o9BxPUqebfyj0HD9Sp5t/KPQcT1Knm38o9Bw/Uqebfyj0HE9Sp5t/KPQcP1Knm38o9BxPUqebfyj0HD9Sp5t/KPQcX1Knm38o9BxPUqebfyj0HE9Sp5t/KPQcL1Knm38o9B\",\"dtype\":\"float64\",\"order\":\"little\",\"shape\":[108]}},\"selected\":{\"id\":\"1151\"},\"selection_policy\":{\"id\":\"1150\"}},\"id\":\"1094\",\"type\":\"ColumnDataSource\"},{\"attributes\":{\"source\":{\"id\":\"1040\"}},\"id\":\"1045\",\"type\":\"CDSView\"},{\"attributes\":{},\"id\":\"1020\",\"type\":\"PanTool\"},{\"attributes\":{},\"id\":\"1136\",\"type\":\"UnionRenderers\"},{\"attributes\":{},\"id\":\"1137\",\"type\":\"Selection\"},{\"attributes\":{},\"id\":\"1025\",\"type\":\"HelpTool\"},{\"attributes\":{\"data\":{\"x\":[1579910400000.0,1579996800000.0,1580083200000.0,1580169600000.0,1580256000000.0,1580342400000.0,1580428800000.0,1580515200000.0,1580601600000.0,1580688000000.0,1580774400000.0,1580860800000.0,1580947200000.0,1581033600000.0,1581120000000.0,1581206400000.0,1581292800000.0,1581379200000.0,1581465600000.0,1581552000000.0,1581638400000.0,1581724800000.0,1581811200000.0,1581897600000.0,1581984000000.0,1582070400000.0,1582156800000.0,1582243200000.0,1582329600000.0,1582416000000.0,1582502400000.0,1582588800000.0,1582675200000.0,1582761600000.0,1582848000000.0,1582934400000.0,1583020800000.0,1583107200000.0,1583193600000.0,1583280000000.0,1583366400000.0,1583452800000.0,1583539200000.0,1583625600000.0,1583712000000.0,1583798400000.0,1583884800000.0,1583971200000.0,1584057600000.0,1584144000000.0,1584230400000.0,1584316800000.0,1584403200000.0,1584489600000.0,1584576000000.0,1584662400000.0,1584748800000.0,1584835200000.0,1584921600000.0,1585008000000.0,1585094400000.0,1585180800000.0,1585267200000.0,1585353600000.0,1585440000000.0,1585526400000.0,1585612800000.0,1585699200000.0,1585785600000.0,1585872000000.0,1585958400000.0,1586044800000.0,1586131200000.0,1586217600000.0,1586304000000.0,1586390400000.0,1586476800000.0,1586563200000.0,1586649600000.0,1586736000000.0,1586822400000.0,1586908800000.0,1586995200000.0,1587081600000.0,1587168000000.0,1587254400000.0,1587340800000.0,1587427200000.0,1587513600000.0,1587600000000.0,1587686400000.0,1587772800000.0,1587859200000.0,1587945600000.0,1588032000000.0,1588118400000.0,1588204800000.0,1588291200000.0,1588377600000.0,1588464000000.0,1588550400000.0,1588636800000.0,1588723200000.0,1588809600000.0,1588896000000.0,1588982400000.0,1589068800000.0,1589155200000.0],\"y\":{\"__ndarray__\":\"AAAAALbyj0EAAAAAtvKPQQAAAAC28o9BAAAAALbyj0EAAAAAtvKPQQAAAAC28o9BAAAAALbyj0EAAAAAtvKPQQAAAAC28o9BAAAAALbyj0EAAAAAtvKPQe5HZWG18o9BVMBalLTyj0EN30eLs/KPQXgSmTSy8o9BsWmVebDyj0FV5dw8rvKPQV3fdVir8o9BjX5Im6fyj0Fmf93FovKPQT4ZKYac8o9BnKsacpTyj0H/1JQAivKPQYMVV4B88o9BHb0+DGvyj0FwORh8VPKPQcglAFE38o9BKgsInBHyj0Eh0XLd4PGPQepuYNqh8Y9B644gZlDxj0Hid5Yb5/CPQVUdEQJf8I9B3iapF6/vj0GN4Yi5y+6PQXa/X+Cl7Y9BS6SRJCrsj0EytFJ6P+qPQa+jqJHF549B3g04wZLkj0F3fYhcceCPQV5qUU8c249BAodZzzrUj0FfOUHuWsuPQX5GVs3qv49BSgCZMTCxj0FSt6E5Pp6PQZ8BugjphY9Bi2JCZbdmj0E3jJOc0j6PQcBRbfitDI9B9yBx3KfOjkEtqKktxYKOQfHNwvz+Jo5BsIdVUV65jUG6WJotIDiNQR/GQFDgoYxBu1jDWsf1i0F4h+8NtzOLQdDoHMVtXIpB4BKe8JlxiUFierOS13WIQYUAr9eUbIdBAF8nRt9ZhkHacCqbH0KFQQLmfc/NKYRBUuwg9icVg0FXh5lZ9QeCQdVi9wBcBYFBPe/dycoPgEHtYAkb7VF+QQAcesnMo3xBvDTQ6BMWe0GgnOitqah5QUFgryK2WnhBxPWLlNcqd0HADbT7UBd2QffdaiMwHnVB/9XzX2s9dEHF3Gib93JzQXDwNeHXvHJB1si3nCcZckE2R7XYIIZxQW4som0fAnFBQXVTC6KLcEFvokHJSSFwQQ4vIYCxg29BtPprHWDYbkERXUUimz5uQWHEp/OStG1Bf/IT2Kc4bUFMin1aZclsQU8rEfR9ZWxBxYgGDMcLbEHr1nxMNbtrQX+felDZcmtBQ2C+p9wxa0H0dzkpf/dqQcRKlI8Uw2pB9GK8VwKUakF+KN3bvWlqQTrCRaTKQ2pBplR857ghakE1leY1JANqQdEYkUqy52lBPfQM/RHPaUF9rXlR+rhpQTcf6qEppWlB\",\"dtype\":\"float64\",\"order\":\"little\",\"shape\":[108]}},\"selected\":{\"id\":\"1131\"},\"selection_policy\":{\"id\":\"1130\"}},\"id\":\"1034\",\"type\":\"ColumnDataSource\"},{\"attributes\":{\"source\":{\"id\":\"1046\"}},\"id\":\"1051\",\"type\":\"CDSView\"},{\"attributes\":{},\"id\":\"1006\",\"type\":\"DataRange1d\"},{\"attributes\":{\"formatter\":{\"id\":\"1116\"},\"ticker\":{\"id\":\"1013\"}},\"id\":\"1012\",\"type\":\"DatetimeAxis\"},{\"attributes\":{},\"id\":\"1004\",\"type\":\"DataRange1d\"},{\"attributes\":{},\"id\":\"1138\",\"type\":\"UnionRenderers\"},{\"attributes\":{},\"id\":\"1139\",\"type\":\"Selection\"},{\"attributes\":{},\"id\":\"1017\",\"type\":\"BasicTicker\"},{\"attributes\":{\"fill_alpha\":{\"value\":0.01},\"fill_color\":{\"value\":\"olive\"},\"line_alpha\":{\"value\":0.01},\"line_color\":{\"value\":\"olive\"},\"x\":{\"field\":\"x\"},\"y\":{\"field\":\"y\"}},\"id\":\"1055\",\"type\":\"X\"},{\"attributes\":{\"axis\":{\"id\":\"1016\"},\"dimension\":1,\"ticker\":null},\"id\":\"1019\",\"type\":\"Grid\"},{\"attributes\":{\"data_source\":{\"id\":\"1046\"},\"glyph\":{\"id\":\"1047\"},\"hover_glyph\":null,\"muted_glyph\":{\"id\":\"1049\"},\"nonselection_glyph\":{\"id\":\"1048\"},\"selection_glyph\":null,\"view\":{\"id\":\"1051\"}},\"id\":\"1050\",\"type\":\"GlyphRenderer\"},{\"attributes\":{},\"id\":\"1010\",\"type\":\"LinearScale\"},{\"attributes\":{\"fill_alpha\":{\"value\":0.1},\"fill_color\":{\"value\":\"purple\"},\"line_alpha\":{\"value\":0.1},\"line_color\":{\"value\":\"purple\"},\"x\":{\"field\":\"x\"},\"y\":{\"field\":\"y\"}},\"id\":\"1042\",\"type\":\"X\"},{\"attributes\":{\"data_source\":{\"id\":\"1052\"},\"glyph\":{\"id\":\"1053\"},\"hover_glyph\":null,\"muted_glyph\":{\"id\":\"1055\"},\"nonselection_glyph\":{\"id\":\"1054\"},\"selection_glyph\":null,\"view\":{\"id\":\"1057\"}},\"id\":\"1056\",\"type\":\"GlyphRenderer\"},{\"attributes\":{},\"id\":\"1140\",\"type\":\"UnionRenderers\"},{\"attributes\":{},\"id\":\"1141\",\"type\":\"Selection\"},{\"attributes\":{\"num_minor_ticks\":5,\"tickers\":[{\"id\":\"1118\"},{\"id\":\"1119\"},{\"id\":\"1120\"},{\"id\":\"1121\"},{\"id\":\"1122\"},{\"id\":\"1123\"},{\"id\":\"1124\"},{\"id\":\"1125\"},{\"id\":\"1126\"},{\"id\":\"1127\"},{\"id\":\"1128\"},{\"id\":\"1129\"}]},\"id\":\"1013\",\"type\":\"DatetimeTicker\"},{\"attributes\":{},\"id\":\"1008\",\"type\":\"LinearScale\"},{\"attributes\":{\"axis\":{\"id\":\"1012\"},\"ticker\":null},\"id\":\"1015\",\"type\":\"Grid\"},{\"attributes\":{\"fill_alpha\":{\"value\":0.1},\"fill_color\":{\"value\":\"orange\"},\"line_alpha\":{\"value\":0.1},\"line_color\":{\"value\":\"orange\"},\"x\":{\"field\":\"x\"},\"y\":{\"field\":\"y\"}},\"id\":\"1048\",\"type\":\"X\"},{\"attributes\":{\"fill_alpha\":{\"value\":0.9},\"fill_color\":{\"value\":\"goldenrod\"},\"line_alpha\":{\"value\":0.9},\"line_color\":{\"value\":\"goldenrod\"},\"x\":{\"field\":\"x\"},\"y\":{\"field\":\"y\"}},\"id\":\"1035\",\"type\":\"X\"},{\"attributes\":{},\"id\":\"1021\",\"type\":\"WheelZoomTool\"},{\"attributes\":{},\"id\":\"1142\",\"type\":\"UnionRenderers\"},{\"attributes\":{\"data_source\":{\"id\":\"1040\"},\"glyph\":{\"id\":\"1041\"},\"hover_glyph\":null,\"muted_glyph\":{\"id\":\"1043\"},\"nonselection_glyph\":{\"id\":\"1042\"},\"selection_glyph\":null,\"view\":{\"id\":\"1045\"}},\"id\":\"1044\",\"type\":\"GlyphRenderer\"},{\"attributes\":{},\"id\":\"1143\",\"type\":\"Selection\"},{\"attributes\":{\"fill_alpha\":{\"value\":0.1},\"fill_color\":{\"value\":\"olive\"},\"line_alpha\":{\"value\":0.1},\"line_color\":{\"value\":\"olive\"},\"x\":{\"field\":\"x\"},\"y\":{\"field\":\"y\"}},\"id\":\"1054\",\"type\":\"X\"},{\"attributes\":{\"formatter\":{\"id\":\"1114\"},\"ticker\":{\"id\":\"1017\"}},\"id\":\"1016\",\"type\":\"LinearAxis\"},{\"attributes\":{\"data\":{\"x\":[1579910400000.0,1579996800000.0,1580083200000.0,1580169600000.0,1580256000000.0,1580342400000.0,1580428800000.0,1580515200000.0,1580601600000.0,1580688000000.0,1580774400000.0,1580860800000.0,1580947200000.0,1581033600000.0,1581120000000.0,1581206400000.0,1581292800000.0,1581379200000.0,1581465600000.0,1581552000000.0,1581638400000.0,1581724800000.0,1581811200000.0,1581897600000.0,1581984000000.0,1582070400000.0,1582156800000.0,1582243200000.0,1582329600000.0,1582416000000.0,1582502400000.0,1582588800000.0,1582675200000.0,1582761600000.0,1582848000000.0,1582934400000.0,1583020800000.0,1583107200000.0,1583193600000.0,1583280000000.0,1583366400000.0,1583452800000.0,1583539200000.0,1583625600000.0,1583712000000.0,1583798400000.0,1583884800000.0,1583971200000.0,1584057600000.0,1584144000000.0,1584230400000.0,1584316800000.0,1584403200000.0,1584489600000.0,1584576000000.0,1584662400000.0,1584748800000.0,1584835200000.0,1584921600000.0,1585008000000.0,1585094400000.0,1585180800000.0,1585267200000.0,1585353600000.0,1585440000000.0,1585526400000.0,1585612800000.0,1585699200000.0,1585785600000.0,1585872000000.0,1585958400000.0,1586044800000.0,1586131200000.0,1586217600000.0,1586304000000.0,1586390400000.0,1586476800000.0,1586563200000.0,1586649600000.0,1586736000000.0,1586822400000.0,1586908800000.0,1586995200000.0,1587081600000.0,1587168000000.0,1587254400000.0,1587340800000.0,1587427200000.0,1587513600000.0,1587600000000.0,1587686400000.0,1587772800000.0,1587859200000.0,1587945600000.0,1588032000000.0,1588118400000.0,1588204800000.0,1588291200000.0,1588377600000.0,1588464000000.0,1588550400000.0,1588636800000.0,1588723200000.0,1588809600000.0,1588896000000.0,1588982400000.0,1589068800000.0,1589155200000.0],\"y\":{\"__ndarray__\":\"AAAAAAAAAAAAAAAAAAAAAAAAAAAAAAAAAAAAAAAAAAAAAAAAAAAAAAAAAAAAAAAAAAAAAAAAAAAAAAAAAAAAAAAAAAAAAAAAAAAAAAAAAAAAAAAAAAAAAAWR3j6YXJA/5nzD7mXkoT+mxG5jaqytP8FLH4w2G7Y/2pq6Tuwxvz9hii8Vh1XFPwWE/ghooMw/uP002sf40j/Yx3e13PHYP+SnlRinT+A/HL6G2AdB5T9MP35DWqDrPwGVaamd7PE/hTEexl079z/0MlxvShb+P6w1k3vEeANAvG3gH5wxCUDT2dFiWEsQQEaeNza0EhVAX0SIYus/G0CYL11a3Z0hQPFIGQa/xiZAQnsEORByLUA+YsVTaQgzQFXgaZOCmjhA4h5K153NP0CVa2/Qvo1EQNZgzHKokEpAM9Rb33oqUUDEWA2/uC5WQJufk91VqVxAqW1s5muDYkAl4Z0+aOlnQHgPw0E94G5Ay/lIkmLtc0DXDrdv6bV5QFD2ZKiek4BAECl64QVchUBz8/RrCX+LQGEb8pXQqpFAisQfOGqelkAUdzaSuM2cQBMz8ZFlOKJAKgQuZlzhpkDS63sykX+sQHyJjqCxl7FAk1B2K8yEtUAEqC20bRC6QNhXEBOKP79AnecdH7iIwkDV7eNIYr/FQLNKV/tyPMlAHW4rSPH0zEDiz5SpQ23QQLUteCEObtJAfpcG8VZz1EBdHLjLKHPWQAn4BO6fY9hAaDSZG2c72kAeCTe8IPLbQHiJrAW1gN1A51KEjYLh3kCM2R8tOQjgQAR9Iad5heBAU1YLFvHn4ECwThH7sS/hQIRDEghcXeFAmAIMWgNy4UCgkDevF2/hQCruLuJMVuFAR0NXiYUp4UCiqoUswOrgQN0/KEgHnOBAPFa1GWQ/4EBjs3oXqK3fQDYBXg6ByN5Aa29uw/HS3UBFX+c6XNDcQGpMcGHgw9tAOnUzIFmw2kCQdxN4W5jZQDgMVEA3fthADPy0FPlj10DYlMQzbUvWQHKlDQAjNtVAMQ3c8XAl1EBlK+THeBrTQCxvwtUrFtJAOxLYUk8Z0UAZKG2UgCTQQAKXP0VycM5A1KAUO6WpzEAOWfDRFPXKQA0K7TUKU8lAKlNaVqPDx0CfscS/2EbGQKN/jfiC3MRA\",\"dtype\":\"float64\",\"order\":\"little\",\"shape\":[108]}},\"selected\":{\"id\":\"1135\"},\"selection_policy\":{\"id\":\"1134\"}},\"id\":\"1046\",\"type\":\"ColumnDataSource\"},{\"attributes\":{\"data\":{\"x\":[1579910400000.0,1579996800000.0,1580083200000.0,1580169600000.0,1580256000000.0,1580342400000.0,1580428800000.0,1580515200000.0,1580601600000.0,1580688000000.0,1580774400000.0,1580860800000.0,1580947200000.0,1581033600000.0,1581120000000.0,1581206400000.0,1581292800000.0,1581379200000.0,1581465600000.0,1581552000000.0,1581638400000.0,1581724800000.0,1581811200000.0,1581897600000.0,1581984000000.0,1582070400000.0,1582156800000.0,1582243200000.0,1582329600000.0,1582416000000.0,1582502400000.0,1582588800000.0,1582675200000.0,1582761600000.0,1582848000000.0,1582934400000.0,1583020800000.0,1583107200000.0,1583193600000.0,1583280000000.0,1583366400000.0,1583452800000.0,1583539200000.0,1583625600000.0,1583712000000.0,1583798400000.0,1583884800000.0,1583971200000.0,1584057600000.0,1584144000000.0,1584230400000.0,1584316800000.0,1584403200000.0,1584489600000.0,1584576000000.0,1584662400000.0,1584748800000.0,1584835200000.0,1584921600000.0,1585008000000.0,1585094400000.0,1585180800000.0,1585267200000.0,1585353600000.0,1585440000000.0,1585526400000.0,1585612800000.0,1585699200000.0,1585785600000.0,1585872000000.0,1585958400000.0,1586044800000.0,1586131200000.0,1586217600000.0,1586304000000.0,1586390400000.0,1586476800000.0,1586563200000.0,1586649600000.0,1586736000000.0,1586822400000.0,1586908800000.0,1586995200000.0,1587081600000.0,1587168000000.0,1587254400000.0,1587340800000.0,1587427200000.0,1587513600000.0,1587600000000.0,1587686400000.0,1587772800000.0,1587859200000.0,1587945600000.0,1588032000000.0,1588118400000.0,1588204800000.0,1588291200000.0,1588377600000.0,1588464000000.0,1588550400000.0,1588636800000.0,1588723200000.0,1588809600000.0,1588896000000.0,1588982400000.0,1589068800000.0,1589155200000.0],\"y\":{\"__ndarray__\":\"AAAAAAAAAAAAAAAAAAAAAAAAAAAAAAAAAAAAAAAAAAAAAAAAAAAAAAAAAAAAAAAAAAAAAAAAAAAAAAAAAAAAAAAAAAAAAAAAAAAAAAAAAAAAAAAAAAAAAGZa1nhRPxVA9sSpT5dbKEC1ATcvdw41QM30NaFEREBA8FsglGmvR0DFXpsATKNQQEHghfVN1lZAejC1hvXZXkDHf51DJptkQBgSEFuYTWtAhDUbIv/6cUAul694ppN3QDgyUW+/z35A2YIK9QoVhECxFjEEtCCKQHZkI8u6+JBAF7jaMvkFlkBEWPJAz42cQCaooYOGf6JAfd9CTnf0p0DpWG8ySwKvQNllJ8pSELRARDPg3hH1uUASUhxfpMnAQNtq+ywFtsVAnG3+hAoTzEAOKGNIMSbSQN0rOJOLdtdATKJrkU9U3kCeuN0MoZnjQEUn4lpUVOlAc6j8dDVd8EBHZFgS1SP1QHk6v2WWTftAuWaZm0igAUGSswB7wb8GQVh2Hw+xWA1BWc5VMqnqEkFee5MUGl4YQbjMxDNSWB9BcBYTM94ZJEGUVRayv6spQejz5Lv5TTBBTAT98DqVNEE7se4E2c05QUKSd7iUDUBBQxdm0xDQQ0HhOKmKuz5IQeAs4p68Z01BnQZxpPSqUUFYg94U2wdVQbrNtjsuy1hBken51KjyXEE8M+z0ibxgQSUCJKE3K2NB3tSh+ibAZUGNLZDXLXVoQRtVtlB9Q2tBb6ORU/QjbkHf7FD1todwQWXDmaKC/3FB27ex8CV2c0G16OVAuOh0QZEMg7mrVHZB1rWS8tK3d0Hk0KxUYRB5QcFJ6X/nXHpBR6Mk6Eyce0ENfOq3x818QY+0odHT8H1B5h4NkykFf0H5VHRpWgWAQRQPdTHGgIBBtz1TJPX0gEHOWLthEmKBQUFcZxNUyIFBj8dXwvgngkGpWxcORYGCQXUpwr6B1IJBD1RKJ/ohg0GGxqfP+mmDQa9mRV/QrINB888Xvcbqg0FKI05eKCSEQfdciLw9WYRBY9v77UyKhEEHNRVZmbeEQd5Tm39j4YRBugC43OgHhUEHhbbSYyuFQVECZqULTIVB5kZxfhRqhUGjYeV5r4WFQVHgxbgKn4VBc0BVeFG2hUHEPO4srMuFQS7lOJ9A34VB\",\"dtype\":\"float64\",\"order\":\"little\",\"shape\":[108]}},\"selected\":{\"id\":\"1137\"},\"selection_policy\":{\"id\":\"1136\"}},\"id\":\"1052\",\"type\":\"ColumnDataSource\"},{\"attributes\":{\"fill_alpha\":{\"value\":0.01},\"fill_color\":{\"value\":\"purple\"},\"line_alpha\":{\"value\":0.01},\"line_color\":{\"value\":\"purple\"},\"x\":{\"field\":\"x\"},\"y\":{\"field\":\"y\"}},\"id\":\"1043\",\"type\":\"X\"},{\"attributes\":{\"fill_alpha\":{\"value\":0.9},\"fill_color\":{\"value\":\"olive\"},\"line_alpha\":{\"value\":0.9},\"line_color\":{\"value\":\"olive\"},\"x\":{\"field\":\"x\"},\"y\":{\"field\":\"y\"}},\"id\":\"1053\",\"type\":\"X\"},{\"attributes\":{},\"id\":\"1144\",\"type\":\"UnionRenderers\"},{\"attributes\":{\"active_drag\":\"auto\",\"active_inspect\":\"auto\",\"active_multi\":null,\"active_scroll\":\"auto\",\"active_tap\":\"auto\",\"tools\":[{\"id\":\"1020\"},{\"id\":\"1021\"},{\"id\":\"1022\"},{\"id\":\"1023\"},{\"id\":\"1024\"},{\"id\":\"1025\"}]},\"id\":\"1027\",\"type\":\"Toolbar\"},{\"attributes\":{},\"id\":\"1145\",\"type\":\"Selection\"},{\"attributes\":{\"overlay\":{\"id\":\"1026\"}},\"id\":\"1022\",\"type\":\"BoxZoomTool\"},{\"attributes\":{},\"id\":\"1024\",\"type\":\"ResetTool\"},{\"attributes\":{\"fill_alpha\":{\"value\":0.9},\"fill_color\":{\"value\":\"orange\"},\"line_alpha\":{\"value\":0.9},\"line_color\":{\"value\":\"orange\"},\"x\":{\"field\":\"x\"},\"y\":{\"field\":\"y\"}},\"id\":\"1047\",\"type\":\"X\"},{\"attributes\":{\"text\":\"Solution\"},\"id\":\"1002\",\"type\":\"Title\"},{\"attributes\":{},\"id\":\"1023\",\"type\":\"SaveTool\"},{\"attributes\":{\"fill_alpha\":{\"value\":0.01},\"fill_color\":{\"value\":\"orange\"},\"line_alpha\":{\"value\":0.01},\"line_color\":{\"value\":\"orange\"},\"x\":{\"field\":\"x\"},\"y\":{\"field\":\"y\"}},\"id\":\"1049\",\"type\":\"X\"},{\"attributes\":{},\"id\":\"1146\",\"type\":\"UnionRenderers\"},{\"attributes\":{},\"id\":\"1147\",\"type\":\"Selection\"}],\"root_ids\":[\"1001\"]},\"title\":\"Bokeh Application\",\"version\":\"2.2.3\"}};\n",
       "  var render_items = [{\"docid\":\"f07bcef7-c647-43b5-994b-e737c88031c4\",\"notebook_comms_target\":\"1152\",\"root_ids\":[\"1001\"],\"roots\":{\"1001\":\"198334a3-f424-43bb-a164-a28fac31a2a6\"}}];\n",
       "  root.Bokeh.embed.embed_items_notebook(docs_json, render_items);\n",
       "\n",
       "  }\n",
       "  if (root.Bokeh !== undefined) {\n",
       "    embed_document(root);\n",
       "  } else {\n",
       "    var attempts = 0;\n",
       "    var timer = setInterval(function(root) {\n",
       "      if (root.Bokeh !== undefined) {\n",
       "        clearInterval(timer);\n",
       "        embed_document(root);\n",
       "      } else {\n",
       "        attempts++;\n",
       "        if (attempts > 100) {\n",
       "          clearInterval(timer);\n",
       "          console.log(\"Bokeh: ERROR: Unable to run BokehJS code because BokehJS library is missing\");\n",
       "        }\n",
       "      }\n",
       "    }, 10, root)\n",
       "  }\n",
       "})(window);"
      ],
      "application/vnd.bokehjs_exec.v0+json": ""
     },
     "metadata": {
      "application/vnd.bokehjs_exec.v0+json": {
       "id": "1001"
      }
     },
     "output_type": "display_data"
    }
   ],
   "source": [
    "plot_solution(seed = seed, do_manually = False)"
   ]
  },
  {
   "cell_type": "markdown",
   "metadata": {},
   "source": [
    "# Q2) \n",
    "Pour cette deuxième question, on fait appel à [draw_input_params](utils.py) avec à chaque fois ```seed = None```.\n",
    "\n",
    "La fonction ci-dessous *Monte_Carlo_Umax* permet de réaliser le tirage de $N$ échantillons et d'obtenir les valeurs de $U_{max}$ et $T(U_{max})$ résultants via [get_max_load_intensive_care](utils.py). "
   ]
  },
  {
   "cell_type": "code",
   "execution_count": 6,
   "metadata": {},
   "outputs": [],
   "source": [
    "\n",
    "def Monte_Carlo_Umax(N = 100):\n",
    "    list_U = []\n",
    "    list_times = []\n",
    "    \n",
    "    for k in range(N): \n",
    "        x = draw_input_params()    \n",
    "        sol = f(x, tend = datetime(year = 2020, month = 9, day = 1))\n",
    "        \n",
    "        max_time, max_U = get_max_load_intensive_care(sol)\n",
    "        \n",
    "        list_U.append(max_U)\n",
    "        list_times.append(max_time)\n",
    "    \n",
    "    return np.array(list_U), np.array(list_times)"
   ]
  },
  {
   "cell_type": "code",
   "execution_count": 7,
   "metadata": {},
   "outputs": [],
   "source": [
    "N=500 # number of draws\n",
    "list_U, list_times = Monte_Carlo_Umax(N=N)"
   ]
  },
  {
   "cell_type": "code",
   "execution_count": 8,
   "metadata": {},
   "outputs": [
    {
     "data": {
      "image/png": "[encoded data removed]",
      "text/plain": [
       "<Figure size 1080x720 with 1 Axes>"
      ]
     },
     "metadata": {
      "needs_background": "light"
     },
     "output_type": "display_data"
    },
    {
     "data": {
      "image/png": "[encoded data removed]",
      "text/plain": [
       "<Figure size 1080x720 with 1 Axes>"
      ]
     },
     "metadata": {
      "needs_background": "light"
     },
     "output_type": "display_data"
    }
   ],
   "source": [
    "from scipy.stats import chi2, norm, poisson, expon\n",
    "bins = 30\n",
    "\n",
    "# Defintion of a given number of law if we want to try to find one that suits the data\n",
    "gaussian_pdf = lambda x, mean, std : norm.pdf(x=x, loc = mean, scale = std)\n",
    "exponential_pdf = lambda x, mean, std : expon.pdf(x=x, loc=0, scale=mean) # scale = 1/lambda = Esp(U)\n",
    "chi2_k1_pdf = lambda x, mean, std : chi2.pdf(x=x, df=1, loc=0, scale=mean) # df : degrees of freedom \n",
    "poisson_pmf = lambda x, mean, std : poisson.pmf(x, mu = mean, loc=0)\n",
    "\n",
    "plot_hist(list_U, bins = bins, name = 'Umax', law = exponential_pdf, name_law = 'exponential', savefig = 'law_Umax')\n",
    "plot_hist(list_times, bins = bins, name = 'T(Umax)', law = gaussian_pdf, name_law = 'gaussian', savefig = 'law_T(Umax)')"
   ]
  },
  {
   "cell_type": "markdown",
   "metadata": {},
   "source": [
    "## Q3) Méthode de Morris \n",
    "\n",
    "### Première méthode\n",
    "\n",
    "Dans un premier temps nous avons essayé de coder nous-même la méthode de Morris et de Sobol le plus simplement possible : différences finies pour calculer le gradient par exemple.\n",
    "\n",
    "Nous avons choisi de vous présenter d'abord ces résultats. Vous pouvez vous référez à [sensitivy_analysis_by_hands](sensitivy_analysis_by_hands.py) pour les fonctions réalisées que nous utilisons ici."
   ]
  },
  {
   "cell_type": "code",
   "execution_count": 9,
   "metadata": {},
   "outputs": [],
   "source": [
    "from sensitivy_analysis_by_hands import  Morris"
   ]
  },
  {
   "cell_type": "code",
   "execution_count": 10,
   "metadata": {},
   "outputs": [],
   "source": [
    "fn = lambda sol : get_max_load_intensive_care(sol)\n",
    "mu_arr, sigma_arr = Morris(fn = fn, h = 2, R = 20, delta = 1e-6, method = 'lhs')"
   ]
  },
  {
   "cell_type": "code",
   "execution_count": 11,
   "metadata": {},
   "outputs": [
    {
     "name": "stdout",
     "output_type": "stream",
     "text": [
      "----------------------------------------------- Umax -----------------------------------------------\n"
     ]
    },
    {
     "data": {
      "text/html": [
       "\n",
       "\n",
       "\n",
       "\n",
       "\n",
       "\n",
       "  <div class=\"bk-root\" id=\"53cba305-fbea-414e-b96b-62be003890d3\" data-root-id=\"1354\"></div>\n"
      ]
     },
     "metadata": {},
     "output_type": "display_data"
    },
    {
     "data": {
      "application/javascript": [
       "(function(root) {\n",
       "  function embed_document(root) {\n",
       "    \n",
       "  var docs_json = {\"2f958585-4f2f-4e4d-8473-317b9171f1bc\":{\"roots\":{\"references\":[{\"attributes\":{\"below\":[{\"id\":\"1365\"}],\"center\":[{\"id\":\"1368\"},{\"id\":\"1372\"},{\"id\":\"1392\"}],\"left\":[{\"id\":\"1369\"}],\"plot_height\":450,\"plot_width\":900,\"renderers\":[{\"id\":\"1390\"}],\"title\":{\"id\":\"1355\"},\"toolbar\":{\"id\":\"1380\"},\"x_range\":{\"id\":\"1357\"},\"x_scale\":{\"id\":\"1361\"},\"y_range\":{\"id\":\"1359\"},\"y_scale\":{\"id\":\"1363\"}},\"id\":\"1354\",\"subtype\":\"Figure\",\"type\":\"Plot\"},{\"attributes\":{\"text\":\"Morris - sensibility analysis\"},\"id\":\"1355\",\"type\":\"Title\"},{\"attributes\":{},\"id\":\"1366\",\"type\":\"BasicTicker\"},{\"attributes\":{\"data\":{\"colors\":[\"#000003\",\"#0C0926\",\"#221150\",\"#400F73\",\"#5D177E\",\"#7A2281\",\"#972C7F\",\"#B53679\",\"#D1426E\",\"#EA5560\",\"#F8755C\",\"#FD9768\",\"#FEB97F\",\"#FDDA9C\",\"#FBFCBF\"],\"mu\":{\"__ndarray__\":\"w06syzYmWUIAAKBd6y9UQgAA9HE7goNCVVWFklL2UEL+/694mdJQQqqqWpWe1UBCAACAci9u8EEAAADO0EHgQaqqqkiGi+VB/b7vG1a8D0LlOP6XyEBsQqrza6+x9exBvffe1/Ls5EGaB7n72p7OQaMLKM+TD9JC\",\"dtype\":\"float64\",\"order\":\"little\",\"shape\":[15]},\"names\":[\"pa\",\"pIH\",\"pIU\",\"pHD\",\"pHU\",\"pUD\",\"NI\",\"NH\",\"NU\",\"R0\",\"mu\",\"N\",\"t0\",\"Im0\",\"lambda1\"],\"sigma\":{\"__ndarray__\":\"Sz7sgh0MQEJgsvsnj9xkQvee+vGyE4pC+Wn8S3diYUL5afxLd2JhQvpp/Et3YlFCfg0tIW6wAELpxaOccLDwQSKcLrOYQPZB1VQl4LF9GkLH1gBXbvl8QpaUr3UHFuBBQTyx1tWI9UGwoiXDO3DaQYpclnRDheJC\",\"dtype\":\"float64\",\"order\":\"little\",\"shape\":[15]}},\"selected\":{\"id\":\"1441\"},\"selection_policy\":{\"id\":\"1440\"}},\"id\":\"1353\",\"type\":\"ColumnDataSource\"},{\"attributes\":{\"axis_label\":\"Standard deviation\",\"formatter\":{\"id\":\"1436\"},\"ticker\":{\"id\":\"1370\"}},\"id\":\"1369\",\"type\":\"LinearAxis\"},{\"attributes\":{\"bottom_units\":\"screen\",\"fill_alpha\":0.5,\"fill_color\":\"lightgrey\",\"left_units\":\"screen\",\"level\":\"overlay\",\"line_alpha\":1.0,\"line_color\":\"black\",\"line_dash\":[4,4],\"line_width\":2,\"right_units\":\"screen\",\"top_units\":\"screen\"},\"id\":\"1379\",\"type\":\"BoxAnnotation\"},{\"attributes\":{},\"id\":\"1359\",\"type\":\"DataRange1d\"},{\"attributes\":{},\"id\":\"1378\",\"type\":\"HelpTool\"},{\"attributes\":{},\"id\":\"1357\",\"type\":\"DataRange1d\"},{\"attributes\":{},\"id\":\"1363\",\"type\":\"LinearScale\"},{\"attributes\":{\"axis_label\":\"Mean\",\"formatter\":{\"id\":\"1438\"},\"ticker\":{\"id\":\"1366\"}},\"id\":\"1365\",\"type\":\"LinearAxis\"},{\"attributes\":{},\"id\":\"1361\",\"type\":\"LinearScale\"},{\"attributes\":{\"axis\":{\"id\":\"1365\"},\"ticker\":null},\"id\":\"1368\",\"type\":\"Grid\"},{\"attributes\":{\"axis\":{\"id\":\"1369\"},\"dimension\":1,\"ticker\":null},\"id\":\"1372\",\"type\":\"Grid\"},{\"attributes\":{},\"id\":\"1370\",\"type\":\"BasicTicker\"},{\"attributes\":{},\"id\":\"1436\",\"type\":\"BasicTickFormatter\"},{\"attributes\":{\"active_drag\":\"auto\",\"active_inspect\":\"auto\",\"active_multi\":null,\"active_scroll\":\"auto\",\"active_tap\":\"auto\",\"tools\":[{\"id\":\"1373\"},{\"id\":\"1374\"},{\"id\":\"1375\"},{\"id\":\"1376\"},{\"id\":\"1377\"},{\"id\":\"1378\"}]},\"id\":\"1380\",\"type\":\"Toolbar\"},{\"attributes\":{},\"id\":\"1374\",\"type\":\"WheelZoomTool\"},{\"attributes\":{\"source\":{\"id\":\"1353\"},\"text\":{\"field\":\"names\"},\"x\":{\"field\":\"mu\"},\"x_offset\":{\"value\":2},\"y\":{\"field\":\"sigma\"},\"y_offset\":{\"value\":2}},\"id\":\"1392\",\"type\":\"LabelSet\"},{\"attributes\":{\"fill_color\":{\"field\":\"colors\"},\"line_color\":{\"field\":\"colors\"},\"size\":{\"units\":\"screen\",\"value\":5},\"x\":{\"field\":\"mu\"},\"y\":{\"field\":\"sigma\"}},\"id\":\"1388\",\"type\":\"Scatter\"},{\"attributes\":{},\"id\":\"1373\",\"type\":\"PanTool\"},{\"attributes\":{\"overlay\":{\"id\":\"1379\"}},\"id\":\"1375\",\"type\":\"BoxZoomTool\"},{\"attributes\":{},\"id\":\"1438\",\"type\":\"BasicTickFormatter\"},{\"attributes\":{\"source\":{\"id\":\"1353\"}},\"id\":\"1391\",\"type\":\"CDSView\"},{\"attributes\":{},\"id\":\"1376\",\"type\":\"SaveTool\"},{\"attributes\":{\"fill_alpha\":{\"value\":0.1},\"fill_color\":{\"field\":\"colors\"},\"line_alpha\":{\"value\":0.1},\"line_color\":{\"field\":\"colors\"},\"size\":{\"units\":\"screen\",\"value\":5},\"x\":{\"field\":\"mu\"},\"y\":{\"field\":\"sigma\"}},\"id\":\"1389\",\"type\":\"Scatter\"},{\"attributes\":{},\"id\":\"1377\",\"type\":\"ResetTool\"},{\"attributes\":{},\"id\":\"1440\",\"type\":\"UnionRenderers\"},{\"attributes\":{},\"id\":\"1441\",\"type\":\"Selection\"},{\"attributes\":{\"data_source\":{\"id\":\"1353\"},\"glyph\":{\"id\":\"1388\"},\"hover_glyph\":null,\"muted_glyph\":null,\"nonselection_glyph\":{\"id\":\"1389\"},\"selection_glyph\":null,\"view\":{\"id\":\"1391\"}},\"id\":\"1390\",\"type\":\"GlyphRenderer\"}],\"root_ids\":[\"1354\"]},\"title\":\"Bokeh Application\",\"version\":\"2.2.3\"}};\n",
       "  var render_items = [{\"docid\":\"2f958585-4f2f-4e4d-8473-317b9171f1bc\",\"root_ids\":[\"1354\"],\"roots\":{\"1354\":\"53cba305-fbea-414e-b96b-62be003890d3\"}}];\n",
       "  root.Bokeh.embed.embed_items_notebook(docs_json, render_items);\n",
       "\n",
       "  }\n",
       "  if (root.Bokeh !== undefined) {\n",
       "    embed_document(root);\n",
       "  } else {\n",
       "    var attempts = 0;\n",
       "    var timer = setInterval(function(root) {\n",
       "      if (root.Bokeh !== undefined) {\n",
       "        clearInterval(timer);\n",
       "        embed_document(root);\n",
       "      } else {\n",
       "        attempts++;\n",
       "        if (attempts > 100) {\n",
       "          clearInterval(timer);\n",
       "          console.log(\"Bokeh: ERROR: Unable to run BokehJS code because BokehJS library is missing\");\n",
       "        }\n",
       "      }\n",
       "    }, 10, root)\n",
       "  }\n",
       "})(window);"
      ],
      "application/vnd.bokehjs_exec.v0+json": ""
     },
     "metadata": {
      "application/vnd.bokehjs_exec.v0+json": {
       "id": "1354"
      }
     },
     "output_type": "display_data"
    }
   ],
   "source": [
    "print('{:-^100}'.format(' Umax '))\n",
    "plot_morris(mu_arr[1], sigma_arr[1], names = 'default')"
   ]
  },
  {
   "cell_type": "code",
   "execution_count": 12,
   "metadata": {},
   "outputs": [
    {
     "name": "stdout",
     "output_type": "stream",
     "text": [
      "--------------------------------------------- T(Umax) ----------------------------------------------\n"
     ]
    },
    {
     "data": {
      "text/html": [
       "\n",
       "\n",
       "\n",
       "\n",
       "\n",
       "\n",
       "  <div class=\"bk-root\" id=\"e243e463-d9bc-45c2-8d74-bac0913f64cc\" data-root-id=\"1483\"></div>\n"
      ]
     },
     "metadata": {},
     "output_type": "display_data"
    },
    {
     "data": {
      "application/javascript": [
       "(function(root) {\n",
       "  function embed_document(root) {\n",
       "    \n",
       "  var docs_json = {\"3ab86df3-4b6f-4f4b-969b-99072f6b2630\":{\"roots\":{\"references\":[{\"attributes\":{\"below\":[{\"id\":\"1494\"}],\"center\":[{\"id\":\"1497\"},{\"id\":\"1501\"},{\"id\":\"1521\"}],\"left\":[{\"id\":\"1498\"}],\"plot_height\":450,\"plot_width\":900,\"renderers\":[{\"id\":\"1519\"}],\"title\":{\"id\":\"1484\"},\"toolbar\":{\"id\":\"1509\"},\"x_range\":{\"id\":\"1486\"},\"x_scale\":{\"id\":\"1490\"},\"y_range\":{\"id\":\"1488\"},\"y_scale\":{\"id\":\"1492\"}},\"id\":\"1483\",\"subtype\":\"Figure\",\"type\":\"Plot\"},{\"attributes\":{\"bottom_units\":\"screen\",\"fill_alpha\":0.5,\"fill_color\":\"lightgrey\",\"left_units\":\"screen\",\"level\":\"overlay\",\"line_alpha\":1.0,\"line_color\":\"black\",\"line_dash\":[4,4],\"line_width\":2,\"right_units\":\"screen\",\"top_units\":\"screen\"},\"id\":\"1508\",\"type\":\"BoxAnnotation\"},{\"attributes\":{},\"id\":\"1575\",\"type\":\"BasicTickFormatter\"},{\"attributes\":{\"fill_color\":{\"field\":\"colors\"},\"line_color\":{\"field\":\"colors\"},\"size\":{\"units\":\"screen\",\"value\":5},\"x\":{\"field\":\"mu\"},\"y\":{\"field\":\"sigma\"}},\"id\":\"1517\",\"type\":\"Scatter\"},{\"attributes\":{},\"id\":\"1488\",\"type\":\"DataRange1d\"},{\"attributes\":{},\"id\":\"1507\",\"type\":\"HelpTool\"},{\"attributes\":{\"text\":\"Morris - sensibility analysis\"},\"id\":\"1484\",\"type\":\"Title\"},{\"attributes\":{},\"id\":\"1486\",\"type\":\"DataRange1d\"},{\"attributes\":{},\"id\":\"1577\",\"type\":\"UnionRenderers\"},{\"attributes\":{\"axis_label\":\"Mean\",\"formatter\":{\"id\":\"1575\"},\"ticker\":{\"id\":\"1495\"}},\"id\":\"1494\",\"type\":\"LinearAxis\"},{\"attributes\":{},\"id\":\"1578\",\"type\":\"Selection\"},{\"attributes\":{},\"id\":\"1495\",\"type\":\"BasicTicker\"},{\"attributes\":{},\"id\":\"1492\",\"type\":\"LinearScale\"},{\"attributes\":{\"axis_label\":\"Standard deviation\",\"formatter\":{\"id\":\"1573\"},\"ticker\":{\"id\":\"1499\"}},\"id\":\"1498\",\"type\":\"LinearAxis\"},{\"attributes\":{},\"id\":\"1490\",\"type\":\"LinearScale\"},{\"attributes\":{\"axis\":{\"id\":\"1494\"},\"ticker\":null},\"id\":\"1497\",\"type\":\"Grid\"},{\"attributes\":{\"axis\":{\"id\":\"1498\"},\"dimension\":1,\"ticker\":null},\"id\":\"1501\",\"type\":\"Grid\"},{\"attributes\":{},\"id\":\"1499\",\"type\":\"BasicTicker\"},{\"attributes\":{\"active_drag\":\"auto\",\"active_inspect\":\"auto\",\"active_multi\":null,\"active_scroll\":\"auto\",\"active_tap\":\"auto\",\"tools\":[{\"id\":\"1502\"},{\"id\":\"1503\"},{\"id\":\"1504\"},{\"id\":\"1505\"},{\"id\":\"1506\"},{\"id\":\"1507\"}]},\"id\":\"1509\",\"type\":\"Toolbar\"},{\"attributes\":{\"source\":{\"id\":\"1482\"},\"text\":{\"field\":\"names\"},\"x\":{\"field\":\"mu\"},\"x_offset\":{\"value\":2},\"y\":{\"field\":\"sigma\"},\"y_offset\":{\"value\":2}},\"id\":\"1521\",\"type\":\"LabelSet\"},{\"attributes\":{},\"id\":\"1503\",\"type\":\"WheelZoomTool\"},{\"attributes\":{},\"id\":\"1502\",\"type\":\"PanTool\"},{\"attributes\":{\"overlay\":{\"id\":\"1508\"}},\"id\":\"1504\",\"type\":\"BoxZoomTool\"},{\"attributes\":{},\"id\":\"1505\",\"type\":\"SaveTool\"},{\"attributes\":{},\"id\":\"1506\",\"type\":\"ResetTool\"},{\"attributes\":{\"source\":{\"id\":\"1482\"}},\"id\":\"1520\",\"type\":\"CDSView\"},{\"attributes\":{\"data_source\":{\"id\":\"1482\"},\"glyph\":{\"id\":\"1517\"},\"hover_glyph\":null,\"muted_glyph\":null,\"nonselection_glyph\":{\"id\":\"1518\"},\"selection_glyph\":null,\"view\":{\"id\":\"1520\"}},\"id\":\"1519\",\"type\":\"GlyphRenderer\"},{\"attributes\":{\"data\":{\"colors\":[\"#000003\",\"#0C0926\",\"#221150\",\"#400F73\",\"#5D177E\",\"#7A2281\",\"#972C7F\",\"#B53679\",\"#D1426E\",\"#EA5560\",\"#F8755C\",\"#FD9768\",\"#FEB97F\",\"#FDDA9C\",\"#FBFCBF\"],\"mu\":{\"__ndarray__\":\"/v///zecbEEAAAAAAi6bQQAAAEB1wcVBraqqqgN8nUEAAACAAwyhQVZVVVXPW35BAAAAADDBLUEAAAAAiJsjQVZVVVU1CiRBYNd1XXd1TEFWVVXV2Xa0QQMlvNFU9RlBnHPOOSePJUGCSafmwewZQRdddHmyihJC\",\"dtype\":\"float64\",\"order\":\"little\",\"shape\":[15]},\"names\":[\"pa\",\"pIH\",\"pIU\",\"pHD\",\"pHU\",\"pUD\",\"NI\",\"NH\",\"NU\",\"R0\",\"mu\",\"N\",\"t0\",\"Im0\",\"lambda1\"],\"sigma\":{\"__ndarray__\":\"5n2WSz4ocUHe1naV6k2WQZaM1Dpl4btBDrONfEOWkkEOs418Q5aSQQ6zjXxDloJB5qv43e7XMUHmq/jd7tchQTLloNKTyidBwYq/+q9STEHEf0F6cPquQVV0MLrTMhFBSM3+cBsGJ0EfJyxiVEQMQTeYgkIszRNC\",\"dtype\":\"float64\",\"order\":\"little\",\"shape\":[15]}},\"selected\":{\"id\":\"1578\"},\"selection_policy\":{\"id\":\"1577\"}},\"id\":\"1482\",\"type\":\"ColumnDataSource\"},{\"attributes\":{},\"id\":\"1573\",\"type\":\"BasicTickFormatter\"},{\"attributes\":{\"fill_alpha\":{\"value\":0.1},\"fill_color\":{\"field\":\"colors\"},\"line_alpha\":{\"value\":0.1},\"line_color\":{\"field\":\"colors\"},\"size\":{\"units\":\"screen\",\"value\":5},\"x\":{\"field\":\"mu\"},\"y\":{\"field\":\"sigma\"}},\"id\":\"1518\",\"type\":\"Scatter\"}],\"root_ids\":[\"1483\"]},\"title\":\"Bokeh Application\",\"version\":\"2.2.3\"}};\n",
       "  var render_items = [{\"docid\":\"3ab86df3-4b6f-4f4b-969b-99072f6b2630\",\"root_ids\":[\"1483\"],\"roots\":{\"1483\":\"e243e463-d9bc-45c2-8d74-bac0913f64cc\"}}];\n",
       "  root.Bokeh.embed.embed_items_notebook(docs_json, render_items);\n",
       "\n",
       "  }\n",
       "  if (root.Bokeh !== undefined) {\n",
       "    embed_document(root);\n",
       "  } else {\n",
       "    var attempts = 0;\n",
       "    var timer = setInterval(function(root) {\n",
       "      if (root.Bokeh !== undefined) {\n",
       "        clearInterval(timer);\n",
       "        embed_document(root);\n",
       "      } else {\n",
       "        attempts++;\n",
       "        if (attempts > 100) {\n",
       "          clearInterval(timer);\n",
       "          console.log(\"Bokeh: ERROR: Unable to run BokehJS code because BokehJS library is missing\");\n",
       "        }\n",
       "      }\n",
       "    }, 10, root)\n",
       "  }\n",
       "})(window);"
      ],
      "application/vnd.bokehjs_exec.v0+json": ""
     },
     "metadata": {
      "application/vnd.bokehjs_exec.v0+json": {
       "id": "1483"
      }
     },
     "output_type": "display_data"
    }
   ],
   "source": [
    "print('{:-^100}'.format(' T(Umax) '))\n",
    "plot_morris(mu_arr[0], sigma_arr[0], names = 'default')"
   ]
  },
  {
   "cell_type": "markdown",
   "metadata": {},
   "source": [
    "En pratique, en affichant les différences finies, il apparait que certaines explosent. Après plusieurs tentatives vaines de corriger ce problème, nous avons chercher pour des solutions alternatives. Nous pensons que cela est dû à la relative simplicité de notre implémentation."
   ]
  },
  {
   "cell_type": "markdown",
   "metadata": {},
   "source": [
    "#### Analyse de Morris - via *SALib*\n",
    "\n",
    "Au vu des résultats que nous obtenions, principalement, nous avons cherché des solutions alternatives. Nous utisons ici le package *SALib* de *Python*."
   ]
  },
  {
   "cell_type": "code",
   "execution_count": 13,
   "metadata": {},
   "outputs": [],
   "source": [
    "# Morris \n",
    "from SALib.sample import morris as morris_\n",
    "from SALib.analyze import morris\n",
    "from utils import lhs\n",
    "\n",
    "# Define the model inputs\n",
    "names = list(idx_to_keys.values())\n",
    "bounds = list(input_params.values())\n",
    "\n",
    "# Definition of the problem\n",
    "problem = {\n",
    "    'num_vars': 15,\n",
    "    'names': names,\n",
    "    'bounds': bounds\n",
    "}\n",
    "\n",
    "# SALib requires arrays of type float.\n",
    "fn = lambda x : get_max_load_intensive_care(f(x)) # T(Umax)\n",
    "\n",
    "def eval_fn(X):\n",
    "    TU,U = [], []\n",
    "    for x in X:\n",
    "        tu, u = fn(x)\n",
    "        TU.append(tu)\n",
    "        U.append(u)\n",
    "    return np.array(TU, dtype = float), np.array(U, dtype = float)"
   ]
  },
  {
   "cell_type": "code",
   "execution_count": 14,
   "metadata": {},
   "outputs": [],
   "source": [
    "Xm = morris_.sample(problem, 100, num_levels=4) # lhs(1600) \n",
    "YmT, Ym = eval_fn(Xm)"
   ]
  },
  {
   "cell_type": "code",
   "execution_count": 15,
   "metadata": {},
   "outputs": [],
   "source": [
    "# Morris analysis on T(Umax)\n",
    "MT = morris.analyze(problem, Xm.astype(float), YmT.astype(float), conf_level=0.95, \\\n",
    "                    print_to_console=False, num_levels=4)\n"
   ]
  },
  {
   "cell_type": "code",
   "execution_count": 16,
   "metadata": {},
   "outputs": [],
   "source": [
    "# Morris analysis on Umax\n",
    "M = morris.analyze(problem, Xm.astype(float), Ym.astype(float), conf_level=0.95, \\\n",
    "                    print_to_console=False, num_levels=4)"
   ]
  },
  {
   "cell_type": "code",
   "execution_count": 17,
   "metadata": {},
   "outputs": [
    {
     "name": "stdout",
     "output_type": "stream",
     "text": [
      "----------------------------------------------- Umax -----------------------------------------------\n"
     ]
    },
    {
     "data": {
      "text/html": [
       "\n",
       "\n",
       "\n",
       "\n",
       "\n",
       "\n",
       "  <div class=\"bk-root\" id=\"003772c5-683d-48bc-9962-b05482fd3acc\" data-root-id=\"1620\"></div>\n"
      ]
     },
     "metadata": {},
     "output_type": "display_data"
    },
    {
     "data": {
      "application/javascript": [
       "(function(root) {\n",
       "  function embed_document(root) {\n",
       "    \n",
       "  var docs_json = {\"bb83f2f8-a907-4c5e-9b18-b509c8ec0f2d\":{\"roots\":{\"references\":[{\"attributes\":{\"below\":[{\"id\":\"1631\"}],\"center\":[{\"id\":\"1634\"},{\"id\":\"1638\"},{\"id\":\"1658\"}],\"left\":[{\"id\":\"1635\"}],\"plot_height\":450,\"plot_width\":900,\"renderers\":[{\"id\":\"1656\"}],\"title\":{\"id\":\"1621\"},\"toolbar\":{\"id\":\"1646\"},\"x_range\":{\"id\":\"1623\"},\"x_scale\":{\"id\":\"1627\"},\"y_range\":{\"id\":\"1625\"},\"y_scale\":{\"id\":\"1629\"}},\"id\":\"1620\",\"subtype\":\"Figure\",\"type\":\"Plot\"},{\"attributes\":{\"axis\":{\"id\":\"1635\"},\"dimension\":1,\"ticker\":null},\"id\":\"1638\",\"type\":\"Grid\"},{\"attributes\":{\"data_source\":{\"id\":\"1619\"},\"glyph\":{\"id\":\"1654\"},\"hover_glyph\":null,\"muted_glyph\":null,\"nonselection_glyph\":{\"id\":\"1655\"},\"selection_glyph\":null,\"view\":{\"id\":\"1657\"}},\"id\":\"1656\",\"type\":\"GlyphRenderer\"},{\"attributes\":{\"bottom_units\":\"screen\",\"fill_alpha\":0.5,\"fill_color\":\"lightgrey\",\"left_units\":\"screen\",\"level\":\"overlay\",\"line_alpha\":1.0,\"line_color\":\"black\",\"line_dash\":[4,4],\"line_width\":2,\"right_units\":\"screen\",\"top_units\":\"screen\"},\"id\":\"1645\",\"type\":\"BoxAnnotation\"},{\"attributes\":{},\"id\":\"1643\",\"type\":\"ResetTool\"},{\"attributes\":{},\"id\":\"1639\",\"type\":\"PanTool\"},{\"attributes\":{\"overlay\":{\"id\":\"1645\"}},\"id\":\"1641\",\"type\":\"BoxZoomTool\"},{\"attributes\":{},\"id\":\"1642\",\"type\":\"SaveTool\"},{\"attributes\":{\"axis_label\":\"Standard deviation\",\"formatter\":{\"id\":\"1718\"},\"ticker\":{\"id\":\"1636\"}},\"id\":\"1635\",\"type\":\"LinearAxis\"},{\"attributes\":{},\"id\":\"1640\",\"type\":\"WheelZoomTool\"},{\"attributes\":{},\"id\":\"1625\",\"type\":\"DataRange1d\"},{\"attributes\":{\"axis_label\":\"Mean\",\"formatter\":{\"id\":\"1720\"},\"ticker\":{\"id\":\"1632\"}},\"id\":\"1631\",\"type\":\"LinearAxis\"},{\"attributes\":{\"axis\":{\"id\":\"1631\"},\"ticker\":null},\"id\":\"1634\",\"type\":\"Grid\"},{\"attributes\":{\"source\":{\"id\":\"1619\"},\"text\":{\"field\":\"names\"},\"x\":{\"field\":\"mu\"},\"x_offset\":{\"value\":2},\"y\":{\"field\":\"sigma\"},\"y_offset\":{\"value\":2}},\"id\":\"1658\",\"type\":\"LabelSet\"},{\"attributes\":{\"data\":{\"colors\":[\"#000003\",\"#0C0926\",\"#221150\",\"#400F73\",\"#5D177E\",\"#7A2281\",\"#972C7F\",\"#B53679\",\"#D1426E\",\"#EA5560\",\"#F8755C\",\"#FD9768\",\"#FEB97F\",\"#FDDA9C\",\"#FBFCBF\"],\"mu\":{\"__ndarray__\":\"CtejcDFp6ED2KFyPEhbLQK5H4XpcCd9AAAAAAAAAAACuR+F65M7AQLgehetRuI4/SOF6FKbi6kDhehSuRwecQIXrUbjePtBA16NwPcKq4UDD9ShcG/HxQB+F61H8E+hAexSuR42C80CkcD0K4+LhQJqZmZmZSoNA\",\"dtype\":\"float64\",\"order\":\"little\",\"shape\":[15]},\"names\":[\"pa\",\"pIH\",\"pIU\",\"pHD\",\"pHU\",\"pUD\",\"NI\",\"NH\",\"NU\",\"R0\",\"mu\",\"N\",\"t0\",\"Im0\",\"lambda1\"],\"sigma\":{\"__ndarray__\":\"ynaJlANr+UBWw0+/oCvdQACJVh+iU/FAAAAAAAAAAADDJyU1porRQC0zMzMzM8M/Y/bcze0y+UBPtaHsKFiwQNAy0OFc0uRAjBeQS4uy6kAGVaEKpNQCQRt2O2HMdvRAqQmMaz6v/EDLm+qH3hDvQKdttThm95NA\",\"dtype\":\"float64\",\"order\":\"little\",\"shape\":[15]}},\"selected\":{\"id\":\"1723\"},\"selection_policy\":{\"id\":\"1722\"}},\"id\":\"1619\",\"type\":\"ColumnDataSource\"},{\"attributes\":{},\"id\":\"1718\",\"type\":\"BasicTickFormatter\"},{\"attributes\":{\"active_drag\":\"auto\",\"active_inspect\":\"auto\",\"active_multi\":null,\"active_scroll\":\"auto\",\"active_tap\":\"auto\",\"tools\":[{\"id\":\"1639\"},{\"id\":\"1640\"},{\"id\":\"1641\"},{\"id\":\"1642\"},{\"id\":\"1643\"},{\"id\":\"1644\"}]},\"id\":\"1646\",\"type\":\"Toolbar\"},{\"attributes\":{\"source\":{\"id\":\"1619\"}},\"id\":\"1657\",\"type\":\"CDSView\"},{\"attributes\":{\"fill_alpha\":{\"value\":0.1},\"fill_color\":{\"field\":\"colors\"},\"line_alpha\":{\"value\":0.1},\"line_color\":{\"field\":\"colors\"},\"size\":{\"units\":\"screen\",\"value\":5},\"x\":{\"field\":\"mu\"},\"y\":{\"field\":\"sigma\"}},\"id\":\"1655\",\"type\":\"Scatter\"},{\"attributes\":{\"fill_color\":{\"field\":\"colors\"},\"line_color\":{\"field\":\"colors\"},\"size\":{\"units\":\"screen\",\"value\":5},\"x\":{\"field\":\"mu\"},\"y\":{\"field\":\"sigma\"}},\"id\":\"1654\",\"type\":\"Scatter\"},{\"attributes\":{\"text\":\"Morris - sensibility analysis\"},\"id\":\"1621\",\"type\":\"Title\"},{\"attributes\":{},\"id\":\"1720\",\"type\":\"BasicTickFormatter\"},{\"attributes\":{},\"id\":\"1632\",\"type\":\"BasicTicker\"},{\"attributes\":{},\"id\":\"1623\",\"type\":\"DataRange1d\"},{\"attributes\":{},\"id\":\"1644\",\"type\":\"HelpTool\"},{\"attributes\":{},\"id\":\"1629\",\"type\":\"LinearScale\"},{\"attributes\":{},\"id\":\"1722\",\"type\":\"UnionRenderers\"},{\"attributes\":{},\"id\":\"1627\",\"type\":\"LinearScale\"},{\"attributes\":{},\"id\":\"1723\",\"type\":\"Selection\"},{\"attributes\":{},\"id\":\"1636\",\"type\":\"BasicTicker\"}],\"root_ids\":[\"1620\"]},\"title\":\"Bokeh Application\",\"version\":\"2.2.3\"}};\n",
       "  var render_items = [{\"docid\":\"bb83f2f8-a907-4c5e-9b18-b509c8ec0f2d\",\"root_ids\":[\"1620\"],\"roots\":{\"1620\":\"003772c5-683d-48bc-9962-b05482fd3acc\"}}];\n",
       "  root.Bokeh.embed.embed_items_notebook(docs_json, render_items);\n",
       "\n",
       "  }\n",
       "  if (root.Bokeh !== undefined) {\n",
       "    embed_document(root);\n",
       "  } else {\n",
       "    var attempts = 0;\n",
       "    var timer = setInterval(function(root) {\n",
       "      if (root.Bokeh !== undefined) {\n",
       "        clearInterval(timer);\n",
       "        embed_document(root);\n",
       "      } else {\n",
       "        attempts++;\n",
       "        if (attempts > 100) {\n",
       "          clearInterval(timer);\n",
       "          console.log(\"Bokeh: ERROR: Unable to run BokehJS code because BokehJS library is missing\");\n",
       "        }\n",
       "      }\n",
       "    }, 10, root)\n",
       "  }\n",
       "})(window);"
      ],
      "application/vnd.bokehjs_exec.v0+json": ""
     },
     "metadata": {
      "application/vnd.bokehjs_exec.v0+json": {
       "id": "1620"
      }
     },
     "output_type": "display_data"
    }
   ],
   "source": [
    "print('{:-^100}'.format(' Umax '))\n",
    "plot_morris(M['mu_star'], M['sigma'], names = 'default')"
   ]
  },
  {
   "cell_type": "code",
   "execution_count": 18,
   "metadata": {},
   "outputs": [
    {
     "name": "stdout",
     "output_type": "stream",
     "text": [
      "--------------------------------------------- T(Umax) ----------------------------------------------\n"
     ]
    },
    {
     "data": {
      "text/html": [
       "\n",
       "\n",
       "\n",
       "\n",
       "\n",
       "\n",
       "  <div class=\"bk-root\" id=\"cfd14d65-b054-41f6-bc37-5cf6404ecdc3\" data-root-id=\"1765\"></div>\n"
      ]
     },
     "metadata": {},
     "output_type": "display_data"
    },
    {
     "data": {
      "application/javascript": [
       "(function(root) {\n",
       "  function embed_document(root) {\n",
       "    \n",
       "  var docs_json = {\"645ed760-3ab2-45b6-b405-b2dc3035c25c\":{\"roots\":{\"references\":[{\"attributes\":{\"below\":[{\"id\":\"1776\"}],\"center\":[{\"id\":\"1779\"},{\"id\":\"1783\"},{\"id\":\"1803\"}],\"left\":[{\"id\":\"1780\"}],\"plot_height\":450,\"plot_width\":900,\"renderers\":[{\"id\":\"1801\"}],\"title\":{\"id\":\"1766\"},\"toolbar\":{\"id\":\"1791\"},\"x_range\":{\"id\":\"1768\"},\"x_scale\":{\"id\":\"1772\"},\"y_range\":{\"id\":\"1770\"},\"y_scale\":{\"id\":\"1774\"}},\"id\":\"1765\",\"subtype\":\"Figure\",\"type\":\"Plot\"},{\"attributes\":{},\"id\":\"1789\",\"type\":\"HelpTool\"},{\"attributes\":{\"axis\":{\"id\":\"1780\"},\"dimension\":1,\"ticker\":null},\"id\":\"1783\",\"type\":\"Grid\"},{\"attributes\":{},\"id\":\"1781\",\"type\":\"BasicTicker\"},{\"attributes\":{},\"id\":\"1785\",\"type\":\"WheelZoomTool\"},{\"attributes\":{},\"id\":\"1784\",\"type\":\"PanTool\"},{\"attributes\":{\"active_drag\":\"auto\",\"active_inspect\":\"auto\",\"active_multi\":null,\"active_scroll\":\"auto\",\"active_tap\":\"auto\",\"tools\":[{\"id\":\"1784\"},{\"id\":\"1785\"},{\"id\":\"1786\"},{\"id\":\"1787\"},{\"id\":\"1788\"},{\"id\":\"1789\"}]},\"id\":\"1791\",\"type\":\"Toolbar\"},{\"attributes\":{\"overlay\":{\"id\":\"1790\"}},\"id\":\"1786\",\"type\":\"BoxZoomTool\"},{\"attributes\":{},\"id\":\"1787\",\"type\":\"SaveTool\"},{\"attributes\":{},\"id\":\"1770\",\"type\":\"DataRange1d\"},{\"attributes\":{},\"id\":\"1788\",\"type\":\"ResetTool\"},{\"attributes\":{\"text\":\"Morris - sensibility analysis\"},\"id\":\"1766\",\"type\":\"Title\"},{\"attributes\":{},\"id\":\"1768\",\"type\":\"DataRange1d\"},{\"attributes\":{},\"id\":\"1772\",\"type\":\"LinearScale\"},{\"attributes\":{},\"id\":\"1876\",\"type\":\"Selection\"},{\"attributes\":{},\"id\":\"1871\",\"type\":\"BasicTickFormatter\"},{\"attributes\":{},\"id\":\"1873\",\"type\":\"BasicTickFormatter\"},{\"attributes\":{\"axis_label\":\"Mean\",\"formatter\":{\"id\":\"1873\"},\"ticker\":{\"id\":\"1777\"}},\"id\":\"1776\",\"type\":\"LinearAxis\"},{\"attributes\":{},\"id\":\"1875\",\"type\":\"UnionRenderers\"},{\"attributes\":{\"data_source\":{\"id\":\"1764\"},\"glyph\":{\"id\":\"1799\"},\"hover_glyph\":null,\"muted_glyph\":null,\"nonselection_glyph\":{\"id\":\"1800\"},\"selection_glyph\":null,\"view\":{\"id\":\"1802\"}},\"id\":\"1801\",\"type\":\"GlyphRenderer\"},{\"attributes\":{\"axis\":{\"id\":\"1776\"},\"ticker\":null},\"id\":\"1779\",\"type\":\"Grid\"},{\"attributes\":{\"bottom_units\":\"screen\",\"fill_alpha\":0.5,\"fill_color\":\"lightgrey\",\"left_units\":\"screen\",\"level\":\"overlay\",\"line_alpha\":1.0,\"line_color\":\"black\",\"line_dash\":[4,4],\"line_width\":2,\"right_units\":\"screen\",\"top_units\":\"screen\"},\"id\":\"1790\",\"type\":\"BoxAnnotation\"},{\"attributes\":{\"fill_alpha\":{\"value\":0.1},\"fill_color\":{\"field\":\"colors\"},\"line_alpha\":{\"value\":0.1},\"line_color\":{\"field\":\"colors\"},\"size\":{\"units\":\"screen\",\"value\":5},\"x\":{\"field\":\"mu\"},\"y\":{\"field\":\"sigma\"}},\"id\":\"1800\",\"type\":\"Scatter\"},{\"attributes\":{\"axis_label\":\"Standard deviation\",\"formatter\":{\"id\":\"1871\"},\"ticker\":{\"id\":\"1781\"}},\"id\":\"1780\",\"type\":\"LinearAxis\"},{\"attributes\":{\"fill_color\":{\"field\":\"colors\"},\"line_color\":{\"field\":\"colors\"},\"size\":{\"units\":\"screen\",\"value\":5},\"x\":{\"field\":\"mu\"},\"y\":{\"field\":\"sigma\"}},\"id\":\"1799\",\"type\":\"Scatter\"},{\"attributes\":{},\"id\":\"1777\",\"type\":\"BasicTicker\"},{\"attributes\":{\"source\":{\"id\":\"1764\"}},\"id\":\"1802\",\"type\":\"CDSView\"},{\"attributes\":{\"data\":{\"colors\":[\"#000003\",\"#0C0926\",\"#221150\",\"#400F73\",\"#5D177E\",\"#7A2281\",\"#972C7F\",\"#B53679\",\"#D1426E\",\"#EA5560\",\"#F8755C\",\"#FD9768\",\"#FEB97F\",\"#FDDA9C\",\"#FBFCBF\"],\"mu\":{\"__ndarray__\":\"AAAAAAAAAAAUrkfhehQMQGZmZmZmZg1AAAAAAAAAAABSuB6F61H8PwAAAAAAAAAACtejcD2KGEBI4XoUrkfhP9ejcD0K1xJA9ihcj8L1DkAAAAAAABBBQKRwPQrXIyxApHA9CtejGkBSuB6F61EPQDMzMzMzM8M/\",\"dtype\":\"float64\",\"order\":\"little\",\"shape\":[15]},\"names\":[\"pa\",\"pIH\",\"pIU\",\"pHD\",\"pHU\",\"pUD\",\"NI\",\"NH\",\"NU\",\"R0\",\"mu\",\"N\",\"t0\",\"Im0\",\"lambda1\"],\"sigma\":{\"__ndarray__\":\"AAAAAAAAAAC+SMwJO9EAQAgi6oQXMQVAAAAAAAAAAAA2+A0DW7XzPwAAAAAAAAAAIA+gpDn8JEBy1+vCX6LvPxS6z/VAwARAGXaZxKDTGEDyhb4nnsMuQNRmXt8hfSdAzWpFljjYJkCe8cL5pzkhQEIcoFvx8dw/\",\"dtype\":\"float64\",\"order\":\"little\",\"shape\":[15]}},\"selected\":{\"id\":\"1876\"},\"selection_policy\":{\"id\":\"1875\"}},\"id\":\"1764\",\"type\":\"ColumnDataSource\"},{\"attributes\":{},\"id\":\"1774\",\"type\":\"LinearScale\"},{\"attributes\":{\"source\":{\"id\":\"1764\"},\"text\":{\"field\":\"names\"},\"x\":{\"field\":\"mu\"},\"x_offset\":{\"value\":2},\"y\":{\"field\":\"sigma\"},\"y_offset\":{\"value\":2}},\"id\":\"1803\",\"type\":\"LabelSet\"}],\"root_ids\":[\"1765\"]},\"title\":\"Bokeh Application\",\"version\":\"2.2.3\"}};\n",
       "  var render_items = [{\"docid\":\"645ed760-3ab2-45b6-b405-b2dc3035c25c\",\"root_ids\":[\"1765\"],\"roots\":{\"1765\":\"cfd14d65-b054-41f6-bc37-5cf6404ecdc3\"}}];\n",
       "  root.Bokeh.embed.embed_items_notebook(docs_json, render_items);\n",
       "\n",
       "  }\n",
       "  if (root.Bokeh !== undefined) {\n",
       "    embed_document(root);\n",
       "  } else {\n",
       "    var attempts = 0;\n",
       "    var timer = setInterval(function(root) {\n",
       "      if (root.Bokeh !== undefined) {\n",
       "        clearInterval(timer);\n",
       "        embed_document(root);\n",
       "      } else {\n",
       "        attempts++;\n",
       "        if (attempts > 100) {\n",
       "          clearInterval(timer);\n",
       "          console.log(\"Bokeh: ERROR: Unable to run BokehJS code because BokehJS library is missing\");\n",
       "        }\n",
       "      }\n",
       "    }, 10, root)\n",
       "  }\n",
       "})(window);"
      ],
      "application/vnd.bokehjs_exec.v0+json": ""
     },
     "metadata": {
      "application/vnd.bokehjs_exec.v0+json": {
       "id": "1765"
      }
     },
     "output_type": "display_data"
    }
   ],
   "source": [
    "print('{:-^100}'.format(' T(Umax) '))\n",
    "plot_morris(MT['mu_star'],MT['sigma'],  names = 'default')"
   ]
  },
  {
   "cell_type": "markdown",
   "metadata": {},
   "source": [
    "Les résultats que nous obtenons ici sont beaucoup plus satisfaisants. Plus un paramètre est à droite sur l'axe des abscisses, plus il a un effet linéaire important. Plus il est haut sur l'axe des ordonnées, plus il a également un effet non linéaire (ou en interaction avec d'autres paramètres) sur la sortie. On constate donc qu'en moyenne le système est hautement non linéaire et complexe : l'impact d'un paramètre peut difficilement se concevoir sans son interaction avec d'autres paramètres même s'il possède un impact linéaire assez important également. Au regard des valeurs mises en jeu pour $U_{max}$, on voit que les écarts types sont en moyenne un ordre de grandeur supérieur aux moyennes témoignant de l'importance relative des effets non linéaires.\n",
    "\n",
    "En outre, on retrouve les valeurs :  $p_a$, $N_I$, $R_0$, $\\mu$, $t_0$, $I^-_0$ comme étant parmis celles ayant le plus d'impact. Ce qui justifie le choix de se concentrer sur celles-là dans ce qui suit."
   ]
  },
  {
   "cell_type": "markdown",
   "metadata": {},
   "source": [
    "## Q4) Analyse de sensiblité de Sobol\n",
    "### Première méthode - à la main\n",
    "Ici encore, nous donnons les résultats obtenus par les algorithmes implémentés que nous avons implémentés.\n",
    "\n",
    "Vous pouvez vous référez à [sensitivy_analysis_by_hands](sensitivy_analysis_by_hands.py) pour la fonction Sobol que nous utilisons ici.\n"
   ]
  },
  {
   "cell_type": "code",
   "execution_count": 19,
   "metadata": {},
   "outputs": [],
   "source": [
    "from sensitivy_analysis_by_hands import Sobol\n",
    "\n",
    "# indexes that we are interested into\n",
    "names = ['pa','NI','R0','mu','t0','Im0']\n",
    "idxes = [key_to_idx[n] for n in names]"
   ]
  },
  {
   "cell_type": "code",
   "execution_count": 20,
   "metadata": {},
   "outputs": [],
   "source": [
    "S, St = Sobol(fn = get_max_load_intensive_care, R = 200, method = 'MC')"
   ]
  },
  {
   "cell_type": "code",
   "execution_count": 21,
   "metadata": {},
   "outputs": [
    {
     "name": "stdout",
     "output_type": "stream",
     "text": [
      "----------------------------------------------- Umax -----------------------------------------------\n"
     ]
    },
    {
     "data": {
      "text/html": [
       "\n",
       "\n",
       "\n",
       "\n",
       "\n",
       "\n",
       "  <div class=\"bk-root\" id=\"4495f9d2-cfe4-4f2e-b26c-8f05ab644c45\" data-root-id=\"1918\"></div>\n"
      ]
     },
     "metadata": {},
     "output_type": "display_data"
    },
    {
     "data": {
      "application/javascript": [
       "(function(root) {\n",
       "  function embed_document(root) {\n",
       "    \n",
       "  var docs_json = {\"48b238c7-cad1-4471-89fe-c340e5c2ddba\":{\"roots\":{\"references\":[{\"attributes\":{\"below\":[{\"id\":\"1929\"}],\"center\":[{\"id\":\"1931\"},{\"id\":\"1935\"},{\"id\":\"1963\"}],\"left\":[{\"id\":\"1932\"}],\"plot_height\":450,\"plot_width\":900,\"renderers\":[{\"id\":\"1953\"},{\"id\":\"1968\"}],\"title\":{\"id\":\"1919\"},\"toolbar\":{\"id\":\"1943\"},\"x_range\":{\"id\":\"1921\"},\"x_scale\":{\"id\":\"1925\"},\"y_range\":{\"id\":\"1923\"},\"y_scale\":{\"id\":\"1927\"}},\"id\":\"1918\",\"subtype\":\"Figure\",\"type\":\"Plot\"},{\"attributes\":{\"source\":{\"id\":\"1917\"}},\"id\":\"1954\",\"type\":\"CDSView\"},{\"attributes\":{},\"id\":\"1961\",\"type\":\"UnionRenderers\"},{\"attributes\":{},\"id\":\"1962\",\"type\":\"Selection\"},{\"attributes\":{\"items\":[{\"id\":\"1964\"},{\"id\":\"1978\"}]},\"id\":\"1963\",\"type\":\"Legend\"},{\"attributes\":{\"axis_label\":\"Index value\",\"formatter\":{\"id\":\"1957\"},\"ticker\":{\"id\":\"1933\"}},\"id\":\"1932\",\"type\":\"LinearAxis\"},{\"attributes\":{},\"id\":\"1927\",\"type\":\"LinearScale\"},{\"attributes\":{\"factors\":[\"pa\",\"NI\",\"R0\",\"mu\",\"t0\",\"Im0\"]},\"id\":\"1921\",\"type\":\"FactorRange\"},{\"attributes\":{\"axis_label\":\"parameters\",\"formatter\":{\"id\":\"1959\"},\"ticker\":{\"id\":\"1930\"}},\"id\":\"1929\",\"type\":\"CategoricalAxis\"},{\"attributes\":{},\"id\":\"1925\",\"type\":\"CategoricalScale\"},{\"attributes\":{},\"id\":\"1941\",\"type\":\"HelpTool\"},{\"attributes\":{},\"id\":\"1923\",\"type\":\"DataRange1d\"},{\"attributes\":{},\"id\":\"1930\",\"type\":\"CategoricalTicker\"},{\"attributes\":{\"fill_color\":{\"value\":\"red\"},\"line_color\":{\"value\":\"red\"},\"size\":{\"units\":\"screen\",\"value\":5},\"x\":{\"field\":\"names\"},\"y\":{\"field\":\"St\"}},\"id\":\"1966\",\"type\":\"Circle\"},{\"attributes\":{\"axis\":{\"id\":\"1929\"},\"ticker\":null},\"id\":\"1931\",\"type\":\"Grid\"},{\"attributes\":{\"fill_alpha\":{\"value\":0.1},\"fill_color\":{\"value\":\"red\"},\"line_alpha\":{\"value\":0.1},\"line_color\":{\"value\":\"red\"},\"size\":{\"units\":\"screen\",\"value\":5},\"x\":{\"field\":\"names\"},\"y\":{\"field\":\"St\"}},\"id\":\"1967\",\"type\":\"Circle\"},{\"attributes\":{\"data_source\":{\"id\":\"1917\"},\"glyph\":{\"id\":\"1951\"},\"hover_glyph\":null,\"muted_glyph\":null,\"nonselection_glyph\":{\"id\":\"1952\"},\"selection_glyph\":null,\"view\":{\"id\":\"1954\"}},\"id\":\"1953\",\"type\":\"GlyphRenderer\"},{\"attributes\":{\"text\":\"Sobol analysis\"},\"id\":\"1919\",\"type\":\"Title\"},{\"attributes\":{\"label\":{\"value\":\"St\"},\"renderers\":[{\"id\":\"1968\"}]},\"id\":\"1978\",\"type\":\"LegendItem\"},{\"attributes\":{\"axis\":{\"id\":\"1932\"},\"dimension\":1,\"ticker\":null},\"id\":\"1935\",\"type\":\"Grid\"},{\"attributes\":{},\"id\":\"1933\",\"type\":\"BasicTicker\"},{\"attributes\":{\"fill_alpha\":{\"value\":0.1},\"fill_color\":{\"value\":\"blue\"},\"line_alpha\":{\"value\":0.1},\"line_color\":{\"value\":\"blue\"},\"size\":{\"units\":\"screen\",\"value\":5},\"x\":{\"field\":\"names\"},\"y\":{\"field\":\"S\"}},\"id\":\"1952\",\"type\":\"Circle\"},{\"attributes\":{\"active_drag\":\"auto\",\"active_inspect\":\"auto\",\"active_multi\":null,\"active_scroll\":\"auto\",\"active_tap\":\"auto\",\"tools\":[{\"id\":\"1936\"},{\"id\":\"1937\"},{\"id\":\"1938\"},{\"id\":\"1939\"},{\"id\":\"1940\"},{\"id\":\"1941\"}]},\"id\":\"1943\",\"type\":\"Toolbar\"},{\"attributes\":{\"data_source\":{\"id\":\"1917\"},\"glyph\":{\"id\":\"1966\"},\"hover_glyph\":null,\"muted_glyph\":null,\"nonselection_glyph\":{\"id\":\"1967\"},\"selection_glyph\":null,\"view\":{\"id\":\"1969\"}},\"id\":\"1968\",\"type\":\"GlyphRenderer\"},{\"attributes\":{},\"id\":\"1937\",\"type\":\"WheelZoomTool\"},{\"attributes\":{\"source\":{\"id\":\"1917\"}},\"id\":\"1969\",\"type\":\"CDSView\"},{\"attributes\":{},\"id\":\"1936\",\"type\":\"PanTool\"},{\"attributes\":{},\"id\":\"1957\",\"type\":\"BasicTickFormatter\"},{\"attributes\":{\"overlay\":{\"id\":\"1942\"}},\"id\":\"1938\",\"type\":\"BoxZoomTool\"},{\"attributes\":{},\"id\":\"1959\",\"type\":\"CategoricalTickFormatter\"},{\"attributes\":{},\"id\":\"1939\",\"type\":\"SaveTool\"},{\"attributes\":{\"fill_color\":{\"value\":\"blue\"},\"line_color\":{\"value\":\"blue\"},\"size\":{\"units\":\"screen\",\"value\":5},\"x\":{\"field\":\"names\"},\"y\":{\"field\":\"S\"}},\"id\":\"1951\",\"type\":\"Circle\"},{\"attributes\":{},\"id\":\"1940\",\"type\":\"ResetTool\"},{\"attributes\":{\"data\":{\"S\":{\"__ndarray__\":\"AAAAAAAAAACC8UBXIhTjP1no5q+K566/kIOn3DN02T/FZAMaM3rFP6uP+dHYLLo/\",\"dtype\":\"float64\",\"order\":\"little\",\"shape\":[6]},\"St\":{\"__ndarray__\":\"AAAAAAAAAADPYtEdEy/fv85mytKL+LQ/5v7wxW6g8D+floix8H6kv9cZGfkKHLa/\",\"dtype\":\"float64\",\"order\":\"little\",\"shape\":[6]},\"names\":[\"pa\",\"NI\",\"R0\",\"mu\",\"t0\",\"Im0\"]},\"selected\":{\"id\":\"1962\"},\"selection_policy\":{\"id\":\"1961\"}},\"id\":\"1917\",\"type\":\"ColumnDataSource\"},{\"attributes\":{\"bottom_units\":\"screen\",\"fill_alpha\":0.5,\"fill_color\":\"lightgrey\",\"left_units\":\"screen\",\"level\":\"overlay\",\"line_alpha\":1.0,\"line_color\":\"black\",\"line_dash\":[4,4],\"line_width\":2,\"right_units\":\"screen\",\"top_units\":\"screen\"},\"id\":\"1942\",\"type\":\"BoxAnnotation\"},{\"attributes\":{\"label\":{\"value\":\"S\"},\"renderers\":[{\"id\":\"1953\"}]},\"id\":\"1964\",\"type\":\"LegendItem\"}],\"root_ids\":[\"1918\"]},\"title\":\"Bokeh Application\",\"version\":\"2.2.3\"}};\n",
       "  var render_items = [{\"docid\":\"48b238c7-cad1-4471-89fe-c340e5c2ddba\",\"root_ids\":[\"1918\"],\"roots\":{\"1918\":\"4495f9d2-cfe4-4f2e-b26c-8f05ab644c45\"}}];\n",
       "  root.Bokeh.embed.embed_items_notebook(docs_json, render_items);\n",
       "\n",
       "  }\n",
       "  if (root.Bokeh !== undefined) {\n",
       "    embed_document(root);\n",
       "  } else {\n",
       "    var attempts = 0;\n",
       "    var timer = setInterval(function(root) {\n",
       "      if (root.Bokeh !== undefined) {\n",
       "        clearInterval(timer);\n",
       "        embed_document(root);\n",
       "      } else {\n",
       "        attempts++;\n",
       "        if (attempts > 100) {\n",
       "          clearInterval(timer);\n",
       "          console.log(\"Bokeh: ERROR: Unable to run BokehJS code because BokehJS library is missing\");\n",
       "        }\n",
       "      }\n",
       "    }, 10, root)\n",
       "  }\n",
       "})(window);"
      ],
      "application/vnd.bokehjs_exec.v0+json": ""
     },
     "metadata": {
      "application/vnd.bokehjs_exec.v0+json": {
       "id": "1918"
      }
     },
     "output_type": "display_data"
    }
   ],
   "source": [
    "print('{:-^100}'.format(' Umax '))\n",
    "# plot_sobol(S[:,0],St[:,0])\n",
    "plot_sobol(S[idxes,0],St[idxes,0], names = names)"
   ]
  },
  {
   "cell_type": "code",
   "execution_count": 22,
   "metadata": {},
   "outputs": [
    {
     "name": "stdout",
     "output_type": "stream",
     "text": [
      "--------------------------------------------- T(Umax) ----------------------------------------------\n"
     ]
    },
    {
     "data": {
      "text/html": [
       "\n",
       "\n",
       "\n",
       "\n",
       "\n",
       "\n",
       "  <div class=\"bk-root\" id=\"dd571d1a-b576-4849-9df3-0027a3f515a7\" data-root-id=\"2100\"></div>\n"
      ]
     },
     "metadata": {},
     "output_type": "display_data"
    },
    {
     "data": {
      "application/javascript": [
       "(function(root) {\n",
       "  function embed_document(root) {\n",
       "    \n",
       "  var docs_json = {\"5ecb20d7-5995-4b09-9828-6256aa96cc83\":{\"roots\":{\"references\":[{\"attributes\":{\"below\":[{\"id\":\"2111\"}],\"center\":[{\"id\":\"2113\"},{\"id\":\"2117\"},{\"id\":\"2145\"}],\"left\":[{\"id\":\"2114\"}],\"plot_height\":450,\"plot_width\":900,\"renderers\":[{\"id\":\"2135\"},{\"id\":\"2150\"}],\"title\":{\"id\":\"2101\"},\"toolbar\":{\"id\":\"2125\"},\"x_range\":{\"id\":\"2103\"},\"x_scale\":{\"id\":\"2107\"},\"y_range\":{\"id\":\"2105\"},\"y_scale\":{\"id\":\"2109\"}},\"id\":\"2100\",\"subtype\":\"Figure\",\"type\":\"Plot\"},{\"attributes\":{\"overlay\":{\"id\":\"2124\"}},\"id\":\"2120\",\"type\":\"BoxZoomTool\"},{\"attributes\":{\"fill_color\":{\"value\":\"red\"},\"line_color\":{\"value\":\"red\"},\"size\":{\"units\":\"screen\",\"value\":5},\"x\":{\"field\":\"names\"},\"y\":{\"field\":\"St\"}},\"id\":\"2148\",\"type\":\"Circle\"},{\"attributes\":{},\"id\":\"2121\",\"type\":\"SaveTool\"},{\"attributes\":{},\"id\":\"2122\",\"type\":\"ResetTool\"},{\"attributes\":{\"fill_alpha\":{\"value\":0.1},\"fill_color\":{\"value\":\"red\"},\"line_alpha\":{\"value\":0.1},\"line_color\":{\"value\":\"red\"},\"size\":{\"units\":\"screen\",\"value\":5},\"x\":{\"field\":\"names\"},\"y\":{\"field\":\"St\"}},\"id\":\"2149\",\"type\":\"Circle\"},{\"attributes\":{\"data\":{\"S\":{\"__ndarray__\":\"hV9xSd7/h79Y0jexNV5Yv/KjpaLtSKU/prHT2l2vvz9LlK4pAHW9PzL7/8rjvoE/\",\"dtype\":\"float64\",\"order\":\"little\",\"shape\":[6]},\"St\":{\"__ndarray__\":\"pSJa1EfR0j8uVgSvBH3fP9lr6a4CJZS/nnZChgoA2z/XXKNcidTgP+blPxXGf7c/\",\"dtype\":\"float64\",\"order\":\"little\",\"shape\":[6]},\"names\":[\"pa\",\"NI\",\"R0\",\"mu\",\"t0\",\"Im0\"]},\"selected\":{\"id\":\"2144\"},\"selection_policy\":{\"id\":\"2143\"}},\"id\":\"2099\",\"type\":\"ColumnDataSource\"},{\"attributes\":{\"label\":{\"value\":\"St\"},\"renderers\":[{\"id\":\"2150\"}]},\"id\":\"2160\",\"type\":\"LegendItem\"},{\"attributes\":{},\"id\":\"2139\",\"type\":\"BasicTickFormatter\"},{\"attributes\":{\"source\":{\"id\":\"2099\"}},\"id\":\"2136\",\"type\":\"CDSView\"},{\"attributes\":{\"data_source\":{\"id\":\"2099\"},\"glyph\":{\"id\":\"2148\"},\"hover_glyph\":null,\"muted_glyph\":null,\"nonselection_glyph\":{\"id\":\"2149\"},\"selection_glyph\":null,\"view\":{\"id\":\"2151\"}},\"id\":\"2150\",\"type\":\"GlyphRenderer\"},{\"attributes\":{\"source\":{\"id\":\"2099\"}},\"id\":\"2151\",\"type\":\"CDSView\"},{\"attributes\":{},\"id\":\"2141\",\"type\":\"CategoricalTickFormatter\"},{\"attributes\":{\"factors\":[\"pa\",\"NI\",\"R0\",\"mu\",\"t0\",\"Im0\"]},\"id\":\"2103\",\"type\":\"FactorRange\"},{\"attributes\":{\"label\":{\"value\":\"S\"},\"renderers\":[{\"id\":\"2135\"}]},\"id\":\"2146\",\"type\":\"LegendItem\"},{\"attributes\":{\"data_source\":{\"id\":\"2099\"},\"glyph\":{\"id\":\"2133\"},\"hover_glyph\":null,\"muted_glyph\":null,\"nonselection_glyph\":{\"id\":\"2134\"},\"selection_glyph\":null,\"view\":{\"id\":\"2136\"}},\"id\":\"2135\",\"type\":\"GlyphRenderer\"},{\"attributes\":{\"axis_label\":\"Index value\",\"formatter\":{\"id\":\"2139\"},\"ticker\":{\"id\":\"2115\"}},\"id\":\"2114\",\"type\":\"LinearAxis\"},{\"attributes\":{\"items\":[{\"id\":\"2146\"},{\"id\":\"2160\"}]},\"id\":\"2145\",\"type\":\"Legend\"},{\"attributes\":{\"fill_color\":{\"value\":\"blue\"},\"line_color\":{\"value\":\"blue\"},\"size\":{\"units\":\"screen\",\"value\":5},\"x\":{\"field\":\"names\"},\"y\":{\"field\":\"S\"}},\"id\":\"2133\",\"type\":\"Circle\"},{\"attributes\":{\"bottom_units\":\"screen\",\"fill_alpha\":0.5,\"fill_color\":\"lightgrey\",\"left_units\":\"screen\",\"level\":\"overlay\",\"line_alpha\":1.0,\"line_color\":\"black\",\"line_dash\":[4,4],\"line_width\":2,\"right_units\":\"screen\",\"top_units\":\"screen\"},\"id\":\"2124\",\"type\":\"BoxAnnotation\"},{\"attributes\":{\"text\":\"Sobol analysis\"},\"id\":\"2101\",\"type\":\"Title\"},{\"attributes\":{},\"id\":\"2109\",\"type\":\"LinearScale\"},{\"attributes\":{\"fill_alpha\":{\"value\":0.1},\"fill_color\":{\"value\":\"blue\"},\"line_alpha\":{\"value\":0.1},\"line_color\":{\"value\":\"blue\"},\"size\":{\"units\":\"screen\",\"value\":5},\"x\":{\"field\":\"names\"},\"y\":{\"field\":\"S\"}},\"id\":\"2134\",\"type\":\"Circle\"},{\"attributes\":{\"axis_label\":\"parameters\",\"formatter\":{\"id\":\"2141\"},\"ticker\":{\"id\":\"2112\"}},\"id\":\"2111\",\"type\":\"CategoricalAxis\"},{\"attributes\":{},\"id\":\"2107\",\"type\":\"CategoricalScale\"},{\"attributes\":{},\"id\":\"2123\",\"type\":\"HelpTool\"},{\"attributes\":{},\"id\":\"2105\",\"type\":\"DataRange1d\"},{\"attributes\":{},\"id\":\"2112\",\"type\":\"CategoricalTicker\"},{\"attributes\":{},\"id\":\"2143\",\"type\":\"UnionRenderers\"},{\"attributes\":{\"axis\":{\"id\":\"2111\"},\"ticker\":null},\"id\":\"2113\",\"type\":\"Grid\"},{\"attributes\":{},\"id\":\"2144\",\"type\":\"Selection\"},{\"attributes\":{\"axis\":{\"id\":\"2114\"},\"dimension\":1,\"ticker\":null},\"id\":\"2117\",\"type\":\"Grid\"},{\"attributes\":{},\"id\":\"2115\",\"type\":\"BasicTicker\"},{\"attributes\":{\"active_drag\":\"auto\",\"active_inspect\":\"auto\",\"active_multi\":null,\"active_scroll\":\"auto\",\"active_tap\":\"auto\",\"tools\":[{\"id\":\"2118\"},{\"id\":\"2119\"},{\"id\":\"2120\"},{\"id\":\"2121\"},{\"id\":\"2122\"},{\"id\":\"2123\"}]},\"id\":\"2125\",\"type\":\"Toolbar\"},{\"attributes\":{},\"id\":\"2119\",\"type\":\"WheelZoomTool\"},{\"attributes\":{},\"id\":\"2118\",\"type\":\"PanTool\"}],\"root_ids\":[\"2100\"]},\"title\":\"Bokeh Application\",\"version\":\"2.2.3\"}};\n",
       "  var render_items = [{\"docid\":\"5ecb20d7-5995-4b09-9828-6256aa96cc83\",\"root_ids\":[\"2100\"],\"roots\":{\"2100\":\"dd571d1a-b576-4849-9df3-0027a3f515a7\"}}];\n",
       "  root.Bokeh.embed.embed_items_notebook(docs_json, render_items);\n",
       "\n",
       "  }\n",
       "  if (root.Bokeh !== undefined) {\n",
       "    embed_document(root);\n",
       "  } else {\n",
       "    var attempts = 0;\n",
       "    var timer = setInterval(function(root) {\n",
       "      if (root.Bokeh !== undefined) {\n",
       "        clearInterval(timer);\n",
       "        embed_document(root);\n",
       "      } else {\n",
       "        attempts++;\n",
       "        if (attempts > 100) {\n",
       "          clearInterval(timer);\n",
       "          console.log(\"Bokeh: ERROR: Unable to run BokehJS code because BokehJS library is missing\");\n",
       "        }\n",
       "      }\n",
       "    }, 10, root)\n",
       "  }\n",
       "})(window);"
      ],
      "application/vnd.bokehjs_exec.v0+json": ""
     },
     "metadata": {
      "application/vnd.bokehjs_exec.v0+json": {
       "id": "2100"
      }
     },
     "output_type": "display_data"
    }
   ],
   "source": [
    "print('{:-^100}'.format(' T(Umax) '))\n",
    "# plot_sobol(S[:,1],St[:,1])\n",
    "plot_sobol(S[idxes,1],St[idxes,1], names = names)"
   ]
  },
  {
   "cell_type": "markdown",
   "metadata": {},
   "source": [
    "Une première remarque consiste à observer qu'on a des indices totaux inférieurs à des indices de premiers ordre pour certains paramètres. Cela est dû à l'estimation réalisée ici qui comprend des erreurs. On observe ensuite ici que la variable $t_0$ à un impact fort sur $U_{max}$ en lien avec d'autres variables, tandis que les autres ont plutôt un impact propre fort.  De plus, $T(U_{max})$ est impact par les paramètres précédemment choisis de façon assez importantes sauf pour $I^-_0$. Contrairement à $U_{max}$, les impacts ici sont en lien avec d'autres variables pour tous. On peut s'étonner de ces résultats au regarde de l'analyse de Morris pour laquelle on voyait que les effets non linéaires était important pour $U_{max}$. "
   ]
  },
  {
   "cell_type": "markdown",
   "metadata": {},
   "source": [
    "### Analyse de Sobol - via *SALib*\n",
    "Les quelques incohérences constatées nous ont également poussé à réaliser l'analyse de Morris pour ce système.\n",
    "\n",
    "L'analyse de Sobol se ramène ici à définir le problème et calculer les sorties du code à partir des échantillons choisis pour envoyer ensuite à *sobol.analyse* qui réalise le travail."
   ]
  },
  {
   "cell_type": "code",
   "execution_count": 23,
   "metadata": {},
   "outputs": [],
   "source": [
    "# Same as for Morris analysis\n",
    "\n",
    "# Define the model inputs\n",
    "names = list(idx_to_keys.values())\n",
    "bounds = list(input_params.values())\n",
    "\n",
    "# Definition of the problem\n",
    "problem = {\n",
    "    'num_vars': 15,\n",
    "    'names': names,\n",
    "    'bounds': bounds\n",
    "}\n",
    "\n",
    "# SALib requires arrays of type float.\n",
    "fn = lambda x: get_max_load_intensive_care(f(x)) # T(Umax)\n",
    "\n",
    "def eval_fn(X):\n",
    "    TU, U = [], []\n",
    "    for x in X:\n",
    "        tu, u = fn(x)\n",
    "        TU.append(tu)\n",
    "        U.append(u)\n",
    "    return np.array(TU, dtype = float), np.array(U, dtype = float)\n"
   ]
  },
  {
   "cell_type": "code",
   "execution_count": 24,
   "metadata": {},
   "outputs": [],
   "source": [
    "from SALib.sample import saltelli\n",
    "from SALib.analyze import sobol\n",
    "from SALib.test_functions import Ishigami"
   ]
  },
  {
   "cell_type": "code",
   "execution_count": 25,
   "metadata": {},
   "outputs": [],
   "source": [
    "# Generate samples\n",
    "param_values = saltelli.sample(problem, 100)\n",
    "# Run model (example)\n",
    "YT, Y = eval_fn(param_values)"
   ]
  },
  {
   "cell_type": "code",
   "execution_count": 26,
   "metadata": {},
   "outputs": [],
   "source": [
    "# Perform analysis\n",
    "Si_T = sobol.analyze(problem, YT)\n",
    "Si = sobol.analyze(problem, Y)"
   ]
  },
  {
   "cell_type": "code",
   "execution_count": 27,
   "metadata": {},
   "outputs": [
    {
     "name": "stdout",
     "output_type": "stream",
     "text": [
      "----------------------------------------------- Umax -----------------------------------------------\n"
     ]
    },
    {
     "data": {
      "text/html": [
       "\n",
       "\n",
       "\n",
       "\n",
       "\n",
       "\n",
       "  <div class=\"bk-root\" id=\"f893c5d1-99d8-4a00-9613-7f359f87a34b\" data-root-id=\"2290\"></div>\n"
      ]
     },
     "metadata": {},
     "output_type": "display_data"
    },
    {
     "data": {
      "application/javascript": [
       "(function(root) {\n",
       "  function embed_document(root) {\n",
       "    \n",
       "  var docs_json = {\"8654cd06-a8b1-4ae9-8f1f-8621fcc25c18\":{\"roots\":{\"references\":[{\"attributes\":{\"below\":[{\"id\":\"2301\"}],\"center\":[{\"id\":\"2303\"},{\"id\":\"2307\"},{\"id\":\"2335\"}],\"left\":[{\"id\":\"2304\"}],\"plot_height\":450,\"plot_width\":900,\"renderers\":[{\"id\":\"2325\"},{\"id\":\"2340\"}],\"title\":{\"id\":\"2291\"},\"toolbar\":{\"id\":\"2315\"},\"x_range\":{\"id\":\"2293\"},\"x_scale\":{\"id\":\"2297\"},\"y_range\":{\"id\":\"2295\"},\"y_scale\":{\"id\":\"2299\"}},\"id\":\"2290\",\"subtype\":\"Figure\",\"type\":\"Plot\"},{\"attributes\":{},\"id\":\"2312\",\"type\":\"ResetTool\"},{\"attributes\":{\"bottom_units\":\"screen\",\"fill_alpha\":0.5,\"fill_color\":\"lightgrey\",\"left_units\":\"screen\",\"level\":\"overlay\",\"line_alpha\":1.0,\"line_color\":\"black\",\"line_dash\":[4,4],\"line_width\":2,\"right_units\":\"screen\",\"top_units\":\"screen\"},\"id\":\"2314\",\"type\":\"BoxAnnotation\"},{\"attributes\":{},\"id\":\"2313\",\"type\":\"HelpTool\"},{\"attributes\":{},\"id\":\"2334\",\"type\":\"Selection\"},{\"attributes\":{\"axis_label\":\"Index value\",\"formatter\":{\"id\":\"2329\"},\"ticker\":{\"id\":\"2305\"}},\"id\":\"2304\",\"type\":\"LinearAxis\"},{\"attributes\":{},\"id\":\"2297\",\"type\":\"CategoricalScale\"},{\"attributes\":{},\"id\":\"2331\",\"type\":\"CategoricalTickFormatter\"},{\"attributes\":{},\"id\":\"2311\",\"type\":\"SaveTool\"},{\"attributes\":{},\"id\":\"2302\",\"type\":\"CategoricalTicker\"},{\"attributes\":{\"text\":\"Sobol analysis\"},\"id\":\"2291\",\"type\":\"Title\"},{\"attributes\":{},\"id\":\"2295\",\"type\":\"DataRange1d\"},{\"attributes\":{},\"id\":\"2309\",\"type\":\"WheelZoomTool\"},{\"attributes\":{},\"id\":\"2333\",\"type\":\"UnionRenderers\"},{\"attributes\":{\"fill_color\":{\"value\":\"red\"},\"line_color\":{\"value\":\"red\"},\"size\":{\"units\":\"screen\",\"value\":5},\"x\":{\"field\":\"names\"},\"y\":{\"field\":\"St\"}},\"id\":\"2338\",\"type\":\"Circle\"},{\"attributes\":{\"data\":{\"S\":{\"__ndarray__\":\"236VxOg5kT9LCKYPxAG+P9G7QtRXWI+/+nXnaDAkvz/97rnifJvHP7mEq8JgXK4/\",\"dtype\":\"float64\",\"order\":\"little\",\"shape\":[6]},\"St\":{\"__ndarray__\":\"hs50faJqyT9iaCr/7X3TP8gLqyC2vLs/jEhsywcB1T8Ccflbi97gP1tmRvkOWbM/\",\"dtype\":\"float64\",\"order\":\"little\",\"shape\":[6]},\"names\":[\"pa\",\"NI\",\"R0\",\"mu\",\"t0\",\"Im0\"]},\"selected\":{\"id\":\"2334\"},\"selection_policy\":{\"id\":\"2333\"}},\"id\":\"2289\",\"type\":\"ColumnDataSource\"},{\"attributes\":{\"data_source\":{\"id\":\"2289\"},\"glyph\":{\"id\":\"2323\"},\"hover_glyph\":null,\"muted_glyph\":null,\"nonselection_glyph\":{\"id\":\"2324\"},\"selection_glyph\":null,\"view\":{\"id\":\"2326\"}},\"id\":\"2325\",\"type\":\"GlyphRenderer\"},{\"attributes\":{\"label\":{\"value\":\"St\"},\"renderers\":[{\"id\":\"2340\"}]},\"id\":\"2350\",\"type\":\"LegendItem\"},{\"attributes\":{\"data_source\":{\"id\":\"2289\"},\"glyph\":{\"id\":\"2338\"},\"hover_glyph\":null,\"muted_glyph\":null,\"nonselection_glyph\":{\"id\":\"2339\"},\"selection_glyph\":null,\"view\":{\"id\":\"2341\"}},\"id\":\"2340\",\"type\":\"GlyphRenderer\"},{\"attributes\":{},\"id\":\"2305\",\"type\":\"BasicTicker\"},{\"attributes\":{\"axis\":{\"id\":\"2301\"},\"ticker\":null},\"id\":\"2303\",\"type\":\"Grid\"},{\"attributes\":{\"items\":[{\"id\":\"2336\"},{\"id\":\"2350\"}]},\"id\":\"2335\",\"type\":\"Legend\"},{\"attributes\":{\"factors\":[\"pa\",\"NI\",\"R0\",\"mu\",\"t0\",\"Im0\"]},\"id\":\"2293\",\"type\":\"FactorRange\"},{\"attributes\":{\"axis_label\":\"parameters\",\"formatter\":{\"id\":\"2331\"},\"ticker\":{\"id\":\"2302\"}},\"id\":\"2301\",\"type\":\"CategoricalAxis\"},{\"attributes\":{\"fill_alpha\":{\"value\":0.1},\"fill_color\":{\"value\":\"red\"},\"line_alpha\":{\"value\":0.1},\"line_color\":{\"value\":\"red\"},\"size\":{\"units\":\"screen\",\"value\":5},\"x\":{\"field\":\"names\"},\"y\":{\"field\":\"St\"}},\"id\":\"2339\",\"type\":\"Circle\"},{\"attributes\":{\"overlay\":{\"id\":\"2314\"}},\"id\":\"2310\",\"type\":\"BoxZoomTool\"},{\"attributes\":{},\"id\":\"2308\",\"type\":\"PanTool\"},{\"attributes\":{\"source\":{\"id\":\"2289\"}},\"id\":\"2326\",\"type\":\"CDSView\"},{\"attributes\":{\"source\":{\"id\":\"2289\"}},\"id\":\"2341\",\"type\":\"CDSView\"},{\"attributes\":{\"label\":{\"value\":\"S\"},\"renderers\":[{\"id\":\"2325\"}]},\"id\":\"2336\",\"type\":\"LegendItem\"},{\"attributes\":{\"fill_color\":{\"value\":\"blue\"},\"line_color\":{\"value\":\"blue\"},\"size\":{\"units\":\"screen\",\"value\":5},\"x\":{\"field\":\"names\"},\"y\":{\"field\":\"S\"}},\"id\":\"2323\",\"type\":\"Circle\"},{\"attributes\":{},\"id\":\"2329\",\"type\":\"BasicTickFormatter\"},{\"attributes\":{\"fill_alpha\":{\"value\":0.1},\"fill_color\":{\"value\":\"blue\"},\"line_alpha\":{\"value\":0.1},\"line_color\":{\"value\":\"blue\"},\"size\":{\"units\":\"screen\",\"value\":5},\"x\":{\"field\":\"names\"},\"y\":{\"field\":\"S\"}},\"id\":\"2324\",\"type\":\"Circle\"},{\"attributes\":{\"axis\":{\"id\":\"2304\"},\"dimension\":1,\"ticker\":null},\"id\":\"2307\",\"type\":\"Grid\"},{\"attributes\":{},\"id\":\"2299\",\"type\":\"LinearScale\"},{\"attributes\":{\"active_drag\":\"auto\",\"active_inspect\":\"auto\",\"active_multi\":null,\"active_scroll\":\"auto\",\"active_tap\":\"auto\",\"tools\":[{\"id\":\"2308\"},{\"id\":\"2309\"},{\"id\":\"2310\"},{\"id\":\"2311\"},{\"id\":\"2312\"},{\"id\":\"2313\"}]},\"id\":\"2315\",\"type\":\"Toolbar\"}],\"root_ids\":[\"2290\"]},\"title\":\"Bokeh Application\",\"version\":\"2.2.3\"}};\n",
       "  var render_items = [{\"docid\":\"8654cd06-a8b1-4ae9-8f1f-8621fcc25c18\",\"root_ids\":[\"2290\"],\"roots\":{\"2290\":\"f893c5d1-99d8-4a00-9613-7f359f87a34b\"}}];\n",
       "  root.Bokeh.embed.embed_items_notebook(docs_json, render_items);\n",
       "\n",
       "  }\n",
       "  if (root.Bokeh !== undefined) {\n",
       "    embed_document(root);\n",
       "  } else {\n",
       "    var attempts = 0;\n",
       "    var timer = setInterval(function(root) {\n",
       "      if (root.Bokeh !== undefined) {\n",
       "        clearInterval(timer);\n",
       "        embed_document(root);\n",
       "      } else {\n",
       "        attempts++;\n",
       "        if (attempts > 100) {\n",
       "          clearInterval(timer);\n",
       "          console.log(\"Bokeh: ERROR: Unable to run BokehJS code because BokehJS library is missing\");\n",
       "        }\n",
       "      }\n",
       "    }, 10, root)\n",
       "  }\n",
       "})(window);"
      ],
      "application/vnd.bokehjs_exec.v0+json": ""
     },
     "metadata": {
      "application/vnd.bokehjs_exec.v0+json": {
       "id": "2290"
      }
     },
     "output_type": "display_data"
    },
    {
     "name": "stdout",
     "output_type": "stream",
     "text": [
      "--------------------------------------------- T(Umax) ----------------------------------------------\n"
     ]
    },
    {
     "data": {
      "text/html": [
       "\n",
       "\n",
       "\n",
       "\n",
       "\n",
       "\n",
       "  <div class=\"bk-root\" id=\"216ba22c-7b50-434f-bc29-dd4648365e12\" data-root-id=\"2488\"></div>\n"
      ]
     },
     "metadata": {},
     "output_type": "display_data"
    },
    {
     "data": {
      "application/javascript": [
       "(function(root) {\n",
       "  function embed_document(root) {\n",
       "    \n",
       "  var docs_json = {\"739f8c98-46c7-4388-8f74-e9baaed5d0d1\":{\"roots\":{\"references\":[{\"attributes\":{\"below\":[{\"id\":\"2499\"}],\"center\":[{\"id\":\"2501\"},{\"id\":\"2505\"},{\"id\":\"2533\"}],\"left\":[{\"id\":\"2502\"}],\"plot_height\":450,\"plot_width\":900,\"renderers\":[{\"id\":\"2523\"},{\"id\":\"2538\"}],\"title\":{\"id\":\"2489\"},\"toolbar\":{\"id\":\"2513\"},\"x_range\":{\"id\":\"2491\"},\"x_scale\":{\"id\":\"2495\"},\"y_range\":{\"id\":\"2493\"},\"y_scale\":{\"id\":\"2497\"}},\"id\":\"2488\",\"subtype\":\"Figure\",\"type\":\"Plot\"},{\"attributes\":{},\"id\":\"2497\",\"type\":\"LinearScale\"},{\"attributes\":{},\"id\":\"2510\",\"type\":\"ResetTool\"},{\"attributes\":{\"overlay\":{\"id\":\"2512\"}},\"id\":\"2508\",\"type\":\"BoxZoomTool\"},{\"attributes\":{},\"id\":\"2509\",\"type\":\"SaveTool\"},{\"attributes\":{\"label\":{\"value\":\"S\"},\"renderers\":[{\"id\":\"2523\"}]},\"id\":\"2534\",\"type\":\"LegendItem\"},{\"attributes\":{\"fill_alpha\":{\"value\":0.1},\"fill_color\":{\"value\":\"blue\"},\"line_alpha\":{\"value\":0.1},\"line_color\":{\"value\":\"blue\"},\"size\":{\"units\":\"screen\",\"value\":5},\"x\":{\"field\":\"names\"},\"y\":{\"field\":\"S\"}},\"id\":\"2522\",\"type\":\"Circle\"},{\"attributes\":{},\"id\":\"2506\",\"type\":\"PanTool\"},{\"attributes\":{\"data_source\":{\"id\":\"2487\"},\"glyph\":{\"id\":\"2521\"},\"hover_glyph\":null,\"muted_glyph\":null,\"nonselection_glyph\":{\"id\":\"2522\"},\"selection_glyph\":null,\"view\":{\"id\":\"2524\"}},\"id\":\"2523\",\"type\":\"GlyphRenderer\"},{\"attributes\":{},\"id\":\"2503\",\"type\":\"BasicTicker\"},{\"attributes\":{\"fill_alpha\":{\"value\":0.1},\"fill_color\":{\"value\":\"red\"},\"line_alpha\":{\"value\":0.1},\"line_color\":{\"value\":\"red\"},\"size\":{\"units\":\"screen\",\"value\":5},\"x\":{\"field\":\"names\"},\"y\":{\"field\":\"St\"}},\"id\":\"2537\",\"type\":\"Circle\"},{\"attributes\":{\"fill_color\":{\"value\":\"blue\"},\"line_color\":{\"value\":\"blue\"},\"size\":{\"units\":\"screen\",\"value\":5},\"x\":{\"field\":\"names\"},\"y\":{\"field\":\"S\"}},\"id\":\"2521\",\"type\":\"Circle\"},{\"attributes\":{\"active_drag\":\"auto\",\"active_inspect\":\"auto\",\"active_multi\":null,\"active_scroll\":\"auto\",\"active_tap\":\"auto\",\"tools\":[{\"id\":\"2506\"},{\"id\":\"2507\"},{\"id\":\"2508\"},{\"id\":\"2509\"},{\"id\":\"2510\"},{\"id\":\"2511\"}]},\"id\":\"2513\",\"type\":\"Toolbar\"},{\"attributes\":{\"bottom_units\":\"screen\",\"fill_alpha\":0.5,\"fill_color\":\"lightgrey\",\"left_units\":\"screen\",\"level\":\"overlay\",\"line_alpha\":1.0,\"line_color\":\"black\",\"line_dash\":[4,4],\"line_width\":2,\"right_units\":\"screen\",\"top_units\":\"screen\"},\"id\":\"2512\",\"type\":\"BoxAnnotation\"},{\"attributes\":{\"source\":{\"id\":\"2487\"}},\"id\":\"2539\",\"type\":\"CDSView\"},{\"attributes\":{\"data_source\":{\"id\":\"2487\"},\"glyph\":{\"id\":\"2536\"},\"hover_glyph\":null,\"muted_glyph\":null,\"nonselection_glyph\":{\"id\":\"2537\"},\"selection_glyph\":null,\"view\":{\"id\":\"2539\"}},\"id\":\"2538\",\"type\":\"GlyphRenderer\"},{\"attributes\":{\"items\":[{\"id\":\"2534\"},{\"id\":\"2548\"}]},\"id\":\"2533\",\"type\":\"Legend\"},{\"attributes\":{\"source\":{\"id\":\"2487\"}},\"id\":\"2524\",\"type\":\"CDSView\"},{\"attributes\":{\"axis\":{\"id\":\"2499\"},\"ticker\":null},\"id\":\"2501\",\"type\":\"Grid\"},{\"attributes\":{},\"id\":\"2493\",\"type\":\"DataRange1d\"},{\"attributes\":{\"data\":{\"S\":{\"__ndarray__\":\"AAAAAAAAAAC/b4U/hRBnP+L/UOq9rqI/SqdrQl+W6z8M00EP81+UP52fR/TziH6/\",\"dtype\":\"float64\",\"order\":\"little\",\"shape\":[6]},\"St\":{\"__ndarray__\":\"AAAAAAAAAABnlyRegum2P7LC55+ON5Y/yIHwZ5NP7T/K2mgCPxG3P3QKSWWf3pI/\",\"dtype\":\"float64\",\"order\":\"little\",\"shape\":[6]},\"names\":[\"pa\",\"NI\",\"R0\",\"mu\",\"t0\",\"Im0\"]},\"selected\":{\"id\":\"2532\"},\"selection_policy\":{\"id\":\"2531\"}},\"id\":\"2487\",\"type\":\"ColumnDataSource\"},{\"attributes\":{\"fill_color\":{\"value\":\"red\"},\"line_color\":{\"value\":\"red\"},\"size\":{\"units\":\"screen\",\"value\":5},\"x\":{\"field\":\"names\"},\"y\":{\"field\":\"St\"}},\"id\":\"2536\",\"type\":\"Circle\"},{\"attributes\":{\"axis\":{\"id\":\"2502\"},\"dimension\":1,\"ticker\":null},\"id\":\"2505\",\"type\":\"Grid\"},{\"attributes\":{\"factors\":[\"pa\",\"NI\",\"R0\",\"mu\",\"t0\",\"Im0\"]},\"id\":\"2491\",\"type\":\"FactorRange\"},{\"attributes\":{},\"id\":\"2527\",\"type\":\"BasicTickFormatter\"},{\"attributes\":{},\"id\":\"2495\",\"type\":\"CategoricalScale\"},{\"attributes\":{},\"id\":\"2511\",\"type\":\"HelpTool\"},{\"attributes\":{\"axis_label\":\"Index value\",\"formatter\":{\"id\":\"2527\"},\"ticker\":{\"id\":\"2503\"}},\"id\":\"2502\",\"type\":\"LinearAxis\"},{\"attributes\":{\"text\":\"Sobol analysis\"},\"id\":\"2489\",\"type\":\"Title\"},{\"attributes\":{},\"id\":\"2507\",\"type\":\"WheelZoomTool\"},{\"attributes\":{\"label\":{\"value\":\"St\"},\"renderers\":[{\"id\":\"2538\"}]},\"id\":\"2548\",\"type\":\"LegendItem\"},{\"attributes\":{},\"id\":\"2532\",\"type\":\"Selection\"},{\"attributes\":{},\"id\":\"2500\",\"type\":\"CategoricalTicker\"},{\"attributes\":{},\"id\":\"2531\",\"type\":\"UnionRenderers\"},{\"attributes\":{},\"id\":\"2529\",\"type\":\"CategoricalTickFormatter\"},{\"attributes\":{\"axis_label\":\"parameters\",\"formatter\":{\"id\":\"2529\"},\"ticker\":{\"id\":\"2500\"}},\"id\":\"2499\",\"type\":\"CategoricalAxis\"}],\"root_ids\":[\"2488\"]},\"title\":\"Bokeh Application\",\"version\":\"2.2.3\"}};\n",
       "  var render_items = [{\"docid\":\"739f8c98-46c7-4388-8f74-e9baaed5d0d1\",\"root_ids\":[\"2488\"],\"roots\":{\"2488\":\"216ba22c-7b50-434f-bc29-dd4648365e12\"}}];\n",
       "  root.Bokeh.embed.embed_items_notebook(docs_json, render_items);\n",
       "\n",
       "  }\n",
       "  if (root.Bokeh !== undefined) {\n",
       "    embed_document(root);\n",
       "  } else {\n",
       "    var attempts = 0;\n",
       "    var timer = setInterval(function(root) {\n",
       "      if (root.Bokeh !== undefined) {\n",
       "        clearInterval(timer);\n",
       "        embed_document(root);\n",
       "      } else {\n",
       "        attempts++;\n",
       "        if (attempts > 100) {\n",
       "          clearInterval(timer);\n",
       "          console.log(\"Bokeh: ERROR: Unable to run BokehJS code because BokehJS library is missing\");\n",
       "        }\n",
       "      }\n",
       "    }, 10, root)\n",
       "  }\n",
       "})(window);"
      ],
      "application/vnd.bokehjs_exec.v0+json": ""
     },
     "metadata": {
      "application/vnd.bokehjs_exec.v0+json": {
       "id": "2488"
      }
     },
     "output_type": "display_data"
    }
   ],
   "source": [
    "# indexes that we are interested into\n",
    "names = ['pa','NI','R0','mu','t0','Im0']\n",
    "idxes = [key_to_idx[n] for n in names]\n",
    "\n",
    "print('{:-^100}'.format(' Umax '))\n",
    "plot_sobol(Si['S1'][idxes],Si['ST'][idxes], names = names)\n",
    "print('{:-^100}'.format(' T(Umax) '))\n",
    "plot_sobol(Si_T['S1'][idxes],Si_T['ST'][idxes],names=names)"
   ]
  },
  {
   "cell_type": "markdown",
   "metadata": {},
   "source": [
    "Contrairement à précédemment et l'analyse via les algorithmes que nous avons codé, les résultats sont différents. En effet, sur $U_{max}$ les résultats sont en accord avec l'analyse de Morris : l'impact d'un paramètre doit être considéré dans sa relation aux aux paramètres. Pour $T(U_{max})$, c'est moins le cas. On voit d'ailleurs que pour ce dernier, le paramètre $\\mu$ est particulièrement important."
   ]
  },
  {
   "cell_type": "markdown",
   "metadata": {},
   "source": [
    "## Q5) Analyse de Sobol pour $H$, $U$, $D$, $RH$ et en fonction du temps"
   ]
  },
  {
   "cell_type": "code",
   "execution_count": 28,
   "metadata": {},
   "outputs": [],
   "source": [
    "def HUDRH(sol): # since we are using f inside the functions and that f returns solution that starts the same day each time, we can simply compare it this way\n",
    "    # order : S, Im, Ip, Rm, RI, H, U, RH, D, DR\n",
    "    return np.transpose(sol[:, [ykeys['H'],ykeys['U'],ykeys['D'],ykeys['RH']]]) # not taking the first value as the 0 causes problem to appear"
   ]
  },
  {
   "cell_type": "code",
   "execution_count": 29,
   "metadata": {},
   "outputs": [],
   "source": [
    "sobol_manual = False # by default, not done with our algorithm.\n",
    "if(sobol_manual):\n",
    "    names = ['H','U','D','RH']\n",
    "    idxes = [key_to_idx[n] for n in names]\n",
    "    S, St = Sobol(fn = HUDRH, R = 200, method = 'MC')\n",
    "    for idx, s in enumerate(['H','U','D','RH']):  \n",
    "        print('{:-^100}'.format(' '+s+' '))\n",
    "        plot_sobol_time(S[idxes,idx,:],St[idxes,idx,:], names = names)"
   ]
  },
  {
   "cell_type": "markdown",
   "metadata": {},
   "source": [
    "### En utilisant *SALib* :"
   ]
  },
  {
   "cell_type": "code",
   "execution_count": 30,
   "metadata": {},
   "outputs": [],
   "source": [
    "def eval_fn_HUDRH(X):\n",
    "    H, U, D, RH = [],[],[],[]\n",
    "    for x in X:\n",
    "        h, u, d, rh = HUDRH(f(x))\n",
    "        H.append(h)\n",
    "        U.append(u)\n",
    "        D.append(d)\n",
    "        RH.append(rh)\n",
    "    return np.array(H, dtype = float), np.array(U, dtype = float), np.array(D, dtype = float), np.array(RH, dtype = float)"
   ]
  },
  {
   "cell_type": "code",
   "execution_count": 31,
   "metadata": {},
   "outputs": [],
   "source": [
    "# Generate samples\n",
    "param_values = saltelli.sample(problem, 100)\n",
    "# Run model (example)\n",
    "H,U,D,RH = eval_fn_HUDRH(param_values) # size [nb_input, nb times]"
   ]
  },
  {
   "cell_type": "code",
   "execution_count": 32,
   "metadata": {},
   "outputs": [
    {
     "name": "stderr",
     "output_type": "stream",
     "text": [
      "/home/paul/miniconda3/envs/map551/lib/python3.8/site-packages/SALib/analyze/sobol.py:93: RuntimeWarning: invalid value encountered in true_divide\n",
      "  Y = (Y - Y.mean()) / Y.std()\n"
     ]
    }
   ],
   "source": [
    "# Perform analysis\n",
    "Si_H = np.array([list(map(sobol.analyze(problem, H[:,k]).get, ['S1','ST'])) for k in range(H.shape[1])]) # shape : [nb_times, 2, nb_input_params = 15]\n",
    "Si_U = np.array([list(map(sobol.analyze(problem, U[:,k]).get, ['S1','ST'])) for k in range(U.shape[1])])\n",
    "Si_D = np.array([list(map(sobol.analyze(problem, D[:,k]).get, ['S1','ST'])) for k in range(D.shape[1])])\n",
    "Si_RH = np.array([list(map(sobol.analyze(problem, RH[:,k]).get, ['S1','ST'])) for k in range(RH.shape[1])])"
   ]
  },
  {
   "cell_type": "code",
   "execution_count": 33,
   "metadata": {},
   "outputs": [],
   "source": [
    "sobol_analysis_time = {\n",
    "    'H':Si_H,\n",
    "    'U':Si_U,\n",
    "    'D':Si_D,\n",
    "    'RH':Si_RH\n",
    "}"
   ]
  },
  {
   "cell_type": "markdown",
   "metadata": {},
   "source": [
    "Les graphes qui suivent sont assez chargés, mais *bokeh* permet de ne sélectionner que certaines courbes à afficher pour plus de clarté."
   ]
  },
  {
   "cell_type": "code",
   "execution_count": 34,
   "metadata": {},
   "outputs": [
    {
     "name": "stdout",
     "output_type": "stream",
     "text": [
      "------------------------------------------------ H -------------------------------------------------\n"
     ]
    },
    {
     "data": {
      "text/html": [
       "\n",
       "\n",
       "\n",
       "\n",
       "\n",
       "\n",
       "  <div class=\"bk-root\" id=\"5e6d4375-1288-4a92-8534-337a646c528e\" data-root-id=\"2693\"></div>\n"
      ]
     },
     "metadata": {},
     "output_type": "display_data"
    },
    {
     "data": {
      "application/javascript": [
       "(function(root) {\n",
       "  function embed_document(root) {\n",
       "    \n",
       "  var docs_json = {\"d61ef76e-f335-4f43-822f-5c49835791be\":{\"roots\":{\"references\":[{\"attributes\":{\"below\":[{\"id\":\"2704\"}],\"center\":[{\"id\":\"2707\"},{\"id\":\"2711\"}],\"left\":[{\"id\":\"2708\"}],\"plot_height\":450,\"plot_width\":900,\"renderers\":[{\"id\":\"2731\"},{\"id\":\"2737\"},{\"id\":\"2744\"},{\"id\":\"2750\"},{\"id\":\"2757\"},{\"id\":\"2763\"},{\"id\":\"2770\"},{\"id\":\"2776\"},{\"id\":\"2783\"},{\"id\":\"2789\"},{\"id\":\"2796\"},{\"id\":\"2802\"},{\"id\":\"2807\"},{\"id\":\"2812\"},{\"id\":\"2817\"}],\"right\":[{\"id\":\"2819\"}],\"title\":{\"id\":\"2694\"},\"toolbar\":{\"id\":\"2719\"},\"x_range\":{\"id\":\"2696\"},\"x_scale\":{\"id\":\"2700\"},\"y_range\":{\"id\":\"2698\"},\"y_scale\":{\"id\":\"2702\"}},\"id\":\"2693\",\"subtype\":\"Figure\",\"type\":\"Plot\"},{\"attributes\":{\"data\":{\"S\":{\"__ndarray__\":\"AAAAAAAA+P+nEy4RQQ2APwwESM9CC4c/WfceYH6gjT8oOAS63mqQP8S8tZMMj4c/CS3xU8Tsgj+/VjCT/juBP9gfR/y71oE/WUs7XuRZgz8wLbHjxgOGP0AzyNBMoIg/4aUlMw2bij/1E/2gq1uMPwSEwP57A44/zNZgjrmVjz9Ts26nanGQPy7648Un95A/O4KYMidjkT9qZInokb+RP47VOjkF2JE/F6KKAoc6kj+8wADQmYySP3XIo53X2pI/DvS+zKQukz9uLzjzVnSTP/Cj5gS6fpM/GobxewqQkz/Ic0SUaaOTP46CbLZYtpM/zVqg+9XIkz/axExTx9mTP/ybNXjU6JM/L3q1LDwClD+bvekF4UeUPwCp+3741ZQ/V/zLHKS5lT93WtHbH/WWP8eVnlZPhpg/6eyZA1himj83hBSi1HGcP16CK8e6lZ4/VY17c7JaoD8AzcTMe1+hP3RNsQRKUqI/52eZV+Qsoz86NoqExumjP1MTwzTohqQ/G/NqIbAGpT8yXgEZC26lP5wUh+Bpw6U/ot+DLqwMpj/3rW3XAE+mP17gPzFcj6Y/S95tsHvSpj8YYF9VqhynPzTnWRWKcac/gaZto/XTpz8+Ufzp90WoPwdTcZPVyKg/lQ2YlB5dqT9zLh+pvQKqP9x7xbD/uKo/l1z5kpF+qz+u02FQd1GsP6DDFCoBL60/mAvfx8QTrj+o0fb/n/uuP5TxGbLJ4a8/wgX7qnlgsD8wTfayvcmwP+1MKf3WKbE/hPrlHwd+sT8+nZek0MOxP88z1NEY+bE/VqFd2EEcsj9CpURXOiyyP3h4GtCAKLI/VJeqahsRsj8NtcUNhuaxP40RVw6aqbE/Utmn9HJbsT+uxX/IU/2wP8ZAMnWPkLA/I3h59XUWsD/Sz+OtjSCvPzD7KhdS/q0/pD+shE7IrD9JlWOgX4CrP6InJUMuKKo/N4a4cTfBqD+1p4bJ1UynP3Dq7kFLzKU/vWePIcpApD+KP4HyfKuiPyXtD9uMDaE/LLRU1UzQnj+5fGGV+XibPwhv2f6WF5g/Frtuqa2ulD9hpbFi1kCRP691Yz5uoYs/YMpd0/zBhD+jQZtfeNF7PyrmKrYpbGw/xVwoR+6MJz8hvxynZiJpv3mtBhuzqHm/\",\"dtype\":\"float64\",\"order\":\"little\",\"shape\":[108]},\"St\":{\"__ndarray__\":\"AAAAAAAA+P+uCPvERyCoP6OAbqyxM6o/zEKDKGelqz8yFEeZb7etP8dnEQX2NrA/yqfD1QHbsT+lsML4d9WzP3nUyjrPH7Y/cSLEVKS0uD/jwhdP0ZG7P6Ap6UQar74/SZHUpP0EwT+JtHCCKMbCP1zhjauglsQ/qQsWe+10xj94R0v2pFfIP+c9Mm/UOco/wh9h3MsYzD/KjFpbpPHNP+Kz9pknwc8/+LihxOHC0D8a4AFbN5/RP3NYmPj5dNI/Yq01D7BD0z+1md1VbwvUPxNl1nVTzNQ/ZdPQjZ+G1T/gyoOImjrWPz8Gcmmp6NY/t5ojfjKR1z+VbwPDpDTYP6GFkVkh1Ng/TPWpRCB72T+1IlzSUjjaP3C7ha7LFds/NoGRxhAa3D9/JpvOwUjdP/Ev98Heot4/QZi7DXET4D87TqQ14+PgP636sYx1tOE/ApEhLzR74j+aVR1KZTLjP+giYYkB1+M/gB604Hln5D8EJLOYWuDkP5fjhyT9OuU/miIqI+Zy5T/GYgnYb4blP1OQGgxDeOU/i9DsvsRN5T/FYAQr2A3lP9LLX3Tov+Q/xZ+ltnBr5D+/6FBj6hbkP9VEGnwmx+M/i/SAGRp/4z+isYlu9D/jP3Fxi2hkCeM/AM/HtPPZ4j85vTPhY6/iP6CR03sCh+I/RHtble9d4j84QWwPVjHiP2ehp1GX/uE/D0GsmWzD4T+OengdAH7hP14Yfoj/LOE/+WW9nKjP4D8XBq7tz2XgP8eQkSXC398/5fSkHq/d3j/NUkTFX8jdP7g1g9+ho9w/akWhw91z2z9RCMZf0z3aPzwn719UBtk/qWh9zQHS1z8e/X4QE6XWPw7T7rsqg9U/5RtsYztv1D9rvTyXfGvTPxBsJSluedI/bq1EtOaZ0T/RQr/JKc3QP7y+SDQCE9A/bLhSprrVzj+LieF/yqfNP5ESRWswmsw/sVAj2Liqyz9nX8QoINfKP9DuwDErHco/Bjbt0rh6yT9jyeqqze3IP5+sjd2adMg/xB7j5YANyD+kT/9ZD7fHPx4M73ICcMc/6UELBD83xz8Jg9V8zQvHP4ZMhWPU7MY/LbIRuZLZxj9HHG6NWtHGP+N1wvqL08Y/O+wxtpDfxj9EFz5A2PTGP3uI9tHUEsc/\",\"dtype\":\"float64\",\"order\":\"little\",\"shape\":[108]},\"times\":[0,1,2,3,4,5,6,7,8,9,10,11,12,13,14,15,16,17,18,19,20,21,22,23,24,25,26,27,28,29,30,31,32,33,34,35,36,37,38,39,40,41,42,43,44,45,46,47,48,49,50,51,52,53,54,55,56,57,58,59,60,61,62,63,64,65,66,67,68,69,70,71,72,73,74,75,76,77,78,79,80,81,82,83,84,85,86,87,88,89,90,91,92,93,94,95,96,97,98,99,100,101,102,103,104,105,106,107]},\"selected\":{\"id\":\"2942\"},\"selection_policy\":{\"id\":\"2941\"}},\"id\":\"2739\",\"type\":\"ColumnDataSource\"},{\"attributes\":{\"data_source\":{\"id\":\"2814\"},\"glyph\":{\"id\":\"2815\"},\"hover_glyph\":null,\"muted_glyph\":null,\"nonselection_glyph\":{\"id\":\"2816\"},\"selection_glyph\":null,\"view\":{\"id\":\"2818\"}},\"id\":\"2817\",\"type\":\"GlyphRenderer\"},{\"attributes\":{\"fill_alpha\":{\"value\":0.1},\"fill_color\":{\"value\":\"#3B0F6F\"},\"line_alpha\":{\"value\":0.1},\"line_color\":{\"value\":\"#3B0F6F\"},\"line_width\":{\"value\":1.5},\"x\":{\"field\":\"times\"},\"y\":{\"field\":\"S\"}},\"id\":\"2742\",\"type\":\"X\"},{\"attributes\":{\"fill_color\":{\"value\":\"#DD4968\"},\"line_color\":{\"value\":\"#DD4968\"},\"line_width\":{\"value\":1.5},\"x\":{\"field\":\"times\"},\"y\":{\"field\":\"S\"}},\"id\":\"2767\",\"type\":\"X\"},{\"attributes\":{\"line_color\":\"blue\",\"x\":{\"field\":\"x\"},\"y\":{\"field\":\"y\"}},\"id\":\"2815\",\"type\":\"Line\"},{\"attributes\":{\"label\":{\"value\":\"R0\"},\"renderers\":[{\"id\":\"2757\"},{\"id\":\"2763\"}]},\"id\":\"2822\",\"type\":\"LegendItem\"},{\"attributes\":{\"data\":{\"x\":[],\"y\":[]},\"selected\":{\"id\":\"2956\"},\"selection_policy\":{\"id\":\"2955\"}},\"id\":\"2814\",\"type\":\"ColumnDataSource\"},{\"attributes\":{\"data_source\":{\"id\":\"2791\"},\"glyph\":{\"id\":\"2799\"},\"hover_glyph\":null,\"muted_glyph\":{\"id\":\"2801\"},\"nonselection_glyph\":{\"id\":\"2800\"},\"selection_glyph\":null,\"view\":{\"id\":\"2803\"}},\"id\":\"2802\",\"type\":\"GlyphRenderer\"},{\"attributes\":{\"label\":{\"value\":\"\"},\"renderers\":[{\"id\":\"2807\"}]},\"id\":\"2826\",\"type\":\"LegendItem\"},{\"attributes\":{\"source\":{\"id\":\"2778\"}},\"id\":\"2784\",\"type\":\"CDSView\"},{\"attributes\":{\"line_alpha\":0.01,\"line_color\":\"#8C2980\",\"line_width\":1.5,\"x\":{\"field\":\"times\"},\"y\":{\"field\":\"St\"}},\"id\":\"2762\",\"type\":\"Line\"},{\"attributes\":{\"fill_alpha\":{\"value\":0.01},\"fill_color\":{\"value\":\"#000003\"},\"line_alpha\":{\"value\":0.01},\"line_color\":{\"value\":\"#000003\"},\"line_width\":{\"value\":1.5},\"x\":{\"field\":\"times\"},\"y\":{\"field\":\"S\"}},\"id\":\"2730\",\"type\":\"X\"},{\"attributes\":{\"line_alpha\":0.1,\"line_color\":\"#DD4968\",\"line_width\":1.5,\"x\":{\"field\":\"times\"},\"y\":{\"field\":\"St\"}},\"id\":\"2774\",\"type\":\"Line\"},{\"attributes\":{\"source\":{\"id\":\"2739\"}},\"id\":\"2745\",\"type\":\"CDSView\"},{\"attributes\":{\"data_source\":{\"id\":\"2765\"},\"glyph\":{\"id\":\"2767\"},\"hover_glyph\":null,\"muted_glyph\":{\"id\":\"2769\"},\"nonselection_glyph\":{\"id\":\"2768\"},\"selection_glyph\":null,\"view\":{\"id\":\"2771\"}},\"id\":\"2770\",\"type\":\"GlyphRenderer\"},{\"attributes\":{\"fill_color\":{\"value\":\"#3B0F6F\"},\"line_color\":{\"value\":\"#3B0F6F\"},\"line_width\":{\"value\":1.5},\"x\":{\"field\":\"times\"},\"y\":{\"field\":\"S\"}},\"id\":\"2741\",\"type\":\"X\"},{\"attributes\":{\"data_source\":{\"id\":\"2726\"},\"glyph\":{\"id\":\"2734\"},\"hover_glyph\":null,\"muted_glyph\":{\"id\":\"2736\"},\"nonselection_glyph\":{\"id\":\"2735\"},\"selection_glyph\":null,\"view\":{\"id\":\"2738\"}},\"id\":\"2737\",\"type\":\"GlyphRenderer\"},{\"attributes\":{\"data\":{\"S\":{\"__ndarray__\":\"AAAAAAAA+P8AAAAAAAAAAAAAAAAAAAAAAAAAAAAAAAAAAAAAAAAAAAAAAAAAAAAAAAAAAAAAAAAAAAAAAAAAAAAAAAAAAAAAAAAAAAAAAAAAAAAAAAAAAAAAAAAAAAAAAAAAAAAAAAAAAAAAAAAAAAAAAAAAAAAAAAAAAAAAAAAAAAAAAAAAAAAAAAAAAAAAAAAAAAAAAAAAAAAAAAAAAAAAAAAAAAAAAAAAAAAAAAAAAAAAAAAAAAAAAAAAAAAAAAAAAAAAAAAAAAAAAAAAAAAAAAAAAAAAAAAAAAAAAAAAAAAAAAAAAAAAAAAAAAAAAAAAAAAAAADXCTrEHGoGPOnclOMwY3S+YAZL7pU15L4M/FhS9RUJv6jUsprhph+/7PoG2BEhLr82644yAI84v4/NihZyPEK/EPCd5TsZSb+tTwe3X4tQv8ZWtIuy71W/kDTI8vEpXb+Ga9L82B1jvyPOi4s/cWi/+G9LK1BSbr9rcf0mD0dyv49T63b9kHW/BO4Ad30Aeb9ypZpZf4d8vxPu/EsYCoC/VaWev9THgb9bdo+ttHCDv7rbDIZe/YS/wxHXEMZthr9j1/knycOHv8Swxd8vAYm/V2Nc0J0mir8ZZpKrozKLv+gZap8YIYy/hKBLwM/qjL8RZlABq4WNvyi6pE3/5I2/am/eBjb6jb8DLRr3l7WNvwdYfzcxB42/dM8dkMPfi7+U8E8IvzGKvxHE8PE38oe/+FoJncwZhb9Yd0yIZ6WBv+qvJimKLXu/wGTui0fpcb/UzKN7U1Revy7h5Ak3fk0/bpM3Lu9/bz9wbAP56XJ8P/uzZBD2z4Q/gCpJQKGQiz97kZQqtjWRPzDXtDwRqpQ/7BoeGn4hmD8rUmPbZJqbP8hDbBVdFZ8/n5o/XnVKoT855EdAkA6jP9iCvmia2aQ/yssFKIqupj9QERUVfZCoPxLjjAiKgqo/Z1o2hJqHrD8QSpIXTKKuP9cmyeBsarA/1eToRoaQsT+3Y9FsGcSyP1SN8puOBbQ/6gzs9g9VtT/N3AcmjLK2Pz3KZ4S6Hbg/a5KzVyCWuT/WZvvdFhu7P2smwNLRq7w/EZFSJ2ZHvj+r6ffB0Oy/P8d+zoV+zcA/zzT2lGWowT90FQDgiobCP2lXpo9bZ8M/\",\"dtype\":\"float64\",\"order\":\"little\",\"shape\":[108]},\"St\":{\"__ndarray__\":\"AAAAAAAA+P8AAAAAAAAAAAAAAAAAAAAAAAAAAAAAAAAAAAAAAAAAAAAAAAAAAAAAAAAAAAAAAAAAAAAAAAAAAAAAAAAAAAAAAAAAAAAAAAAAAAAAAAAAAAAAAAAAAAAAAAAAAAAAAAAAAAAAAAAAAAAAAAAAAAAAAAAAAAAAAAAAAAAAAAAAAAAAAAAAAAAAAAAAAAAAAAAAAAAAAAAAAAAAAAAAAAAAAAAAAAAAAAAAAAAAAAAAAAAAAAAAAAAAAAAAAAAAAAAAAAAAAAAAAAAAAAAAAAAAAAAAAAAAAAAAAAAAAAAAAAAAAAAAAAAAAAAAAAAAAABPcj3Xid+0OJUCz6d+JZQ98KQyarFAcj4wFJVLlnO/PvFURyyhiew+IaoJ9p9JDD/BqFqD/b8jPzewLliU4zU/TIFP6siQRD/9XsG+chNRPwf3hDY9A1o/BC7eJZMCYz/QLbgHdMNrP9RGNOkulXQ/yI/jB/mlfj93ZydhoHOGPza1A/os5Y8/qus+3KrTlT9WkKHus8ScP0/8PdTZTqI/9dMBvX6Wpj/lPbBO+h2rP1JJgMR9yq8/xM0wl49Csj+Y0Uw7GZ60PyLzqf/g8bY/Wq3i/ZY6uT+Npwa4GHe7Pzk3MSDWp70/RPS6WznOvz9f1T8SEfbAP9Tvsnu+AcI/1Bl3wfwKwz8nLav+bxLEP1NAVUiAGMU/oYFN6lodxj9pcj4E+SDHPwsQAAsoI8g/sO26zJEjyT/oR+5pwyHKPxOSQBkzHcs/2mrIyUUVzD8eXT5LVQnNPwCkNMO3+M0/PM9mP8jizj+5lDrs78bPP9oxanFXUtA/YbCvzdG90D82gWbqxyXRP+8qW0MtitE/byxIXAfr0T//l0vTa0jSPyAQFnN9otI/kZKHtWj50j+f3lEgYE3TP1mfgtyYntM/0sJCvUft0z/SM53mnjnUP+E15BHMg9Q/NfAMcffL1D97tQYYQxLVP5hr3tnKVtU/+rGta6SZ1T+Wui3O39rVP6TxpNWHGtY/IMorxqJY1j+gEZ72MpXWPznMaHA30NY/iUe3hqwJ1z9qColijEHXP+yTmH/Pd9c/pO4kHG2s1z/Z7hScW9/XP/qfk9yQENg/QH4tewJA2D/uNvYUpm3YP4Ue4nFxmdg/\",\"dtype\":\"float64\",\"order\":\"little\",\"shape\":[108]},\"times\":[0,1,2,3,4,5,6,7,8,9,10,11,12,13,14,15,16,17,18,19,20,21,22,23,24,25,26,27,28,29,30,31,32,33,34,35,36,37,38,39,40,41,42,43,44,45,46,47,48,49,50,51,52,53,54,55,56,57,58,59,60,61,62,63,64,65,66,67,68,69,70,71,72,73,74,75,76,77,78,79,80,81,82,83,84,85,86,87,88,89,90,91,92,93,94,95,96,97,98,99,100,101,102,103,104,105,106,107]},\"selected\":{\"id\":\"2946\"},\"selection_policy\":{\"id\":\"2945\"}},\"id\":\"2765\",\"type\":\"ColumnDataSource\"},{\"attributes\":{\"line_color\":\"#FD9F6C\",\"line_width\":1.5,\"x\":{\"field\":\"times\"},\"y\":{\"field\":\"St\"}},\"id\":\"2786\",\"type\":\"Line\"},{\"attributes\":{},\"id\":\"2952\",\"type\":\"Selection\"},{\"attributes\":{\"source\":{\"id\":\"2726\"}},\"id\":\"2738\",\"type\":\"CDSView\"},{\"attributes\":{\"data_source\":{\"id\":\"2791\"},\"glyph\":{\"id\":\"2793\"},\"hover_glyph\":null,\"muted_glyph\":{\"id\":\"2795\"},\"nonselection_glyph\":{\"id\":\"2794\"},\"selection_glyph\":null,\"view\":{\"id\":\"2797\"}},\"id\":\"2796\",\"type\":\"GlyphRenderer\"},{\"attributes\":{\"label\":{\"value\":\"pa\"},\"renderers\":[{\"id\":\"2731\"},{\"id\":\"2737\"}]},\"id\":\"2820\",\"type\":\"LegendItem\"},{\"attributes\":{\"line_alpha\":0.01,\"line_color\":\"#000003\",\"line_width\":1.5,\"x\":{\"field\":\"times\"},\"y\":{\"field\":\"St\"}},\"id\":\"2736\",\"type\":\"Line\"},{\"attributes\":{\"data_source\":{\"id\":\"2778\"},\"glyph\":{\"id\":\"2780\"},\"hover_glyph\":null,\"muted_glyph\":{\"id\":\"2782\"},\"nonselection_glyph\":{\"id\":\"2781\"},\"selection_glyph\":null,\"view\":{\"id\":\"2784\"}},\"id\":\"2783\",\"type\":\"GlyphRenderer\"},{\"attributes\":{\"fill_alpha\":{\"value\":0.01},\"fill_color\":{\"value\":\"#3B0F6F\"},\"line_alpha\":{\"value\":0.01},\"line_color\":{\"value\":\"#3B0F6F\"},\"line_width\":{\"value\":1.5},\"x\":{\"field\":\"times\"},\"y\":{\"field\":\"S\"}},\"id\":\"2743\",\"type\":\"X\"},{\"attributes\":{\"data_source\":{\"id\":\"2739\"},\"glyph\":{\"id\":\"2741\"},\"hover_glyph\":null,\"muted_glyph\":{\"id\":\"2743\"},\"nonselection_glyph\":{\"id\":\"2742\"},\"selection_glyph\":null,\"view\":{\"id\":\"2745\"}},\"id\":\"2744\",\"type\":\"GlyphRenderer\"},{\"attributes\":{\"fill_alpha\":{\"value\":0.01},\"fill_color\":{\"value\":\"#8C2980\"},\"line_alpha\":{\"value\":0.01},\"line_color\":{\"value\":\"#8C2980\"},\"line_width\":{\"value\":1.5},\"x\":{\"field\":\"times\"},\"y\":{\"field\":\"S\"}},\"id\":\"2756\",\"type\":\"X\"},{\"attributes\":{\"label\":{\"value\":\"Im0\"},\"renderers\":[{\"id\":\"2796\"},{\"id\":\"2802\"}]},\"id\":\"2825\",\"type\":\"LegendItem\"},{\"attributes\":{\"fill_alpha\":{\"value\":0.01},\"fill_color\":{\"value\":\"#FD9F6C\"},\"line_alpha\":{\"value\":0.01},\"line_color\":{\"value\":\"#FD9F6C\"},\"line_width\":{\"value\":1.5},\"x\":{\"field\":\"times\"},\"y\":{\"field\":\"S\"}},\"id\":\"2782\",\"type\":\"X\"},{\"attributes\":{\"fill_color\":{\"value\":\"#FBFCBF\"},\"line_color\":{\"value\":\"#FBFCBF\"},\"line_width\":{\"value\":1.5},\"x\":{\"field\":\"times\"},\"y\":{\"field\":\"S\"}},\"id\":\"2793\",\"type\":\"X\"},{\"attributes\":{},\"id\":\"2949\",\"type\":\"UnionRenderers\"},{\"attributes\":{\"source\":{\"id\":\"2765\"}},\"id\":\"2771\",\"type\":\"CDSView\"},{\"attributes\":{\"line_alpha\":0.1,\"line_color\":\"#FD9F6C\",\"line_width\":1.5,\"x\":{\"field\":\"times\"},\"y\":{\"field\":\"St\"}},\"id\":\"2787\",\"type\":\"Line\"},{\"attributes\":{\"source\":{\"id\":\"2752\"}},\"id\":\"2758\",\"type\":\"CDSView\"},{\"attributes\":{\"line_color\":\"#8C2980\",\"line_width\":1.5,\"x\":{\"field\":\"times\"},\"y\":{\"field\":\"St\"}},\"id\":\"2760\",\"type\":\"Line\"},{\"attributes\":{\"fill_color\":{\"value\":\"#000003\"},\"line_color\":{\"value\":\"#000003\"},\"line_width\":{\"value\":1.5},\"x\":{\"field\":\"times\"},\"y\":{\"field\":\"S\"}},\"id\":\"2728\",\"type\":\"X\"},{\"attributes\":{\"line_alpha\":0.1,\"line_color\":\"blue\",\"x\":{\"field\":\"x\"},\"y\":{\"field\":\"y\"}},\"id\":\"2816\",\"type\":\"Line\"},{\"attributes\":{\"data_source\":{\"id\":\"2778\"},\"glyph\":{\"id\":\"2786\"},\"hover_glyph\":null,\"muted_glyph\":{\"id\":\"2788\"},\"nonselection_glyph\":{\"id\":\"2787\"},\"selection_glyph\":null,\"view\":{\"id\":\"2790\"}},\"id\":\"2789\",\"type\":\"GlyphRenderer\"},{\"attributes\":{\"active_drag\":\"auto\",\"active_inspect\":\"auto\",\"active_multi\":null,\"active_scroll\":\"auto\",\"active_tap\":\"auto\",\"tools\":[{\"id\":\"2712\"},{\"id\":\"2713\"},{\"id\":\"2714\"},{\"id\":\"2715\"},{\"id\":\"2716\"},{\"id\":\"2717\"}]},\"id\":\"2719\",\"type\":\"Toolbar\"},{\"attributes\":{\"fill_alpha\":{\"value\":0.1},\"fill_color\":{\"value\":\"#FD9F6C\"},\"line_alpha\":{\"value\":0.1},\"line_color\":{\"value\":\"#FD9F6C\"},\"line_width\":{\"value\":1.5},\"x\":{\"field\":\"times\"},\"y\":{\"field\":\"S\"}},\"id\":\"2781\",\"type\":\"X\"},{\"attributes\":{\"fill_alpha\":{\"value\":0.01},\"fill_color\":{\"value\":\"#FBFCBF\"},\"line_alpha\":{\"value\":0.01},\"line_color\":{\"value\":\"#FBFCBF\"},\"line_width\":{\"value\":1.5},\"x\":{\"field\":\"times\"},\"y\":{\"field\":\"S\"}},\"id\":\"2795\",\"type\":\"X\"},{\"attributes\":{\"data_source\":{\"id\":\"2752\"},\"glyph\":{\"id\":\"2760\"},\"hover_glyph\":null,\"muted_glyph\":{\"id\":\"2762\"},\"nonselection_glyph\":{\"id\":\"2761\"},\"selection_glyph\":null,\"view\":{\"id\":\"2764\"}},\"id\":\"2763\",\"type\":\"GlyphRenderer\"},{\"attributes\":{\"source\":{\"id\":\"2765\"}},\"id\":\"2777\",\"type\":\"CDSView\"},{\"attributes\":{},\"id\":\"2953\",\"type\":\"UnionRenderers\"},{\"attributes\":{\"data_source\":{\"id\":\"2752\"},\"glyph\":{\"id\":\"2754\"},\"hover_glyph\":null,\"muted_glyph\":{\"id\":\"2756\"},\"nonselection_glyph\":{\"id\":\"2755\"},\"selection_glyph\":null,\"view\":{\"id\":\"2758\"}},\"id\":\"2757\",\"type\":\"GlyphRenderer\"},{\"attributes\":{\"source\":{\"id\":\"2791\"}},\"id\":\"2797\",\"type\":\"CDSView\"},{\"attributes\":{\"line_alpha\":0.01,\"line_color\":\"#FD9F6C\",\"line_width\":1.5,\"x\":{\"field\":\"times\"},\"y\":{\"field\":\"St\"}},\"id\":\"2788\",\"type\":\"Line\"},{\"attributes\":{\"fill_alpha\":{\"value\":0.1},\"fill_color\":{\"value\":\"#DD4968\"},\"line_alpha\":{\"value\":0.1},\"line_color\":{\"value\":\"#DD4968\"},\"line_width\":{\"value\":1.5},\"x\":{\"field\":\"times\"},\"y\":{\"field\":\"S\"}},\"id\":\"2768\",\"type\":\"X\"},{\"attributes\":{\"source\":{\"id\":\"2752\"}},\"id\":\"2764\",\"type\":\"CDSView\"},{\"attributes\":{\"source\":{\"id\":\"2726\"}},\"id\":\"2732\",\"type\":\"CDSView\"},{\"attributes\":{\"line_alpha\":0.1,\"line_color\":\"#8C2980\",\"line_width\":1.5,\"x\":{\"field\":\"times\"},\"y\":{\"field\":\"St\"}},\"id\":\"2761\",\"type\":\"Line\"},{\"attributes\":{},\"id\":\"2947\",\"type\":\"UnionRenderers\"},{\"attributes\":{\"source\":{\"id\":\"2778\"}},\"id\":\"2790\",\"type\":\"CDSView\"},{\"attributes\":{},\"id\":\"2951\",\"type\":\"UnionRenderers\"},{\"attributes\":{},\"id\":\"2955\",\"type\":\"UnionRenderers\"},{\"attributes\":{\"line_alpha\":0.01,\"line_color\":\"#DD4968\",\"line_width\":1.5,\"x\":{\"field\":\"times\"},\"y\":{\"field\":\"St\"}},\"id\":\"2775\",\"type\":\"Line\"},{\"attributes\":{},\"id\":\"2950\",\"type\":\"Selection\"},{\"attributes\":{\"data\":{\"S\":{\"__ndarray__\":\"AAAAAAAA+P+4+zvOMquTvxChNpVX3pa/4Wrvpgvpnb/lOoa+wHShvzuIwmgyEam/rzhRD+LNrb9ZOfNAS8Gtv3M+MnWnp6e/jgK2RWwuo7/ZnCo1gqegv0a6llqkLZ+/H4b5gM2pnb9zUMlT8l+dv0MVDokPrp2/3DCNjMeQnr9ZqPwYdb6fv8pDhBloQaC//uq2kRDHoL+l+qcAWGGhv66DF+GlvKG/ivk5CGU1or9zxCFQBKWiv823dWdVCqO/FUTDdY5eo794Ot/WLqmjv0HZpX1N06O/nwkqhsn0o78ouwgGTA+kvzDH5WRAIqS/lx1tAbIspL+WDfGC+C6kv6jF323eKKS/sl3NXtAhpL+Ma4TUdSGkv5NmSjhHKqS/UX3lppQ8pL+FEEIWIFWkv3ej7UVsbKS/CU0OZNJ5pL9t8rCOpXWkv71kVg6tXKS/u2k1CqcspL+T3Yb3Q+GjvxOrYNFKc6O/6zPnqdHYor85qdd78QuivzXd2zixD6G/7Ed0XYfYn7/IS4fl5Vedv4cvBa9ntZq//tWce8EHmL86tkus+GGVvzB+1Sth0ZK/i5zQD/tekL/XR/cNwyKMv/p0sIv/2Ye/y1VajFXog7+H7GXkwk6Av3gV+ECfFnq/EBLstKwzdL99z1v0C9Ntv14pQfTrVmS/g1nPM1mxV78MVw94rPtAvzIPrnWCazQ/BoUBSoFAUT9NMGVtTRNcP7SLyF//1WI/AQcjI0MOZz9dToi1vLhqP8xxrtf02W0/bK/N+dY6cD/LeKqw40dxPxHumxdyFnI/Qi2iV2Cpcj9OkavCGARzP7DF7iVsKnM/PvxTkFMgcz+JhyDpqOlyP0r2curmiXI/BD0m2vkDcj8JkxKNKFpxP4jAMFgVjnA/dbqyaKdBbz+tJkCjFiZtPygSGSlHymo/mvd36d4uaD+8DzwJrFRlP8Xx3dXnPGI/UXeydNLSXT9HfLauirlWPwvw/WGAaU4/GAl45HEzPT/UBW2T0oQOvxUdcs7IBUO/6sSorbxSUr+GD3qJDFZbv6eUtxg2P2K/L9IhtHXeZr+tFgIZKIFrv780KTvUD3C/6tUY2TJZcr9/CTaY/Zh0v6NMYMGjy3a/7YYpNMDteL9OC3nNIPx6v6FT2QvP83y/\",\"dtype\":\"float64\",\"order\":\"little\",\"shape\":[108]},\"St\":{\"__ndarray__\":\"AAAAAAAA+P/xykqVHO3aP2imBg0pjdg/VABkD2Yk1z/tx30ibznXP/CgBdR1xtc/40DQ+Ghn2D8lUVjjPBPZP2iBMV4vvdk/qUJIJXhe2j/SR8IgF+7aP/vEdhnsads/wAzXyPPa2z8xnBNuWzrcP2xHhrjzjNw/+NrLfhXa3D+0egjVZR3dP6PC92xbWN0/JjjpL5+N3T9IKePFRr7dP7eJUqRe6t0/+sp72+MS3j+Uefw9oDjeP/FZjBKkW94/Ig1O48l73j+uBagzcpnePyvuG3+ltN4/nKnpoFPN3j9PcGy0IuPeP25GRMmU9d4/+SUWq9gD3z9w+cJlyQzfP1gPFv2+D98/+vmXudYc3z/TnRgQHE3fP1cSSLynr98/gNykAd4k4D/VrKu71ovgPx6M1kSbBuE/l4vGiWOK4T8bf10coQniP5rIfzlCeOI/h4Wy6V/K4j8io0hDQvPiP6wlu8yD5eI/CmUic8mU4j/cxxartfzhP0KnDGBKKeE/8jCeSIcz4D+K3xgSdm/ePxOrnSa8mdw/nx008bsB2z/TtrcNBbHZPx/yay00o9g/FDaBpinM1z/gHyzQpRzXPwfOVZ3ahdY/aTDxDYv71T/V6qVI5XTVP+pP1R+A7NQ/IquSNdpf1D+hzZg9oc7TP+aR86PwOdM/Zolc7KOj0j+8+wyEyw3SP0EGDe1IetE/nKvyAZHq0D+Jwh4gj1/QP2+to7VEs88/GqUQ5lqxzj9dCJVuZbjNP6TDtsjrxsw/2ILxCD7byz+Et07LtPPKP9EvNWnlDso//o/jwsYryT8NHHYFxUnIP8gYChbFaMc/Ug5NCBqJxj8g4xNmcKvFP3qsEouz0MQ/I6tIjfH5wz9sl6/jQCjDP/gIu2+qXMI/JpotGhmYwT9EL4lIT9vAP0R8l6ThJsA/TjDihmz2vj99Vu8KDrG9P6+mxyfMfbw/YNegD4dcuz+erMTu5ky6PzC79slnTrk/H39aYmRguD+1YeHXH4K3P16bZcjNsrY/VARpCZnxtT9tMdn8qD21P0AD774llrQ/jsTRRTv6sz8EqB+zG2mzP7/eAeYA4rI/f4YJjy1ksj9Wm7zP7e6xP402JomXgbE/V/NdaoobsT9UfC/SL7ywP8i67JP6YrA/\",\"dtype\":\"float64\",\"order\":\"little\",\"shape\":[108]},\"times\":[0,1,2,3,4,5,6,7,8,9,10,11,12,13,14,15,16,17,18,19,20,21,22,23,24,25,26,27,28,29,30,31,32,33,34,35,36,37,38,39,40,41,42,43,44,45,46,47,48,49,50,51,52,53,54,55,56,57,58,59,60,61,62,63,64,65,66,67,68,69,70,71,72,73,74,75,76,77,78,79,80,81,82,83,84,85,86,87,88,89,90,91,92,93,94,95,96,97,98,99,100,101,102,103,104,105,106,107]},\"selected\":{\"id\":\"2950\"},\"selection_policy\":{\"id\":\"2949\"}},\"id\":\"2791\",\"type\":\"ColumnDataSource\"},{\"attributes\":{\"fill_alpha\":{\"value\":0.1},\"fill_color\":{\"value\":\"#8C2980\"},\"line_alpha\":{\"value\":0.1},\"line_color\":{\"value\":\"#8C2980\"},\"line_width\":{\"value\":1.5},\"x\":{\"field\":\"times\"},\"y\":{\"field\":\"S\"}},\"id\":\"2755\",\"type\":\"X\"},{\"attributes\":{\"text\":\"Sobol analysis\"},\"id\":\"2694\",\"type\":\"Title\"},{\"attributes\":{\"line_color\":\"#000003\",\"line_width\":1.5,\"x\":{\"field\":\"times\"},\"y\":{\"field\":\"St\"}},\"id\":\"2734\",\"type\":\"Line\"},{\"attributes\":{\"source\":{\"id\":\"2814\"}},\"id\":\"2818\",\"type\":\"CDSView\"},{\"attributes\":{\"data_source\":{\"id\":\"2726\"},\"glyph\":{\"id\":\"2728\"},\"hover_glyph\":null,\"muted_glyph\":{\"id\":\"2730\"},\"nonselection_glyph\":{\"id\":\"2729\"},\"selection_glyph\":null,\"view\":{\"id\":\"2732\"}},\"id\":\"2731\",\"type\":\"GlyphRenderer\"},{\"attributes\":{},\"id\":\"2948\",\"type\":\"Selection\"},{\"attributes\":{\"click_policy\":\"mute\",\"items\":[{\"id\":\"2820\"},{\"id\":\"2821\"},{\"id\":\"2822\"},{\"id\":\"2823\"},{\"id\":\"2824\"},{\"id\":\"2825\"},{\"id\":\"2826\"},{\"id\":\"2827\"},{\"id\":\"2828\"}]},\"id\":\"2819\",\"type\":\"Legend\"},{\"attributes\":{},\"id\":\"2954\",\"type\":\"Selection\"},{\"attributes\":{\"label\":{\"value\":\"mu\"},\"renderers\":[{\"id\":\"2770\"},{\"id\":\"2776\"}]},\"id\":\"2823\",\"type\":\"LegendItem\"},{\"attributes\":{\"fill_alpha\":{\"value\":0.01},\"fill_color\":{\"value\":\"#DD4968\"},\"line_alpha\":{\"value\":0.01},\"line_color\":{\"value\":\"#DD4968\"},\"line_width\":{\"value\":1.5},\"x\":{\"field\":\"times\"},\"y\":{\"field\":\"S\"}},\"id\":\"2769\",\"type\":\"X\"},{\"attributes\":{\"fill_color\":{\"value\":\"#FD9F6C\"},\"line_color\":{\"value\":\"#FD9F6C\"},\"line_width\":{\"value\":1.5},\"x\":{\"field\":\"times\"},\"y\":{\"field\":\"S\"}},\"id\":\"2780\",\"type\":\"X\"},{\"attributes\":{\"line_color\":\"#DD4968\",\"line_width\":1.5,\"x\":{\"field\":\"times\"},\"y\":{\"field\":\"St\"}},\"id\":\"2773\",\"type\":\"Line\"},{\"attributes\":{\"label\":{\"value\":\"NI\"},\"renderers\":[{\"id\":\"2744\"},{\"id\":\"2750\"}]},\"id\":\"2821\",\"type\":\"LegendItem\"},{\"attributes\":{\"label\":{\"value\":\"t0\"},\"renderers\":[{\"id\":\"2783\"},{\"id\":\"2789\"}]},\"id\":\"2824\",\"type\":\"LegendItem\"},{\"attributes\":{\"fill_alpha\":{\"value\":0.1},\"fill_color\":{\"value\":\"#FBFCBF\"},\"line_alpha\":{\"value\":0.1},\"line_color\":{\"value\":\"#FBFCBF\"},\"line_width\":{\"value\":1.5},\"x\":{\"field\":\"times\"},\"y\":{\"field\":\"S\"}},\"id\":\"2794\",\"type\":\"X\"},{\"attributes\":{},\"id\":\"2956\",\"type\":\"Selection\"},{\"attributes\":{\"fill_alpha\":{\"value\":0.1},\"fill_color\":{\"value\":\"#000003\"},\"line_alpha\":{\"value\":0.1},\"line_color\":{\"value\":\"#000003\"},\"line_width\":{\"value\":1.5},\"x\":{\"field\":\"times\"},\"y\":{\"field\":\"S\"}},\"id\":\"2729\",\"type\":\"X\"},{\"attributes\":{\"data\":{\"S\":{\"__ndarray__\":\"AAAAAAAA+P9IV1Fhux7mP5s/1zbZmug/HOOYnlnZ6D/0YrfyFbznPyqoOwhFveU/9tOTklVq5D/VgS4JX2HjP/Yk5bEKZuI/INk9E6SN4T9lEmFlgr7gPwJmmo2zz98/kZgGMF003j+YUjX82MDcP7TT0pSYYts/LUDiYAAf2j+cXnIwMufYP2GbcysWvNc/EZ0p4P+b1j9EZcy10IXVP/hI0VklddQ/boePcmZl0z/YoFheuWXSPwlwQk4dddE/LYf/KyiP0D/Q4fC2wm/PP0Doe/lb1M0/9sIu8ONTzD/g+8EBQezKPzcFrC5Em8k/gXZn7KtfyD+23T4yzDfHP8BvxBuKIsY/UsDmvoMhxT8jZ4H0YTnEP1/E9vdKbMM/f/pyiKi4wj8t2ppdRhTCP3uUCqiLcsE/4I5G4nzLwD/vFIoddR7AP3DeKMbt5r4/KIP0Z3aivT95TQH0lHe8PzVOUKZPars/ChOAGVp8uj9+nv8w3bC5P1or9gRjD7k/DYG50UaduD/ITFXBJVy4P9Vs6G23S7g/m2JZEipquD9IQ7QfQ7S4P40gUU85Jbk/EfCsm/G2uT8pxDyg+mO6PzjBF4qkJ7s/ULkyRMb9uz8VBDYEguK8P6uN6ZIW0r0/aPvVccDIvj+P0JOup8K/P4tl+KrqXcA/flkuJxbYwD/ZlQ3KsU3BPyLYHPCAvME/zCzCYC4iwj9lSqkMT3zCP2kRDJ9pyMI/VDg/KgQEwz9u8DRpuCzDPwpuwAlOQMM/3wTFCdk8wz+X5a0c2SDDPx7w9UJW68I/b7Nqnvabwj/aPiw6CjPCPwIzIe2KscE/xoL6HhAZwT+L//8euGvAP7rfOP4TWL8/ryG0Tae5vT+VTsOmDwK8P8Z/xw8+N7o/Aev3P/teuD9+MG/wv362P/U6CryZm7Q/7dUsUhu6sj+GKGAEVt6wP/cH49a0F64/h81x1XuLqj+mUwA/Rh2nP52on4iH0aM/tlnxpvWroD/iMApdOV+bP30NyGHhvZU/DV+US7t3kD8NKp/YVB+HPwayN+3VHnw/+dTJkdcIZz872PgNnXNMv6SygyZBGnG/Sv1uT9Yhfb91B6xbHNWDvwoyUfEzXYi/maWh6JYtjL8lJJerd0uPv1+h+tdf3pC/\",\"dtype\":\"float64\",\"order\":\"little\",\"shape\":[108]},\"St\":{\"__ndarray__\":\"AAAAAAAA+P/AIdgeqk/5P/vJiv3Ix/c/plFosFlU9T+8RY6IWYjyP1PFFNjIt/A/ojD/fSJa7z9RsFuAbPLtPwRkaD9L5uw/4UMlcqX96z/62jVCSyzrPxh4Pz3Zbuo/69oc2dzG6T8HO4xMADjpP15XoNfwuOg/tRbqRKtL6D/hQ/T13trnPxEwubL6dec/vIuPil0b5z8xfdiX4sfmP0T3wtMTeuY/e1ZiMYIx5j+PWAwgE+3lP3Y2C/Sfr+U/e6e+KHV05T+x9Gcf5j7lP0VqwmKTDOU/4OxKLHXe5D90znBmxbPkPxLrW3EjjOQ/zZh2STln5D/sj/tBsUTkP5ZBhE/qJOQ/PTVVRVIP5D9oxYjMigzkP1DZQ/V4IuQ/8n9rLBZV5D9N5bgTn6bkP/E1DHzxF+U/EhJsf4Ko5T9Uq5qTWlLmPxD+nJO+COc/+6CSMWzD5z+rFGxiAX7oPwbQX97yNOk/PXrIt4zj6T8V8ie8NITqP8AntMpZEOs/K4vfK8CD6z8ah8HtOtzrPypiYtAkGew/57K6TwM77D8tFmjkJEPsP+6Ka2M0M+w/SGHZuuoM7D9WtUn+ItLrPx8zI6vQhOs/5b30CvQm6z85mRe2k7rqP4T8xx+4Qeo/M+KsJ2e+6T8kXoeknjLpPw57Fa9NoOg/1yWIC00J6D/Qy2BjV2/nPxoEmjUC1OY/LxPzS7g45j+snVRctp7lP9T/ziYKB+U/CvHHApRy5D8Ppq91CuLjP0o5wBb/VeM/p/Yj++PO4j8B97/eEE3iP/C3LWfH0OE/tkCRKTZa4T8EHqBjeungPwT0E5OgfuA/YaJqTqQZ4D/xkFCl33TfPw75fG23wd4/I6CJKl4Z3j/7frTJQHvdP8rxDQiu5tw/wWjRzNpa3D9oCK9559bbP+ADxMflWds/86YP197i2j+Nxu4T2XDaP4Ooj7XdAto/00p3rf2X2T/ggJLpVS/ZPxRhyOYSyNg/zsq9hXNh2D/TTvQ9y/rXP+4mHqqDk9c/1ZdSgh0r1z/Z4gkPMcHWP3LkuyRuVdY/TAACt5vn1T8attAEl3fVP3haMH5SBdU/GFJrXNSQ1D/i4BsINRrUP4Ki3k6dodM/+WuIfkQn0z/giwhibqvSPz9LSURpLtI/\",\"dtype\":\"float64\",\"order\":\"little\",\"shape\":[108]},\"times\":[0,1,2,3,4,5,6,7,8,9,10,11,12,13,14,15,16,17,18,19,20,21,22,23,24,25,26,27,28,29,30,31,32,33,34,35,36,37,38,39,40,41,42,43,44,45,46,47,48,49,50,51,52,53,54,55,56,57,58,59,60,61,62,63,64,65,66,67,68,69,70,71,72,73,74,75,76,77,78,79,80,81,82,83,84,85,86,87,88,89,90,91,92,93,94,95,96,97,98,99,100,101,102,103,104,105,106,107]},\"selected\":{\"id\":\"2948\"},\"selection_policy\":{\"id\":\"2947\"}},\"id\":\"2778\",\"type\":\"ColumnDataSource\"},{\"attributes\":{\"line_alpha\":0.1,\"line_color\":\"#000003\",\"line_width\":1.5,\"x\":{\"field\":\"times\"},\"y\":{\"field\":\"St\"}},\"id\":\"2735\",\"type\":\"Line\"},{\"attributes\":{},\"id\":\"2716\",\"type\":\"ResetTool\"},{\"attributes\":{},\"id\":\"2942\",\"type\":\"Selection\"},{\"attributes\":{\"source\":{\"id\":\"2791\"}},\"id\":\"2803\",\"type\":\"CDSView\"},{\"attributes\":{\"source\":{\"id\":\"2809\"}},\"id\":\"2813\",\"type\":\"CDSView\"},{\"attributes\":{\"data_source\":{\"id\":\"2804\"},\"glyph\":{\"id\":\"2805\"},\"hover_glyph\":null,\"muted_glyph\":null,\"nonselection_glyph\":{\"id\":\"2806\"},\"selection_glyph\":null,\"view\":{\"id\":\"2808\"}},\"id\":\"2807\",\"type\":\"GlyphRenderer\"},{\"attributes\":{},\"id\":\"2715\",\"type\":\"SaveTool\"},{\"attributes\":{\"fill_alpha\":{\"value\":0.1},\"fill_color\":{\"value\":\"blue\"},\"line_alpha\":{\"value\":0.1},\"line_color\":{\"value\":\"blue\"},\"x\":{\"field\":\"x\"},\"y\":{\"field\":\"y\"}},\"id\":\"2811\",\"type\":\"X\"},{\"attributes\":{},\"id\":\"2717\",\"type\":\"HelpTool\"},{\"attributes\":{\"data\":{\"x\":[],\"y\":[]},\"selected\":{\"id\":\"2952\"},\"selection_policy\":{\"id\":\"2951\"}},\"id\":\"2804\",\"type\":\"ColumnDataSource\"},{\"attributes\":{\"source\":{\"id\":\"2739\"}},\"id\":\"2751\",\"type\":\"CDSView\"},{\"attributes\":{},\"id\":\"2696\",\"type\":\"DataRange1d\"},{\"attributes\":{},\"id\":\"2943\",\"type\":\"UnionRenderers\"},{\"attributes\":{},\"id\":\"2709\",\"type\":\"BasicTicker\"},{\"attributes\":{\"line_alpha\":0.01,\"line_color\":\"#FBFCBF\",\"line_width\":1.5,\"x\":{\"field\":\"times\"},\"y\":{\"field\":\"St\"}},\"id\":\"2801\",\"type\":\"Line\"},{\"attributes\":{},\"id\":\"2937\",\"type\":\"BasicTickFormatter\"},{\"attributes\":{\"line_alpha\":0.1,\"x\":{\"field\":\"x\"},\"y\":{\"field\":\"y\"}},\"id\":\"2806\",\"type\":\"Line\"},{\"attributes\":{},\"id\":\"2935\",\"type\":\"BasicTickFormatter\"},{\"attributes\":{\"label\":{\"value\":\"St\"},\"renderers\":[{\"id\":\"2817\"}]},\"id\":\"2828\",\"type\":\"LegendItem\"},{\"attributes\":{\"data\":{\"S\":{\"__ndarray__\":\"AAAAAAAA+P9jkv2ikGUtP2Y97pIOG0E/B4Khj3hiTD8zQp1At75QP1C3UWn2gXY/+51qzMiRgz+jxentIN6LP97+uvnd/ZE/+Vt08PEClj9ZVisxtQSaP3aAM/m2A54/9LP+7QoCoT/jWkd+wfSiPwDDjdlj1qQ/8ITktK+opj/L2LXxEGKoP90HMO0Q/ak/VyXgHNR5qz9+OEAbZtesP/joyc+PD64/kXKKIqMprz+h0y57lRKwPxGT+q4sgrA/yDaqMlPesD+ojWkX0C6xP3WIbwKearE/3YCpMnmesT/Mq9mu38mxPwN96lP57LE/Fk/+dO0Gsj+6BBGbgheyP60koafdHrI/KsS65l8lsj+9fGq4DSuyP/fJovVNJLI//KBIICwHsj+sot7aJcaxPyTCZKSlTLE/W7/dUFSQsD9t1uJtNCuvP4ZHw/cP3Kw/MLMqavJZqj8vpeEUucanP09t995TPaU/CwLrOaHSoj9PHyZl6JmgPxVVvH2QSp0/HSAuy4v9mT/2K3j9iFSXP2JS8gjFUJU/689mwczpkz8HeX04sA+TP2ydwo6NrZI/A1pNX22skj9aIwzLsPWSP8CRpZdUdJM/H4mthqwVlD/cODUepcmUP7Lh43SvgpU/RPDdqHg1lj++8NZLh9iWP2grEHHRY5c/EWPpfFjQlz8jKamM1BeYPzLgh8V2NJg/31gGvccgmD+Bt62NpNeXP0KQJ1haVJc/4vCVdNySlj9ToFdJDpCVPwEs5WUWSpQ/vLe4fK7Akj+u6tASY/WQP18vNSpu140/d7NE2kZSiT+sssgU32mEP9esuweYX34/pZLhR7Zvcz9NIZTTklxgP10f+yltzkm/EbhDQHw9bb8tcAMoP9l5v8bnrmTVYoK/uCWjQ1uih7+P0Bvw6J2MvwxKOO5NpZC/64yNp/HPkr8eQ5xfrMuUv5XNXXVGlpa/BorpxWcumL9UgVpne5OZv9Ya6pOUxZq/JLcmsVXFm7/bheO22ZOcv2IyVRWgMp2/cxKN5Hqjnb/Y1cwwf+idv9GZ+Pr2A56/ne/F6lT4nb8REaNAKcidv1PUEPQXdp2/hSTK888Enb9IYdczA3ecv+3/Ychfz5u/S1Xbu4kQm7+T8fKRFT2av8Nxxe2DV5m/\",\"dtype\":\"float64\",\"order\":\"little\",\"shape\":[108]},\"St\":{\"__ndarray__\":\"AAAAAAAA+P8bOVuWHE0yPyBQM+CWcVE/iaI7Z3JUYj+IfX3H5EJvP0w5rl4W7Xc/gRyTuRQqgT/L0USMJq+HP4CKpUGmto8/FJyymomzlD9W290rfnGaP9zYmB4Nj6A/2QYE80FipD/eiPfOOqqoP73zWvVKY60/1yPJhilGsT80EEpdVAu0P9jozJXb+7Y/XHs2aqsTuj96UAzJFE69P4V/6b/TUsA/xphLyxsLwj912YJ8/83DPxadxthxmcU/Lqj7TXRrxz/Nh0+pokLJP/ePlW2XHcs/k78jDw/7zD9fsz0ksNnOP7cxl3UPXNA/PlHjKmBK0T+/SYTI0jbSP0im+WOzINM/QvPYfOAO1D82pqNHswvVP1f9NckoH9Y/MrTd3pJO1z9NAk0ECZbYP4+Y38xm4Nk/GzP4V6MY2z8nt0FTJincPzwr17X5+dw/haWEndZ+3T9ICFnyi7TdPx6gmJnwnN0/TmYZRNc73T8DnuBpa5rcP4jQeDM/yNs/lIvwtrzN2j/CoxQ63qvZP1EDtUpLYNg/80xIaG/t1j90ApZt5FzVP+AhCCsdvtM/86uN+jcj0j/v0ZHstZzQP8vqz2i5bc4/T+JNK63xyz8AP0rnO8rJPxkOamA39cc/amvO1OFrxj9tWnJtMSXFPyhETPV+F8Q/yA8jK5s5wz8cJarHZIPCP1770xcC7sE/y6u9Zt5zwT/wXcachBDBP2hvoxxpwMA/WMdhF6+AwD/jmVka8U7APx9TJagRKcA/PgWrqhYNwD/jlQb8IfK/Pza5RSQg1r8/Y5tF2EDCvz/dCmHTpbK/PwrA5KqTo78/BClJZZGRvz9L1ituh3m/PyCDLD7ZWL8/wrTfoXYtvz99pf1w4/W+P5OLyw82sb4/gqqvRg5fvj/e/PSQhv+9Pw6I7AYik70/IxLY97gavT/IYE6gZZe8PzRymjVyCrw/RYUhzkh1uz9r9gl4Zdm6PyAoSZFKOLo/HHpmLHeTuT/yu3hjX+y4P3d0uE1mRLg/jcIqX9mctz/FsT4E7fa2P99hqja6U7Y/UFqj9Dy0tT8dx8NpUxm1PzWbXcO9g7Q/snz4ch70sz9Xu0Tu+mqzP+OKQMu86LI/qpCrIrNtsj/S8a0mFPqxP9XQjPn+jbE/\",\"dtype\":\"float64\",\"order\":\"little\",\"shape\":[108]},\"times\":[0,1,2,3,4,5,6,7,8,9,10,11,12,13,14,15,16,17,18,19,20,21,22,23,24,25,26,27,28,29,30,31,32,33,34,35,36,37,38,39,40,41,42,43,44,45,46,47,48,49,50,51,52,53,54,55,56,57,58,59,60,61,62,63,64,65,66,67,68,69,70,71,72,73,74,75,76,77,78,79,80,81,82,83,84,85,86,87,88,89,90,91,92,93,94,95,96,97,98,99,100,101,102,103,104,105,106,107]},\"selected\":{\"id\":\"2944\"},\"selection_policy\":{\"id\":\"2943\"}},\"id\":\"2752\",\"type\":\"ColumnDataSource\"},{\"attributes\":{\"source\":{\"id\":\"2804\"}},\"id\":\"2808\",\"type\":\"CDSView\"},{\"attributes\":{},\"id\":\"2945\",\"type\":\"UnionRenderers\"},{\"attributes\":{\"axis_label\":\"time (days)\",\"formatter\":{\"id\":\"2937\"},\"ticker\":{\"id\":\"2705\"}},\"id\":\"2704\",\"type\":\"LinearAxis\"},{\"attributes\":{},\"id\":\"2944\",\"type\":\"Selection\"},{\"attributes\":{},\"id\":\"2705\",\"type\":\"BasicTicker\"},{\"attributes\":{\"fill_color\":{\"value\":\"blue\"},\"line_color\":{\"value\":\"blue\"},\"x\":{\"field\":\"x\"},\"y\":{\"field\":\"y\"}},\"id\":\"2810\",\"type\":\"X\"},{\"attributes\":{\"axis_label\":\"Index value\",\"formatter\":{\"id\":\"2935\"},\"ticker\":{\"id\":\"2709\"}},\"id\":\"2708\",\"type\":\"LinearAxis\"},{\"attributes\":{\"line_color\":\"#FBFCBF\",\"line_width\":1.5,\"x\":{\"field\":\"times\"},\"y\":{\"field\":\"St\"}},\"id\":\"2799\",\"type\":\"Line\"},{\"attributes\":{\"line_alpha\":0.1,\"line_color\":\"#FBFCBF\",\"line_width\":1.5,\"x\":{\"field\":\"times\"},\"y\":{\"field\":\"St\"}},\"id\":\"2800\",\"type\":\"Line\"},{\"attributes\":{\"bottom_units\":\"screen\",\"fill_alpha\":0.5,\"fill_color\":\"lightgrey\",\"left_units\":\"screen\",\"level\":\"overlay\",\"line_alpha\":1.0,\"line_color\":\"black\",\"line_dash\":[4,4],\"line_width\":2,\"right_units\":\"screen\",\"top_units\":\"screen\"},\"id\":\"2718\",\"type\":\"BoxAnnotation\"},{\"attributes\":{},\"id\":\"2940\",\"type\":\"Selection\"},{\"attributes\":{\"x\":{\"field\":\"x\"},\"y\":{\"field\":\"y\"}},\"id\":\"2805\",\"type\":\"Line\"},{\"attributes\":{\"data_source\":{\"id\":\"2765\"},\"glyph\":{\"id\":\"2773\"},\"hover_glyph\":null,\"muted_glyph\":{\"id\":\"2775\"},\"nonselection_glyph\":{\"id\":\"2774\"},\"selection_glyph\":null,\"view\":{\"id\":\"2777\"}},\"id\":\"2776\",\"type\":\"GlyphRenderer\"},{\"attributes\":{\"axis\":{\"id\":\"2708\"},\"dimension\":1,\"ticker\":null},\"id\":\"2711\",\"type\":\"Grid\"},{\"attributes\":{\"fill_color\":{\"value\":\"#8C2980\"},\"line_color\":{\"value\":\"#8C2980\"},\"line_width\":{\"value\":1.5},\"x\":{\"field\":\"times\"},\"y\":{\"field\":\"S\"}},\"id\":\"2754\",\"type\":\"X\"},{\"attributes\":{\"axis\":{\"id\":\"2704\"},\"ticker\":null},\"id\":\"2707\",\"type\":\"Grid\"},{\"attributes\":{\"data_source\":{\"id\":\"2739\"},\"glyph\":{\"id\":\"2747\"},\"hover_glyph\":null,\"muted_glyph\":{\"id\":\"2749\"},\"nonselection_glyph\":{\"id\":\"2748\"},\"selection_glyph\":null,\"view\":{\"id\":\"2751\"}},\"id\":\"2750\",\"type\":\"GlyphRenderer\"},{\"attributes\":{\"data_source\":{\"id\":\"2809\"},\"glyph\":{\"id\":\"2810\"},\"hover_glyph\":null,\"muted_glyph\":null,\"nonselection_glyph\":{\"id\":\"2811\"},\"selection_glyph\":null,\"view\":{\"id\":\"2813\"}},\"id\":\"2812\",\"type\":\"GlyphRenderer\"},{\"attributes\":{},\"id\":\"2700\",\"type\":\"LinearScale\"},{\"attributes\":{},\"id\":\"2712\",\"type\":\"PanTool\"},{\"attributes\":{},\"id\":\"2713\",\"type\":\"WheelZoomTool\"},{\"attributes\":{},\"id\":\"2941\",\"type\":\"UnionRenderers\"},{\"attributes\":{\"line_color\":\"#3B0F6F\",\"line_width\":1.5,\"x\":{\"field\":\"times\"},\"y\":{\"field\":\"St\"}},\"id\":\"2747\",\"type\":\"Line\"},{\"attributes\":{},\"id\":\"2939\",\"type\":\"UnionRenderers\"},{\"attributes\":{\"data\":{\"x\":[],\"y\":[]},\"selected\":{\"id\":\"2954\"},\"selection_policy\":{\"id\":\"2953\"}},\"id\":\"2809\",\"type\":\"ColumnDataSource\"},{\"attributes\":{\"data\":{\"S\":{\"__ndarray__\":\"AAAAAAAA+P99d7bZi6KNv2NAsOqaTJK/kyh196EAk79eX+EcgweRv3J10IHcQaQ/VWg18iKKsT+cDs017eW0P3D+lr31jLY/ot2cLWtmtz/Tw2ZhlWi3P2tyFOq0S7c/pS3ELSyjtz9eO2AJkJm3P6WY1Dl7TLc/mlC2aOPRtj9224g5wzK2P5F2Ci57grU/tOEoh9fFtD/6QqDT6v2zP6h3pM4KKrM/KoHkS85msj+VU4xUbKWxP/yvDKUO6rA/NNzQlYEosD8uOI1lJtOuP6XvlJ6oZa0/I7j+Xrf+qz8dXfd/XKGqPy2CVX+xT6k/WVgEU3wKqD9HXTqfy9KmP3yUHWaiqaU/PfoN3qiZpD+sZoM565+jP7qS6daarKI/8X3GHMa1oT9RKVW40rCgP0xnWdYtG58/92ZBOv6JnD+hdm3rRr+ZP7D9yvWa6pY/SsLb/9czlD8+pV9JObWRPwypLi6k+Y4/bxKkAYYfiz9ySguAFtqHP/65MotgHYU/XCSgRuzVgj/Q0mFTzuuAP7Ks71C/h34/Ms3ARSqJez+r0H/SzLB4PyEnJ7tK43U/eur8MWodcz9O14GC1GFwP0K+TSL1aGs/vwxE26k0Zj+VkPPdEDNhPyFbUr0I51g/cCeWPHkSUD82Td/V4S9APx3eF2iyCxM/jRfevy2AMb+Eevz4sJxAv5XnGpxHjkS/DQolDg/nQ7+IlSpGaPQ7vydT1PWaNhG/h5Pg/mobQD8DT0cFj5dUP+2zB/0vUWI/QyzvmjQUbD/tgff6w8BzPyJOpn6pOno/3s69vyOvgD+5fSeV74WEP2c1ROGtj4g/JVyQz0K5jD+5CK8P0HeQP7vYk5FkkJI/iA76EFKelD90rYFsxZqWPyWmJrNLgJg/9oS4sdlKmj85Mv69uvebP4/cA9FthZ0/96HiPXjznj9hJzwiGiGgP4vLrw5QuaA/Dl0wbBhDoT8iaZBcVb+hP2FXCQ0AL6I/maDIRRuToj9eBZT8qOyiP2Dud4miPKM/ypbVBfODoz+Ec299c8OjP8pNe4/o+6M/ku7EMwEupD+wU5paVlqkP2AQFkFrgaQ/LXn1K66jpD936MeMecGkPyrgXmgV26Q/qefk5rjwpD+ZolQOjAKlP8ev7WSpEKU/\",\"dtype\":\"float64\",\"order\":\"little\",\"shape\":[108]},\"St\":{\"__ndarray__\":\"AAAAAAAA+P9PLXOQs3TWP3PM0jE5MtQ/ZWYE9unO0T+os3o3QTzQPyYO5+pkec4/XRqZsMghzT/45mkh4DjMP9ql/fUYp8s/ia9pso9Oyz8I16uvsQrLPx4W8GEZyco/dpvQWFyKyj/eGYPEaEHKP9NNs87W7ck/4iSmG3CUyT82SBJurDDJPyQvM1Lvw8g/y0dHT0BRyD+qjeKpg9rHP+pbR6K0YMc/T2kSEnzlxj9qmaY6NmrGP2ZaQf2d78U/cducPTt2xT/Teg4W5/7EP0wg7ysxisQ/ILSyBZYYxD9aBedBaKrDP7UiumD1P8M/Nm04kXTZwj8DsM6BFnfCPzxEsH+IGcI/ZUbVK/DIwT96wFl9Wo/BP4w9j8DIcsE/NR5mt0N2wT9bJCest5fBPxGkoZCLzcE/Ei9ts9sPwj8RZU8ydlvCP85aJk7Qs8I/xBigS6gdwz+q6u/LKp3DPzOBfs+YNcQ/06zIBNzoxD8aIBESGrjFP5iZIwVRpcY/7VBf9tWyxz/6u7MhduLIP0N90o7gMso/Z07JkoSgyz9tUZ62/CXNP+xM/zFxu84/wkOk8roq0D93SMOPQ/TQP5rK/0lRtdE/gFqKZ+pp0j+S0/b4Kw/TP7+3rT4wo9M/Ag9bA98k1D8UXFQ3t5PUP5VeNJ+b79Q/p3L5t6c41T/cD9McD2/VP9qieQUIk9U/hzRWgMCk1T+OAWtkXaTVP/4hmHUBktU/56DsxNpt1T9Kz6HlMzjVP32eLiiG8dQ/a+YOMoqa1D9/7WcQRDTUPwV3q7kIwNM/nztZv3s/0z/IB+wMhbTSP4FGv84/IdI/9Mn/mOSH0T+4C5VuserQPxkCtWzSS9A/vvru65pazz+mv3Dy5CHOP5RyIjmi8Mw/M+7roGfJyz9Ha4o7P67KP8ZB9WqvoMk/1i/jPMehyD/hm6TaLbLHPztLIDUz0sY/7e0ri+ABxj/NYq/PB0HFPwR5gmVRj8Q/3g4b4Ufswz8GCefJYVfDP5MiPYMJ0MI/M9dqeqNVwj+TkMfckufBP6Qr+RA9hcE/KCPKKgwuwT+BPWqLcOHAP2Cgp9nhnsA/nFLLf99lwD8ikBq58DXAP/2fUV+kDsA/qC1z/SDfvz8XqkuGo7C/PxCiIZMVkb8/\",\"dtype\":\"float64\",\"order\":\"little\",\"shape\":[108]},\"times\":[0,1,2,3,4,5,6,7,8,9,10,11,12,13,14,15,16,17,18,19,20,21,22,23,24,25,26,27,28,29,30,31,32,33,34,35,36,37,38,39,40,41,42,43,44,45,46,47,48,49,50,51,52,53,54,55,56,57,58,59,60,61,62,63,64,65,66,67,68,69,70,71,72,73,74,75,76,77,78,79,80,81,82,83,84,85,86,87,88,89,90,91,92,93,94,95,96,97,98,99,100,101,102,103,104,105,106,107]},\"selected\":{\"id\":\"2940\"},\"selection_policy\":{\"id\":\"2939\"}},\"id\":\"2726\",\"type\":\"ColumnDataSource\"},{\"attributes\":{\"line_alpha\":0.01,\"line_color\":\"#3B0F6F\",\"line_width\":1.5,\"x\":{\"field\":\"times\"},\"y\":{\"field\":\"St\"}},\"id\":\"2749\",\"type\":\"Line\"},{\"attributes\":{\"line_alpha\":0.1,\"line_color\":\"#3B0F6F\",\"line_width\":1.5,\"x\":{\"field\":\"times\"},\"y\":{\"field\":\"St\"}},\"id\":\"2748\",\"type\":\"Line\"},{\"attributes\":{},\"id\":\"2702\",\"type\":\"LinearScale\"},{\"attributes\":{\"overlay\":{\"id\":\"2718\"}},\"id\":\"2714\",\"type\":\"BoxZoomTool\"},{\"attributes\":{},\"id\":\"2946\",\"type\":\"Selection\"},{\"attributes\":{\"label\":{\"value\":\"S\"},\"renderers\":[{\"id\":\"2812\"}]},\"id\":\"2827\",\"type\":\"LegendItem\"},{\"attributes\":{},\"id\":\"2698\",\"type\":\"DataRange1d\"}],\"root_ids\":[\"2693\"]},\"title\":\"Bokeh Application\",\"version\":\"2.2.3\"}};\n",
       "  var render_items = [{\"docid\":\"d61ef76e-f335-4f43-822f-5c49835791be\",\"root_ids\":[\"2693\"],\"roots\":{\"2693\":\"5e6d4375-1288-4a92-8534-337a646c528e\"}}];\n",
       "  root.Bokeh.embed.embed_items_notebook(docs_json, render_items);\n",
       "\n",
       "  }\n",
       "  if (root.Bokeh !== undefined) {\n",
       "    embed_document(root);\n",
       "  } else {\n",
       "    var attempts = 0;\n",
       "    var timer = setInterval(function(root) {\n",
       "      if (root.Bokeh !== undefined) {\n",
       "        clearInterval(timer);\n",
       "        embed_document(root);\n",
       "      } else {\n",
       "        attempts++;\n",
       "        if (attempts > 100) {\n",
       "          clearInterval(timer);\n",
       "          console.log(\"Bokeh: ERROR: Unable to run BokehJS code because BokehJS library is missing\");\n",
       "        }\n",
       "      }\n",
       "    }, 10, root)\n",
       "  }\n",
       "})(window);"
      ],
      "application/vnd.bokehjs_exec.v0+json": ""
     },
     "metadata": {
      "application/vnd.bokehjs_exec.v0+json": {
       "id": "2693"
      }
     },
     "output_type": "display_data"
    },
    {
     "name": "stdout",
     "output_type": "stream",
     "text": [
      "------------------------------------------------ U -------------------------------------------------\n"
     ]
    },
    {
     "data": {
      "text/html": [
       "\n",
       "\n",
       "\n",
       "\n",
       "\n",
       "\n",
       "  <div class=\"bk-root\" id=\"74ea0cd4-7902-429f-bfe3-ec4d1f303eba\" data-root-id=\"3077\"></div>\n"
      ]
     },
     "metadata": {},
     "output_type": "display_data"
    },
    {
     "data": {
      "application/javascript": [
       "(function(root) {\n",
       "  function embed_document(root) {\n",
       "    \n",
       "  var docs_json = {\"cc819da7-bfd3-442e-9ab5-7c9a2223984a\":{\"roots\":{\"references\":[{\"attributes\":{\"below\":[{\"id\":\"3088\"}],\"center\":[{\"id\":\"3091\"},{\"id\":\"3095\"}],\"left\":[{\"id\":\"3092\"}],\"plot_height\":450,\"plot_width\":900,\"renderers\":[{\"id\":\"3115\"},{\"id\":\"3121\"},{\"id\":\"3128\"},{\"id\":\"3134\"},{\"id\":\"3141\"},{\"id\":\"3147\"},{\"id\":\"3154\"},{\"id\":\"3160\"},{\"id\":\"3167\"},{\"id\":\"3173\"},{\"id\":\"3180\"},{\"id\":\"3186\"},{\"id\":\"3191\"},{\"id\":\"3196\"},{\"id\":\"3201\"}],\"right\":[{\"id\":\"3203\"}],\"title\":{\"id\":\"3078\"},\"toolbar\":{\"id\":\"3103\"},\"x_range\":{\"id\":\"3080\"},\"x_scale\":{\"id\":\"3084\"},\"y_range\":{\"id\":\"3082\"},\"y_scale\":{\"id\":\"3086\"}},\"id\":\"3077\",\"subtype\":\"Figure\",\"type\":\"Plot\"},{\"attributes\":{\"fill_color\":{\"value\":\"blue\"},\"line_color\":{\"value\":\"blue\"},\"x\":{\"field\":\"x\"},\"y\":{\"field\":\"y\"}},\"id\":\"3194\",\"type\":\"X\"},{\"attributes\":{\"line_alpha\":0.1,\"x\":{\"field\":\"x\"},\"y\":{\"field\":\"y\"}},\"id\":\"3190\",\"type\":\"Line\"},{\"attributes\":{\"line_alpha\":0.01,\"line_color\":\"#DD4968\",\"line_width\":1.5,\"x\":{\"field\":\"times\"},\"y\":{\"field\":\"St\"}},\"id\":\"3159\",\"type\":\"Line\"},{\"attributes\":{\"data\":{\"x\":[],\"y\":[]},\"selected\":{\"id\":\"3362\"},\"selection_policy\":{\"id\":\"3361\"}},\"id\":\"3193\",\"type\":\"ColumnDataSource\"},{\"attributes\":{\"data_source\":{\"id\":\"3149\"},\"glyph\":{\"id\":\"3157\"},\"hover_glyph\":null,\"muted_glyph\":{\"id\":\"3159\"},\"nonselection_glyph\":{\"id\":\"3158\"},\"selection_glyph\":null,\"view\":{\"id\":\"3161\"}},\"id\":\"3160\",\"type\":\"GlyphRenderer\"},{\"attributes\":{\"data\":{\"x\":[],\"y\":[]},\"selected\":{\"id\":\"3360\"},\"selection_policy\":{\"id\":\"3359\"}},\"id\":\"3188\",\"type\":\"ColumnDataSource\"},{\"attributes\":{\"fill_color\":{\"value\":\"#FBFCBF\"},\"line_color\":{\"value\":\"#FBFCBF\"},\"line_width\":{\"value\":1.5},\"x\":{\"field\":\"times\"},\"y\":{\"field\":\"S\"}},\"id\":\"3177\",\"type\":\"X\"},{\"attributes\":{},\"id\":\"3354\",\"type\":\"Selection\"},{\"attributes\":{\"line_alpha\":0.1,\"line_color\":\"#DD4968\",\"line_width\":1.5,\"x\":{\"field\":\"times\"},\"y\":{\"field\":\"St\"}},\"id\":\"3158\",\"type\":\"Line\"},{\"attributes\":{},\"id\":\"3353\",\"type\":\"UnionRenderers\"},{\"attributes\":{\"text\":\"Sobol analysis\"},\"id\":\"3078\",\"type\":\"Title\"},{\"attributes\":{\"source\":{\"id\":\"3149\"}},\"id\":\"3161\",\"type\":\"CDSView\"},{\"attributes\":{\"source\":{\"id\":\"3175\"}},\"id\":\"3181\",\"type\":\"CDSView\"},{\"attributes\":{\"label\":{\"value\":\"NI\"},\"renderers\":[{\"id\":\"3128\"},{\"id\":\"3134\"}]},\"id\":\"3205\",\"type\":\"LegendItem\"},{\"attributes\":{\"fill_alpha\":{\"value\":0.01},\"fill_color\":{\"value\":\"#3B0F6F\"},\"line_alpha\":{\"value\":0.01},\"line_color\":{\"value\":\"#3B0F6F\"},\"line_width\":{\"value\":1.5},\"x\":{\"field\":\"times\"},\"y\":{\"field\":\"S\"}},\"id\":\"3127\",\"type\":\"X\"},{\"attributes\":{\"fill_alpha\":{\"value\":0.01},\"fill_color\":{\"value\":\"#DD4968\"},\"line_alpha\":{\"value\":0.01},\"line_color\":{\"value\":\"#DD4968\"},\"line_width\":{\"value\":1.5},\"x\":{\"field\":\"times\"},\"y\":{\"field\":\"S\"}},\"id\":\"3153\",\"type\":\"X\"},{\"attributes\":{\"fill_alpha\":{\"value\":0.1},\"fill_color\":{\"value\":\"#DD4968\"},\"line_alpha\":{\"value\":0.1},\"line_color\":{\"value\":\"#DD4968\"},\"line_width\":{\"value\":1.5},\"x\":{\"field\":\"times\"},\"y\":{\"field\":\"S\"}},\"id\":\"3152\",\"type\":\"X\"},{\"attributes\":{},\"id\":\"3348\",\"type\":\"Selection\"},{\"attributes\":{\"source\":{\"id\":\"3149\"}},\"id\":\"3155\",\"type\":\"CDSView\"},{\"attributes\":{\"data_source\":{\"id\":\"3175\"},\"glyph\":{\"id\":\"3177\"},\"hover_glyph\":null,\"muted_glyph\":{\"id\":\"3179\"},\"nonselection_glyph\":{\"id\":\"3178\"},\"selection_glyph\":null,\"view\":{\"id\":\"3181\"}},\"id\":\"3180\",\"type\":\"GlyphRenderer\"},{\"attributes\":{\"fill_alpha\":{\"value\":0.1},\"fill_color\":{\"value\":\"#FBFCBF\"},\"line_alpha\":{\"value\":0.1},\"line_color\":{\"value\":\"#FBFCBF\"},\"line_width\":{\"value\":1.5},\"x\":{\"field\":\"times\"},\"y\":{\"field\":\"S\"}},\"id\":\"3178\",\"type\":\"X\"},{\"attributes\":{\"data\":{\"S\":{\"__ndarray__\":\"AAAAAAAA+P+oxGEYCBaYv1r9eoJ+FJ2/tag5jNUFnr85dlzeN6eev8d0R7fHCKg/dHJDwp0dtT+srTR3bJO5P5N0D1BeBLw/Jk1b3wlrvT8bsYmykKG9P17mnSWi070/lC9Lq3j9vj8GxGX0j5m/P/Duce54+r8/hP5b4tkEwD9zWCbMINC/Py9UhQxXaL8/EU+zT97dvj+QF9+OVS++P8sgD0OEaL0/tyGbJTOgvD+hvgrtStK7PxESaJoc+bo/1AqJ2A4Luj9r0K5ayxi5Px8UYhYKJ7g/X+0HIsoztz9hhgNrC0G2P+Of/AeJULU/K6B3ZXJjtD+bB1f1BnuzP+aq+6LVmLI/3tKjkv/HsT/UTMVQIQixP+2uI9lATLA/EAO71BYYrz+Sxky5aXytPzq9DkNBqKs/dig0tUSMqT9AoepH5CqnPx/6KnJRl6Q/eCO1Iu/voT9Fh7/7f6aeP3KGPlFjtJk//A4o8JItlT9xNuiTDyiRP1p2XbSXVYs/CeXXTlFdhT8KrVIRnkaAP11L3WiNz3c/poMo9ogucD9+Z9WAOcRiP0wp0wnz0Uk/7jXCWsa8Qr9/Z2bgnnJdv1Dr57lqvWe/CalxTE7Pb7/FPN2r04Bzv5ElQ0JRsna/TlstzWeCeb9Ay+SPMPV7v12bIZZhDH6/SC8UYz/Hf7/5O2kyWZGAv11JfBLADIG/AJCG1FRSgb/VwqNl912Bv6iiAiA6K4G/J0OpjMK1gL/lL2qjZPN/v9DEe/Ug6H2/HDJ9QlRGe7/Sq3eFwQ14v6tq0vy7QXS/8VES0JrSb78BNLUTLB5mv0NoS2emA1e/3+etjM5o7r4tMyTxG89XP6ffjfOKaWg/ngfzfFigcj/4yPUTqSN5P5q4dwUcrX8/TsDoW2cWgz+pu6aFdUqGP08TBYDpbIk/JT0ppxR5jD/sY33yXmuPPzUvHTiZIJE/2Jjh9m98kj8y99mnv8iTP7hF9XVnBZU/8MoumYkylj+RxpoPfFCXPyor2vm6X5g/59mtc9xgmT8fPtAlhlSaP7hMLZ5kO5s/w8aOPyQWnD/ECGqqa+WcP0OiBpbXqZ0/HlI2pPdjnj+Z6PxATBSfP2J/dYNFu58/z0bgSaEsoD8sOqUASXegP6SNb+y4vaA/\",\"dtype\":\"float64\",\"order\":\"little\",\"shape\":[108]},\"St\":{\"__ndarray__\":\"AAAAAAAA+P++J7bbYb7uP/0elamLkuo/GnQKYfR65D8rTHBUppHgP7Kye8sDz9w/e3IrB9w32j/n+lKXgaLYP/tNqnTVoNc/vApBfY/81j8AQjQCZpXWP8EjK7HVS9Y/BsKfqkUY1j9oau27tOjVP2gaYRDwuNU/ETX87+aH1T+nel2t8k/VPybPQn+aDtU/t6AFHVDF1D+GKly9wXXUP5tQSXlPH9Q/G8mckZjC0z+qBoUd02DTP5WGmANh+tI/XrvnckWQ0j85oHACQSPSP2e19PxYtNE/8Rk9dlBE0T9CaSyS49PQPxclDfS1Y9A/egCP3Njozz+PjvzAOA3PP+/zvyaINs4/PyoEpc11zT+FxkjFIOHMP2UOXrVOhcw/tLYy3ydozD/+e17Xo4HMP6+UwhA8s8w/0GbR36XjzD+ED1YY8wLNP4f4lGuEC80/54+2sPcBzT/vTEOd4e7MPy16lrT628w/SF7XhyrTzD9Mxq4kHt/MPwC6/jxkC80/m1waOEBgzT/l/VToAOLNP4Rhw/gakM4/wCO4ReZlzz9Ysz9tzy3QP9k+dzxGs9A/cnb26OE70T8Ge57wm8DRPyoi2NHXO9I/vP6vHpKp0j8GSoqETgfTPwtP7BrcU9M/SnEQRgeP0z8Aoxf/SbnTP9fnQ9yE09M/5DRu9cXe0z/5aO5mH9zTP9/26+CMzNM/IqNNW+aw0z9LWi9T3YnTPx8vCcIBWNM/UvRJLcwb0z+GANdpqtXSPzCOXeEMhtI/5DEF7XIt0j+h0dSrdMzRP0dApI3JY9E/TtKwEkv00D9VgJOr837QP57hLR3aBNA/T+WNT1QOzz86rHmqNg7OPynT4fjNC80/cDNL7nwJzD+MCWushAnLP/HkY1X2Dco/GGA6iagYyT/b1KncMCvIP07pLyHhRsc/xV449cdsxj9t4mj0s53FP5ydtNA42sQ/FlkApLUixD+RBynjW3fDP8aHC3c22MI/qcRBmjBFwj97P7I3HL7BP0/sCrK3QsE//oQ17LLSwD8j2RaZs23AP2UFbNRYE8A/n6vGH3yGvz/0j1bM+vm+P3VDGMZigL4/Sg/5suwYvj8NENiY1sK9P7EXcxBlfb0/3i386eNHvT/ICz1gpiG9P012HewGCr0/\",\"dtype\":\"float64\",\"order\":\"little\",\"shape\":[108]},\"times\":[0,1,2,3,4,5,6,7,8,9,10,11,12,13,14,15,16,17,18,19,20,21,22,23,24,25,26,27,28,29,30,31,32,33,34,35,36,37,38,39,40,41,42,43,44,45,46,47,48,49,50,51,52,53,54,55,56,57,58,59,60,61,62,63,64,65,66,67,68,69,70,71,72,73,74,75,76,77,78,79,80,81,82,83,84,85,86,87,88,89,90,91,92,93,94,95,96,97,98,99,100,101,102,103,104,105,106,107]},\"selected\":{\"id\":\"3348\"},\"selection_policy\":{\"id\":\"3347\"}},\"id\":\"3110\",\"type\":\"ColumnDataSource\"},{\"attributes\":{},\"id\":\"3347\",\"type\":\"UnionRenderers\"},{\"attributes\":{\"data_source\":{\"id\":\"3149\"},\"glyph\":{\"id\":\"3151\"},\"hover_glyph\":null,\"muted_glyph\":{\"id\":\"3153\"},\"nonselection_glyph\":{\"id\":\"3152\"},\"selection_glyph\":null,\"view\":{\"id\":\"3155\"}},\"id\":\"3154\",\"type\":\"GlyphRenderer\"},{\"attributes\":{\"fill_alpha\":{\"value\":0.01},\"fill_color\":{\"value\":\"#8C2980\"},\"line_alpha\":{\"value\":0.01},\"line_color\":{\"value\":\"#8C2980\"},\"line_width\":{\"value\":1.5},\"x\":{\"field\":\"times\"},\"y\":{\"field\":\"S\"}},\"id\":\"3140\",\"type\":\"X\"},{\"attributes\":{\"line_alpha\":0.01,\"line_color\":\"#3B0F6F\",\"line_width\":1.5,\"x\":{\"field\":\"times\"},\"y\":{\"field\":\"St\"}},\"id\":\"3133\",\"type\":\"Line\"},{\"attributes\":{\"source\":{\"id\":\"3136\"}},\"id\":\"3142\",\"type\":\"CDSView\"},{\"attributes\":{\"data\":{\"S\":{\"__ndarray__\":\"AAAAAAAA+P+0xL4Mn/ogv27PAPBZITO/i8tPuG0ROL/WfLkeVr1Iv+mRXmmOknM/JagrmN0agz82L+2NY7mLP/MTNrDjFZI/pFJK7h1jlj9LroByH9aaP283x+2UcZ8/1G728Qceoj8TlF4zjZGkPwpznGsYFac/WyD4ncmfqT9GvY7CZiisP+AwxyMypK4/YsKGkdWHsD/Ph3YiGLOxPy4EZSyxz7I/vct71Ajfsz/nzu0r8920P5VUYnnczbU/O1nrPYehtj+9A0ZKMme3P+cbuES1F7g/OurJyDa6uD9QJnUVO025P9fG32Wg0Lk/BOr6k9hCuj/m2lriBaO6P0AJqkTc8Lo/65NEzno6uz+motL7xn+7P5hsP6u0q7s/Slad7Sysuz/T+TbO4Wi7P/N5B+m5vLo/847th+2SuT+srKYZbOu3P0a881p+2bU/w+I0ESGBsz8qJUMBDAuxPwpmD23FOa0/is8fj1WrqD975218ppqkPxGuB8ejJqE/X8tP3K2vnD/LQm7LRE+YP+ufGwt5D5U/7mS70PDIkj+2ejo1UFCRPxODogAYepA/qvxlXfEdkD8Dad5ylhiQP85yAkNkTJA/jP48WFehkD9rTIa9lASRP5J+4Fy0Z5E/6hXi+++/kT/2yiY6TQWSP/crRYPRMZI/6k/t7MpAkj9mAFG2Ni6SP43ImmpL9pE/nxVKRyqVkT/tLOK+uAaRPy7ITb6gRpA/v/Bz9eegjj9Umjkm2T+MPwgtZCqGYok/FO15tiADhj/FClGTYB6CP615PxRoaHs/JeJd+YyQcT//hP3gYRJbP4NJCnuzj1O//LAi4dpJcb94MVRHbUd+vzibcxLY2IW/mlC40hmtjL868oTDN8SRv4ARg3tvKZW/fTj6s6l6mL9Fp0jzKK2bvxnVRnZDt56/3oGasErIoL+sq3pLDxmivx8QHkUnS6O/o9cfFoBcpL/UUk3VtEulv67pvnUBGKa/e4oM/TLBpr+fRuPslUenv8QaUAXkq6e/t3SWJzLvp79M/kYa3xKov5J6mGqDGKi/nOcZ4+IBqL/IqX+X39Cnv4cKyJFuh6e/4eCeM44np78Q0UQJPrOmv59buBd4LKa/vwITdSuVpb991G3WN++kv0Rl9nZqPKS/\",\"dtype\":\"float64\",\"order\":\"little\",\"shape\":[108]},\"St\":{\"__ndarray__\":\"AAAAAAAA+P+5Bkq8rYYnP1q35QHrk0Y/TJY8NnL9VT9z0cfTYbhhP5PLVz9kuGo/LaD2Uh1pcz/VxUfDNpB7P2XBeqMAIYM/N+iY2QX6iT8s84iOe0eRPyhUKj5ThZY/3gV1gabVnD9gmZZc6iGiP+xoR3rrcaY/YqkwqMhkqz+sq6xKxX2wP6ByttCzmrM/cAiiwlAKtz/OGTi4ss26P9A9UreD4r4/X1whVGCjwT/EzafNY/zDP9uVzLVwesY//6MtTPkbyT9IAhRA5d7LP6YEFjc+wc4/yQxxZzLg0D+KAUypnGzSP9V0V4zhA9Q/k6tBYo2j1T/Bea/UcEjXP/PIH5ca79g/Wx9/S1Sf2j9oriUBEWjcP6tH2jyrVN4/bltPuWg14D85dy0zIkvhPy/7y4hPR+I/OC85XhMG4z8kZOMx9mvjP59l6zwCauM/rqViiS8D4z8F4O/J70biPzftR/U4S+E/AnFa9Awo4D9fFPgA3erdPxj9uGsqkds/FIRctxZb2T/hBr46/1DXPyZA7BXlcdU/nrcpvXq70z9yJFR3Ti3SP0xXJ8oOydA/nPufr6Mizz8BYpNBNA7NP4Ye4XTfUcs/vaYwpgfmyT+dOJcEyL/IPwJKL2650sc/BAVs5IgSxz+IwEb4G3TGP8MbI6c37sU/bpgRKL15xT+etckomxHFP2Et7hSRssQ/WQhWodtaxD8VnZp32gnEP456Jle4v8M/ZaMrxBp9wz8jitG420LDPxa3sYjOEcM/w6EV2ZDqwj/yAU8/aM3CP0XXz94susI/ztmp9UCwwj85p3J3lK7CP95CNxCzs8I/w4w9Pdq9wj/imP+AFMvCP8mSXrNW2cI/6Acqipzmwj8cWOn2AfHCP1b+T6/X9sI/bL1A+LH2wj/+XCqGce/CP1gZ6NFG4MI/MRJqt7DIwj87ofpZd6jCP9EHmmmkf8I/RJHty3lOwj+YrdyIZxXCP1Y0KbIB1cE/fZakx/aNwT8d0ST4BkHBP8GlFG387sA/lLiCvKSYwD9zxAqDyz7AP+w8xClsxL8/ZrwPXUAHvz+kyG8Qc0e+P1l4I2lIhr0/pWMUMefEvD8DW0HlVwS8P5scV6OERbs/QQYDuDmJuj9ovDCuJtC5PzAz0MrfGrk/\",\"dtype\":\"float64\",\"order\":\"little\",\"shape\":[108]},\"times\":[0,1,2,3,4,5,6,7,8,9,10,11,12,13,14,15,16,17,18,19,20,21,22,23,24,25,26,27,28,29,30,31,32,33,34,35,36,37,38,39,40,41,42,43,44,45,46,47,48,49,50,51,52,53,54,55,56,57,58,59,60,61,62,63,64,65,66,67,68,69,70,71,72,73,74,75,76,77,78,79,80,81,82,83,84,85,86,87,88,89,90,91,92,93,94,95,96,97,98,99,100,101,102,103,104,105,106,107]},\"selected\":{\"id\":\"3352\"},\"selection_policy\":{\"id\":\"3351\"}},\"id\":\"3136\",\"type\":\"ColumnDataSource\"},{\"attributes\":{\"source\":{\"id\":\"3123\"}},\"id\":\"3135\",\"type\":\"CDSView\"},{\"attributes\":{\"line_color\":\"#FBFCBF\",\"line_width\":1.5,\"x\":{\"field\":\"times\"},\"y\":{\"field\":\"St\"}},\"id\":\"3183\",\"type\":\"Line\"},{\"attributes\":{\"line_alpha\":0.01,\"line_color\":\"#FBFCBF\",\"line_width\":1.5,\"x\":{\"field\":\"times\"},\"y\":{\"field\":\"St\"}},\"id\":\"3185\",\"type\":\"Line\"},{\"attributes\":{\"line_alpha\":0.1,\"line_color\":\"#3B0F6F\",\"line_width\":1.5,\"x\":{\"field\":\"times\"},\"y\":{\"field\":\"St\"}},\"id\":\"3132\",\"type\":\"Line\"},{\"attributes\":{\"line_color\":\"#3B0F6F\",\"line_width\":1.5,\"x\":{\"field\":\"times\"},\"y\":{\"field\":\"St\"}},\"id\":\"3131\",\"type\":\"Line\"},{\"attributes\":{\"line_alpha\":0.1,\"line_color\":\"#FBFCBF\",\"line_width\":1.5,\"x\":{\"field\":\"times\"},\"y\":{\"field\":\"St\"}},\"id\":\"3184\",\"type\":\"Line\"},{\"attributes\":{},\"id\":\"3352\",\"type\":\"Selection\"},{\"attributes\":{\"data_source\":{\"id\":\"3123\"},\"glyph\":{\"id\":\"3125\"},\"hover_glyph\":null,\"muted_glyph\":{\"id\":\"3127\"},\"nonselection_glyph\":{\"id\":\"3126\"},\"selection_glyph\":null,\"view\":{\"id\":\"3129\"}},\"id\":\"3128\",\"type\":\"GlyphRenderer\"},{\"attributes\":{\"data_source\":{\"id\":\"3123\"},\"glyph\":{\"id\":\"3131\"},\"hover_glyph\":null,\"muted_glyph\":{\"id\":\"3133\"},\"nonselection_glyph\":{\"id\":\"3132\"},\"selection_glyph\":null,\"view\":{\"id\":\"3135\"}},\"id\":\"3134\",\"type\":\"GlyphRenderer\"},{\"attributes\":{\"fill_alpha\":{\"value\":0.1},\"fill_color\":{\"value\":\"blue\"},\"line_alpha\":{\"value\":0.1},\"line_color\":{\"value\":\"blue\"},\"x\":{\"field\":\"x\"},\"y\":{\"field\":\"y\"}},\"id\":\"3195\",\"type\":\"X\"},{\"attributes\":{\"source\":{\"id\":\"3123\"}},\"id\":\"3129\",\"type\":\"CDSView\"},{\"attributes\":{},\"id\":\"3355\",\"type\":\"UnionRenderers\"},{\"attributes\":{\"source\":{\"id\":\"3175\"}},\"id\":\"3187\",\"type\":\"CDSView\"},{\"attributes\":{},\"id\":\"3356\",\"type\":\"Selection\"},{\"attributes\":{\"fill_alpha\":{\"value\":0.1},\"fill_color\":{\"value\":\"#3B0F6F\"},\"line_alpha\":{\"value\":0.1},\"line_color\":{\"value\":\"#3B0F6F\"},\"line_width\":{\"value\":1.5},\"x\":{\"field\":\"times\"},\"y\":{\"field\":\"S\"}},\"id\":\"3126\",\"type\":\"X\"},{\"attributes\":{\"line_color\":\"#8C2980\",\"line_width\":1.5,\"x\":{\"field\":\"times\"},\"y\":{\"field\":\"St\"}},\"id\":\"3144\",\"type\":\"Line\"},{\"attributes\":{},\"id\":\"3358\",\"type\":\"Selection\"},{\"attributes\":{\"data_source\":{\"id\":\"3193\"},\"glyph\":{\"id\":\"3194\"},\"hover_glyph\":null,\"muted_glyph\":null,\"nonselection_glyph\":{\"id\":\"3195\"},\"selection_glyph\":null,\"view\":{\"id\":\"3197\"}},\"id\":\"3196\",\"type\":\"GlyphRenderer\"},{\"attributes\":{\"data\":{\"x\":[],\"y\":[]},\"selected\":{\"id\":\"3364\"},\"selection_policy\":{\"id\":\"3363\"}},\"id\":\"3198\",\"type\":\"ColumnDataSource\"},{\"attributes\":{\"data_source\":{\"id\":\"3198\"},\"glyph\":{\"id\":\"3199\"},\"hover_glyph\":null,\"muted_glyph\":null,\"nonselection_glyph\":{\"id\":\"3200\"},\"selection_glyph\":null,\"view\":{\"id\":\"3202\"}},\"id\":\"3201\",\"type\":\"GlyphRenderer\"},{\"attributes\":{\"fill_color\":{\"value\":\"#8C2980\"},\"line_color\":{\"value\":\"#8C2980\"},\"line_width\":{\"value\":1.5},\"x\":{\"field\":\"times\"},\"y\":{\"field\":\"S\"}},\"id\":\"3138\",\"type\":\"X\"},{\"attributes\":{\"data_source\":{\"id\":\"3175\"},\"glyph\":{\"id\":\"3183\"},\"hover_glyph\":null,\"muted_glyph\":{\"id\":\"3185\"},\"nonselection_glyph\":{\"id\":\"3184\"},\"selection_glyph\":null,\"view\":{\"id\":\"3187\"}},\"id\":\"3186\",\"type\":\"GlyphRenderer\"},{\"attributes\":{},\"id\":\"3351\",\"type\":\"UnionRenderers\"},{\"attributes\":{\"fill_color\":{\"value\":\"#3B0F6F\"},\"line_color\":{\"value\":\"#3B0F6F\"},\"line_width\":{\"value\":1.5},\"x\":{\"field\":\"times\"},\"y\":{\"field\":\"S\"}},\"id\":\"3125\",\"type\":\"X\"},{\"attributes\":{\"data_source\":{\"id\":\"3188\"},\"glyph\":{\"id\":\"3189\"},\"hover_glyph\":null,\"muted_glyph\":null,\"nonselection_glyph\":{\"id\":\"3190\"},\"selection_glyph\":null,\"view\":{\"id\":\"3192\"}},\"id\":\"3191\",\"type\":\"GlyphRenderer\"},{\"attributes\":{\"source\":{\"id\":\"3188\"}},\"id\":\"3192\",\"type\":\"CDSView\"},{\"attributes\":{\"line_alpha\":0.1,\"line_color\":\"blue\",\"x\":{\"field\":\"x\"},\"y\":{\"field\":\"y\"}},\"id\":\"3200\",\"type\":\"Line\"},{\"attributes\":{\"line_color\":\"blue\",\"x\":{\"field\":\"x\"},\"y\":{\"field\":\"y\"}},\"id\":\"3199\",\"type\":\"Line\"},{\"attributes\":{\"source\":{\"id\":\"3198\"}},\"id\":\"3202\",\"type\":\"CDSView\"},{\"attributes\":{\"source\":{\"id\":\"3193\"}},\"id\":\"3197\",\"type\":\"CDSView\"},{\"attributes\":{\"fill_alpha\":{\"value\":0.01},\"fill_color\":{\"value\":\"#FBFCBF\"},\"line_alpha\":{\"value\":0.01},\"line_color\":{\"value\":\"#FBFCBF\"},\"line_width\":{\"value\":1.5},\"x\":{\"field\":\"times\"},\"y\":{\"field\":\"S\"}},\"id\":\"3179\",\"type\":\"X\"},{\"attributes\":{},\"id\":\"3357\",\"type\":\"UnionRenderers\"},{\"attributes\":{\"data_source\":{\"id\":\"3136\"},\"glyph\":{\"id\":\"3144\"},\"hover_glyph\":null,\"muted_glyph\":{\"id\":\"3146\"},\"nonselection_glyph\":{\"id\":\"3145\"},\"selection_glyph\":null,\"view\":{\"id\":\"3148\"}},\"id\":\"3147\",\"type\":\"GlyphRenderer\"},{\"attributes\":{\"x\":{\"field\":\"x\"},\"y\":{\"field\":\"y\"}},\"id\":\"3189\",\"type\":\"Line\"},{\"attributes\":{\"source\":{\"id\":\"3136\"}},\"id\":\"3148\",\"type\":\"CDSView\"},{\"attributes\":{},\"id\":\"3350\",\"type\":\"Selection\"},{\"attributes\":{\"line_color\":\"#DD4968\",\"line_width\":1.5,\"x\":{\"field\":\"times\"},\"y\":{\"field\":\"St\"}},\"id\":\"3157\",\"type\":\"Line\"},{\"attributes\":{\"line_alpha\":0.01,\"line_color\":\"#8C2980\",\"line_width\":1.5,\"x\":{\"field\":\"times\"},\"y\":{\"field\":\"St\"}},\"id\":\"3146\",\"type\":\"Line\"},{\"attributes\":{\"label\":{\"value\":\"pa\"},\"renderers\":[{\"id\":\"3115\"},{\"id\":\"3121\"}]},\"id\":\"3204\",\"type\":\"LegendItem\"},{\"attributes\":{\"line_alpha\":0.1,\"line_color\":\"#8C2980\",\"line_width\":1.5,\"x\":{\"field\":\"times\"},\"y\":{\"field\":\"St\"}},\"id\":\"3145\",\"type\":\"Line\"},{\"attributes\":{\"data\":{\"S\":{\"__ndarray__\":\"AAAAAAAA+P8AAAAAAAAAAAAAAAAAAAAAAAAAAAAAAAAAAAAAAAAAAAAAAAAAAAAAAAAAAAAAAAAAAAAAAAAAAAAAAAAAAAAAAAAAAAAAAAAAAAAAAAAAAAAAAAAAAAAAAAAAAAAAAAAAAAAAAAAAAAAAAAAAAAAAAAAAAAAAAAAAAAAAAAAAAAAAAAAAAAAAAAAAAAAAAAAAAAAAAAAAAAAAAAAAAAAAAAAAAAAAAAAAAAAAAAAAAAAAAAAAAAAAAAAAAAAAAAAAAAAAAAAAAAAAAAAAAAAAAAAAAAAAAAAAAAAAAAAAAAAAAAAAAAAAAAAAAAAAAACk6Duc0XkIPAy3oEjW1ne++Wtbt8ne575iOOTZSuUNv6U/N7e39CK/URvw5lsVMr9Z5AU907Q9v52xsg1qXEa/10riD9wmT78HoY4btWJUv6AMl22spFm/yS5cVLcuX78EayjuuFZivyUjIo7952S/az6tJJQlZ7/MaR+dtAlpv/TcMpAswWq/ywgGulJmbL9fOhvJ4fttv7oNOda+dW+/9of0u2lZcL+EvQnkfcRwv/nKZOio9XC/wuwQHeH6cL9T4lmKbORwv1jdOQAywHC/BKzB42uYcL9WMHq+xXJwv6GFdLsKUHC/hjn943EscL+YdkMUdwBwvwF/cBQqhG+/f+38GE/Mbr9iKOGxf8Ntv6tFN8SHVmy/JSNiM4Z2ar/4OhiP8hlovyKXSfUBPWW/bneXWXLhYb/uJyDajBtcvzFjIwv4l1O/fwzFKjefRL/J4w6Mg0v2vk3b0cH8c0Q/Mpj6xq9iVT9cJs5ZCpRgP5IgaDif0WY/q6HZYrCAbT/JJqmbJWFyP+RDw6XDYHY/SIhvji3Zej8TX3vv5ud/P4rMJANs1oI/9aKckoQkhj/VSMrQqu6JP6qdpmSXRI4/1MVmbWCakT8EFQcW82WUP5pdYWZaipc/do03msULmz+UrplhK+2eP5Sw0bIimKE/otlbKsvqoz849vdlPG6mPzWbpH6aIak/NniKgY0DrD+U3AskUBKvP5ReHK7fJbE/EIfg+LTWsj9MAbXuT5q0P7JsrnZAb7Y/HpI7KwVUuD/3xpOWEUe6P+hlK8TTRrw/0dTGKLlRvj9ErhdvGTPAP3l80pNcQcE/\",\"dtype\":\"float64\",\"order\":\"little\",\"shape\":[108]},\"St\":{\"__ndarray__\":\"AAAAAAAA+P8AAAAAAAAAAAAAAAAAAAAAAAAAAAAAAAAAAAAAAAAAAAAAAAAAAAAAAAAAAAAAAAAAAAAAAAAAAAAAAAAAAAAAAAAAAAAAAAAAAAAAAAAAAAAAAAAAAAAAAAAAAAAAAAAAAAAAAAAAAAAAAAAAAAAAAAAAAAAAAAAAAAAAAAAAAAAAAAAAAAAAAAAAAAAAAAAAAAAAAAAAAAAAAAAAAAAAAAAAAAAAAAAAAAAAAAAAAAAAAAAAAAAAAAAAAAAAAAAAAAAAAAAAAAAAAAAAAAAAAAAAAAAAAAAAAAAAAAAAAAAAAAAAAAAAAAAAAAAAAADRA8bficC1OKUN9oZNKpY9bjyo1CpGdD4rZ5tyFaLBPkDcJ7ttJPA+GS/R5pIlED+Wd2CJP8UmP4OvjXTnhTk/HRl7rWtOSD8lFFWXontUPyqBGQltZl8/9alq/QliZj+r1qKCpDxuPwERHO5CpHM/VzOFW0vOeD93uBnfLK5+P8Yvuw+QroI/x8CwcE16hj8451y03cWKP1n7mcbMmY8/fw9aygR8kj9x2xiZEG2VP/hEpi5Ampg/Jftr4GP+mz+kSsI5H5afP7nWFvpysKE/uRGsBpywoz9oh4AyGs6lP6TzBl9qDKg/NktMu4dvqj92nn1vhfusP2sMFyZCtK8/EKcoYJ9OsT8cr8gcy9yyP3Tg3A4FhrQ/ozQzXIlLtj/wx9LocS64PzzVC5+uL7o/GN5fC/NPvD84SgYSnI++P8aRQCJJd8A/aTFHOxe2wT+ejk6xkgPDP3+evTu/XsQ/xMCB9UvGxT9w+7AmnDjHP5aHqxHWs8g/SIAhTPY1yj/OC2ae5bzLP4kQCFaPRs0/VJjBEPbQzj9pNUG3Ii3QPyCtUNNv8NA/BJm8QLOx0T91DEfhX3DSP7n17b0KLNM/CNwIeGnk0z+MRv5yT5nUP0vRYRmqStU/cf5bonz41T+bJxim26LWP1Fi48ToSdc/GSSlhM7t1z8mdyaSvI7YP53emXLkLNk/u8ifrHbI2T9UwtZ1oGHaP1u6ztqJ+No/SFGmXlSN2z80p9oMGiDcP7ac7+zssNw/FcRC0dY/3T8u5/102czdP8JwMNTuV94/28J2twnh3j9E5URmFmjfP7HZjmr77N8/\",\"dtype\":\"float64\",\"order\":\"little\",\"shape\":[108]},\"times\":[0,1,2,3,4,5,6,7,8,9,10,11,12,13,14,15,16,17,18,19,20,21,22,23,24,25,26,27,28,29,30,31,32,33,34,35,36,37,38,39,40,41,42,43,44,45,46,47,48,49,50,51,52,53,54,55,56,57,58,59,60,61,62,63,64,65,66,67,68,69,70,71,72,73,74,75,76,77,78,79,80,81,82,83,84,85,86,87,88,89,90,91,92,93,94,95,96,97,98,99,100,101,102,103,104,105,106,107]},\"selected\":{\"id\":\"3354\"},\"selection_policy\":{\"id\":\"3353\"}},\"id\":\"3149\",\"type\":\"ColumnDataSource\"},{\"attributes\":{\"fill_alpha\":{\"value\":0.1},\"fill_color\":{\"value\":\"#8C2980\"},\"line_alpha\":{\"value\":0.1},\"line_color\":{\"value\":\"#8C2980\"},\"line_width\":{\"value\":1.5},\"x\":{\"field\":\"times\"},\"y\":{\"field\":\"S\"}},\"id\":\"3139\",\"type\":\"X\"},{\"attributes\":{\"data_source\":{\"id\":\"3136\"},\"glyph\":{\"id\":\"3138\"},\"hover_glyph\":null,\"muted_glyph\":{\"id\":\"3140\"},\"nonselection_glyph\":{\"id\":\"3139\"},\"selection_glyph\":null,\"view\":{\"id\":\"3142\"}},\"id\":\"3141\",\"type\":\"GlyphRenderer\"},{\"attributes\":{\"fill_color\":{\"value\":\"#DD4968\"},\"line_color\":{\"value\":\"#DD4968\"},\"line_width\":{\"value\":1.5},\"x\":{\"field\":\"times\"},\"y\":{\"field\":\"S\"}},\"id\":\"3151\",\"type\":\"X\"},{\"attributes\":{},\"id\":\"3349\",\"type\":\"UnionRenderers\"},{\"attributes\":{},\"id\":\"3084\",\"type\":\"LinearScale\"},{\"attributes\":{\"label\":{\"value\":\"t0\"},\"renderers\":[{\"id\":\"3167\"},{\"id\":\"3173\"}]},\"id\":\"3208\",\"type\":\"LegendItem\"},{\"attributes\":{},\"id\":\"3099\",\"type\":\"SaveTool\"},{\"attributes\":{\"line_color\":\"#FD9F6C\",\"line_width\":1.5,\"x\":{\"field\":\"times\"},\"y\":{\"field\":\"St\"}},\"id\":\"3170\",\"type\":\"Line\"},{\"attributes\":{\"axis\":{\"id\":\"3088\"},\"ticker\":null},\"id\":\"3091\",\"type\":\"Grid\"},{\"attributes\":{\"label\":{\"value\":\"mu\"},\"renderers\":[{\"id\":\"3154\"},{\"id\":\"3160\"}]},\"id\":\"3207\",\"type\":\"LegendItem\"},{\"attributes\":{\"axis\":{\"id\":\"3092\"},\"dimension\":1,\"ticker\":null},\"id\":\"3095\",\"type\":\"Grid\"},{\"attributes\":{\"data_source\":{\"id\":\"3162\"},\"glyph\":{\"id\":\"3164\"},\"hover_glyph\":null,\"muted_glyph\":{\"id\":\"3166\"},\"nonselection_glyph\":{\"id\":\"3165\"},\"selection_glyph\":null,\"view\":{\"id\":\"3168\"}},\"id\":\"3167\",\"type\":\"GlyphRenderer\"},{\"attributes\":{\"label\":{\"value\":\"Im0\"},\"renderers\":[{\"id\":\"3180\"},{\"id\":\"3186\"}]},\"id\":\"3209\",\"type\":\"LegendItem\"},{\"attributes\":{\"data_source\":{\"id\":\"3110\"},\"glyph\":{\"id\":\"3112\"},\"hover_glyph\":null,\"muted_glyph\":{\"id\":\"3114\"},\"nonselection_glyph\":{\"id\":\"3113\"},\"selection_glyph\":null,\"view\":{\"id\":\"3116\"}},\"id\":\"3115\",\"type\":\"GlyphRenderer\"},{\"attributes\":{\"fill_alpha\":{\"value\":0.01},\"fill_color\":{\"value\":\"#000003\"},\"line_alpha\":{\"value\":0.01},\"line_color\":{\"value\":\"#000003\"},\"line_width\":{\"value\":1.5},\"x\":{\"field\":\"times\"},\"y\":{\"field\":\"S\"}},\"id\":\"3114\",\"type\":\"X\"},{\"attributes\":{\"source\":{\"id\":\"3110\"}},\"id\":\"3116\",\"type\":\"CDSView\"},{\"attributes\":{\"click_policy\":\"mute\",\"items\":[{\"id\":\"3204\"},{\"id\":\"3205\"},{\"id\":\"3206\"},{\"id\":\"3207\"},{\"id\":\"3208\"},{\"id\":\"3209\"},{\"id\":\"3210\"},{\"id\":\"3211\"},{\"id\":\"3212\"}]},\"id\":\"3203\",\"type\":\"Legend\"},{\"attributes\":{\"label\":{\"value\":\"S\"},\"renderers\":[{\"id\":\"3196\"}]},\"id\":\"3211\",\"type\":\"LegendItem\"},{\"attributes\":{\"data\":{\"S\":{\"__ndarray__\":\"AAAAAAAA+P+HzyOiqpCFv1ixC48o94u/LB9jysUakb/Q5cRKDmyUv2SuXXHjkKG/PJtgvXmkpb/6cmRBEkGnv8BslrClnqG/NB0L4vdhm79v7UrE9caWv4KKYdHPeJS/7HVok4WXk79c0LwBu6KTv+TSJUDfHpS/BjZ0cbYAlb+LhxoHMUiWv8+pZBOGBZe/+8CC7KYomL/spGOr0Y2ZvxDt9z6HsJq/EVp6tUYVnL+hDR6W1Gudv0a4Nw8gk56/7KlhJUmdn79fIIqFpVKgv13AHCHGwaC/+Uz7H5Unob++EnUJaIShv0v62ylx16G/vulegRUgor9AvpB6Vl6iv0Z+bRcSkaK/n0/YWY+/or98TvgRZ/Civzf+8rn0JKO/y6/ilPldo7+NlzSfKJmjvzmOJiGgz6O/8OfNgMH5o79H53hoAg6kvyhVIfFsAaS/dG6S9dDNo79bmFCGAW6jv/64im5d3KK/BuGduDETor/l/xwe6RGhv95gOUY0v5+/65bvD2IPnb8L93DKWC2av6r7zB/uMZe/mX6NdqUxlL/5QYYk4jqRv4t9fiA2qoy/JJ9/D9YFh7+reFZ9DomBv8MtXnojYHi/wO1EP9jMa7+5u6tptHlMv+VaKS0cAFs/IFK5yOQkcT9/oxZxWr57P8ClmwuSVYM/ck1yfxkEiT9SbGYjkveOP/BO5CkvnZI/mIn5idzplT/6ZPVOhWOZP5EWKSmsCZ0/IHPEZLdsoD//XuLvtmaiP4d7BjHrbqQ/b/ZH80eApj/K689FyJSoP2pbQ4Sppao/+NHe1LOrrD+KvxPaip+uPz4m+i0APbA/f3pQMDEasT+3Yil7X+SxPy6THJ4MmbI/FWMvfEY2sz/66BMMsLqzP7W98IqBJbQ/B1cCWYF2tD9Y+HAa9620Pw06pPKazLQ/eKdzhILTtD+ly8JQDcS0P5W6sJvRn7Q/NKU0xYpotD9WEqqfCSC0P0fLQxgnyLM/fNZnNLlisz9Z2MthivGyPwoaQNJSdrI/91RCvbPysT/MGh8pNGixP0Ob5vw+2LA/XdGOLiJEsD/wpnpWHVqvP4iRetIxKK4/zpVRy3P0rD/cJL3hoMCrPxhJ1l1Fjqo/vk7JT79eqT8zsJ0RQjOoP14l/DvZDKc/\",\"dtype\":\"float64\",\"order\":\"little\",\"shape\":[108]},\"St\":{\"__ndarray__\":\"AAAAAAAA+P91bmX/LaLKP7WMATKSmsk/4uaDUr8Nxj/GDr/WXo3EP9VUCk4K1sQ/t67EqlvgxT+FUyPDYSjHP68TP9bhb8g/1YXxBSCxyT/aleb/qOTKP/P4L+WJ/8s/pYrm+hkOzT8RtnWSjwnOP2F0HZF++M4/tS2CqgHhzz+bGSYIFGDQP7QFJHuoytA/0HK2prAx0T+5l/GlYpbRPyMD8Rn299E/OU6h1nxW0j9tpe26ebLSPzyiuPWNC9M/5iT6ydlh0z/FKvUVMLXTP16bfNWkBdQ/GHKCkv5S1D8b6rhn75zUP3+7V9744tQ/qfEDrH8k1T86u8utqGDVPzgeJRP0ltU/NCDN0VzT1T/H5xqZQinWP0fifpqNpdY/EDVpnXJO1z8Kf0YlDiTYP/bOnmZ8INk/0JBNm0s22j95MyY6pk/bP+ZLZk33T9w/QCLD8Hka3T+QEDmltpHdP9JpkQytmd0/Ll4wAEod3T/mgTJ1vBfcP4RJ69HCnto/IsKW2mvd2D8vpo1jKAPXP6uiI1PYNdU/ZLp/3hyN0z+aKdmECRPSPzJAcDYVyNA/JIxcgp5Pzz/W7lRXFVfNP8KwN6nwmMs/vdIYBaQJyj/K9h4LiqDIP2MjvyHTV8c/3TkGmP8rxj/9WeVSMBvFP+m9krl7JMQ/oVhZG19Hwz+mF5L2VYPCP1sTmeaW18E/36//1PBCwT99yxfpwMPAP4KGzuL5V8A/0BBdgW36vz+wgrvhp2G/P3GhtFwX4L4/NTujLCZwvj96nQ0qbAy+P66Wo0Dhr70/dvoF/QdWvT8RUgALDvu8P2n3ImPhm7w/qWEdnjk2vD9tRJDglci7P+ftt6QwUrs/6mHNluvSuj8+QA7BNUu6P6tAo7/uu7k/0FiBTEkmuT8rDMEgr4u4P7eiG6en7bc/RGNaZsJNtz+zjzqVha22PxFO0dhgDrY/EBRj6qNxtT8kePileNi0P9fIrPjfQ7Q/OwkoELG0sz9YxTNJmiuzPzxWlFAjqbI/qkjHHLAtsj+X5HFWhLmxPxJC5/zGTLE/r1A8C4bnsD+Q20wAuomwP6mG6ilJM7A/a2wbYBXIrz9D/hmkkjevP9vFaKuLtK4/RfllSXI+rj+waHlXrNStPyCvDtyWdq0/\",\"dtype\":\"float64\",\"order\":\"little\",\"shape\":[108]},\"times\":[0,1,2,3,4,5,6,7,8,9,10,11,12,13,14,15,16,17,18,19,20,21,22,23,24,25,26,27,28,29,30,31,32,33,34,35,36,37,38,39,40,41,42,43,44,45,46,47,48,49,50,51,52,53,54,55,56,57,58,59,60,61,62,63,64,65,66,67,68,69,70,71,72,73,74,75,76,77,78,79,80,81,82,83,84,85,86,87,88,89,90,91,92,93,94,95,96,97,98,99,100,101,102,103,104,105,106,107]},\"selected\":{\"id\":\"3358\"},\"selection_policy\":{\"id\":\"3357\"}},\"id\":\"3175\",\"type\":\"ColumnDataSource\"},{\"attributes\":{},\"id\":\"3360\",\"type\":\"Selection\"},{\"attributes\":{\"data_source\":{\"id\":\"3110\"},\"glyph\":{\"id\":\"3118\"},\"hover_glyph\":null,\"muted_glyph\":{\"id\":\"3120\"},\"nonselection_glyph\":{\"id\":\"3119\"},\"selection_glyph\":null,\"view\":{\"id\":\"3122\"}},\"id\":\"3121\",\"type\":\"GlyphRenderer\"},{\"attributes\":{},\"id\":\"3359\",\"type\":\"UnionRenderers\"},{\"attributes\":{\"label\":{\"value\":\"St\"},\"renderers\":[{\"id\":\"3201\"}]},\"id\":\"3212\",\"type\":\"LegendItem\"},{\"attributes\":{\"fill_alpha\":{\"value\":0.1},\"fill_color\":{\"value\":\"#000003\"},\"line_alpha\":{\"value\":0.1},\"line_color\":{\"value\":\"#000003\"},\"line_width\":{\"value\":1.5},\"x\":{\"field\":\"times\"},\"y\":{\"field\":\"S\"}},\"id\":\"3113\",\"type\":\"X\"},{\"attributes\":{\"fill_color\":{\"value\":\"#000003\"},\"line_color\":{\"value\":\"#000003\"},\"line_width\":{\"value\":1.5},\"x\":{\"field\":\"times\"},\"y\":{\"field\":\"S\"}},\"id\":\"3112\",\"type\":\"X\"},{\"attributes\":{\"data\":{\"S\":{\"__ndarray__\":\"AAAAAAAA+P98lK9pg0d5Pwf/PCXxZ4Q/ELwG2qAciz+H7GX0cKGKP0drXzNTvnQ/oK2oserEUj/Pt1vdYKFMv1BAzDuDblm/plVzO1JwWL8Ah4u/XYE/v/V/x3Q3m0M/jgWw5GC6Uz96kbPLzihdP5p8yVZ+Y2U/GecJFZsVbD+D3AeHwAZxPwebh1DRe3M/RLsQRVeDdT8j4DmSA193P7IYoV9vKHk/bDAmcwjaez9aHwhAH/x9P8LxDx8lAYA/L/XDtmE+gT+QPqqKbViCP7z7HUeRGIM/W9e2kODVgz8PXX4Dd4SEP33GPJQlKoU/cfMmydPJhT+bCsIpzmKGP4yzclOM9IY/5ZOxQSSShz+8auxoZo2IP8koQh1jOIo/rs2V7AO/jD/GRiB7XhyQP+54cSKIXZI/Sk16tbMflT86miyqm0uYP+x2vVfFtps/5bWWuf0znz8A8LCAmk2hP8elR1rx5aI/5fOzhY1WpD80doBfSZelP/OcPRSZpqY/FzOWKmuKpz98fx686kyoP+ayCxjB+ag/TY2r7lKbqT+UFA+dmTqqP/l6CsxB36o/gd0h9y6Qqz+QZnjmRFOsP97zmM0/La0/sngDatAhrj+q/ITTzTOvPy2X8gy2MrA/hBhTdjPcsD8STjy1CpexPxIAVPSxY7I/voBgSFtCsz85gkXB3TK0P8ITD02aNLU/iKQZlmBGtj8K2Xe+V2a3P/52J2nukbg/M+2F99TFuT+Bvl4oBP66P7KU8iTRNbw/kkUB8Q5ovT9nspadO4++P+GI1Um2pb8/8Y1u6/xSwD8gUuDAa8XAP6fg5EnWJ8E/ezQAdkd4wT/PGCCjNrXBP9jJxs6Q3cE/+06ayLrwwT8sMHMGje7BP+hZZTpK18E/3qG3H5KrwT+S9Hb0UWzBPwCCoA20GsE/csbcrw+4wD//LDMM2kXAPxkr9Pgxi78/ycDUmK9xvj+r3OhIPEK9P7+DPRfS/7s/DEUmf0utuj/lj9hrXE25PxWSueON4rc/jl4e3Dtvtj+KcqqvlPW0Pyfza8qZd7M/gqq0JiH3sT/7/YNT13WwP0Fro56D6q0/qj++74Ltqj/GwlkgKvenP/U4CFS3CaU/UlvD6i0noj83mRUetqKePzp6yx2zE5k/\",\"dtype\":\"float64\",\"order\":\"little\",\"shape\":[108]},\"St\":{\"__ndarray__\":\"AAAAAAAA+P9fi63lVkWVP5emTVWw4Jc/iTmNoL0rmD8BCdGsBv6YP79l/lm995o/MgnMhzfenT/E65tOxs+gP1HjjcDjDKM/l9fncNijpT8OLFsaDZmoP2BFvZp74as/Iid3XRd+rz+p6IBf6q2xP9p7sbrWurM/XoxrxkDktT8Ky3EnmSK4Pxfi/pdqb7o/DzRO/y3IvD+zqZZwQSu/P+doeTb9ycA/V8ZNNLr/wT8/hOgcHDbDP5FffHrXa8Q/aVnvHGugxT/i2WBHS9PGPzdn4OZ7BMg/HJa36e4zyT83kcuiwWHKPyco4h0cjss/dYWemFC5zD8yQYDGuePNP+lM+sWQDs8/QXyAj6ki0D8lu+TzksnQP4O1nuZzf9E/4A4feq1G0j+ebJDypCDTP4QHJWZbDdQ/srEIJ4AM1T+vL2SUlxrWP7RWTkYEL9c/+430bS9F2D9+LS4rIVrZPy4I7zaJato/coZrG55y2z9WjxBeBWjcPyuSh5k3ON0/MOCetPrW3T+L3lD/FUDeP8XxeFy2d94/occ1nn2H3j/6q9FzynveP86Yb7EWYd4/Nsc4qPxC3j+nBz0MXyrePyR5ziKaHN4/brsGh6sb3j85R/PnzibeP3h8WtdOO94/Y2fbU1ZV3j+KPpSNo3DePySRkisOid4/Sz3Y+t+a3j9s4U09BqPeP/6OjhUln94/ZhF5qZaN3j+IjsZWXm3ePwtk6xkWPt4/E4SFOdr/3T+doaZqNbPdP7FPvCQOWd0/qKWlSZXy3D8H9qKdNYHcP2rTRamDBtw/47Q1xS2E2z9g2DJm7PvaPxouNQRzb9o/z3odRmLg2T9lln4ePFDZP8Zc+IFawNg/P4ChIOkx2D+fjz9T4qXXP2B03goPHdc/Fk+aYgmY1j/ixvs/QRfWP5SVVE0Cm9U/Sv8JrHoj1T+8ipDEwbDUPwpLWLjeQtQ/5EVkI87Z0z+uUlDwhnXTP3C12Cz+FdM/v+L60ym70j+k2EmkAmXSPyLEyxqFE9I/Sgt1srHG0T82j6eNjH7RP6DImLIcO9E/e3nh+Wr80D+V4W7YgMLQP5Qj9hpnjdA/iUnTriRd0D8BNiuOvTHQP7hF1dYxC9A/oHu+MPrSzz+vHXCvK5nPP60IRpTaaM8/\",\"dtype\":\"float64\",\"order\":\"little\",\"shape\":[108]},\"times\":[0,1,2,3,4,5,6,7,8,9,10,11,12,13,14,15,16,17,18,19,20,21,22,23,24,25,26,27,28,29,30,31,32,33,34,35,36,37,38,39,40,41,42,43,44,45,46,47,48,49,50,51,52,53,54,55,56,57,58,59,60,61,62,63,64,65,66,67,68,69,70,71,72,73,74,75,76,77,78,79,80,81,82,83,84,85,86,87,88,89,90,91,92,93,94,95,96,97,98,99,100,101,102,103,104,105,106,107]},\"selected\":{\"id\":\"3350\"},\"selection_policy\":{\"id\":\"3349\"}},\"id\":\"3123\",\"type\":\"ColumnDataSource\"},{\"attributes\":{},\"id\":\"3345\",\"type\":\"BasicTickFormatter\"},{\"attributes\":{},\"id\":\"3361\",\"type\":\"UnionRenderers\"},{\"attributes\":{},\"id\":\"3362\",\"type\":\"Selection\"},{\"attributes\":{\"active_drag\":\"auto\",\"active_inspect\":\"auto\",\"active_multi\":null,\"active_scroll\":\"auto\",\"active_tap\":\"auto\",\"tools\":[{\"id\":\"3096\"},{\"id\":\"3097\"},{\"id\":\"3098\"},{\"id\":\"3099\"},{\"id\":\"3100\"},{\"id\":\"3101\"}]},\"id\":\"3103\",\"type\":\"Toolbar\"},{\"attributes\":{\"line_alpha\":0.1,\"line_color\":\"#000003\",\"line_width\":1.5,\"x\":{\"field\":\"times\"},\"y\":{\"field\":\"St\"}},\"id\":\"3119\",\"type\":\"Line\"},{\"attributes\":{\"label\":{\"value\":\"\"},\"renderers\":[{\"id\":\"3191\"}]},\"id\":\"3210\",\"type\":\"LegendItem\"},{\"attributes\":{},\"id\":\"3086\",\"type\":\"LinearScale\"},{\"attributes\":{\"axis_label\":\"Index value\",\"formatter\":{\"id\":\"3343\"},\"ticker\":{\"id\":\"3093\"}},\"id\":\"3092\",\"type\":\"LinearAxis\"},{\"attributes\":{\"fill_alpha\":{\"value\":0.01},\"fill_color\":{\"value\":\"#FD9F6C\"},\"line_alpha\":{\"value\":0.01},\"line_color\":{\"value\":\"#FD9F6C\"},\"line_width\":{\"value\":1.5},\"x\":{\"field\":\"times\"},\"y\":{\"field\":\"S\"}},\"id\":\"3166\",\"type\":\"X\"},{\"attributes\":{},\"id\":\"3080\",\"type\":\"DataRange1d\"},{\"attributes\":{\"axis_label\":\"time (days)\",\"formatter\":{\"id\":\"3345\"},\"ticker\":{\"id\":\"3089\"}},\"id\":\"3088\",\"type\":\"LinearAxis\"},{\"attributes\":{},\"id\":\"3089\",\"type\":\"BasicTicker\"},{\"attributes\":{},\"id\":\"3363\",\"type\":\"UnionRenderers\"},{\"attributes\":{\"fill_alpha\":{\"value\":0.1},\"fill_color\":{\"value\":\"#FD9F6C\"},\"line_alpha\":{\"value\":0.1},\"line_color\":{\"value\":\"#FD9F6C\"},\"line_width\":{\"value\":1.5},\"x\":{\"field\":\"times\"},\"y\":{\"field\":\"S\"}},\"id\":\"3165\",\"type\":\"X\"},{\"attributes\":{},\"id\":\"3101\",\"type\":\"HelpTool\"},{\"attributes\":{},\"id\":\"3082\",\"type\":\"DataRange1d\"},{\"attributes\":{},\"id\":\"3100\",\"type\":\"ResetTool\"},{\"attributes\":{},\"id\":\"3343\",\"type\":\"BasicTickFormatter\"},{\"attributes\":{\"line_alpha\":0.1,\"line_color\":\"#FD9F6C\",\"line_width\":1.5,\"x\":{\"field\":\"times\"},\"y\":{\"field\":\"St\"}},\"id\":\"3171\",\"type\":\"Line\"},{\"attributes\":{\"data_source\":{\"id\":\"3162\"},\"glyph\":{\"id\":\"3170\"},\"hover_glyph\":null,\"muted_glyph\":{\"id\":\"3172\"},\"nonselection_glyph\":{\"id\":\"3171\"},\"selection_glyph\":null,\"view\":{\"id\":\"3174\"}},\"id\":\"3173\",\"type\":\"GlyphRenderer\"},{\"attributes\":{},\"id\":\"3364\",\"type\":\"Selection\"},{\"attributes\":{},\"id\":\"3097\",\"type\":\"WheelZoomTool\"},{\"attributes\":{},\"id\":\"3096\",\"type\":\"PanTool\"},{\"attributes\":{\"overlay\":{\"id\":\"3102\"}},\"id\":\"3098\",\"type\":\"BoxZoomTool\"},{\"attributes\":{},\"id\":\"3093\",\"type\":\"BasicTicker\"},{\"attributes\":{\"label\":{\"value\":\"R0\"},\"renderers\":[{\"id\":\"3141\"},{\"id\":\"3147\"}]},\"id\":\"3206\",\"type\":\"LegendItem\"},{\"attributes\":{\"bottom_units\":\"screen\",\"fill_alpha\":0.5,\"fill_color\":\"lightgrey\",\"left_units\":\"screen\",\"level\":\"overlay\",\"line_alpha\":1.0,\"line_color\":\"black\",\"line_dash\":[4,4],\"line_width\":2,\"right_units\":\"screen\",\"top_units\":\"screen\"},\"id\":\"3102\",\"type\":\"BoxAnnotation\"},{\"attributes\":{\"source\":{\"id\":\"3162\"}},\"id\":\"3174\",\"type\":\"CDSView\"},{\"attributes\":{\"data\":{\"S\":{\"__ndarray__\":\"AAAAAAAA+P9rAXGjlVT6PwLURCxvBPk/QT7HfeaO9D/1rclAlb7wP/hC4vI6yes/7RSdQweS6D/gnZeS8ojmP286dkom8eQ/GkeekQe/4z9rfVmR5rTiPy4EL1fIr+E/piDMJTS84D/95gLxCNbfP6TBQBvEUt4/7abgcoX03D+F4sS3Wq7bPzKcBu9deto/mp/W3UtU2T+zgtptWTvYP/+6S/FAKtc/7lzuyTQa1j/nTANXpxXVP1M1pTgdH9Q/GAlYEb4u0z9lHO5w1UzSP7ENtkaoddE/sUEobv+q0D84iFgR89bPP40asb8cbc4/jPZ9DMYXzT+VqJ6OYdXLP4vwXpE3pco/N1D6xTSLyT827Uju/ZDIP0i2XEqavMc/8UIblz4Oxz9dCtnmQnzGP5Be2RMh+sU/RhnFIbB+xT/OFlZ02wPFP2Sw6pKsh8Q/CPGpBjcNxD/PAkwUUZnDP8cAaxV6McM/m4ZSGsrbwj9hzXnn+J/CPz8ClVdIiMI/fIroDsOcwj/9sacJ3N/CP1dN46eEUcM/RjYTL0/wwz9S81q1arnEP8kvqU7SqMU/mi0mfP65xj+vG9aOq+jHP3EWJFLBMMk/Aia4ySeOyj+SNUUOpvzLP6ekZ9bPd80/pXh7xv76zj98vnQbqUDQP8AM9rHYAtE/OPVnHGfB0T8qpe6KlHnSPwI5WZCLKNM/ghODo2bL0z+8MsbuOF/UPyxeSCwb4dQ/goj70jxO1T9UnnI/+aPVP0fNr/Dv39U/deynKR4A1j/cHZzb9wLWP8X4WnN959U/bs0sNEyt1T9awQYtp1TVPw7n/Ld33tQ/+MZOL0VM1D/E36KZJKDTPxSapc+h3NI/4q2xL6QE0j9V4o4rURvRP34uOuzuI9A/CSCM6pFDzj8fcQdVMDDMP0wNHDbeE8o/iHte11X0xz/njtSL0dbFP3tE7OD+v8M/Rs5a7PizwT8hyFvDkGy/P9HajC/Qk7s/PVTcW5nitz8OUHyl3Fy0Pw8SvFinBbE/LVhIEnW+qz+pdkaRQ9alPxl09E+SVKA/JG+FMUd0lj/roSC6KBuKPyzwBn5gzHE/mKSaEeLzar/rXVZuNNeEvw2PJPmjuZC/JM4S08BOlr+lGR4HtjGbv3jC7nzFaZ+/\",\"dtype\":\"float64\",\"order\":\"little\",\"shape\":[108]},\"St\":{\"__ndarray__\":\"AAAAAAAA+P9YQGQ6kOgOQA0ZIGRVAwpAMNF0r8ynA0COAzs4niL+P4uavKKL1/g/aUeqOMXU9T8SDM337NjzP4KSVjHlW/I/SKzOSJ0k8T/cowHXXfHvP6vvBS4j9O0/ATqgaT8s7D+34DTWS6jqP7J6ytXvU+k/R7O5VWAs6D9/5L8ouw3nP9Y2dl1mEeY/nyVV5yAz5T8J+TybKm3kP6+Kvu6GvOM/+TeQGlod4z9fbweyiIziP6O6mHzMDOI/C06s+EOY4T80k3XKnjHhPwYlz6vN1uA/vIeiqnKG4D9xeqhi2z7gP4xlkJy3/t8/7DGjmg2O3z/L8hif4CnfP3RBqWfI0d4/VzQWCyyO3j94J6dIAGbeP1oE3wlMXd4/Zy7dPAl33j9dX5E/QLXeP2mQDPZuGd8/ZuOOiYak3z8R55+D0yngP7zLT5Zoj+A/K8dzQSAC4T+MHwvM1YHhP+ZWBKz5C+I/TvwpD9Ka4j8eEhALRSbjP94bbqUPpOM/ZImxXKoN5D/48RsuamDkP4/E3AWJnOQ/9Fx9BnjE5D9sRilQHtzkP8hdCr2o5+Q/bTe6p5bq5D+inkpBGejkP8+fIlsB4+Q/7Jx1CKjd5D8+nxlq59nkP1ovWmgc2eQ/mb6Rui3c5D8QT1QBluPkP83S5Uxv7+Q/vBDh337/5D8NZwuZQBPlP8KWWQ7yKeU/tcTOxJ1C5T8AGMMIJ1zlP1TGQL1WdeU/iWHsKOmM5T9IaBFvnKHlP0Gm4PU+suU/Q95V+Ly95T+jo7hMLMPlPzFp24vVweU/vrYC+jm55T+tLmnhFanlPw9dCFJfkeU/L982pUFy5T8nVapbFkzlP0fB3iFcH+U/C1W42Kzs5D96Vo9/s7TkPxTRJrQieOQ/zXjRWqw35D95euvG+vPjPz8TboqrreM/RVfw70tl4z9Umb30VhvjP/QmU5I00OI/k6FmFDqE4j8GbKE3qzfiPxxPhtW76uE/SFTY4JGd4T+6pQmNR1DhP07VQHjtAuE/zLLbvoy14D81NO/nKGjgPw6ozZ/BGuA/ySlScaia3z/hc6Pfuf/eP8zIhPOvZN4/tMGisITJ3T8rSrj5NC7dPzjuXHzBktw/QQSLTS/32z93j0Q9iFvbP/fOsfPav9o/\",\"dtype\":\"float64\",\"order\":\"little\",\"shape\":[108]},\"times\":[0,1,2,3,4,5,6,7,8,9,10,11,12,13,14,15,16,17,18,19,20,21,22,23,24,25,26,27,28,29,30,31,32,33,34,35,36,37,38,39,40,41,42,43,44,45,46,47,48,49,50,51,52,53,54,55,56,57,58,59,60,61,62,63,64,65,66,67,68,69,70,71,72,73,74,75,76,77,78,79,80,81,82,83,84,85,86,87,88,89,90,91,92,93,94,95,96,97,98,99,100,101,102,103,104,105,106,107]},\"selected\":{\"id\":\"3356\"},\"selection_policy\":{\"id\":\"3355\"}},\"id\":\"3162\",\"type\":\"ColumnDataSource\"},{\"attributes\":{\"fill_color\":{\"value\":\"#FD9F6C\"},\"line_color\":{\"value\":\"#FD9F6C\"},\"line_width\":{\"value\":1.5},\"x\":{\"field\":\"times\"},\"y\":{\"field\":\"S\"}},\"id\":\"3164\",\"type\":\"X\"},{\"attributes\":{\"line_alpha\":0.01,\"line_color\":\"#FD9F6C\",\"line_width\":1.5,\"x\":{\"field\":\"times\"},\"y\":{\"field\":\"St\"}},\"id\":\"3172\",\"type\":\"Line\"},{\"attributes\":{\"source\":{\"id\":\"3162\"}},\"id\":\"3168\",\"type\":\"CDSView\"},{\"attributes\":{\"line_color\":\"#000003\",\"line_width\":1.5,\"x\":{\"field\":\"times\"},\"y\":{\"field\":\"St\"}},\"id\":\"3118\",\"type\":\"Line\"},{\"attributes\":{\"line_alpha\":0.01,\"line_color\":\"#000003\",\"line_width\":1.5,\"x\":{\"field\":\"times\"},\"y\":{\"field\":\"St\"}},\"id\":\"3120\",\"type\":\"Line\"},{\"attributes\":{\"source\":{\"id\":\"3110\"}},\"id\":\"3122\",\"type\":\"CDSView\"}],\"root_ids\":[\"3077\"]},\"title\":\"Bokeh Application\",\"version\":\"2.2.3\"}};\n",
       "  var render_items = [{\"docid\":\"cc819da7-bfd3-442e-9ab5-7c9a2223984a\",\"root_ids\":[\"3077\"],\"roots\":{\"3077\":\"74ea0cd4-7902-429f-bfe3-ec4d1f303eba\"}}];\n",
       "  root.Bokeh.embed.embed_items_notebook(docs_json, render_items);\n",
       "\n",
       "  }\n",
       "  if (root.Bokeh !== undefined) {\n",
       "    embed_document(root);\n",
       "  } else {\n",
       "    var attempts = 0;\n",
       "    var timer = setInterval(function(root) {\n",
       "      if (root.Bokeh !== undefined) {\n",
       "        clearInterval(timer);\n",
       "        embed_document(root);\n",
       "      } else {\n",
       "        attempts++;\n",
       "        if (attempts > 100) {\n",
       "          clearInterval(timer);\n",
       "          console.log(\"Bokeh: ERROR: Unable to run BokehJS code because BokehJS library is missing\");\n",
       "        }\n",
       "      }\n",
       "    }, 10, root)\n",
       "  }\n",
       "})(window);"
      ],
      "application/vnd.bokehjs_exec.v0+json": ""
     },
     "metadata": {
      "application/vnd.bokehjs_exec.v0+json": {
       "id": "3077"
      }
     },
     "output_type": "display_data"
    },
    {
     "name": "stdout",
     "output_type": "stream",
     "text": [
      "------------------------------------------------ D -------------------------------------------------\n"
     ]
    },
    {
     "data": {
      "text/html": [
       "\n",
       "\n",
       "\n",
       "\n",
       "\n",
       "\n",
       "  <div class=\"bk-root\" id=\"f399585a-f3c7-44ba-bbc5-b84b5510385f\" data-root-id=\"3485\"></div>\n"
      ]
     },
     "metadata": {},
     "output_type": "display_data"
    },
    {
     "data": {
      "application/javascript": [
       "(function(root) {\n",
       "  function embed_document(root) {\n",
       "    \n",
       "  var docs_json = {\"482fc8b0-c884-43b2-b272-1db717545d8b\":{\"roots\":{\"references\":[{\"attributes\":{\"below\":[{\"id\":\"3496\"}],\"center\":[{\"id\":\"3499\"},{\"id\":\"3503\"}],\"left\":[{\"id\":\"3500\"}],\"plot_height\":450,\"plot_width\":900,\"renderers\":[{\"id\":\"3523\"},{\"id\":\"3529\"},{\"id\":\"3536\"},{\"id\":\"3542\"},{\"id\":\"3549\"},{\"id\":\"3555\"},{\"id\":\"3562\"},{\"id\":\"3568\"},{\"id\":\"3575\"},{\"id\":\"3581\"},{\"id\":\"3588\"},{\"id\":\"3594\"},{\"id\":\"3599\"},{\"id\":\"3604\"},{\"id\":\"3609\"}],\"right\":[{\"id\":\"3611\"}],\"title\":{\"id\":\"3486\"},\"toolbar\":{\"id\":\"3511\"},\"x_range\":{\"id\":\"3488\"},\"x_scale\":{\"id\":\"3492\"},\"y_range\":{\"id\":\"3490\"},\"y_scale\":{\"id\":\"3494\"}},\"id\":\"3485\",\"subtype\":\"Figure\",\"type\":\"Plot\"},{\"attributes\":{\"source\":{\"id\":\"3531\"}},\"id\":\"3537\",\"type\":\"CDSView\"},{\"attributes\":{\"fill_color\":{\"value\":\"#3B0F6F\"},\"line_color\":{\"value\":\"#3B0F6F\"},\"line_width\":{\"value\":1.5},\"x\":{\"field\":\"times\"},\"y\":{\"field\":\"S\"}},\"id\":\"3533\",\"type\":\"X\"},{\"attributes\":{},\"id\":\"3793\",\"type\":\"UnionRenderers\"},{\"attributes\":{\"data_source\":{\"id\":\"3583\"},\"glyph\":{\"id\":\"3591\"},\"hover_glyph\":null,\"muted_glyph\":{\"id\":\"3593\"},\"nonselection_glyph\":{\"id\":\"3592\"},\"selection_glyph\":null,\"view\":{\"id\":\"3595\"}},\"id\":\"3594\",\"type\":\"GlyphRenderer\"},{\"attributes\":{},\"id\":\"3794\",\"type\":\"Selection\"},{\"attributes\":{\"source\":{\"id\":\"3518\"}},\"id\":\"3530\",\"type\":\"CDSView\"},{\"attributes\":{\"data\":{\"S\":{\"__ndarray__\":\"AAAAAAAA+P9bCWOmjZOQvzXo1I1IsZS/8vzR+74el7/OhTnvV76Xv3q/NdoJzTW/kOAtXJbhoD8LkthjSaquP92BE8dJQLQ/lEY/+oOmtz9i1d+jr925PzYMTr0DPbs/ehmX1dY8vD9f8qsgCQa9P8tx/Ys9kL0/Cm/3Y37evT8ieJvZpvS9P3oXEoYu2L0/tZwxq9OPvT+vfPgj8yC9P7m18F8XkLw/qiivSuDkuz9Klol6ySa7P8jPoo+FWro/eUdUfu6BuT/lu8mgo564Pz68kLYVtLc/p2XyzBrFtj/pB2Xwz9O1P5maIkFL4rQ/RJqlTGbysz/YzdjQuwWzP/6ZQG63HbI/4xWq66o8sT/sAbmMK2awPxBFa5v7Na8/m+0Y6E6zrT9LjZWpEz+sP0zRiF3xz6o/JkYhitlZqT+Tj7VuRtKnP8X8qx2jNKY/DO7Ko9iCpD+JweEUXMOiP9x52svS/qA/7qe3IJ58nj/OXAiNdxSbP+3+tbbi05c/3BHsKf7FlD+GpuXHSvGRPy/8c0kdr44/RPT5NjPtiT+cyJcQApOFP0kyoUIBlIE/c7s3J9zIez8JdE60gvV0P4YaylvlPG0/l0KabaJtYT/8BntNf55JP8fI4AlgOz+/7Y4No9MdW7+hks7Zn5tmv/rsQ6TUF2+/YjnN2bOFc78jYnoB9T13v7G0NsZetnq/TOCcLp/vfb/V6YL+vXSAv4hy+fp50YG/ucx7JjMNg7/CqSjV3yaEv3c7qaRVHYW/z/Np9mLvhb9EA8BM6JuGv6E4DxrwIYe/HUhOzsOAh79w2KkN/beHv4MFszySx4e/SSj08d2vh7+329tIoXGHv7GAmUcBDoe/pFpyJoCGhr97vZMQ89yFvzjQmHh1E4W/lqQu3loshL+OMET6HyqDvw4FeRJcD4K/Eey6FbPegL8ev1z9kTV/v3zRE6ZtjHy/xhMavALHeb8dGYxwI+p2v4p56Cdf+nO/0BSpS/r7cL/7oydG0uVrvwFiuzqaxWW/k3qLUNE7X79u/GITa+lSvx8oi4vOejq/22NkgUprNj+DpaFIw7pRP5MO79jEuV0/JSwLI7rIZD9EecYiKJ5qP5EvfT9pLXA/iDG0/l3+cj9Hu1VoHcF1PxgJJ833dHg/\",\"dtype\":\"float64\",\"order\":\"little\",\"shape\":[108]},\"St\":{\"__ndarray__\":\"AAAAAAAA+P/T8Ia8QzHaPyMewCbeS9k/zUMi/Snu1j/PUFuj85TUP86wc503wtI/R+FDuCpo0T/ZNnSi6GfQP+HtepCOUM8/PDz9dWkwzj8yu1rvWVjNPyXCKKuitMw/InmcsQk2zD+7hJiZL9DLPxVsfhHyeMs/yb2hMespyz/XJum05d3KP7LvurNokMo/KA83fMo+yj/fN19D1OfJPyFBX9kHi8k/DYqZfVooyT9h6hQ2P8DIPzwufctqU8g/d0V5tKTixz/6iIxxx27HP6Yss7O8+MY/pll8I2+Bxj9X4ptevQnGP14alqJ0ksU/w2Hby08cxT8m5asJ96fEP4EAhrgGNsQ/tjLxWDTIwz9Js/GPDWPDP+JlY7R+DMM/ZEF7Ej7Kwj/mKzuZsKDCP3TctI4bkcI/2Eyv+uqZwj9S/1+nXLjCP+pmVH366cI/B7pKhkQtwz9z1KP7kIHDP1GSywDQ5sM/3E7vjlBdxD88SDQMhuXEPyApbGD/f8U//eclMmwtxj9pTENfjO7GPzR2Qunww8c/12bRpqytyD/wUxCJK6vJPyMeGxQFu8o/6mR0sIDayz8ZF2kviwXNP+vH6CJHN84/eIQ8pppqzz/ZJBd7UU3QPyjYtRqD4dA/AJtzPRFw0T/izY55j/fRPzvmnFLzdtI/U6a4dort0j8zQLg97VrTP4WIgwTwvtM/qDHcHZUZ1D8K6ExfAGvUP8beXMVss9Q/2zmKSCTz1D/TwKrHeSrVPyrlK8vEWdU/4eMPvF6B1T+pJqhRoaHVP4hf79jlutU/m7eGEIXN1T84d5Jf19nVP9LO8DQ14NU/OlALavfg1T9t9bORd9zVP+dSIiAQ09U/Qi6dZxzF1T+ooj9l+LLVP2aZWWYAndU/F2BYiZCD1T9HG7YoBGfVP6Vw3ja1R9U/txywl/sl1T8monx/LALVP/9uPt+Z3NQ/Haw/45G11D/T5FiIXo3UPyBAaklFZNQ/QwxX5IY61D+Lzjg6XxDUPzmG5kAF5tM/9qSbCqu70z//tKrdfZHTP+hLr1mmZ9M/gw7Zp0g+0z+6Xi2zhBXTP7so/2Z27dI/s9LD7jXG0j87VnX715/SP8aWCwZuetI/BqfrkQZW0j/eOAVurTLSPxM9IfJrENI/\",\"dtype\":\"float64\",\"order\":\"little\",\"shape\":[108]},\"times\":[0,1,2,3,4,5,6,7,8,9,10,11,12,13,14,15,16,17,18,19,20,21,22,23,24,25,26,27,28,29,30,31,32,33,34,35,36,37,38,39,40,41,42,43,44,45,46,47,48,49,50,51,52,53,54,55,56,57,58,59,60,61,62,63,64,65,66,67,68,69,70,71,72,73,74,75,76,77,78,79,80,81,82,83,84,85,86,87,88,89,90,91,92,93,94,95,96,97,98,99,100,101,102,103,104,105,106,107]},\"selected\":{\"id\":\"3780\"},\"selection_policy\":{\"id\":\"3779\"}},\"id\":\"3518\",\"type\":\"ColumnDataSource\"},{\"attributes\":{\"line_alpha\":0.1,\"line_color\":\"#FBFCBF\",\"line_width\":1.5,\"x\":{\"field\":\"times\"},\"y\":{\"field\":\"St\"}},\"id\":\"3592\",\"type\":\"Line\"},{\"attributes\":{\"line_alpha\":0.01,\"line_color\":\"#000003\",\"line_width\":1.5,\"x\":{\"field\":\"times\"},\"y\":{\"field\":\"St\"}},\"id\":\"3528\",\"type\":\"Line\"},{\"attributes\":{},\"id\":\"3792\",\"type\":\"Selection\"},{\"attributes\":{\"data\":{\"S\":{\"__ndarray__\":\"AAAAAAAA+P/RzCdsGyZ+P5HoZAXiZIQ/YhasnBKiiT+rV70HLgaNP1voA9COYYo/P0H7VpqphD8fRCPYGBt/P73r6kUZo3c/Nezaus3ocj/X5zYRcO9wPwCLQuJeLHE/utABR0V7cj/H2r/WO0F0P+AY6QgKZXY/vXvFP9rheD//Ch9a25p7PzpxErhlan4/8NF55N+agD//+0O+j/eBP06kytVoPoM/2tezNGp8hD8g3pGKVr6FP0lWIJY+/YY/fwea3qg7iD+nlnRdZniJP/eHxwG+ooo/rm9adfKziz/MHTm/VrGMPysxAhd+nY0/NLfxZoN6jj8MsZJnTEqPPyWkC6z+BpA/iUcmXClkkD/YNvIgsMOQP4NQ6yYaNJE/ouDZ4bDFkT8hS8m3pYaSP18sAqm3gpM/wlCRd77ClD9FgwzIYkqWP4cyhYvyFJg/D4ULgjkWmj/bX2mPwD2cP+64B52zeZ4/T8xyf01coD//AW9TEXWhP2t+OjS6f6I/zjEh/qd2oz/u/60Z1FakPz0Iu/rVH6U/WnWtvE/TpT+kRrNPLnSmP9dvSTsMBqc/OBbONruMpz8YF2NF9QuoP0fUd4Amh6g/Ln5Pw04BqT+L9rVu9XypP64x+skp/Kk/r53+c4uAqj9yznMMVwurP7HCbvlznas/yU0FI4E3rD9KNNpu39msP/sSb7a5hK0/yMRYdgo4rj9AD/ban/OuP9Af/98et68/v+eRFANBsD/FVwyJ2KmwP9WrFqWtFbE/EeEDiRKEsT+je/sKjPSxP+RaY1yWZrI/5EBbyKfZsj+lulxrM02zP2yDIMOrwLM/ocu3/oQztD8BIi7/NqW0PwRX6fs+FbU/WTHx0CCDtT9xvg75Z+61PyKDmECoVrY/kyzGPH67tj/X2bSSjxy3P98BWBqLebc/B4wD6SjStz8d4rlFKia4Pw9FVZBZdbg/8NHSHYq/uD8zvA0LmAS5PypVTQZoRLk/X7XiEed+uT90FXA7CrS5P7jxbEzO47k/pNDsbzcOuj+U5d7OUDO6P+1+NiYsU7o/c5CkT+Ftuj9UGLfGjYO6Py5y3iZUlLo/GT4upFuguj+GD+yAz6e6PxYzr4Leqro/W7/9Zbqpuj+MeFNXl6S6P1w8DWyrm7o/\",\"dtype\":\"float64\",\"order\":\"little\",\"shape\":[108]},\"St\":{\"__ndarray__\":\"AAAAAAAA+P+MO+eL476gP0N+gNaa26I/N7HKcnzaoz/FgzBfR56kP+CiTUhPjqU/rH+vE7XGpj9O4HI/O1WoP9aFda7wP6o/g/jNt/aGrD94UenKKiuvP4pq79mVFrE/nQF/hgnHsj/jrfGcTqa0PyCg2AA6srY/tSlJsdjouD87QWY66Ua7P8pY5vh2x70/+m0UbJwywD+CTjkyc43BP6zxWpl78cI/14sTZNtbxD9FD8Nr4MnFP5EvM4UGOcc/0FEGiPOmyD80r3YykhHKP/1MUz0md8s/AwScgE7WzD8khRaA/i3OP0Soboh4fc8/9qn2CiRi0D8F7mepHAHRP5Pagq6sm9E/5mxCzO0y0j+SBbMWlMrSP/JYZgn4Z9M/syEwFPEQ1D8EzpQuEMvUP4ouxPcmm9U/Se/NgBSF1j9h+M9sKYvXP154dKGEq9g/BoQLoH3g2T9pghhH7CLbP5AYw3xqa9w/GkaQpwqz3T+AhzCtPfPeP927m2cWEuA/qsRopqCe4D+3rGhIYxvhP/EE89qUheE/iIJHr9fb4T9vlAXyOR7iP3g7nM/+TeI/a39EkVVt4j/BwS3SBH/iP83LADMHhuI/wZCAuDiF4j+Ic3osHX/iP+Dy5RrAdeI/DAltr6pq4j9HTHGZ6V7iP2Hw9tIcU+I/cPqnGIxH4j84UelDPDziPzscgyMDMeI/wDmojpgl4j9YCMxBpBniPysmhZbIDOI/D6Ypa6r+4T+m1HGv9u7hPxGarw1m3eE/Hxo3GL/J4T9yw1dX17PhP6h0h32Tm+E/zuHI+OaA4T+QehUM02PhP6ryzo9lROE/11RTdLci4T/PcBIc6/7gP/W77p8q2eA/srS6Dqax4D871Jy3kYjgP55RWYwkXuA/MS93ppYy4D/7RmX3HwbgPyyLS1Pusd8/T00Pa6FW3z9lqeBSvPreP94V/Uebnt4/Jla19pJC3j+o7uwa8ObdP4tCUWT3i90/1BjVlOUx3T8LJufI79jcP9XEiuFDgdw/Sie1Awkr3D/GlUQlYNbbP9+wsp5kg9s/NfhuvSwy2z9LAxdQyuLaP8zFPSxLldo/aKsiqblJ2j9qbfsOHQDaP8KHs/t5uNk/u/F7u9Jy2T+6RCeXJy/ZPxaZGxh37dg/\",\"dtype\":\"float64\",\"order\":\"little\",\"shape\":[108]},\"times\":[0,1,2,3,4,5,6,7,8,9,10,11,12,13,14,15,16,17,18,19,20,21,22,23,24,25,26,27,28,29,30,31,32,33,34,35,36,37,38,39,40,41,42,43,44,45,46,47,48,49,50,51,52,53,54,55,56,57,58,59,60,61,62,63,64,65,66,67,68,69,70,71,72,73,74,75,76,77,78,79,80,81,82,83,84,85,86,87,88,89,90,91,92,93,94,95,96,97,98,99,100,101,102,103,104,105,106,107]},\"selected\":{\"id\":\"3782\"},\"selection_policy\":{\"id\":\"3781\"}},\"id\":\"3531\",\"type\":\"ColumnDataSource\"},{\"attributes\":{\"data_source\":{\"id\":\"3531\"},\"glyph\":{\"id\":\"3539\"},\"hover_glyph\":null,\"muted_glyph\":{\"id\":\"3541\"},\"nonselection_glyph\":{\"id\":\"3540\"},\"selection_glyph\":null,\"view\":{\"id\":\"3543\"}},\"id\":\"3542\",\"type\":\"GlyphRenderer\"},{\"attributes\":{\"data\":{\"S\":{\"__ndarray__\":\"AAAAAAAA+P8Y0jRjdcMYPydsB3gr5Cs/GfwGj6bQNT+p5elIgjw5P1/hHRgEL1g/PbyZtRkBbz8/xyJrjxR7P7ZPClt754M/FFH5ruCpij/AIR18weGQP2d6e1bDl5Q/2ISVirB2mD/NuXgbgn2cPxolmLRQU6A/n3M94Q52oj+tpYhk7KKkPztUkeI01KY/ocROSgQEqT8r6TY9zSyrP/5IWDPDSK0/VlYllLxSrz8ov4wwQ6OwP9YRnmNfkLE/16CkcoFusj8CS6NdPzyzP1koeSiH+LM/VSF8kgWjtD/w2n2kgzy1P2GMbfeqxbU/3mL6IOk+tj/dpoibaKi2PwiAk2s3Arc/18YHOaxNtz9enA3UbY63P+LEbUmTxbc/dmyhIy7xtz83n/6xqQy4P6Lpr4gKDrg/imgKD3Xntz8QF8yG/ou3P7LzEQPJ87Y/1FRE2tcdtj9i9iXEqg+1P8bAePCA07M/hD72cmN2sj8jzOdUmQaxP+msnnPxJa8/wGgCBsNSrD8AyzUVcaqpP9/PE+yOPac/YwPAXUkWpT+E421S2DijPyIaXzqZpKE/Dsam3WhVoD/hydIO6YmeP/zT9fCQ15w/D7jYmDeEmz+JBYAruYCaP5Y13XMMv5k/SMgzMZ0ymT+WqSfGa9CYP0230AEGj5g/XOg9TmhmmD83ewiG0k+YP3n9omSYRZg/Oj3v6vJCmD/xARQV1kOYP4nzP7vMRJg/sLr/ZdtCmD+S1VESajuYPxv6bWE0LJg/WnbEUD8TmD863ZRr0+6XP5XcF156vZc//p2Uwf59lz+YRk4qbS+XP67bE40V0ZY/7pXbQ4xilj9O7uI1quOVP2ARmr2LVJU/O5Y/JY61lD/3fPK6SweUPxJIRY6WSpM/nsfdEHKAkj/2QYrYC6qRP0yk/s6zyJA/HSOlMqi7jz+i1lQK0tWNP5qomGvy4os/1d/ZkBzmiT+5aYc+XOKHP3GVHdep2oU/AUNqHeDRgz81O1mrs8qBP9k58kFYj38/05qqEj6Wez+XjQuBWK53P8lyEIt323M/GsKNt/kgcD9TnXXimANpP3l0AqHcAGI/ExQQV8t7Vj8/gEtNO/hCP5lF3RXXwCe/3aqf2R+6Tb+38FVVPTBav/EvqEQmeGK/\",\"dtype\":\"float64\",\"order\":\"little\",\"shape\":[108]},\"St\":{\"__ndarray__\":\"AAAAAAAA+P+DTaJhWnIXP29IpipVuTg/0BGrTORaSz9hyrXhXrVXP+kFYzTLP2I/EmxtgCk9aj9w8lKhjRZyP6qCzgaNQHg/Da1nZarXfz/8BnSPooyEPwNcnxIcIYo/z8RTru5jkD/coCIqoE6UPyVVOjqi3Jg/zvJEkQkZnj8WKGO2BwaiP7yD95fgXKU/wmk0CJgRqT/TRH7XayOtPxVD7EMNyLA/WaU1e/Qpsz8/SuPyCrW1P/x8aS1/Zrg/fp4RfBY7uz8CEuAeVS++Pyf35w/Sn8A/So11yjE0wj9iNym/9tLDP/zXmhpJesU/TF2n+UUoxz8+7eCo8drIP4CvdIkpkMo/pD5xG/dGzD/qDkCCCgLOP7HD7qngxs8/aQeCrinO0D9vcRqaH8TRP510mMFCxNI/5vzkkJHI0z/amNwXuMfUP3LV6E90tdU/2RAA3LeE1j8yko8SdSrXPx9m51P6ntc/yEnMXVze1z/t89LyaujXPy7XhGYYwdc/JxqqDlNv1z93eyEPCvvWPxoIaxaqa9Y/4qdNhY7H1T8V5+h/OhTVP3tLFY27VtQ/TdJ9bP2T0z/5XGXSy9DSPySB+HOOEdI/XHnKfP1Z0T+nFhf966zQP+nUsLc0DNA/GNAI9o7xzj+IUIVNmuXNPy+cnD6t88w/Z62r1hkazD+Z/5AwuFbLP+DmhZMrp8o/CbQcYRUJyj89qX9MN3rJPw+x/raH+Mg/iEEMazuCyD8jVRO8xxXIP0SQWqHfscc/1QcyyG1Vxz8NjOwfjf/GP2rLRPCAr8Y/gDwyKa1kxj/Blrtijx7GP2Ae7Me43MU/Kz/EB8mexT+nBIpPamTFPwxpWDdOLcU/JYerjyv5xD8D57fpvMfEPxex0bi/mMQ/e+GW7PNrxD/QRu/hG0HEP2RCz5D8F8Q/ObdM3F3wwz9iKdXyCsrDP2u6wq7SpMM/oW2J64eAwz8Avv3JAV3DPzmfwdsbOsM/k/s2ObYXwz9obDt+tfXCP2N4G7AC1MI/aRPiEIuywj/gNWDiP5HCPwmAURwWcMI/roQnGQZPwj916fc9Cy7CP0a+D50jDcI/l131m0/swT8Nui2YkcvBPx4VQJHtqsE/PpsW12iKwT/nhhC/CWrBP8LWKF/XScE/\",\"dtype\":\"float64\",\"order\":\"little\",\"shape\":[108]},\"times\":[0,1,2,3,4,5,6,7,8,9,10,11,12,13,14,15,16,17,18,19,20,21,22,23,24,25,26,27,28,29,30,31,32,33,34,35,36,37,38,39,40,41,42,43,44,45,46,47,48,49,50,51,52,53,54,55,56,57,58,59,60,61,62,63,64,65,66,67,68,69,70,71,72,73,74,75,76,77,78,79,80,81,82,83,84,85,86,87,88,89,90,91,92,93,94,95,96,97,98,99,100,101,102,103,104,105,106,107]},\"selected\":{\"id\":\"3784\"},\"selection_policy\":{\"id\":\"3783\"}},\"id\":\"3544\",\"type\":\"ColumnDataSource\"},{\"attributes\":{\"text\":\"Sobol analysis\"},\"id\":\"3486\",\"type\":\"Title\"},{\"attributes\":{},\"id\":\"3509\",\"type\":\"HelpTool\"},{\"attributes\":{\"fill_color\":{\"value\":\"#8C2980\"},\"line_color\":{\"value\":\"#8C2980\"},\"line_width\":{\"value\":1.5},\"x\":{\"field\":\"times\"},\"y\":{\"field\":\"S\"}},\"id\":\"3546\",\"type\":\"X\"},{\"attributes\":{\"axis_label\":\"time (days)\",\"formatter\":{\"id\":\"3777\"},\"ticker\":{\"id\":\"3497\"}},\"id\":\"3496\",\"type\":\"LinearAxis\"},{\"attributes\":{},\"id\":\"3488\",\"type\":\"DataRange1d\"},{\"attributes\":{\"line_alpha\":0.1,\"line_color\":\"#DD4968\",\"line_width\":1.5,\"x\":{\"field\":\"times\"},\"y\":{\"field\":\"St\"}},\"id\":\"3566\",\"type\":\"Line\"},{\"attributes\":{},\"id\":\"3490\",\"type\":\"DataRange1d\"},{\"attributes\":{\"line_alpha\":0.1,\"line_color\":\"#FD9F6C\",\"line_width\":1.5,\"x\":{\"field\":\"times\"},\"y\":{\"field\":\"St\"}},\"id\":\"3579\",\"type\":\"Line\"},{\"attributes\":{},\"id\":\"3791\",\"type\":\"UnionRenderers\"},{\"attributes\":{},\"id\":\"3497\",\"type\":\"BasicTicker\"},{\"attributes\":{\"click_policy\":\"mute\",\"items\":[{\"id\":\"3612\"},{\"id\":\"3613\"},{\"id\":\"3614\"},{\"id\":\"3615\"},{\"id\":\"3616\"},{\"id\":\"3617\"},{\"id\":\"3618\"},{\"id\":\"3619\"},{\"id\":\"3620\"}]},\"id\":\"3611\",\"type\":\"Legend\"},{\"attributes\":{\"line_alpha\":0.1,\"x\":{\"field\":\"x\"},\"y\":{\"field\":\"y\"}},\"id\":\"3598\",\"type\":\"Line\"},{\"attributes\":{},\"id\":\"3795\",\"type\":\"UnionRenderers\"},{\"attributes\":{\"line_color\":\"#000003\",\"line_width\":1.5,\"x\":{\"field\":\"times\"},\"y\":{\"field\":\"St\"}},\"id\":\"3526\",\"type\":\"Line\"},{\"attributes\":{},\"id\":\"3796\",\"type\":\"Selection\"},{\"attributes\":{\"line_alpha\":0.01,\"line_color\":\"#FBFCBF\",\"line_width\":1.5,\"x\":{\"field\":\"times\"},\"y\":{\"field\":\"St\"}},\"id\":\"3593\",\"type\":\"Line\"},{\"attributes\":{\"data_source\":{\"id\":\"3518\"},\"glyph\":{\"id\":\"3526\"},\"hover_glyph\":null,\"muted_glyph\":{\"id\":\"3528\"},\"nonselection_glyph\":{\"id\":\"3527\"},\"selection_glyph\":null,\"view\":{\"id\":\"3530\"}},\"id\":\"3529\",\"type\":\"GlyphRenderer\"},{\"attributes\":{\"data_source\":{\"id\":\"3596\"},\"glyph\":{\"id\":\"3597\"},\"hover_glyph\":null,\"muted_glyph\":null,\"nonselection_glyph\":{\"id\":\"3598\"},\"selection_glyph\":null,\"view\":{\"id\":\"3600\"}},\"id\":\"3599\",\"type\":\"GlyphRenderer\"},{\"attributes\":{\"source\":{\"id\":\"3557\"}},\"id\":\"3569\",\"type\":\"CDSView\"},{\"attributes\":{\"line_color\":\"#FBFCBF\",\"line_width\":1.5,\"x\":{\"field\":\"times\"},\"y\":{\"field\":\"St\"}},\"id\":\"3591\",\"type\":\"Line\"},{\"attributes\":{\"data_source\":{\"id\":\"3570\"},\"glyph\":{\"id\":\"3578\"},\"hover_glyph\":null,\"muted_glyph\":{\"id\":\"3580\"},\"nonselection_glyph\":{\"id\":\"3579\"},\"selection_glyph\":null,\"view\":{\"id\":\"3582\"}},\"id\":\"3581\",\"type\":\"GlyphRenderer\"},{\"attributes\":{\"source\":{\"id\":\"3583\"}},\"id\":\"3589\",\"type\":\"CDSView\"},{\"attributes\":{\"source\":{\"id\":\"3531\"}},\"id\":\"3543\",\"type\":\"CDSView\"},{\"attributes\":{\"data_source\":{\"id\":\"3583\"},\"glyph\":{\"id\":\"3585\"},\"hover_glyph\":null,\"muted_glyph\":{\"id\":\"3587\"},\"nonselection_glyph\":{\"id\":\"3586\"},\"selection_glyph\":null,\"view\":{\"id\":\"3589\"}},\"id\":\"3588\",\"type\":\"GlyphRenderer\"},{\"attributes\":{\"line_alpha\":0.01,\"line_color\":\"#3B0F6F\",\"line_width\":1.5,\"x\":{\"field\":\"times\"},\"y\":{\"field\":\"St\"}},\"id\":\"3541\",\"type\":\"Line\"},{\"attributes\":{\"source\":{\"id\":\"3544\"}},\"id\":\"3550\",\"type\":\"CDSView\"},{\"attributes\":{\"line_alpha\":0.1,\"line_color\":\"#3B0F6F\",\"line_width\":1.5,\"x\":{\"field\":\"times\"},\"y\":{\"field\":\"St\"}},\"id\":\"3540\",\"type\":\"Line\"},{\"attributes\":{\"fill_alpha\":{\"value\":0.01},\"fill_color\":{\"value\":\"#8C2980\"},\"line_alpha\":{\"value\":0.01},\"line_color\":{\"value\":\"#8C2980\"},\"line_width\":{\"value\":1.5},\"x\":{\"field\":\"times\"},\"y\":{\"field\":\"S\"}},\"id\":\"3548\",\"type\":\"X\"},{\"attributes\":{\"fill_alpha\":{\"value\":0.01},\"fill_color\":{\"value\":\"#3B0F6F\"},\"line_alpha\":{\"value\":0.01},\"line_color\":{\"value\":\"#3B0F6F\"},\"line_width\":{\"value\":1.5},\"x\":{\"field\":\"times\"},\"y\":{\"field\":\"S\"}},\"id\":\"3535\",\"type\":\"X\"},{\"attributes\":{\"fill_alpha\":{\"value\":0.1},\"fill_color\":{\"value\":\"#3B0F6F\"},\"line_alpha\":{\"value\":0.1},\"line_color\":{\"value\":\"#3B0F6F\"},\"line_width\":{\"value\":1.5},\"x\":{\"field\":\"times\"},\"y\":{\"field\":\"S\"}},\"id\":\"3534\",\"type\":\"X\"},{\"attributes\":{\"x\":{\"field\":\"x\"},\"y\":{\"field\":\"y\"}},\"id\":\"3597\",\"type\":\"Line\"},{\"attributes\":{\"data_source\":{\"id\":\"3531\"},\"glyph\":{\"id\":\"3533\"},\"hover_glyph\":null,\"muted_glyph\":{\"id\":\"3535\"},\"nonselection_glyph\":{\"id\":\"3534\"},\"selection_glyph\":null,\"view\":{\"id\":\"3537\"}},\"id\":\"3536\",\"type\":\"GlyphRenderer\"},{\"attributes\":{},\"id\":\"3780\",\"type\":\"Selection\"},{\"attributes\":{},\"id\":\"3779\",\"type\":\"UnionRenderers\"},{\"attributes\":{\"data_source\":{\"id\":\"3570\"},\"glyph\":{\"id\":\"3572\"},\"hover_glyph\":null,\"muted_glyph\":{\"id\":\"3574\"},\"nonselection_glyph\":{\"id\":\"3573\"},\"selection_glyph\":null,\"view\":{\"id\":\"3576\"}},\"id\":\"3575\",\"type\":\"GlyphRenderer\"},{\"attributes\":{\"data_source\":{\"id\":\"3557\"},\"glyph\":{\"id\":\"3559\"},\"hover_glyph\":null,\"muted_glyph\":{\"id\":\"3561\"},\"nonselection_glyph\":{\"id\":\"3560\"},\"selection_glyph\":null,\"view\":{\"id\":\"3563\"}},\"id\":\"3562\",\"type\":\"GlyphRenderer\"},{\"attributes\":{\"line_color\":\"#3B0F6F\",\"line_width\":1.5,\"x\":{\"field\":\"times\"},\"y\":{\"field\":\"St\"}},\"id\":\"3539\",\"type\":\"Line\"},{\"attributes\":{\"line_alpha\":0.1,\"line_color\":\"#000003\",\"line_width\":1.5,\"x\":{\"field\":\"times\"},\"y\":{\"field\":\"St\"}},\"id\":\"3527\",\"type\":\"Line\"},{\"attributes\":{\"data\":{\"x\":[],\"y\":[]},\"selected\":{\"id\":\"3792\"},\"selection_policy\":{\"id\":\"3791\"}},\"id\":\"3596\",\"type\":\"ColumnDataSource\"},{\"attributes\":{},\"id\":\"3494\",\"type\":\"LinearScale\"},{\"attributes\":{\"source\":{\"id\":\"3570\"}},\"id\":\"3582\",\"type\":\"CDSView\"},{\"attributes\":{},\"id\":\"3501\",\"type\":\"BasicTicker\"},{\"attributes\":{\"fill_alpha\":{\"value\":0.01},\"fill_color\":{\"value\":\"#000003\"},\"line_alpha\":{\"value\":0.01},\"line_color\":{\"value\":\"#000003\"},\"line_width\":{\"value\":1.5},\"x\":{\"field\":\"times\"},\"y\":{\"field\":\"S\"}},\"id\":\"3522\",\"type\":\"X\"},{\"attributes\":{\"data_source\":{\"id\":\"3518\"},\"glyph\":{\"id\":\"3520\"},\"hover_glyph\":null,\"muted_glyph\":{\"id\":\"3522\"},\"nonselection_glyph\":{\"id\":\"3521\"},\"selection_glyph\":null,\"view\":{\"id\":\"3524\"}},\"id\":\"3523\",\"type\":\"GlyphRenderer\"},{\"attributes\":{\"overlay\":{\"id\":\"3510\"}},\"id\":\"3506\",\"type\":\"BoxZoomTool\"},{\"attributes\":{},\"id\":\"3507\",\"type\":\"SaveTool\"},{\"attributes\":{},\"id\":\"3505\",\"type\":\"WheelZoomTool\"},{\"attributes\":{},\"id\":\"3504\",\"type\":\"PanTool\"},{\"attributes\":{\"source\":{\"id\":\"3583\"}},\"id\":\"3595\",\"type\":\"CDSView\"},{\"attributes\":{\"line_color\":\"#FD9F6C\",\"line_width\":1.5,\"x\":{\"field\":\"times\"},\"y\":{\"field\":\"St\"}},\"id\":\"3578\",\"type\":\"Line\"},{\"attributes\":{\"fill_alpha\":{\"value\":0.01},\"fill_color\":{\"value\":\"#DD4968\"},\"line_alpha\":{\"value\":0.01},\"line_color\":{\"value\":\"#DD4968\"},\"line_width\":{\"value\":1.5},\"x\":{\"field\":\"times\"},\"y\":{\"field\":\"S\"}},\"id\":\"3561\",\"type\":\"X\"},{\"attributes\":{\"active_drag\":\"auto\",\"active_inspect\":\"auto\",\"active_multi\":null,\"active_scroll\":\"auto\",\"active_tap\":\"auto\",\"tools\":[{\"id\":\"3504\"},{\"id\":\"3505\"},{\"id\":\"3506\"},{\"id\":\"3507\"},{\"id\":\"3508\"},{\"id\":\"3509\"}]},\"id\":\"3511\",\"type\":\"Toolbar\"},{\"attributes\":{},\"id\":\"3508\",\"type\":\"ResetTool\"},{\"attributes\":{\"source\":{\"id\":\"3518\"}},\"id\":\"3524\",\"type\":\"CDSView\"},{\"attributes\":{\"axis\":{\"id\":\"3500\"},\"dimension\":1,\"ticker\":null},\"id\":\"3503\",\"type\":\"Grid\"},{\"attributes\":{\"fill_alpha\":{\"value\":0.1},\"fill_color\":{\"value\":\"#000003\"},\"line_alpha\":{\"value\":0.1},\"line_color\":{\"value\":\"#000003\"},\"line_width\":{\"value\":1.5},\"x\":{\"field\":\"times\"},\"y\":{\"field\":\"S\"}},\"id\":\"3521\",\"type\":\"X\"},{\"attributes\":{\"axis\":{\"id\":\"3496\"},\"ticker\":null},\"id\":\"3499\",\"type\":\"Grid\"},{\"attributes\":{\"line_alpha\":0.01,\"line_color\":\"#FD9F6C\",\"line_width\":1.5,\"x\":{\"field\":\"times\"},\"y\":{\"field\":\"St\"}},\"id\":\"3580\",\"type\":\"Line\"},{\"attributes\":{\"axis_label\":\"Index value\",\"formatter\":{\"id\":\"3775\"},\"ticker\":{\"id\":\"3501\"}},\"id\":\"3500\",\"type\":\"LinearAxis\"},{\"attributes\":{\"fill_alpha\":{\"value\":0.01},\"fill_color\":{\"value\":\"#FBFCBF\"},\"line_alpha\":{\"value\":0.01},\"line_color\":{\"value\":\"#FBFCBF\"},\"line_width\":{\"value\":1.5},\"x\":{\"field\":\"times\"},\"y\":{\"field\":\"S\"}},\"id\":\"3587\",\"type\":\"X\"},{\"attributes\":{},\"id\":\"3492\",\"type\":\"LinearScale\"},{\"attributes\":{\"source\":{\"id\":\"3557\"}},\"id\":\"3563\",\"type\":\"CDSView\"},{\"attributes\":{},\"id\":\"3789\",\"type\":\"UnionRenderers\"},{\"attributes\":{\"source\":{\"id\":\"3544\"}},\"id\":\"3556\",\"type\":\"CDSView\"},{\"attributes\":{\"fill_alpha\":{\"value\":0.1},\"fill_color\":{\"value\":\"#FD9F6C\"},\"line_alpha\":{\"value\":0.1},\"line_color\":{\"value\":\"#FD9F6C\"},\"line_width\":{\"value\":1.5},\"x\":{\"field\":\"times\"},\"y\":{\"field\":\"S\"}},\"id\":\"3573\",\"type\":\"X\"},{\"attributes\":{\"data\":{\"S\":{\"__ndarray__\":\"AAAAAAAA+P9w5y1+tFjzP/myLb2TBvM/4Zame1im8j9qHkf/2aTxP2nHd7DPQvA/BuYPHrrM7T8d2zEiZ4vrP/ZzdbTbtek/ob+vhoUw6D8sRsc5TeTmP73FIVWNu+U/aW/uGEup5D/D+v98LqvjP5U0fUwLwOI/rH8zq6/l4T9hDFkjmBnhPwlVQ/cNWeA/LbH/9dFD3z/COY2t/uTdP+ezwNPDktw/7nyvs7hJ2z/+5pYStgjaP4R2wlTg0Ng/3RhMC6Oi1z9MIisTmn7WP6d4rtJfZdU/wgg4km9X1D8I/pEEaVXTPwR1QJWNX9I/DVXzpO510T+s1601eJjQPzFuqL7kjc8/eT6YkZcCzj/YPu37hpDMP7uGq/mBOss/2Vb5/fsCyj9Idz+uTerIP37Ii3k57cc/i8EYhGYGxz9pCozCEDDGP9omt9D2ZcU/o/gFiN+lxD/rqjszIu/DP+eK0WUVQsM/rIJYArifwj/vhuq7hwnCP2ET/fnggcE/AwOkQr8LwT8s81djBKrAPzTPjdPsXsA/827O3esrwD/9ufuTnhHAP9hx+xzTD8A/x0eA8pAlwD/XJGoaTlHAPwIU2m0ukcA/snM6dC/jwD9yI2odQ0XBP6kwEGNetcE/y/O1koAxwj9VgmjRtrfCPzCYbBMeRsM/cZBMpuTawz+6KPyvS3TEP0umw62oEMU/Hd3WyGauxT/FVGrjB0zGP0LqM0gl6MY/sDtiBXCBxz8MxusEsRbIP+cbhALJpsg/EkP8gbAwyT/Q+2nhd7PJPzoNaJhHLso/K63KqWCgyj8d0Xo+HQnLP9e3glfxZ8s/WJ37emu8yz9pjDY/NQbMP2FP0ZcTRcw/ueZvyuZ4zD9sST78qaHMPzTZeE5yv8w/AO5CiW3SzD8wihBf4NrMP0PL81Qk2cw/OzJ/ZKXNzD+3arZs37jMP+zaUodbm8w/40jVV611zD8hd+1ncEjMP/fgXaBFFMw/1uJc7dDZyz9l75wTt5nLP+hfocCbVMs/nT4R1x8Lyz/EPn74373KPyMNzkpzbco/eC+1eWoayj8PGAbsTsXJP/yKgyyibsk/w+Loft0WyT99jE6dcb7IP9p4ipjGZcg/gNdJ1zsNyD8NR1QuKLXHP+2bBw/aXcc/\",\"dtype\":\"float64\",\"order\":\"little\",\"shape\":[108]},\"St\":{\"__ndarray__\":\"AAAAAAAA+P9h4l206RMAQOTXMQ7W0/4/cya7uoiA/D9CtaBQkIf5PxACXsebo/Y/3gLv1MlI9D/Yaoa+W3zyPwmc3T9QH/E/WSoGWd0Q8D+41WR7OmnuPzyPJDiY8uw/tqQzFq2q6z8EAgFne4nqPxIJUQzPiuk/uqcLqHaq6D+BVcqEuuLnP5LI8p6VLuc/OZ2uBF2L5j85cbGn5fblPyNST0gwb+U/GyiHElby5D8EpzEtwn7kP/udboK7E+Q/eA8sdqSw4z+DPvQP61TjPyRbF1QoAOM/x4gHc+ax4j8qouNTt2niPzPUP2slJ+I/nap6OcTp4T/S7v2KK7HhP05Xr/f9fOE/Qs1eNsZN4T997sakASbhP9AQ8PocCeE/HS5YZ5/64D/1pop2rP3gP/FdDHnHFOE/TFhhdNNB4T/mLHkT1YXhP9qz/3TA3+E/baaId81M4j8QUoUAp8niP6O/lq7SUuM/8I+XX4Dk4z/C3On9fHrkP72Dfg3XD+U/AgZI2lef5T/1MiI/UyTmP+IPkeUim+Y/6F472FsB5z9Uclkx01XnPwXUqiF0mOc/zLBXCfLJ5z/XmW3Hg+vnPxxJ44Ky/uc/5wwgozAF6D9ftcxFugDoP7OGUvf+8uc/H/NsKpPd5z+1ikWs58HnPzdOs21Foec/gPuvTsx85z8i9gzmc1XnPznVfY0NLOc/XA1OL0cB5z+oFfeCrtXmP8Nhon+0qeY/oaSH37B95j9sPd2Z5VHmP0Ub8EKCJuY/ZUPYPaf75T9mjYO0aNHlP1wJCEzRp+U/KbEniuR+5T/rtujnoFblP7rdEY8BL+U/J6/kwv8H5T9GZHz4k+HkP8mqv6S2u+Q/db+nyGCW5D+k29REjHHkP1xZT/8zTeQ/7ckm5lMp5D/PqM3X6AXkP4gL/nrw4uM/C+nFDWnA4z+rhSgyUZ7jP5bAAL2nfOM/qvMYi2tb4z/RyBxemzrjP4wdxcI1GuM/by6hADn64j9+GKUSo9riP/Z9vqZxu+I/ApH9JKKc4j+oejq7MX7iP/tUKmwdYOI/xewGIWJC4j/0SBe8/CTiP7JF3irqB+I/DFbUdyfr4T/yb/XZsc7hP3TIl8KGsuE/k/nz6KOW4T+mmMtSB3vhPyDQv1qvX+E/\",\"dtype\":\"float64\",\"order\":\"little\",\"shape\":[108]},\"times\":[0,1,2,3,4,5,6,7,8,9,10,11,12,13,14,15,16,17,18,19,20,21,22,23,24,25,26,27,28,29,30,31,32,33,34,35,36,37,38,39,40,41,42,43,44,45,46,47,48,49,50,51,52,53,54,55,56,57,58,59,60,61,62,63,64,65,66,67,68,69,70,71,72,73,74,75,76,77,78,79,80,81,82,83,84,85,86,87,88,89,90,91,92,93,94,95,96,97,98,99,100,101,102,103,104,105,106,107]},\"selected\":{\"id\":\"3788\"},\"selection_policy\":{\"id\":\"3787\"}},\"id\":\"3570\",\"type\":\"ColumnDataSource\"},{\"attributes\":{\"fill_color\":{\"value\":\"#FBFCBF\"},\"line_color\":{\"value\":\"#FBFCBF\"},\"line_width\":{\"value\":1.5},\"x\":{\"field\":\"times\"},\"y\":{\"field\":\"S\"}},\"id\":\"3585\",\"type\":\"X\"},{\"attributes\":{\"line_alpha\":0.01,\"line_color\":\"#8C2980\",\"line_width\":1.5,\"x\":{\"field\":\"times\"},\"y\":{\"field\":\"St\"}},\"id\":\"3554\",\"type\":\"Line\"},{\"attributes\":{\"data_source\":{\"id\":\"3557\"},\"glyph\":{\"id\":\"3565\"},\"hover_glyph\":null,\"muted_glyph\":{\"id\":\"3567\"},\"nonselection_glyph\":{\"id\":\"3566\"},\"selection_glyph\":null,\"view\":{\"id\":\"3569\"}},\"id\":\"3568\",\"type\":\"GlyphRenderer\"},{\"attributes\":{\"fill_color\":{\"value\":\"#DD4968\"},\"line_color\":{\"value\":\"#DD4968\"},\"line_width\":{\"value\":1.5},\"x\":{\"field\":\"times\"},\"y\":{\"field\":\"S\"}},\"id\":\"3559\",\"type\":\"X\"},{\"attributes\":{\"bottom_units\":\"screen\",\"fill_alpha\":0.5,\"fill_color\":\"lightgrey\",\"left_units\":\"screen\",\"level\":\"overlay\",\"line_alpha\":1.0,\"line_color\":\"black\",\"line_dash\":[4,4],\"line_width\":2,\"right_units\":\"screen\",\"top_units\":\"screen\"},\"id\":\"3510\",\"type\":\"BoxAnnotation\"},{\"attributes\":{\"data_source\":{\"id\":\"3544\"},\"glyph\":{\"id\":\"3552\"},\"hover_glyph\":null,\"muted_glyph\":{\"id\":\"3554\"},\"nonselection_glyph\":{\"id\":\"3553\"},\"selection_glyph\":null,\"view\":{\"id\":\"3556\"}},\"id\":\"3555\",\"type\":\"GlyphRenderer\"},{\"attributes\":{\"data\":{\"S\":{\"__ndarray__\":\"AAAAAAAA+P8AAAAAAAAAAAAAAAAAAAAAAAAAAAAAAAAAAAAAAAAAAAAAAAAAAAAAAAAAAAAAAAAAAAAAAAAAAAAAAAAAAAAAAAAAAAAAAAAAAAAAAAAAAAAAAAAAAAAAAAAAAAAAAAAAAAAAAAAAAAAAAAAAAAAAAAAAAAAAAAAAAAAAAAAAAAAAAAAAAAAAAAAAAAAAAAAAAAAAAAAAAAAAAAAAAAAAAAAAAAAAAAAAAAAAAAAAAAAAAAAAAAAAAAAAAAAAAAAAAAAAAAAAAAAAAAAAAAAAAAAAAAAAAAAAAAAAAAAAAAAAAAAAAAAAAAAAAAAAAADnbfjtdp4JPOgQ+o9EsxK+OeOh1vf/qr5FLSqgooPdvmkkwUPQZPm+S2IKguuODb/dj6e1Yd4bv8D5xO6/Tye/bRJd0DT8Mb/DvMZUbA46v89i9T2oJkK/c6sDpC+2SL9yjlnji3pQvx+aw6PmeFW/qtOAe/lCW79DKOpamdhgv0xIintCT2S/M0eGm3v3Z7+0FFA2vcNrvyrD4OgbpW+//q2WrajFcb8XJuRZW7Jzv6bGOwR5kHW/sFl1UAVbd7+vVf9FtRB5vxMcO1Ogsnq/996YJg9DfL9o60/9h8R9v0GSw6YWOX+/zd8vWudQgL/nKg2LQv+Av9bcZG7dpoG/vbjpq1dGgr+qeW2ZxtuCvz4DZ3zTZIO/vC+CLdzeg785IWK0EkeEv/CumcyZmoS/ZHfDmp3WhL+qwhhAaPiEv+M9DdBy/YS/ynwrv3LjhL8sdf/+Y6iEv4rfAKKPSoS/sdeLEI/Ig7/dHzSVSyGDvx5QCVv6U4K/i3JuJBVggb+DKtdKUEWAv1LVSoAdB36/fiU5Qao1e787R55xeRZ4vyLU7x7PqXS/GomqVuzvcL8ryCEb/9FpvyQvsPU0KmG/ukA6q22hT7/0wvhEzD4vP6UulyRv1lg/3e3OZTp+Zz8oReWB2ZZxP5TDNoklvXc/CXs/HT0yfj9ThCwzGnuCPwFfbiF1BIY/xAFbPv60iT8tUpT/XoyNP2oWzd4LxZA/28hfrb7Wkj8y3acM3PqUP0VH5dfhMJc/iuLfMzh4mT9GIWGcMtCbP1lFPlgROJ4/4tYznYFXoD/Lf/vVE5qhPzuB9WhI46I/\",\"dtype\":\"float64\",\"order\":\"little\",\"shape\":[108]},\"St\":{\"__ndarray__\":\"AAAAAAAA+P8AAAAAAAAAAAAAAAAAAAAAAAAAAAAAAAAAAAAAAAAAAAAAAAAAAAAAAAAAAAAAAAAAAAAAAAAAAAAAAAAAAAAAAAAAAAAAAAAAAAAAAAAAAAAAAAAAAAAAAAAAAAAAAAAAAAAAAAAAAAAAAAAAAAAAAAAAAAAAAAAAAAAAAAAAAAAAAAAAAAAAAAAAAAAAAAAAAAAAAAAAAAAAAAAAAAAAAAAAAAAAAAAAAAAAAAAAAAAAAAAAAAAAAAAAAAAAAAAAAAAAAAAAAAAAAAAAAAAAAAAAAAAAAAAAAAAAAAAAAAAAAAAAAAAAAAAAAAAAAADw4m6T8ZO1OLzse7uN/tE82R+41rhl+D16HLWtwyRgPsx1dBu18Jw+HrEPewBYxz7t3dOjDsXnPmKpiOGM5gE/QGLm0GfGFT/1yxq0i5YmP0ywTPi4uTQ/qtZcZvhMQT/o+oIdyPNKP0dia179C1Q/+mQAHlr+XD8CyfaCaplkP4NHqbe32Gw/+Kl7Xevecz9m2wzh+9d6P8GCvsaHu4E/yS9XsH3ihj8RNrDtatqMPyjlCVzPyZE/gYbxRtt7lT+afdrDRHaZP69XSYFyq50/ex6dNzcHoT8kkclY3kmjPyp2r6fsmKU/ClZQQrLwpz+BVLDih06qPxaJT12wsKw/9i5+NC8Wrz9HIwY7Tr+wP3qjh/T99LE/M2y9Vk0ssz8Qauw4emW0P3PW0drPoLU/kY4U5p/etj9QIqVGPR+4Pwu2gFn4Yrk/8Z0muhuquj9bxpZr6fS7P78qDDWYQ70/783YOFGWvj+9w4nbLe2/P+TjbAsbpMA/annkqq9TwT9Qkdr2RQXCP9/kr57FuMI/AmpfMw1uwz+HE5vN8iTEPxion+5E3cQ/lLvgj8uWxT8AKElOSVHGP0thW6V8DMc/Lj/+KiHIxz/eM06/8IPIP1xS86ikP8k/CP3Blfb6yT+bIcV6obXKPxf1sVNib8s/+dM0wPgnzD9GaS9/J9/MP17TQMu0lM0/X41+m2pIzj8cWbDKFvrOPzKAgymLqc8/QHW4v04r0D9CxMK9k4DQP4sL6E2D1NA/taMcBQ4n0T9azDM6JnjRP1dKau+/x9E/3P9eu9AV0j+MD5qwT2LSPxIde0Y1rdI/\",\"dtype\":\"float64\",\"order\":\"little\",\"shape\":[108]},\"times\":[0,1,2,3,4,5,6,7,8,9,10,11,12,13,14,15,16,17,18,19,20,21,22,23,24,25,26,27,28,29,30,31,32,33,34,35,36,37,38,39,40,41,42,43,44,45,46,47,48,49,50,51,52,53,54,55,56,57,58,59,60,61,62,63,64,65,66,67,68,69,70,71,72,73,74,75,76,77,78,79,80,81,82,83,84,85,86,87,88,89,90,91,92,93,94,95,96,97,98,99,100,101,102,103,104,105,106,107]},\"selected\":{\"id\":\"3786\"},\"selection_policy\":{\"id\":\"3785\"}},\"id\":\"3557\",\"type\":\"ColumnDataSource\"},{\"attributes\":{\"data_source\":{\"id\":\"3544\"},\"glyph\":{\"id\":\"3546\"},\"hover_glyph\":null,\"muted_glyph\":{\"id\":\"3548\"},\"nonselection_glyph\":{\"id\":\"3547\"},\"selection_glyph\":null,\"view\":{\"id\":\"3550\"}},\"id\":\"3549\",\"type\":\"GlyphRenderer\"},{\"attributes\":{\"fill_alpha\":{\"value\":0.1},\"fill_color\":{\"value\":\"#FBFCBF\"},\"line_alpha\":{\"value\":0.1},\"line_color\":{\"value\":\"#FBFCBF\"},\"line_width\":{\"value\":1.5},\"x\":{\"field\":\"times\"},\"y\":{\"field\":\"S\"}},\"id\":\"3586\",\"type\":\"X\"},{\"attributes\":{\"fill_alpha\":{\"value\":0.1},\"fill_color\":{\"value\":\"#8C2980\"},\"line_alpha\":{\"value\":0.1},\"line_color\":{\"value\":\"#8C2980\"},\"line_width\":{\"value\":1.5},\"x\":{\"field\":\"times\"},\"y\":{\"field\":\"S\"}},\"id\":\"3547\",\"type\":\"X\"},{\"attributes\":{},\"id\":\"3790\",\"type\":\"Selection\"},{\"attributes\":{\"line_color\":\"#8C2980\",\"line_width\":1.5,\"x\":{\"field\":\"times\"},\"y\":{\"field\":\"St\"}},\"id\":\"3552\",\"type\":\"Line\"},{\"attributes\":{\"fill_color\":{\"value\":\"#FD9F6C\"},\"line_color\":{\"value\":\"#FD9F6C\"},\"line_width\":{\"value\":1.5},\"x\":{\"field\":\"times\"},\"y\":{\"field\":\"S\"}},\"id\":\"3572\",\"type\":\"X\"},{\"attributes\":{},\"id\":\"3781\",\"type\":\"UnionRenderers\"},{\"attributes\":{\"line_alpha\":0.01,\"line_color\":\"#DD4968\",\"line_width\":1.5,\"x\":{\"field\":\"times\"},\"y\":{\"field\":\"St\"}},\"id\":\"3567\",\"type\":\"Line\"},{\"attributes\":{\"data\":{\"S\":{\"__ndarray__\":\"AAAAAAAA+P/ymHUsR2OSvy5OWVAfSZW/VExjtHoVmb9kL/Zk0+Scv7F9HeElBaK/HwI4kD5vpr8+Z0VmFdmpvy+wpQCuCKu/WT7y2HFOqr/PLhML3Naov0V01WthUqe/QUXuIG4Hpr8ZJyBUQQSlv1f/2czORqS/MdmXCBjKo7+veSj7voijv8uHEIx7aaO/9DoJzbBho78SVoDEoXejv273SyznoqO/uq/wZl3eo79sNy5pzCikv2sLpEfPe6S//Xu9V0zRpL8EMw37iCWlv7fsB4LGc6W/ALw5KEm4pb/EbOfpyfKlv+zl+/ySI6a/0e02k7BKpr8uzqMSLGimv25wolcGfKa/E236vTiHpr/rHaT8N42mv9MabnQPkqa//RQiNYKZpr+kIjMteKamv9t7j8Hsuaa/PsUIS7bSpr9PCEQV3u2mv0Dx9YQOB6e/v7gZYHUZp7808RibLyCnv/sBHdkkFqe/KdcYq7H1pr+9ItwSFrmmvwgC9BEhXKa/4YbDE4fdpb+KqS4h+D6lv0JDDreThKS/XnepIw20o7/eL/Akr9Oiv15x9CZx6aG/Lz+wb2X6oL/VNiV2owqgv476+T2/Op6/xwFZpgtqnL9ILsVEpaaav0d1CpDW8pi/rnJ7aOpPl7+Ffg0YWr6Vv25G1f34PZS/WcO7wRzOkr/xNc37wG2Rv7btsyqmG5C/3rhnbtesjb+O65aVSjmLv8gu2prX2Yi/6GSvodSLhr9H5mrPzkyEv9g1QZaWGoK/UJDEVo3mf79tE49hjap7vxSbtTaVfne/o+lsp59gc7+7lVv0Y55uvy8NkZejkma/Bmy0o+k5Xb9f3uz8kPRKvzC16MkOxCA/ihzQrQN8UT8jqL6GT1ZgP2Cy+uba0mc/dzkZvuswbz+1LNAivDZzP5g2jKeewnY/4mpiV2s6ej/Rg/97a5x9PwNOYYZ3c4A/5jXmjysMgj8r2zyZj5eDP5/MHI3yFIU/CXb9ubeDhj8+IRZOWeOHPyogSwdqM4k/wz8pNpZzij/bjhsSpKOLP8QcDX1zw4w/LxA8Pv3SjT+F+uDVUdKOP4xtMwiYwY8/hmLRioVQkD8SvN9ofLiQP97y1dHfGJE/jPdPNOZxkT87Sp83zMORP8r64LPTDpI/\",\"dtype\":\"float64\",\"order\":\"little\",\"shape\":[108]},\"St\":{\"__ndarray__\":\"AAAAAAAA+P8VMXmPV83VP3Bb1/48qNU/C1nMHQds1D8DBQ+12pHTP+d8iVAETtM/Qk2Tp1ts0z97sNz5CMTTP7DCfQEnONQ/mhMRz7m31D9qErDwJTvVP5Tn40IVvdU/Y6Nm77I61j8RYi/3GLLWPxJ2QnLXIdc/8aOlqGyK1z+XQiuiJ+zXP3K30fzDRtg/1pvARYya2D8QdbHpNujYPziRlhBjMNk/fubQXYRz2T8AlDbnGLLZPwCaV9KS7Nk/5/+bOkEj2j8em+lnYlbaP6uXQlkuhto/vH3mR9Gy2j9ET/jCYdzaPzNVL4raAts/WF/4NxUm2z/zsUC/wUXbPzcfiy9jYds/+8PETQ962z9sW0Cg6pXbP6QWLIlPvts/bjOQ68z82z80r6v2AlncP8rSD2ha19w//9/kDSF43T9/y1Z82jbePwRW6TExCt8/DdrdPbPk3z+dLZzg1VrgP1DIfXjptOA/ewyRJR724D+dY34MRxThP0niuxG7B+E/NpdMOPTN4D/vWwhDY2rgP6C2Fmt2yt8/H8IbMU6S3j9Cy/Yj+kHdPzZo3jEo7Ns/t5dwkAGf2j8smIHx92PZP3fUCLNVQNg/0GFjjzI21z8BaYPTdEXWP6y26JqubNU/pfS4YsWp1D8MMmN3ZPrTP84V2BNDXNM/YmBPm0nN0j+sTpVtoEvSP8TuUCCx1dE/GNrATyBq0T/+kXhhxAfRP+MQDNmbrdA/lDm6q8Ra0D91Wvc2dQ7QP8E/PPDtj88/pPVdukUNzz8KvVDLvZPOPwosp4Q5Is4/62pfTLK3zT8ORlEON1PNP/oJJTDs88w/EKxMqAuZzD+MWSQC5UHMP8so1S3d7cs/TJgaAW6cyz/qZCVuJU3LP4ITyW2k/8o/i5rrqJ2zyj+TK9jw02jKP6YYnpQYH8o/9whBpknWyT+YJU88UI7JP+y5j74eR8k/JBPVR68AyT/zMxclArvIP+HJUHccdsg/7ql//AYyyD9qlcP9zO7HP6OXZmZ7rMc/X6yE/x9rxz9M8/nNyCrHP0SMqZCD68Y/TyqtWl2txj8KwjFHYnDGP8szREGdNMY/3jFf3xf6xT+bWwpN2sDFP86Vn0HriMU/p7fn/09SxT8Js3ZfDB3FPx2WdNki6cQ/\",\"dtype\":\"float64\",\"order\":\"little\",\"shape\":[108]},\"times\":[0,1,2,3,4,5,6,7,8,9,10,11,12,13,14,15,16,17,18,19,20,21,22,23,24,25,26,27,28,29,30,31,32,33,34,35,36,37,38,39,40,41,42,43,44,45,46,47,48,49,50,51,52,53,54,55,56,57,58,59,60,61,62,63,64,65,66,67,68,69,70,71,72,73,74,75,76,77,78,79,80,81,82,83,84,85,86,87,88,89,90,91,92,93,94,95,96,97,98,99,100,101,102,103,104,105,106,107]},\"selected\":{\"id\":\"3790\"},\"selection_policy\":{\"id\":\"3789\"}},\"id\":\"3583\",\"type\":\"ColumnDataSource\"},{\"attributes\":{\"fill_alpha\":{\"value\":0.1},\"fill_color\":{\"value\":\"#DD4968\"},\"line_alpha\":{\"value\":0.1},\"line_color\":{\"value\":\"#DD4968\"},\"line_width\":{\"value\":1.5},\"x\":{\"field\":\"times\"},\"y\":{\"field\":\"S\"}},\"id\":\"3560\",\"type\":\"X\"},{\"attributes\":{\"line_alpha\":0.1,\"line_color\":\"#8C2980\",\"line_width\":1.5,\"x\":{\"field\":\"times\"},\"y\":{\"field\":\"St\"}},\"id\":\"3553\",\"type\":\"Line\"},{\"attributes\":{},\"id\":\"3782\",\"type\":\"Selection\"},{\"attributes\":{\"line_color\":\"#DD4968\",\"line_width\":1.5,\"x\":{\"field\":\"times\"},\"y\":{\"field\":\"St\"}},\"id\":\"3565\",\"type\":\"Line\"},{\"attributes\":{\"fill_alpha\":{\"value\":0.01},\"fill_color\":{\"value\":\"#FD9F6C\"},\"line_alpha\":{\"value\":0.01},\"line_color\":{\"value\":\"#FD9F6C\"},\"line_width\":{\"value\":1.5},\"x\":{\"field\":\"times\"},\"y\":{\"field\":\"S\"}},\"id\":\"3574\",\"type\":\"X\"},{\"attributes\":{\"source\":{\"id\":\"3596\"}},\"id\":\"3600\",\"type\":\"CDSView\"},{\"attributes\":{\"fill_color\":{\"value\":\"#000003\"},\"line_color\":{\"value\":\"#000003\"},\"line_width\":{\"value\":1.5},\"x\":{\"field\":\"times\"},\"y\":{\"field\":\"S\"}},\"id\":\"3520\",\"type\":\"X\"},{\"attributes\":{\"source\":{\"id\":\"3570\"}},\"id\":\"3576\",\"type\":\"CDSView\"},{\"attributes\":{},\"id\":\"3786\",\"type\":\"Selection\"},{\"attributes\":{\"data\":{\"x\":[],\"y\":[]},\"selected\":{\"id\":\"3794\"},\"selection_policy\":{\"id\":\"3793\"}},\"id\":\"3601\",\"type\":\"ColumnDataSource\"},{\"attributes\":{},\"id\":\"3777\",\"type\":\"BasicTickFormatter\"},{\"attributes\":{},\"id\":\"3775\",\"type\":\"BasicTickFormatter\"},{\"attributes\":{},\"id\":\"3784\",\"type\":\"Selection\"},{\"attributes\":{},\"id\":\"3785\",\"type\":\"UnionRenderers\"},{\"attributes\":{\"label\":{\"value\":\"S\"},\"renderers\":[{\"id\":\"3604\"}]},\"id\":\"3619\",\"type\":\"LegendItem\"},{\"attributes\":{},\"id\":\"3787\",\"type\":\"UnionRenderers\"},{\"attributes\":{\"label\":{\"value\":\"St\"},\"renderers\":[{\"id\":\"3609\"}]},\"id\":\"3620\",\"type\":\"LegendItem\"},{\"attributes\":{\"fill_alpha\":{\"value\":0.1},\"fill_color\":{\"value\":\"blue\"},\"line_alpha\":{\"value\":0.1},\"line_color\":{\"value\":\"blue\"},\"x\":{\"field\":\"x\"},\"y\":{\"field\":\"y\"}},\"id\":\"3603\",\"type\":\"X\"},{\"attributes\":{\"label\":{\"value\":\"mu\"},\"renderers\":[{\"id\":\"3562\"},{\"id\":\"3568\"}]},\"id\":\"3615\",\"type\":\"LegendItem\"},{\"attributes\":{},\"id\":\"3783\",\"type\":\"UnionRenderers\"},{\"attributes\":{\"label\":{\"value\":\"R0\"},\"renderers\":[{\"id\":\"3549\"},{\"id\":\"3555\"}]},\"id\":\"3614\",\"type\":\"LegendItem\"},{\"attributes\":{},\"id\":\"3788\",\"type\":\"Selection\"},{\"attributes\":{\"label\":{\"value\":\"pa\"},\"renderers\":[{\"id\":\"3523\"},{\"id\":\"3529\"}]},\"id\":\"3612\",\"type\":\"LegendItem\"},{\"attributes\":{\"line_alpha\":0.1,\"line_color\":\"blue\",\"x\":{\"field\":\"x\"},\"y\":{\"field\":\"y\"}},\"id\":\"3608\",\"type\":\"Line\"},{\"attributes\":{\"line_color\":\"blue\",\"x\":{\"field\":\"x\"},\"y\":{\"field\":\"y\"}},\"id\":\"3607\",\"type\":\"Line\"},{\"attributes\":{\"source\":{\"id\":\"3601\"}},\"id\":\"3605\",\"type\":\"CDSView\"},{\"attributes\":{\"fill_color\":{\"value\":\"blue\"},\"line_color\":{\"value\":\"blue\"},\"x\":{\"field\":\"x\"},\"y\":{\"field\":\"y\"}},\"id\":\"3602\",\"type\":\"X\"},{\"attributes\":{\"data_source\":{\"id\":\"3606\"},\"glyph\":{\"id\":\"3607\"},\"hover_glyph\":null,\"muted_glyph\":null,\"nonselection_glyph\":{\"id\":\"3608\"},\"selection_glyph\":null,\"view\":{\"id\":\"3610\"}},\"id\":\"3609\",\"type\":\"GlyphRenderer\"},{\"attributes\":{\"label\":{\"value\":\"NI\"},\"renderers\":[{\"id\":\"3536\"},{\"id\":\"3542\"}]},\"id\":\"3613\",\"type\":\"LegendItem\"},{\"attributes\":{\"data\":{\"x\":[],\"y\":[]},\"selected\":{\"id\":\"3796\"},\"selection_policy\":{\"id\":\"3795\"}},\"id\":\"3606\",\"type\":\"ColumnDataSource\"},{\"attributes\":{\"source\":{\"id\":\"3606\"}},\"id\":\"3610\",\"type\":\"CDSView\"},{\"attributes\":{\"data_source\":{\"id\":\"3601\"},\"glyph\":{\"id\":\"3602\"},\"hover_glyph\":null,\"muted_glyph\":null,\"nonselection_glyph\":{\"id\":\"3603\"},\"selection_glyph\":null,\"view\":{\"id\":\"3605\"}},\"id\":\"3604\",\"type\":\"GlyphRenderer\"},{\"attributes\":{\"label\":{\"value\":\"t0\"},\"renderers\":[{\"id\":\"3575\"},{\"id\":\"3581\"}]},\"id\":\"3616\",\"type\":\"LegendItem\"},{\"attributes\":{\"label\":{\"value\":\"\"},\"renderers\":[{\"id\":\"3599\"}]},\"id\":\"3618\",\"type\":\"LegendItem\"},{\"attributes\":{\"label\":{\"value\":\"Im0\"},\"renderers\":[{\"id\":\"3588\"},{\"id\":\"3594\"}]},\"id\":\"3617\",\"type\":\"LegendItem\"}],\"root_ids\":[\"3485\"]},\"title\":\"Bokeh Application\",\"version\":\"2.2.3\"}};\n",
       "  var render_items = [{\"docid\":\"482fc8b0-c884-43b2-b272-1db717545d8b\",\"root_ids\":[\"3485\"],\"roots\":{\"3485\":\"f399585a-f3c7-44ba-bbc5-b84b5510385f\"}}];\n",
       "  root.Bokeh.embed.embed_items_notebook(docs_json, render_items);\n",
       "\n",
       "  }\n",
       "  if (root.Bokeh !== undefined) {\n",
       "    embed_document(root);\n",
       "  } else {\n",
       "    var attempts = 0;\n",
       "    var timer = setInterval(function(root) {\n",
       "      if (root.Bokeh !== undefined) {\n",
       "        clearInterval(timer);\n",
       "        embed_document(root);\n",
       "      } else {\n",
       "        attempts++;\n",
       "        if (attempts > 100) {\n",
       "          clearInterval(timer);\n",
       "          console.log(\"Bokeh: ERROR: Unable to run BokehJS code because BokehJS library is missing\");\n",
       "        }\n",
       "      }\n",
       "    }, 10, root)\n",
       "  }\n",
       "})(window);"
      ],
      "application/vnd.bokehjs_exec.v0+json": ""
     },
     "metadata": {
      "application/vnd.bokehjs_exec.v0+json": {
       "id": "3485"
      }
     },
     "output_type": "display_data"
    },
    {
     "name": "stdout",
     "output_type": "stream",
     "text": [
      "------------------------------------------------ RH ------------------------------------------------\n"
     ]
    },
    {
     "data": {
      "text/html": [
       "\n",
       "\n",
       "\n",
       "\n",
       "\n",
       "\n",
       "  <div class=\"bk-root\" id=\"31cac745-430d-435a-b346-f2a072a0c6a8\" data-root-id=\"3917\"></div>\n"
      ]
     },
     "metadata": {},
     "output_type": "display_data"
    },
    {
     "data": {
      "application/javascript": [
       "(function(root) {\n",
       "  function embed_document(root) {\n",
       "    \n",
       "  var docs_json = {\"8cc9393b-a208-4e29-82fb-4bfd954e7210\":{\"roots\":{\"references\":[{\"attributes\":{\"below\":[{\"id\":\"3928\"}],\"center\":[{\"id\":\"3931\"},{\"id\":\"3935\"}],\"left\":[{\"id\":\"3932\"}],\"plot_height\":450,\"plot_width\":900,\"renderers\":[{\"id\":\"3955\"},{\"id\":\"3961\"},{\"id\":\"3968\"},{\"id\":\"3974\"},{\"id\":\"3981\"},{\"id\":\"3987\"},{\"id\":\"3994\"},{\"id\":\"4000\"},{\"id\":\"4007\"},{\"id\":\"4013\"},{\"id\":\"4020\"},{\"id\":\"4026\"},{\"id\":\"4031\"},{\"id\":\"4036\"},{\"id\":\"4041\"}],\"right\":[{\"id\":\"4043\"}],\"title\":{\"id\":\"3918\"},\"toolbar\":{\"id\":\"3943\"},\"x_range\":{\"id\":\"3920\"},\"x_scale\":{\"id\":\"3924\"},\"y_range\":{\"id\":\"3922\"},\"y_scale\":{\"id\":\"3926\"}},\"id\":\"3917\",\"subtype\":\"Figure\",\"type\":\"Plot\"},{\"attributes\":{\"line_alpha\":0.1,\"line_color\":\"blue\",\"x\":{\"field\":\"x\"},\"y\":{\"field\":\"y\"}},\"id\":\"4040\",\"type\":\"Line\"},{\"attributes\":{\"active_drag\":\"auto\",\"active_inspect\":\"auto\",\"active_multi\":null,\"active_scroll\":\"auto\",\"active_tap\":\"auto\",\"tools\":[{\"id\":\"3936\"},{\"id\":\"3937\"},{\"id\":\"3938\"},{\"id\":\"3939\"},{\"id\":\"3940\"},{\"id\":\"3941\"}]},\"id\":\"3943\",\"type\":\"Toolbar\"},{\"attributes\":{},\"id\":\"3922\",\"type\":\"DataRange1d\"},{\"attributes\":{},\"id\":\"3937\",\"type\":\"WheelZoomTool\"},{\"attributes\":{\"label\":{\"value\":\"NI\"},\"renderers\":[{\"id\":\"3968\"},{\"id\":\"3974\"}]},\"id\":\"4045\",\"type\":\"LegendItem\"},{\"attributes\":{\"data_source\":{\"id\":\"4038\"},\"glyph\":{\"id\":\"4039\"},\"hover_glyph\":null,\"muted_glyph\":null,\"nonselection_glyph\":{\"id\":\"4040\"},\"selection_glyph\":null,\"view\":{\"id\":\"4042\"}},\"id\":\"4041\",\"type\":\"GlyphRenderer\"},{\"attributes\":{\"data_source\":{\"id\":\"3976\"},\"glyph\":{\"id\":\"3978\"},\"hover_glyph\":null,\"muted_glyph\":{\"id\":\"3980\"},\"nonselection_glyph\":{\"id\":\"3979\"},\"selection_glyph\":null,\"view\":{\"id\":\"3982\"}},\"id\":\"3981\",\"type\":\"GlyphRenderer\"},{\"attributes\":{\"label\":{\"value\":\"pa\"},\"renderers\":[{\"id\":\"3955\"},{\"id\":\"3961\"}]},\"id\":\"4044\",\"type\":\"LegendItem\"},{\"attributes\":{\"axis\":{\"id\":\"3928\"},\"ticker\":null},\"id\":\"3931\",\"type\":\"Grid\"},{\"attributes\":{},\"id\":\"4252\",\"type\":\"Selection\"},{\"attributes\":{\"label\":{\"value\":\"R0\"},\"renderers\":[{\"id\":\"3981\"},{\"id\":\"3987\"}]},\"id\":\"4046\",\"type\":\"LegendItem\"},{\"attributes\":{\"source\":{\"id\":\"4033\"}},\"id\":\"4037\",\"type\":\"CDSView\"},{\"attributes\":{\"line_color\":\"#000003\",\"line_width\":1.5,\"x\":{\"field\":\"times\"},\"y\":{\"field\":\"St\"}},\"id\":\"3958\",\"type\":\"Line\"},{\"attributes\":{},\"id\":\"4235\",\"type\":\"UnionRenderers\"},{\"attributes\":{\"source\":{\"id\":\"4002\"}},\"id\":\"4008\",\"type\":\"CDSView\"},{\"attributes\":{},\"id\":\"3920\",\"type\":\"DataRange1d\"},{\"attributes\":{\"label\":{\"value\":\"mu\"},\"renderers\":[{\"id\":\"3994\"},{\"id\":\"4000\"}]},\"id\":\"4047\",\"type\":\"LegendItem\"},{\"attributes\":{\"axis\":{\"id\":\"3932\"},\"dimension\":1,\"ticker\":null},\"id\":\"3935\",\"type\":\"Grid\"},{\"attributes\":{\"data_source\":{\"id\":\"4002\"},\"glyph\":{\"id\":\"4004\"},\"hover_glyph\":null,\"muted_glyph\":{\"id\":\"4006\"},\"nonselection_glyph\":{\"id\":\"4005\"},\"selection_glyph\":null,\"view\":{\"id\":\"4008\"}},\"id\":\"4007\",\"type\":\"GlyphRenderer\"},{\"attributes\":{},\"id\":\"3924\",\"type\":\"LinearScale\"},{\"attributes\":{},\"id\":\"4238\",\"type\":\"Selection\"},{\"attributes\":{\"source\":{\"id\":\"3950\"}},\"id\":\"3956\",\"type\":\"CDSView\"},{\"attributes\":{\"label\":{\"value\":\"\"},\"renderers\":[{\"id\":\"4031\"}]},\"id\":\"4050\",\"type\":\"LegendItem\"},{\"attributes\":{\"data_source\":{\"id\":\"4015\"},\"glyph\":{\"id\":\"4023\"},\"hover_glyph\":null,\"muted_glyph\":{\"id\":\"4025\"},\"nonselection_glyph\":{\"id\":\"4024\"},\"selection_glyph\":null,\"view\":{\"id\":\"4027\"}},\"id\":\"4026\",\"type\":\"GlyphRenderer\"},{\"attributes\":{},\"id\":\"3939\",\"type\":\"SaveTool\"},{\"attributes\":{\"fill_alpha\":{\"value\":0.1},\"fill_color\":{\"value\":\"blue\"},\"line_alpha\":{\"value\":0.1},\"line_color\":{\"value\":\"blue\"},\"x\":{\"field\":\"x\"},\"y\":{\"field\":\"y\"}},\"id\":\"4035\",\"type\":\"X\"},{\"attributes\":{\"x\":{\"field\":\"x\"},\"y\":{\"field\":\"y\"}},\"id\":\"4029\",\"type\":\"Line\"},{\"attributes\":{\"overlay\":{\"id\":\"3942\"}},\"id\":\"3938\",\"type\":\"BoxZoomTool\"},{\"attributes\":{},\"id\":\"4251\",\"type\":\"UnionRenderers\"},{\"attributes\":{},\"id\":\"3940\",\"type\":\"ResetTool\"},{\"attributes\":{\"fill_alpha\":{\"value\":0.1},\"fill_color\":{\"value\":\"#FBFCBF\"},\"line_alpha\":{\"value\":0.1},\"line_color\":{\"value\":\"#FBFCBF\"},\"line_width\":{\"value\":1.5},\"x\":{\"field\":\"times\"},\"y\":{\"field\":\"S\"}},\"id\":\"4018\",\"type\":\"X\"},{\"attributes\":{\"label\":{\"value\":\"S\"},\"renderers\":[{\"id\":\"4036\"}]},\"id\":\"4051\",\"type\":\"LegendItem\"},{\"attributes\":{},\"id\":\"4237\",\"type\":\"UnionRenderers\"},{\"attributes\":{},\"id\":\"3941\",\"type\":\"HelpTool\"},{\"attributes\":{\"label\":{\"value\":\"Im0\"},\"renderers\":[{\"id\":\"4020\"},{\"id\":\"4026\"}]},\"id\":\"4049\",\"type\":\"LegendItem\"},{\"attributes\":{\"data_source\":{\"id\":\"3950\"},\"glyph\":{\"id\":\"3958\"},\"hover_glyph\":null,\"muted_glyph\":{\"id\":\"3960\"},\"nonselection_glyph\":{\"id\":\"3959\"},\"selection_glyph\":null,\"view\":{\"id\":\"3962\"}},\"id\":\"3961\",\"type\":\"GlyphRenderer\"},{\"attributes\":{\"label\":{\"value\":\"t0\"},\"renderers\":[{\"id\":\"4007\"},{\"id\":\"4013\"}]},\"id\":\"4048\",\"type\":\"LegendItem\"},{\"attributes\":{\"fill_color\":{\"value\":\"#000003\"},\"line_color\":{\"value\":\"#000003\"},\"line_width\":{\"value\":1.5},\"x\":{\"field\":\"times\"},\"y\":{\"field\":\"S\"}},\"id\":\"3952\",\"type\":\"X\"},{\"attributes\":{},\"id\":\"3933\",\"type\":\"BasicTicker\"},{\"attributes\":{\"label\":{\"value\":\"St\"},\"renderers\":[{\"id\":\"4041\"}]},\"id\":\"4052\",\"type\":\"LegendItem\"},{\"attributes\":{\"bottom_units\":\"screen\",\"fill_alpha\":0.5,\"fill_color\":\"lightgrey\",\"left_units\":\"screen\",\"level\":\"overlay\",\"line_alpha\":1.0,\"line_color\":\"black\",\"line_dash\":[4,4],\"line_width\":2,\"right_units\":\"screen\",\"top_units\":\"screen\"},\"id\":\"3942\",\"type\":\"BoxAnnotation\"},{\"attributes\":{\"data\":{\"S\":{\"__ndarray__\":\"AAAAAAAA+P8Lln6RGC+Qv9KzMFpSLJO/xUfqml8Xlb9lrNSzG0qWvx5/Kvy8Hne/Jc5UASt8kz/PmwnaDySkP5GaswX8pas/yp4imFV4sD8bkhieHUGyP7hSzKFHa7M/PNjVmqtQtD/lJsFVFA21PxtyFylolbU/TSA4ngjqtT/DXwUmXQ62PwUYzOfqB7Y/7ZkkpkPdtT+iAEqrn5O1P2BmA9QhL7U/bDaoXjm2tD/CnpQLIC+0PxJXxBSunbM/JVdwsUwDsz9RF1MAHGGyP9PkWA/lubE/mvJKcMQPsT+uq6GXCWSwP45RsC0pcK8/tPlAflIarj+AYYYgzsisP7Jh2EKafas/F0kEeug7qj+pD50TiQipP+4GRm3y46c/tJky40LLpj8yv2JQFrqlP7MUETNSqaQ/bfdw8y2Qoz9CvgqQeGeiP6+S6hCwLaE/hPfW4uvNnz+hZdm9CTWdPxYqLRPGoJo/ylMmjtIfmD88Ajy1E76VP/Tm0/5WhJM/ECHDfxN4kT8Aa+bK3DaPP21hP/wJ24s/M/gW/BPWiD9mrdJ9RB6GP1mcPZexqIM/92oCEtBrgT8p583r4MB+PwF+T6paAns/cVtLSNaTdz9+q5XEAm90P2s35BoJj3E/2PJeiJzgbT/3aHVroiBpPz8QsdMt22Q/AD96zTUPYT+3o2fL+npbP+yJMgvS0FU/72d7hY8nUT989l7EORJLPxBUpkIRAkY/PPdRrYw3Qz85wjxYtMtCPxYavPDw1UQ/O4FxBUpqST+9/f1m3UtQP7qd4e9cM1U/xNtuaAVsWz+av6CW+3hhPxdzb4tv3mU/jk0DSv7faj8aoCholzpwP8zX2tTSSXM/DiQLILeXdj+yqDYiqR16PxSQqE2c1H0/T9rej6HagD/u1bDoHtyCPxhWppwi64Q/PPV3IygEhz+banuO2SOJP2VBz6cbR4s/aY6xrxZrjT8m3STmO42PPwhGChek1ZA/+rfzH6LhkT/u6R1iwemSPx7T3XJO7ZM/rzB11rbrlD+I6eZIhuSVP6oAysxj15Y/1V10ng7Elz9navopW6qYP0r2PyAwipk/KJ/2rYNjmj8hUNjoWDabP2b8pXm9Apw/B8defsfInD8KbKOyk4idP9SRss5DQp4/\",\"dtype\":\"float64\",\"order\":\"little\",\"shape\":[108]},\"St\":{\"__ndarray__\":\"AAAAAAAA+P+GpJlBPLHZP8jbKP+iGNk/4ixNRNk/1z8CzPGPWx7VP1NLhwoZVNM/BQMvNK/z0T9TyvvVmOrQP5gtG3BKI9A/mDzPwooZzz9dpwlVczXOPwbU5PG7hc0/apdD8b76zD9+MHwGNojMP/b/VPOLJMw/izOsDsnJyz/Wzl45MHPLPzz2MuaVHMs/tlRPPlHDyj/ccYl/DGbKPzLQRkcjBMo/SboHNWadyT9URANFHjLJP2dTxonSwsg/5UiuWh5QyD8wgSZQuNrHP0J01RBsY8c/VDP4hwnrxj/dZkKWWHLGPyBXT/ET+sU/nK1XNueCxT85XWlIbQ3FPzFWehg2msQ/s5FyHMAqxD8Q3o5/8MLDP/qX8ju9Z8M/Fq4DmNAdwz8ULRnIlejCP64rf+dmyMI/LeMvaNe6wj9KrZTUfbzCPw4DBZS4ysI/FUnnjGrkwj+gb86swwnDP+exJd7RO8M/G2I6sh58wz/kzH+TWszDP+dJCKErLsQ/Te+iBhKjxD/pkPOKTCzFP2fJav2QysU/upOvS759xj+tkGxfz0THP9tOA+7SHcg/Lf9ruKIFyT+47rCL7/fJP4xXIR7K78o/OqKh7ijoyz8Zlw/wVNzMPy1EIeE0yM0/8BRPNXaozj9dBGpUmHrPP2wGzfhwHtA/NLYdXiR30D+XILo7KcfQP7/rC2B6DtE/QObgfTtN0T9UZikyrIPRPxVJ+YEdstE/uC8U1+nY0T8uPVRJb/jRP+GDpOQLEdI/Iy8YgRsj0j9vjcLZ9i7SPxVosoLzNNI/vjPVb2Q10j+/pIPNmjDSP4c1VPLmJtI/D2zsQZkY0j/U2VjkAgbSPx431z1279E/xP12IEfV0T/wFKm1yrfRPzmNEyhXl9E/qtzwFkN00T9cnNrj5E7RPyYnOuiRJ9E/9VJOo53+0D/lyk/tWNTQPyQhOTsRqdA/KNj7+g990D9NwBcOmlDQP2zyCmXvI9A/xT/SdpXuzz+rOsfrwpXPP+b0kjTHPc8/LFTTxPfmzj8Ml4DHn5HOP1m1744APs4/3Mk6HlLszT8+51LEw5zNP7RNEMJ8T80/eKaw8pwEzT/LAeR4PbzMP7tw0mRxdsw/t0KgVEYzzD+tIaINxfLLP4fC7QnytMs/\",\"dtype\":\"float64\",\"order\":\"little\",\"shape\":[108]},\"times\":[0,1,2,3,4,5,6,7,8,9,10,11,12,13,14,15,16,17,18,19,20,21,22,23,24,25,26,27,28,29,30,31,32,33,34,35,36,37,38,39,40,41,42,43,44,45,46,47,48,49,50,51,52,53,54,55,56,57,58,59,60,61,62,63,64,65,66,67,68,69,70,71,72,73,74,75,76,77,78,79,80,81,82,83,84,85,86,87,88,89,90,91,92,93,94,95,96,97,98,99,100,101,102,103,104,105,106,107]},\"selected\":{\"id\":\"4236\"},\"selection_policy\":{\"id\":\"4235\"}},\"id\":\"3950\",\"type\":\"ColumnDataSource\"},{\"attributes\":{\"line_color\":\"blue\",\"x\":{\"field\":\"x\"},\"y\":{\"field\":\"y\"}},\"id\":\"4039\",\"type\":\"Line\"},{\"attributes\":{},\"id\":\"3929\",\"type\":\"BasicTicker\"},{\"attributes\":{\"source\":{\"id\":\"4038\"}},\"id\":\"4042\",\"type\":\"CDSView\"},{\"attributes\":{},\"id\":\"3926\",\"type\":\"LinearScale\"},{\"attributes\":{\"fill_alpha\":{\"value\":0.1},\"fill_color\":{\"value\":\"#3B0F6F\"},\"line_alpha\":{\"value\":0.1},\"line_color\":{\"value\":\"#3B0F6F\"},\"line_width\":{\"value\":1.5},\"x\":{\"field\":\"times\"},\"y\":{\"field\":\"S\"}},\"id\":\"3966\",\"type\":\"X\"},{\"attributes\":{\"fill_alpha\":{\"value\":0.1},\"fill_color\":{\"value\":\"#000003\"},\"line_alpha\":{\"value\":0.1},\"line_color\":{\"value\":\"#000003\"},\"line_width\":{\"value\":1.5},\"x\":{\"field\":\"times\"},\"y\":{\"field\":\"S\"}},\"id\":\"3953\",\"type\":\"X\"},{\"attributes\":{\"line_alpha\":0.01,\"line_color\":\"#000003\",\"line_width\":1.5,\"x\":{\"field\":\"times\"},\"y\":{\"field\":\"St\"}},\"id\":\"3960\",\"type\":\"Line\"},{\"attributes\":{\"data\":{\"x\":[],\"y\":[]},\"selected\":{\"id\":\"4248\"},\"selection_policy\":{\"id\":\"4247\"}},\"id\":\"4028\",\"type\":\"ColumnDataSource\"},{\"attributes\":{\"click_policy\":\"mute\",\"items\":[{\"id\":\"4044\"},{\"id\":\"4045\"},{\"id\":\"4046\"},{\"id\":\"4047\"},{\"id\":\"4048\"},{\"id\":\"4049\"},{\"id\":\"4050\"},{\"id\":\"4051\"},{\"id\":\"4052\"}]},\"id\":\"4043\",\"type\":\"Legend\"},{\"attributes\":{\"axis_label\":\"time (days)\",\"formatter\":{\"id\":\"4233\"},\"ticker\":{\"id\":\"3929\"}},\"id\":\"3928\",\"type\":\"LinearAxis\"},{\"attributes\":{},\"id\":\"3936\",\"type\":\"PanTool\"},{\"attributes\":{\"data\":{\"x\":[],\"y\":[]},\"selected\":{\"id\":\"4252\"},\"selection_policy\":{\"id\":\"4251\"}},\"id\":\"4038\",\"type\":\"ColumnDataSource\"},{\"attributes\":{\"fill_color\":{\"value\":\"#3B0F6F\"},\"line_color\":{\"value\":\"#3B0F6F\"},\"line_width\":{\"value\":1.5},\"x\":{\"field\":\"times\"},\"y\":{\"field\":\"S\"}},\"id\":\"3965\",\"type\":\"X\"},{\"attributes\":{\"line_alpha\":0.1,\"line_color\":\"#000003\",\"line_width\":1.5,\"x\":{\"field\":\"times\"},\"y\":{\"field\":\"St\"}},\"id\":\"3959\",\"type\":\"Line\"},{\"attributes\":{\"source\":{\"id\":\"3963\"}},\"id\":\"3969\",\"type\":\"CDSView\"},{\"attributes\":{\"data_source\":{\"id\":\"3963\"},\"glyph\":{\"id\":\"3965\"},\"hover_glyph\":null,\"muted_glyph\":{\"id\":\"3967\"},\"nonselection_glyph\":{\"id\":\"3966\"},\"selection_glyph\":null,\"view\":{\"id\":\"3969\"}},\"id\":\"3968\",\"type\":\"GlyphRenderer\"},{\"attributes\":{},\"id\":\"4233\",\"type\":\"BasicTickFormatter\"},{\"attributes\":{},\"id\":\"4236\",\"type\":\"Selection\"},{\"attributes\":{\"source\":{\"id\":\"4015\"}},\"id\":\"4027\",\"type\":\"CDSView\"},{\"attributes\":{\"data_source\":{\"id\":\"3950\"},\"glyph\":{\"id\":\"3952\"},\"hover_glyph\":null,\"muted_glyph\":{\"id\":\"3954\"},\"nonselection_glyph\":{\"id\":\"3953\"},\"selection_glyph\":null,\"view\":{\"id\":\"3956\"}},\"id\":\"3955\",\"type\":\"GlyphRenderer\"},{\"attributes\":{\"data_source\":{\"id\":\"4015\"},\"glyph\":{\"id\":\"4017\"},\"hover_glyph\":null,\"muted_glyph\":{\"id\":\"4019\"},\"nonselection_glyph\":{\"id\":\"4018\"},\"selection_glyph\":null,\"view\":{\"id\":\"4021\"}},\"id\":\"4020\",\"type\":\"GlyphRenderer\"},{\"attributes\":{\"line_alpha\":0.01,\"line_color\":\"#FBFCBF\",\"line_width\":1.5,\"x\":{\"field\":\"times\"},\"y\":{\"field\":\"St\"}},\"id\":\"4025\",\"type\":\"Line\"},{\"attributes\":{\"fill_alpha\":{\"value\":0.01},\"fill_color\":{\"value\":\"#FBFCBF\"},\"line_alpha\":{\"value\":0.01},\"line_color\":{\"value\":\"#FBFCBF\"},\"line_width\":{\"value\":1.5},\"x\":{\"field\":\"times\"},\"y\":{\"field\":\"S\"}},\"id\":\"4019\",\"type\":\"X\"},{\"attributes\":{\"fill_alpha\":{\"value\":0.01},\"fill_color\":{\"value\":\"#000003\"},\"line_alpha\":{\"value\":0.01},\"line_color\":{\"value\":\"#000003\"},\"line_width\":{\"value\":1.5},\"x\":{\"field\":\"times\"},\"y\":{\"field\":\"S\"}},\"id\":\"3954\",\"type\":\"X\"},{\"attributes\":{\"data_source\":{\"id\":\"4028\"},\"glyph\":{\"id\":\"4029\"},\"hover_glyph\":null,\"muted_glyph\":null,\"nonselection_glyph\":{\"id\":\"4030\"},\"selection_glyph\":null,\"view\":{\"id\":\"4032\"}},\"id\":\"4031\",\"type\":\"GlyphRenderer\"},{\"attributes\":{\"source\":{\"id\":\"4028\"}},\"id\":\"4032\",\"type\":\"CDSView\"},{\"attributes\":{\"data\":{\"x\":[],\"y\":[]},\"selected\":{\"id\":\"4250\"},\"selection_policy\":{\"id\":\"4249\"}},\"id\":\"4033\",\"type\":\"ColumnDataSource\"},{\"attributes\":{\"line_color\":\"#FBFCBF\",\"line_width\":1.5,\"x\":{\"field\":\"times\"},\"y\":{\"field\":\"St\"}},\"id\":\"4023\",\"type\":\"Line\"},{\"attributes\":{\"axis_label\":\"Index value\",\"formatter\":{\"id\":\"4231\"},\"ticker\":{\"id\":\"3933\"}},\"id\":\"3932\",\"type\":\"LinearAxis\"},{\"attributes\":{\"line_alpha\":0.1,\"line_color\":\"#FBFCBF\",\"line_width\":1.5,\"x\":{\"field\":\"times\"},\"y\":{\"field\":\"St\"}},\"id\":\"4024\",\"type\":\"Line\"},{\"attributes\":{\"line_alpha\":0.1,\"x\":{\"field\":\"x\"},\"y\":{\"field\":\"y\"}},\"id\":\"4030\",\"type\":\"Line\"},{\"attributes\":{\"data_source\":{\"id\":\"4002\"},\"glyph\":{\"id\":\"4010\"},\"hover_glyph\":null,\"muted_glyph\":{\"id\":\"4012\"},\"nonselection_glyph\":{\"id\":\"4011\"},\"selection_glyph\":null,\"view\":{\"id\":\"4014\"}},\"id\":\"4013\",\"type\":\"GlyphRenderer\"},{\"attributes\":{},\"id\":\"4231\",\"type\":\"BasicTickFormatter\"},{\"attributes\":{\"fill_alpha\":{\"value\":0.01},\"fill_color\":{\"value\":\"#3B0F6F\"},\"line_alpha\":{\"value\":0.01},\"line_color\":{\"value\":\"#3B0F6F\"},\"line_width\":{\"value\":1.5},\"x\":{\"field\":\"times\"},\"y\":{\"field\":\"S\"}},\"id\":\"3967\",\"type\":\"X\"},{\"attributes\":{\"data\":{\"S\":{\"__ndarray__\":\"AAAAAAAA+P+j19hSN259P2XSZ8jqfYM/pxsZ4VKpiD9pqvRplKKMP5G11p3fFow/IDufpQT4iD91uCsY6BSGP+vhTJmUKIQ/Miko6sNFgz9nkkRRRmCDP0YLuR42PYQ//vYRxDVrhT+hQaZjJ6yGP3txP8/A+Ic/vkFAvpNQiT+/CPMMgKqKPwY+BnM5+Is/32fgBkcvjT/inZegq0uOPyqJymBYRI8/lMlPpVcSkD8gBqlI2XuQP9H1NpOl3JA/iIbNvLQ2kT+BEQm0fIqRP7upt44Y0JE/6QWa1TAFkj+hEq76bS6SP+KNnRqfTpI/0fR9XdFnkj+KprmXjHuSP7Js1FPNipI/kVdeR3WXkj9JvJpka6mSP4yghThbz5I/EY83ICkZkz/YmTeqVJSTP0LMkmlFS5Q/juAGxvNElT+tShEmRYOWP3B3mAFuAJg/gBcl1nKwmT+kXLZxq4SbP/40O1xVbp0/4oCMJ8Ffnz9WLBzAL6agPz7ea5UflKE/hfArrrV0oj+x9yygpUSjP3MN/2aAAqQ/l+p6YXiupD/LsGt37kmlPzjj5XsU16U/myCB/ptYpj9AZQuobNGmPy9SI2FmRKc/OamMQzS0pz9IZKTNLyOoP+VjC2RSk6g/DuT1OTIGqT8YKCcRB32pP+j3/kKz+Kk/uA7jLc55qj9KJTkbrgCrPwZxLMBwjas/gk2zMAIgrD8RFtGiIrisP+pJWoZrVa0/AsPfdVT3rT9PTOpeOJ2uP8XN+RVbRq8/vT8TTu/xrz+KFhpnjk+wPwF7zk6DprA/YBR5aGj9sD8OdFDW0lOxP/ls4OxcqbE/Cty5w6f9sT+mjqc3XFCyPyaqJGErobI/T99Kl87vsj/B1yUVBzyzP/BtEGCdhbM/R0fpi2DMsz9Y3gN1JRC0P/5TMAXGULQ/tlFDlCCOtD9Vof1nF8i0P/vYMlqQ/rQ/zsLmonQxtT+4xhXCsGC1PzEO4YE0jLU/SDKQDPOztT/A5REL49e1P3CdCcn+97U//WinVUQUtj9v8hmdtSy2P1Ytp3pYQbY/t/4LuDZStj8Xj+MCXl+2PxqbtdLfaLY/Rj3aP9Futj8wgoLOSnG2P1XHqy5ocLY/L8dr8Udstj9w//o6C2W2P4JWOGvVWrY/\",\"dtype\":\"float64\",\"order\":\"little\",\"shape\":[108]},\"St\":{\"__ndarray__\":\"AAAAAAAA+P8E0dBVtG+jP1cd5/1lAaY/qvDIA7+Apz/GL5AvJImoP/kkGtSvqKk/zlMQvywRqz9yO6fZO9asPxOu3d7eAa8/0grb8k3LsD/oFpJT8UqyP14sQGkUALQ/we2UX+/qtT+zC5rWewq4P0uOUcFNXLo/erb+gTrevD/sQzXJ1oy/P452oiNxMcE/EP11aFCtwj9atYVmKjfEP7ZQbrUDzMU/ZlzC3dFoxz+WLQAytwrJPwUYwQMFr8o/LvkLjjdTzD+1mO07GfXNP+J2BUTWks8/qJSHon2V0D9GbgNMN17RP3JLvD41I9I/f3FHKjvk0j9yBJHNLaHTP4azXWkSWtQ/o0157/YP1T+03VqzXMbVP5q6L3svgtY/RzgF26RI1z8GPr/ljB7YPzNG1C7wB9k/40Ltp+sH2j/JMi8V9B/bP1FlBpB+TNw/zfhICsqF3T/TFY7898LeP0fof7O3+98/iVZsq42U4D9aePjQvyLhP+1M70yEpeE/G6JcYdoZ4j/qQZujKX3iPybY+GSyzeI/Yn62RNwK4z83+BQeNzXjP2EAFu1PTuM/3fonrHFY4z86G7nIXlbjP8EjwoD7SuM/nz42gQM54z9sUXud1CLjP3rVgQxRCuM/9Mcstdbw4j+p4PpURtfiP7oQtpAUvuI/YrYVtl+l4j+lZZ9CBo3iP62rNrS7dOI/sLTNThpc4j9ZQkNlsULiP0TqHjwQKOI/OYoF580L4j+Cjxikju3hPw8mADkHzeE/AcTixP6p4T9DNchqT4ThP4DQtR7mW+E/zjpnzsEw4T9zoP0P8gLhP4xIz3SV0uA/543Mmdef4D+wTD0K72rgP42IuwcbNOA/MpexlEL33z+yJWqWl4PfP1ptvVXNDd8/66vvhHyW3j85TXPYOh7eP9FQnhmYpd0/KBlwxRst3T9L9TU6Q7XcP3SYVXGAPtw/RCNqOTnJ2z+UBzzlxlXbP1Wcvlt25No/gyxVeoh12j/Xj+myMgnaPwJYsNefn9k/KPs/A/E42T9iiHOQPtXYPxyzdBWZdNg/OH4WWwoX2D8d1IJHlrzXP04iRbo7Zdc/CxmRVPUQ1z8tb1Mtur/WP6J2Y3F+cdY/vAIc7zMm1j/EowGQyt3VP316KcAwmNU/\",\"dtype\":\"float64\",\"order\":\"little\",\"shape\":[108]},\"times\":[0,1,2,3,4,5,6,7,8,9,10,11,12,13,14,15,16,17,18,19,20,21,22,23,24,25,26,27,28,29,30,31,32,33,34,35,36,37,38,39,40,41,42,43,44,45,46,47,48,49,50,51,52,53,54,55,56,57,58,59,60,61,62,63,64,65,66,67,68,69,70,71,72,73,74,75,76,77,78,79,80,81,82,83,84,85,86,87,88,89,90,91,92,93,94,95,96,97,98,99,100,101,102,103,104,105,106,107]},\"selected\":{\"id\":\"4238\"},\"selection_policy\":{\"id\":\"4237\"}},\"id\":\"3963\",\"type\":\"ColumnDataSource\"},{\"attributes\":{\"fill_color\":{\"value\":\"#FD9F6C\"},\"line_color\":{\"value\":\"#FD9F6C\"},\"line_width\":{\"value\":1.5},\"x\":{\"field\":\"times\"},\"y\":{\"field\":\"S\"}},\"id\":\"4004\",\"type\":\"X\"},{\"attributes\":{\"source\":{\"id\":\"3950\"}},\"id\":\"3962\",\"type\":\"CDSView\"},{\"attributes\":{\"text\":\"Sobol analysis\"},\"id\":\"3918\",\"type\":\"Title\"},{\"attributes\":{\"data_source\":{\"id\":\"4033\"},\"glyph\":{\"id\":\"4034\"},\"hover_glyph\":null,\"muted_glyph\":null,\"nonselection_glyph\":{\"id\":\"4035\"},\"selection_glyph\":null,\"view\":{\"id\":\"4037\"}},\"id\":\"4036\",\"type\":\"GlyphRenderer\"},{\"attributes\":{\"source\":{\"id\":\"4015\"}},\"id\":\"4021\",\"type\":\"CDSView\"},{\"attributes\":{\"fill_alpha\":{\"value\":0.01},\"fill_color\":{\"value\":\"#FD9F6C\"},\"line_alpha\":{\"value\":0.01},\"line_color\":{\"value\":\"#FD9F6C\"},\"line_width\":{\"value\":1.5},\"x\":{\"field\":\"times\"},\"y\":{\"field\":\"S\"}},\"id\":\"4006\",\"type\":\"X\"},{\"attributes\":{\"fill_color\":{\"value\":\"blue\"},\"line_color\":{\"value\":\"blue\"},\"x\":{\"field\":\"x\"},\"y\":{\"field\":\"y\"}},\"id\":\"4034\",\"type\":\"X\"},{\"attributes\":{\"data_source\":{\"id\":\"3989\"},\"glyph\":{\"id\":\"3991\"},\"hover_glyph\":null,\"muted_glyph\":{\"id\":\"3993\"},\"nonselection_glyph\":{\"id\":\"3992\"},\"selection_glyph\":null,\"view\":{\"id\":\"3995\"}},\"id\":\"3994\",\"type\":\"GlyphRenderer\"},{\"attributes\":{\"data_source\":{\"id\":\"3989\"},\"glyph\":{\"id\":\"3997\"},\"hover_glyph\":null,\"muted_glyph\":{\"id\":\"3999\"},\"nonselection_glyph\":{\"id\":\"3998\"},\"selection_glyph\":null,\"view\":{\"id\":\"4001\"}},\"id\":\"4000\",\"type\":\"GlyphRenderer\"},{\"attributes\":{\"data\":{\"S\":{\"__ndarray__\":\"AAAAAAAA+P9SZOoiZKfsP3E/DVHKk+w/JYnrQcfU7D9t5+bCceHrP4IBT+IbJeo/xbjWXUJU6D+rfNGqjMrmPxUKGXQwguU/H84tfrRq5D/aBXZwb3bjPxHkstD9leI/whgxOle/4T88EYgXgPLgP345DwL/MOA/K2Wfs0P13j/+U73MeJzdP3VU4H5cVNw/owHVWVwa2z+hPuIebOzZP1QN5DmfyNg/fbKjHJGs1z+KsSNpkpfWP/riBCe1itU/zBM5YmeG1D/PKE5UO4vTP2hkNjaOmdI/2wt9g7ux0T8FIro1Z9TQP0iIM6nXAdA/ySEOJzh0zj8seTtPMvrMP38C3Ecklcs/B6pmO8lEyj/c9FnlQgrJPwT//vm/58c/jgVbJQ/fxj8iGCT1PfDFPyNKEX5oGMU/UpHAcutSxD/lHwtQ4prDPxHtDIZN7cI/af2M02JJwj9aqpHkpa/BPzz//dEmIcE/+TvOnxyfwD8epxnYtCrAPwVPYV+3ir8/HTSRBWDhvj8ATvYcU1y+Py9BDbev/b0/+jcNWLLGvT+kyOwCoLe9Px5iPZK7z70/jdZAxSQNvj9e+me1Gm2+PxaIF5pg7L4/6DmQK4SHvz/sp92DhB3APwwE03vAgcA/jIeRM8zuwD9NcGQ8DmPBP3y9oAX/3ME/dHy5qilbwj9H+D1ZLNzCP8K62Wa4XsM/e/WHDpLhwz/PI/vgj2PEP0IJmveZ48Q/feLQEalgxT/Gy0XDxdnFPyOcz94HTsY/xav3Q5a8xj+HFDQmpyTHP5IPM9aAhcc/Ou/gA3vexz/+29BeAC/IPwq5qm6Qdsg/usJDcsG0yD9hxrgTQunIP0dWsMLaE8k/roYYi240yT85dCRP+0rJP40O2FWZV8k/Fdv+LXpayT+VLTD05lPJPy7TwBE+RMk/ePrBk/AryT+pWuE7fwvJP17QU2x348g/nx63DnC0yD/XPleSBn/IP24NABfcQ8g/GDIG2JIDyD/1oUjey77HP+H/xAMldsc/cVVBSDcqxz+MWeJ1ldvGP4m56RDLisY/jVftjls4xj/pQYnKweTFP2/rZa9vkMU/F1h6FM47xT9aW9W9POfEP3kAwn4Sk8Q/eYQTdp0/xD/8UEpeI+3DP0c3Cu3hm8M/\",\"dtype\":\"float64\",\"order\":\"little\",\"shape\":[108]},\"St\":{\"__ndarray__\":\"AAAAAAAA+P8xrKtcBRH9P5itTwODFPw/wCCH1BZM+j8ykMt2z8X3P4X/BknXQfU/8b9rQy4+8z9QB4NXbsHxP6Eobu8iqvA/UuPuLoiv7z/li0ZlMF7uP6JuFgq3Qe0/KMfD5oBK7D9GHszNfHHrPzG4GEous+o/wUR9Q2oM6j+/qBIjpnfpPzuMQPWi8Og/voS8ZB126D+KAbGWvQboP2xF8SEloec/HjbwlwNE5z/5CaQED+7mP6oTgCOknuY/QL+VqwtV5j/TK/FfsBDmP49gFFtE0eU/VjHq5WmW5T8aVVKg01/lP4uQFe4pLeU/5Gxejhn+5D93zqkNUNLkP1MLtSqFqeQ/h93Jik6E5D+pq0joEWXkP2DmSuERT+Q/vxY1SLFF5D/a+i1+BUzkP5P5Z76hZOQ/zJkH54yR5D8BXJQF7NPkP6nmrCKjKuU/H2zfo82S5T//9bMDIgnmP2MqMIluiuY/nlvmplIT5z/8h/DpMKDnP62OlhT+LOg/Vaj1Qo616D8WIZjxFDbpP77jx6Nvq+k/vDsoSEwT6j/JrvhqNmzqP9go3NmGteo/HlWCLDnv6j8xgrw3xBnrPxiR1Yb6Nes/vbpmiexE6z/sT8TCzkfrP2hWUSblP+s/4IxvlnMu6z8oQ63oshTrP+C63IzJ8+o/JXZc+cbM6j+5upUYoaDqP2XuAyszcOo/jzMIsj086j+N9l0lZwXqP1vBdEU9zOk/J+Iv7DaR6T8j5vhAtlTpP1q/fDgLF+k/yBKpQHbY6D9YbIb9KpnoPw6YEPtSWeg/neP1NhAZ6D8Lhm9rf9jnP7PDRgq6l+c/P8M52tdW5z+B35sx8BXnPxOmws0a1eY/pI3oTXCU5j/qPMJaClTmP0vCl4kDFOY/VTNoC3fU5T9LmTk3gJXlPw2mwAA6V+U/1yx1ab4Z5T+Qsh74Jd3kP5lhvD+HoeQ/J91vfPZm5D+BWKdJhS3kP3bBvXJC9eM//M7E3Tm+4z+hO7iNdIjjP5wLVLj4U+M/YS/i7ckg4z9InxxN6e7iPyjPMsBVvuI/usSrPwyP4j+m580XCGHiPzVe9y1DNOI/4mH6Q7YI4j/Va5o3Wd7hP94+iD0jteE/FG+8FguN4T95xc8/B2bhPwb0ARoOQOE/\",\"dtype\":\"float64\",\"order\":\"little\",\"shape\":[108]},\"times\":[0,1,2,3,4,5,6,7,8,9,10,11,12,13,14,15,16,17,18,19,20,21,22,23,24,25,26,27,28,29,30,31,32,33,34,35,36,37,38,39,40,41,42,43,44,45,46,47,48,49,50,51,52,53,54,55,56,57,58,59,60,61,62,63,64,65,66,67,68,69,70,71,72,73,74,75,76,77,78,79,80,81,82,83,84,85,86,87,88,89,90,91,92,93,94,95,96,97,98,99,100,101,102,103,104,105,106,107]},\"selected\":{\"id\":\"4244\"},\"selection_policy\":{\"id\":\"4243\"}},\"id\":\"4002\",\"type\":\"ColumnDataSource\"},{\"attributes\":{\"line_alpha\":0.01,\"line_color\":\"#3B0F6F\",\"line_width\":1.5,\"x\":{\"field\":\"times\"},\"y\":{\"field\":\"St\"}},\"id\":\"3973\",\"type\":\"Line\"},{\"attributes\":{\"fill_alpha\":{\"value\":0.01},\"fill_color\":{\"value\":\"#DD4968\"},\"line_alpha\":{\"value\":0.01},\"line_color\":{\"value\":\"#DD4968\"},\"line_width\":{\"value\":1.5},\"x\":{\"field\":\"times\"},\"y\":{\"field\":\"S\"}},\"id\":\"3993\",\"type\":\"X\"},{\"attributes\":{\"fill_alpha\":{\"value\":0.1},\"fill_color\":{\"value\":\"#DD4968\"},\"line_alpha\":{\"value\":0.1},\"line_color\":{\"value\":\"#DD4968\"},\"line_width\":{\"value\":1.5},\"x\":{\"field\":\"times\"},\"y\":{\"field\":\"S\"}},\"id\":\"3992\",\"type\":\"X\"},{\"attributes\":{\"line_color\":\"#FD9F6C\",\"line_width\":1.5,\"x\":{\"field\":\"times\"},\"y\":{\"field\":\"St\"}},\"id\":\"4010\",\"type\":\"Line\"},{\"attributes\":{},\"id\":\"4249\",\"type\":\"UnionRenderers\"},{\"attributes\":{\"data\":{\"S\":{\"__ndarray__\":\"AAAAAAAA+P/FXjpKNwkgP5Oa/CkudTI/l990EIlgPj9Dll9gKl9EP/R2s//JBlo/VcNswaLZbD+uUPbkRzF4P0c1e4gRh4E/QpuoU0FXhz/pagDOJHiNPwPFC3o/8JE/tBHozpdFlT9xJCPmIbmYP2hCZHI4RJw/zY6fGV/gnz/FIhgs/MKhP+OXdBNulaM/aj7rzW9ipT8dG03McCWnPwwH+Dfc2ag/pYGOqMZ7qj+zYjWJHQisP72u2oaOfK0/QixMRQvWrj+nKbouZwmwP5W71nppmLA/bahgfekXsT/Mt2oYFomxPyqLdX/f7LE/A6fntu5Dsj8ZsvlRp46yPy+RCPtGzbI/WI2lTuYAsz8d+4yZNyyzP95V/WreT7M/jCKJfRxqsz97uMDbM3ezP0rmHUiFb7M/crf+O79Isz809hKhgPmyP+0FQHXKfLI/yGdNVDTTsT9wfL1UDAKxP56WwRuoEbA/DWWmN4kXrj+cWKsu1vSrP5zrfpJIz6k/tYeZ9Xa5pz/ib7B98MKlP9kTtgOy96M/4YI1zfFfoj9J910LBAChP6PYo9B2sZ8/DELYHCHQnT9+PQqD6lOcP4EdbfgxMps/tPjFfx1fmj/Cauz8mM6ZPzRsi1kIdZk/Z/iQjLZHmT80gnYYDz2ZP7Wz2PGvTJk/2YFJZGBvmT9is4Ji956ZP+jARGI51pk/c9MpyrMQmj+n7CkRmkqaP8h/jSangJo/tC/lgwSwmj+0lG1WN9aaP8B2vIgT8Zo/obDD9LP+mj8S1hzEdv2aPzxsIer865o/+0ZnhCvJmj+GNfcfLpSaP/slS+t4TJo/qgVQE8rxmT/EeVPOKYSZP+x4C7PoA5k/eCx+Q5xxmD9b78y/Gc6XP/p4Y2xvGpc/HMDBodxXlj/souz+yIeVP+P0gyW7q5Q/w8q1Xk/Fkz9vilCFLtaSP0YBYnsF4JE/8CPqY33kkD/eEfueacqPPyO7Othzx40/40Z8kgvDiz+1m4tJ8b+JP8rACG6uwIc/rcd435HHhT//sub9rdaDP9ciYCjY74E/7mFLeKkUgD/AkZTXAI18P53YAsMGDXk/KOb/O0erdT9dr+OEQWlyPzrB/SoykG4/aTDvmzqRaD/HiVjJotZiPzD641nQwVo/\",\"dtype\":\"float64\",\"order\":\"little\",\"shape\":[108]},\"St\":{\"__ndarray__\":\"AAAAAAAA+P+Li0zJy7YdP875+bQbmj8/24lxFd3JUT+4IYxGZf9ePy9nYZQe1Wc//RpQazgScT8NkN7GHGx3Px6STq+UPX8/f0PEIepnhD/seG8nsTaKP9cEdcq0l5A/ZkX8rc+6lD9XS8k2xpSZP8/9BBMcM58/yuBNagXRoj9L4A/dPXWmP5ZvbJMziKo/HUsggAUKrz+S2+L4o/yxP6c8wvNsqbQ/E9waRv2Itz9tHtfAZJi6P/nFMTA21L0/3h+muUicwD8EdssKrWDCPxxiSxQxNcQ/UPvewb0Xxj9JhTjVPQbIP1nLBI+c/sk/WEr1lr7+yz/AmtTEcQTOP4493H6uBtA/Rq5bbScM0T8f4t1R2xPSP4300mx0INM/gZ+cg1411D9bQa65klXVPxmZqU7vf9Y/YfEpwDWu1z//a+uUrdbYPy7YZ3Ff7Nk/W9QcCoXh2j9mig2PmqrbP87oj1ekP9w/Y9JUS1Wc3D9BjzOQvb/cP1s2vGaarNw/gWwAWzNo3D+pO+GLfPjbPyeTS33QYts/v8ypcMSr2j/0YE0sy9fZPxSlsQjc69g/5ilgYdft1z+907cxY+TWP2wBrTZd1tU/WXs6eDjK1D/ETpJcecXTP+8lrU1pzNI/0PBHTAPi0T+k8mpDDAjRP3pW5ztFP9A/WBG/204Pzz/ZuN+uPcHNP1+UJuB5ksw/w2IdrsGAyz8fO7ndqYnKP1JOpVTGqsk/YelntsPhyD9qGzi9dSzIP5yBkZ/diMc/goL2MCv1xj9QBETNum/GP+uH7o8R98U/+yeR3diJxT8bABTs2SbFPyxe8bD5zMQ/wpRlaDV7xD/dI+7JnzDEP4CUw9xe7MM/6112X6qtwz8x4FyhynPDP/sVQ7EXPsM/3KLHxPgLwz8GRja949zCP8mN/7dcsMI/RSCmmPWFwj8cBM2DTV3CP9fSvkUQNsI/XcGEofUPwj+V/q+MwOrBPy4kP1c+xsE/MYk+yUWiwT8Y33U3tn7BP8/u65V2W8E/nyl1jXQ4wT+yKM+YoxXBPzlBMSz88sA/bQwa6nrQwD/f9cboH67APzUeKwbui8A/frRLUOppwD9l3WB8G0jAP29AQ3CJJsA/Nip/2zwFwD+in0LAfci/Pw1aY5Ixh78/\",\"dtype\":\"float64\",\"order\":\"little\",\"shape\":[108]},\"times\":[0,1,2,3,4,5,6,7,8,9,10,11,12,13,14,15,16,17,18,19,20,21,22,23,24,25,26,27,28,29,30,31,32,33,34,35,36,37,38,39,40,41,42,43,44,45,46,47,48,49,50,51,52,53,54,55,56,57,58,59,60,61,62,63,64,65,66,67,68,69,70,71,72,73,74,75,76,77,78,79,80,81,82,83,84,85,86,87,88,89,90,91,92,93,94,95,96,97,98,99,100,101,102,103,104,105,106,107]},\"selected\":{\"id\":\"4240\"},\"selection_policy\":{\"id\":\"4239\"}},\"id\":\"3976\",\"type\":\"ColumnDataSource\"},{\"attributes\":{\"fill_color\":{\"value\":\"#8C2980\"},\"line_color\":{\"value\":\"#8C2980\"},\"line_width\":{\"value\":1.5},\"x\":{\"field\":\"times\"},\"y\":{\"field\":\"S\"}},\"id\":\"3978\",\"type\":\"X\"},{\"attributes\":{\"fill_alpha\":{\"value\":0.1},\"fill_color\":{\"value\":\"#8C2980\"},\"line_alpha\":{\"value\":0.1},\"line_color\":{\"value\":\"#8C2980\"},\"line_width\":{\"value\":1.5},\"x\":{\"field\":\"times\"},\"y\":{\"field\":\"S\"}},\"id\":\"3979\",\"type\":\"X\"},{\"attributes\":{\"source\":{\"id\":\"3976\"}},\"id\":\"3982\",\"type\":\"CDSView\"},{\"attributes\":{\"source\":{\"id\":\"3963\"}},\"id\":\"3975\",\"type\":\"CDSView\"},{\"attributes\":{\"source\":{\"id\":\"3989\"}},\"id\":\"4001\",\"type\":\"CDSView\"},{\"attributes\":{},\"id\":\"4248\",\"type\":\"Selection\"},{\"attributes\":{\"line_alpha\":0.01,\"line_color\":\"#DD4968\",\"line_width\":1.5,\"x\":{\"field\":\"times\"},\"y\":{\"field\":\"St\"}},\"id\":\"3999\",\"type\":\"Line\"},{\"attributes\":{},\"id\":\"4241\",\"type\":\"UnionRenderers\"},{\"attributes\":{},\"id\":\"4247\",\"type\":\"UnionRenderers\"},{\"attributes\":{\"source\":{\"id\":\"4002\"}},\"id\":\"4014\",\"type\":\"CDSView\"},{\"attributes\":{\"line_color\":\"#DD4968\",\"line_width\":1.5,\"x\":{\"field\":\"times\"},\"y\":{\"field\":\"St\"}},\"id\":\"3997\",\"type\":\"Line\"},{\"attributes\":{\"data_source\":{\"id\":\"3963\"},\"glyph\":{\"id\":\"3971\"},\"hover_glyph\":null,\"muted_glyph\":{\"id\":\"3973\"},\"nonselection_glyph\":{\"id\":\"3972\"},\"selection_glyph\":null,\"view\":{\"id\":\"3975\"}},\"id\":\"3974\",\"type\":\"GlyphRenderer\"},{\"attributes\":{},\"id\":\"4242\",\"type\":\"Selection\"},{\"attributes\":{\"source\":{\"id\":\"3989\"}},\"id\":\"3995\",\"type\":\"CDSView\"},{\"attributes\":{\"fill_color\":{\"value\":\"#FBFCBF\"},\"line_color\":{\"value\":\"#FBFCBF\"},\"line_width\":{\"value\":1.5},\"x\":{\"field\":\"times\"},\"y\":{\"field\":\"S\"}},\"id\":\"4017\",\"type\":\"X\"},{\"attributes\":{\"line_alpha\":0.1,\"line_color\":\"#DD4968\",\"line_width\":1.5,\"x\":{\"field\":\"times\"},\"y\":{\"field\":\"St\"}},\"id\":\"3998\",\"type\":\"Line\"},{\"attributes\":{},\"id\":\"4245\",\"type\":\"UnionRenderers\"},{\"attributes\":{},\"id\":\"4243\",\"type\":\"UnionRenderers\"},{\"attributes\":{},\"id\":\"4244\",\"type\":\"Selection\"},{\"attributes\":{\"data\":{\"S\":{\"__ndarray__\":\"AAAAAAAA+P9Jdeesl5yRvyte4ZaZBZS/Z4kTC+Pbl79/VET8P7Kcv/vN7tHYMKK/L4yoUUh3pr/j9W7Ctnmpv6ldBfW78qm/rcQXMwJmqL+cl/FrujGmvyr+cnDvEKS/vGV4mkdEor8NbLBLANWgvxQq22dphZ+/gvApo3ANnr+rMxydcTOdv2PDkAWIwJy/883eim6YnL+Aq93MFMGcvyHY8NgEJ52/UsDKMJG7nb8x1aPhW3eev8AI2QAzTJ+/VceoBVgWoL/WbEntqYegv9u2Wzfj86C/BvSBG+BWob8SesisabChv3TNTxxzAKK/9Hrn6MhGor8F8uEJQ4Oiv5GDf326taK/EKzpxrjeor/rra91nACjv1YBb9tNHqO/ENlyXaE6o79TXTtX11ejvy+oW3mwdqO/kxUUyCuWo7+nQVoFx7Ojv775NPYbzKO/Gl6ctMzbo7/zyLwptN+jv472wviC1KO/AQKqvzW2o7+/Sz0VPoCjv2RO5FuyLqO/506skYq/or9kSWpFBzOiv5qo8o2fi6G/VW/P7pLNoL+D2hu5TPyfv9F6+2SkRZ6//dJTfE6BnL/i27DNMLiavyAs5x7e8Zi/ndkgkJA0l7+U5Me0MYWVvytzXDJw55O/Ulg+z+Bdkr82lkHmJuqQv/x3ZR4/Go+/iKdyhheOjL94iAlVbS+KvzZ09Lwt/Ye/xFjKldP1hb9wVMZykheEv5IPB712YIK/kFRewXvOgL8aXcB+Mr9+v2ufOweUI3y/gpH+6BrGeb8aP4/Qy6J3v/YMKwurtXW/00aJhrb6c7+WenaM4m1yvweUXn0aC3G/16lSr4ycb7+sYw9XqWZtv+AsFw6QbGu/GxiJF42mab8XurzFUw1ovyl582Icmma/S+jxSr1GZb+TuMDLvQ1kvxUGg4Zh6mK/W3mNFazYYb8qKNu2XdVgvxYODYPTu1+/AQMWWNDgXb95baIXBxdcv6Ne4d3JXFq/mi9arz2xWL+fmC5YMBRXvzyIq8XwhVW/1/o6GCoHVL+0SOHhwphSv5LEWavAO1G/+L2zomDiT79C9CuOJXRNv5OM4XabLku/APHNb0ETSb+MgEO5OiNHvzWTledEX0W/OmMrN7THQ79opPtzclxCvy0gMMYCHUG/\",\"dtype\":\"float64\",\"order\":\"little\",\"shape\":[108]},\"St\":{\"__ndarray__\":\"AAAAAAAA+P/ZPiIQ1EbWPyGh283pMtY/u6jHFDoo1T9Z8t/zHVnUP8Zujzrs/NM/qX75W2Pp0z8SCxJ30QHUP6Jl288INtQ/OqIpCrp71D+PFjXI0MzUPxc/ncXGI9U/57DFe7181T9SqKyA0tTVP7qpk0L4KdY/DDa4xfl71j9vgdSPscrWPxh8K5qIFdc/qTIUZFtc1z+QvYtOcJ/XP7pd9ZEK39c/VxcL1Vcb2D+DMeazlVTYP8SS/3f5itg/ZQslRZy+2D9N+SvHkO/YPyVg293pHdk/iClgWrJJ2T+5UU5O5HLZP9Dh+6Vjmdk/6pi+WPi82T8cP4gdRd3ZP9HDB0bD+dk/4pax6UIT2j9aU6UEIy/aPxd/VS+rVdo/L2q010OP2j/ZtjFhiuLaPzKWncAlU9s/9pZV9/Hg2z//0WIHX4fcPxeyyBOTPd0/yR1Bxpn33T9BNQcsfqfeP8JQPq3hPd8/wx7HrYCq3z+k8zQVmt3fP0dW8z4gy98/zu+aDfdu3z8j6oc0js7eP2sOScIo990/itIJcT/63D/eX5P9uunbP1XKbT0P1do/UvB1EMvH2T8qIucOVMnYP3mbShlg3dc/mxlhKdcE1z/l6bdPyT7WP4CedrlFidU/5VDv5/zh1D9TO6y7q0bUPwmR5ERXtdM/1ntkVmUs0z+QbK6qnarSP68os8gdL9I/39mq+Ua50T/PUyNWq0jRP5tDms783NA/n1hliv910D99vHv2fxPQPxT5+X6Yas8/8a1ISWG2zj8TEuvu6wnOP+m8BkbDZM0/wLMEVG3GzD9SL7tSbi7MP19T6QpMnMs/M6/vB5EPyz+v+cVYz4fKP/oPcK6iBMo/T7C/wrGFyT/+j7ERrwrJP+NCTfBYk8g/CQVLHHkfyD/nNE7j467HP0HXIf92Qcc/A93nRRjXxj8T/YpGtG/GP7kimuc8C8Y/25UTGaipxT//XSuk7krFP20B3iAL78Q/FPm3FfmVxD/A2lY/tD/EP7krIAI47MM//UBU/36bwz/Xg/bKgk3DP91erL07AsM/VjmA3aC5wj8wns7Zp3PCP8QeZRRFMMI/l696tmvvwT9faGDMDbHBP9vLfGYcdcE/cVtIvIc7wT+oB55RPwTBP8pPtBkyz8A/\",\"dtype\":\"float64\",\"order\":\"little\",\"shape\":[108]},\"times\":[0,1,2,3,4,5,6,7,8,9,10,11,12,13,14,15,16,17,18,19,20,21,22,23,24,25,26,27,28,29,30,31,32,33,34,35,36,37,38,39,40,41,42,43,44,45,46,47,48,49,50,51,52,53,54,55,56,57,58,59,60,61,62,63,64,65,66,67,68,69,70,71,72,73,74,75,76,77,78,79,80,81,82,83,84,85,86,87,88,89,90,91,92,93,94,95,96,97,98,99,100,101,102,103,104,105,106,107]},\"selected\":{\"id\":\"4246\"},\"selection_policy\":{\"id\":\"4245\"}},\"id\":\"4015\",\"type\":\"ColumnDataSource\"},{\"attributes\":{\"line_color\":\"#3B0F6F\",\"line_width\":1.5,\"x\":{\"field\":\"times\"},\"y\":{\"field\":\"St\"}},\"id\":\"3971\",\"type\":\"Line\"},{\"attributes\":{\"line_color\":\"#8C2980\",\"line_width\":1.5,\"x\":{\"field\":\"times\"},\"y\":{\"field\":\"St\"}},\"id\":\"3984\",\"type\":\"Line\"},{\"attributes\":{\"fill_alpha\":{\"value\":0.01},\"fill_color\":{\"value\":\"#8C2980\"},\"line_alpha\":{\"value\":0.01},\"line_color\":{\"value\":\"#8C2980\"},\"line_width\":{\"value\":1.5},\"x\":{\"field\":\"times\"},\"y\":{\"field\":\"S\"}},\"id\":\"3980\",\"type\":\"X\"},{\"attributes\":{},\"id\":\"4250\",\"type\":\"Selection\"},{\"attributes\":{\"line_alpha\":0.1,\"line_color\":\"#3B0F6F\",\"line_width\":1.5,\"x\":{\"field\":\"times\"},\"y\":{\"field\":\"St\"}},\"id\":\"3972\",\"type\":\"Line\"},{\"attributes\":{\"line_alpha\":0.1,\"line_color\":\"#FD9F6C\",\"line_width\":1.5,\"x\":{\"field\":\"times\"},\"y\":{\"field\":\"St\"}},\"id\":\"4011\",\"type\":\"Line\"},{\"attributes\":{\"data\":{\"S\":{\"__ndarray__\":\"AAAAAAAA+P8AAAAAAAAAAAAAAAAAAAAAAAAAAAAAAAAAAAAAAAAAAAAAAAAAAAAAAAAAAAAAAAAAAAAAAAAAAAAAAAAAAAAAAAAAAAAAAAAAAAAAAAAAAAAAAAAAAAAAAAAAAAAAAAAAAAAAAAAAAAAAAAAAAAAAAAAAAAAAAAAAAAAAAAAAAAAAAAAAAAAAAAAAAAAAAAAAAAAAAAAAAAAAAAAAAAAAAAAAAAAAAAAAAAAAAAAAAAAAAAAAAAAAAAAAAAAAAAAAAAAAAAAAAAAAAAAAAAAAAAAAAAAAAAAAAAAAAAAAAAAAAAAAAAAAAAAAAAAAAAAAAAAAAAAAAG2qVczi2xa+zwQdymP2r76qInbI9K3hvjlkSiIJSv++/MJlAya5Er+wDFXTfAoivzhis+5Rdi6/aTWvXsB3N78QeTTQmeFAv4EGhTv8TUe/6cHUr/l0T7/NujK9sdxUvz1qNKMDJ1u/Am766gNLYb/x0T5pvYZlvxuEQ+pMNmq/RhpcxUJKb78X7/WEf1hyv5FMJFjWKnW/FydknC4QeL+Upb3kCft6vxcAOM8n3n2/v5jMablXgL/OG+jlbrSBv1NLjXWzA4O/sWrvhAJFhL8SRUaAVXiFvyj7jhm4nYa/EoQUT/W0h7/lgbOIYL2Iv03A4Tm6tYm/cMPnESycir9cjeSKVm6Lv3ZczrJpKYy/uzcPYEPKjL+RBnoVj02Nv9rkmD3lr42/bTvFyOjtjb+NsY16YgSOv+M3FQ5a8I2/YfY+sSyvjb+X/e5eoD6NvxPFADfznIy/U9HiJubIi7+6hR8EwsGKv+q6a7JWh4m/xtW9WvQZiL8RL8c0X3qGv7PcYsq+qYS/1X5NJYqpgr+zsTNPcnuAv0X9AI6ZQny/y3ujhv45d7+w3Zzp2+Bxv37rOkm0dWi/B/DsKLEtWb/vm+B0QML1vhnQktb2jFk/XkotLO45aj8x6Dj0ERV0P71DH9NxSXs/m5506hRcgT/jhza4ty+FP277VV7GHok/K5uwrmkojT/c3Lwc5KWQP30IdYsAxJI/POar3BPulD9NGcZYoCOXPz6mB8QfZJk/XH7RwQKvmz9FFkCusAOePwtSq+3DMKA/4HjCDu9joT9sD13SAJuiP8Q9v/+c1aM/\",\"dtype\":\"float64\",\"order\":\"little\",\"shape\":[108]},\"St\":{\"__ndarray__\":\"AAAAAAAA+P8AAAAAAAAAAAAAAAAAAAAAAAAAAAAAAAAAAAAAAAAAAAAAAAAAAAAAAAAAAAAAAAAAAAAAAAAAAAAAAAAAAAAAAAAAAAAAAAAAAAAAAAAAAAAAAAAAAAAAAAAAAAAAAAAAAAAAAAAAAAAAAAAAAAAAAAAAAAAAAAAAAAAAAAAAAAAAAAAAAAAAAAAAAAAAAAAAAAAAAAAAAAAAAAAAAAAAAAAAAAAAAAAAAAAAAAAAAAAAAAAAAAAAAAAAAAAAAAAAAAAAAAAAAAAAAAAAAAAAAAAAAAAAAAAAAAAAAAAAAAAAAAAAAAAAAAAAAAAAAAAAAAAAAAAAAGXwiYd8Gto8miFqNmzyAT61nj3eUL9nPoLSYewXMKU+UwLiNq7v0D5d8oy+lxDxPsHlucvCcAk/tT1cmNynHj+c7scGG4YvP0Yq0S0osTw/459Bl2HIRz8fVH/KQG5SP2zpp/UXXFs/dn5ZvxHRYz9InwQ1+kxsPyVkzNRU9nM/vPMvpgS7ez8pe5CCYOGCP8bhj6cLHYk/E96CBK9JkD/09kBrQJqUP2q+/pyKcJk/HhyiHIO3nj8b89Z/uCuiP8QDQMUrHKU/V4jyUfAhqD9/ywkyUjOrP5fwlAJoSK4/+RIitpGtsD8OWKzjmDOyP6j4nA7gtLM/7LzXW5kwtT/KvaUTbqa2P7WVqM5dFrg/15m4HKOAuT8W8icjnuW6P+bjVKnERbw/3qnpopahvT9TMRXLlfm+P+0iBNUfJ8A/dbuLggTQwD9DnEsorXfBP7KmwW1GHsI/wYy7UPTDwj8uxgBi0WjDP87iMFjuDMQ/g7XhAFKwxD9QyjOO+VLFP08hODzZ9MU/MXzzQN2Vxj9VPSD46jXHP5j7ZTbi1Mc/AQPOsZ5yyD/45J9o+Q7JPxyo2/nJqck/6NKp3+dCyj95lz6CK9rKP33khR5vb8s/ZskRfY8CzD8AEFl5bJPMP13oKl7pIc0/irpfG+2tzT+EVJRXYjfOP0vN9WY3vs4/hvv2Kl5Czz+ODknhy8PPP9LJT3M8IdA/YNJsOTBf0D81CaonwJvQP5Tm/0bs1tA/rQg9oLUQ0T9EYWgZHknRP/6/KVUogNE/FDUylde10T91jG+eL+rRP5MmraE0HdI/\",\"dtype\":\"float64\",\"order\":\"little\",\"shape\":[108]},\"times\":[0,1,2,3,4,5,6,7,8,9,10,11,12,13,14,15,16,17,18,19,20,21,22,23,24,25,26,27,28,29,30,31,32,33,34,35,36,37,38,39,40,41,42,43,44,45,46,47,48,49,50,51,52,53,54,55,56,57,58,59,60,61,62,63,64,65,66,67,68,69,70,71,72,73,74,75,76,77,78,79,80,81,82,83,84,85,86,87,88,89,90,91,92,93,94,95,96,97,98,99,100,101,102,103,104,105,106,107]},\"selected\":{\"id\":\"4242\"},\"selection_policy\":{\"id\":\"4241\"}},\"id\":\"3989\",\"type\":\"ColumnDataSource\"},{\"attributes\":{\"line_alpha\":0.1,\"line_color\":\"#8C2980\",\"line_width\":1.5,\"x\":{\"field\":\"times\"},\"y\":{\"field\":\"St\"}},\"id\":\"3985\",\"type\":\"Line\"},{\"attributes\":{},\"id\":\"4240\",\"type\":\"Selection\"},{\"attributes\":{\"data_source\":{\"id\":\"3976\"},\"glyph\":{\"id\":\"3984\"},\"hover_glyph\":null,\"muted_glyph\":{\"id\":\"3986\"},\"nonselection_glyph\":{\"id\":\"3985\"},\"selection_glyph\":null,\"view\":{\"id\":\"3988\"}},\"id\":\"3987\",\"type\":\"GlyphRenderer\"},{\"attributes\":{},\"id\":\"4239\",\"type\":\"UnionRenderers\"},{\"attributes\":{\"line_alpha\":0.01,\"line_color\":\"#FD9F6C\",\"line_width\":1.5,\"x\":{\"field\":\"times\"},\"y\":{\"field\":\"St\"}},\"id\":\"4012\",\"type\":\"Line\"},{\"attributes\":{\"line_alpha\":0.01,\"line_color\":\"#8C2980\",\"line_width\":1.5,\"x\":{\"field\":\"times\"},\"y\":{\"field\":\"St\"}},\"id\":\"3986\",\"type\":\"Line\"},{\"attributes\":{},\"id\":\"4246\",\"type\":\"Selection\"},{\"attributes\":{\"fill_color\":{\"value\":\"#DD4968\"},\"line_color\":{\"value\":\"#DD4968\"},\"line_width\":{\"value\":1.5},\"x\":{\"field\":\"times\"},\"y\":{\"field\":\"S\"}},\"id\":\"3991\",\"type\":\"X\"},{\"attributes\":{\"source\":{\"id\":\"3976\"}},\"id\":\"3988\",\"type\":\"CDSView\"},{\"attributes\":{\"fill_alpha\":{\"value\":0.1},\"fill_color\":{\"value\":\"#FD9F6C\"},\"line_alpha\":{\"value\":0.1},\"line_color\":{\"value\":\"#FD9F6C\"},\"line_width\":{\"value\":1.5},\"x\":{\"field\":\"times\"},\"y\":{\"field\":\"S\"}},\"id\":\"4005\",\"type\":\"X\"}],\"root_ids\":[\"3917\"]},\"title\":\"Bokeh Application\",\"version\":\"2.2.3\"}};\n",
       "  var render_items = [{\"docid\":\"8cc9393b-a208-4e29-82fb-4bfd954e7210\",\"root_ids\":[\"3917\"],\"roots\":{\"3917\":\"31cac745-430d-435a-b346-f2a072a0c6a8\"}}];\n",
       "  root.Bokeh.embed.embed_items_notebook(docs_json, render_items);\n",
       "\n",
       "  }\n",
       "  if (root.Bokeh !== undefined) {\n",
       "    embed_document(root);\n",
       "  } else {\n",
       "    var attempts = 0;\n",
       "    var timer = setInterval(function(root) {\n",
       "      if (root.Bokeh !== undefined) {\n",
       "        clearInterval(timer);\n",
       "        embed_document(root);\n",
       "      } else {\n",
       "        attempts++;\n",
       "        if (attempts > 100) {\n",
       "          clearInterval(timer);\n",
       "          console.log(\"Bokeh: ERROR: Unable to run BokehJS code because BokehJS library is missing\");\n",
       "        }\n",
       "      }\n",
       "    }, 10, root)\n",
       "  }\n",
       "})(window);"
      ],
      "application/vnd.bokehjs_exec.v0+json": ""
     },
     "metadata": {
      "application/vnd.bokehjs_exec.v0+json": {
       "id": "3917"
      }
     },
     "output_type": "display_data"
    }
   ],
   "source": [
    "names = ['pa','NI','R0','mu','t0','Im0']\n",
    "idxes = [key_to_idx[n] for n in names]\n",
    "for idx, s in enumerate(['H','U','D','RH']):  \n",
    "    print('{:-^100}'.format(' '+s+' '))\n",
    "    values = sobol_analysis_time[s]\n",
    "    plot_sobol_time(np.transpose(values[:,0,idxes]),np.transpose(values[:,1,idxes]), names = names)"
   ]
  },
  {
   "cell_type": "markdown",
   "metadata": {},
   "source": [
    "On constate que pour les grandeurs d'intérêt on a souvent $t_0$ qui est un paramètre très important, principalement au début de l'épidémie. L'impact de $t_0$ doit être considéré dans sa relation aux autres paramètres. En analysant finement ces graphes, on peut identifier les paramètres les plus importants et à quel moment de l'épidémie pour chaque grandeur d'intérêt."
   ]
  },
  {
   "cell_type": "markdown",
   "metadata": {},
   "source": [
    "## Q6) Affichage des données"
   ]
  },
  {
   "cell_type": "code",
   "execution_count": 35,
   "metadata": {},
   "outputs": [],
   "source": [
    "import pandas as pd\n",
    "import numpy as np\n",
    "from pprint import pprint\n",
    "from datetime import timedelta, date, datetime"
   ]
  },
  {
   "cell_type": "code",
   "execution_count": 36,
   "metadata": {},
   "outputs": [],
   "source": [
    "path = 'data/donnees-hospitalieres-covid19-2021-03-01-19h03.csv'\n",
    "path_dr = 'data/data_dr.csv'"
   ]
  },
  {
   "cell_type": "markdown",
   "metadata": {},
   "source": [
    "Par défaut, on prend les données entre le 21/02/2020 et le 11/05/2020 en ajoutant des ```NaN``` là où c'est nécessaire (pour "
   ]
  },
  {
   "cell_type": "code",
   "execution_count": 37,
   "metadata": {},
   "outputs": [],
   "source": [
    "def convert_data(path, path_dr, start_date = None, end_date_f = None):\n",
    "    # by default, the data spans 21/02/2020 to 11/05/2020\n",
    "    # start_date and end_date_f allows to cut into it.\n",
    "    \n",
    "    # all\n",
    "    df = pd.read_csv(path, sep = ';', header=0, parse_dates = ['jour'])\n",
    "    df = df.loc[df['sexe']== 0]\n",
    "    df = df.groupby(by = ['jour']).sum()\n",
    "    result = np.where(df.index=='2020-05-11')[0]\n",
    "    assert(len(result)==1)\n",
    "    df=df[:result[0]+1]\n",
    "    \n",
    "    # DR\n",
    "    df_dr = pd.read_csv(path_dr, sep = ',', header=0)\n",
    "    result = df_dr[df_dr['date']=='11/05'].index.values[0]\n",
    "    df_dr=df_dr[:result+1]\n",
    "    dr = df_dr['nbre'].values\n",
    "    dr[1:] -= dr[:-1]\n",
    "    \n",
    "    nb_to_add = len(dr) - len(df)\n",
    "    a = np.empty((nb_to_add))\n",
    "    a[:] = np.nan\n",
    "    H = np.concatenate([a, df['hosp'].values])\n",
    "    U = np.concatenate([a, df['rea'].values])\n",
    "    D = np.concatenate([a, df['dc'].values])\n",
    "    R = np.concatenate([a, df['rad'].values])\n",
    "\n",
    "    min_start = datetime(year = 2020, month = 2, day = 21) # in the data\n",
    "    end_lockdown =  datetime(year = 2020, month = 5, day = 11) \n",
    "    delta_time = timedelta(days = 1)\n",
    "    \n",
    "    list_of_times = [min_start+k*delta_time for k in range((end_lockdown-min_start+delta_time).days)]\n",
    "\n",
    "    mon_dico = {\n",
    "        'date' : list_of_times,\n",
    "        'H' : H,\n",
    "        'U' : U,\n",
    "        'RH' : R,\n",
    "        'D' : D,\n",
    "        'DR' : dr\n",
    "    }\n",
    "    df = pd.DataFrame.from_dict(mon_dico)\n",
    "    if(start_date != None):\n",
    "        if(end_date_f != None):\n",
    "            mask = (df['date'] >= start_date) & (df['date'] <= end_date_f)\n",
    "        else:\n",
    "            mask = df['date'] >= start_date\n",
    "\n",
    "        df = df.loc[mask]\n",
    "        #df = df[]\n",
    "    return df"
   ]
  },
  {
   "cell_type": "code",
   "execution_count": 38,
   "metadata": {},
   "outputs": [],
   "source": [
    "def plot_data(values, pred = None):\n",
    "    p = figure(plot_height=450, plot_width=900, x_axis_type='datetime')\n",
    "    \n",
    "    for name in values.columns[1:]:\n",
    "        p.x(values['date'], values[name], color=box_colors[name], alpha=1, size=10, legend_label = name,  muted_color=box_colors[name], muted_alpha=0.01)\n",
    "    if(pred is not None):\n",
    "        for name in pred.columns[1:]:\n",
    "            p.line(pred['date'], pred[name], color=box_colors[name], alpha=1, legend_label = name,  muted_color=box_colors[name], muted_alpha=0.01)\n",
    "    p.legend.location = \"top_left\"\n",
    "    p.legend.click_policy = \"mute\"\n",
    "    \n",
    "    show(p)"
   ]
  },
  {
   "cell_type": "code",
   "execution_count": 39,
   "metadata": {},
   "outputs": [],
   "source": [
    "ground_truth_full = convert_data(path, path_dr)"
   ]
  },
  {
   "cell_type": "code",
   "execution_count": 40,
   "metadata": {},
   "outputs": [
    {
     "data": {
      "text/html": [
       "\n",
       "\n",
       "\n",
       "\n",
       "\n",
       "\n",
       "  <div class=\"bk-root\" id=\"4c9fee92-9b6c-4c75-92f4-51821d4deadf\" data-root-id=\"4373\"></div>\n"
      ]
     },
     "metadata": {},
     "output_type": "display_data"
    },
    {
     "data": {
      "application/javascript": [
       "(function(root) {\n",
       "  function embed_document(root) {\n",
       "    \n",
       "  var docs_json = {\"6b584571-9063-45ef-b442-02e0dfac8b1d\":{\"roots\":{\"references\":[{\"attributes\":{\"below\":[{\"id\":\"4382\"}],\"center\":[{\"id\":\"4385\"},{\"id\":\"4389\"},{\"id\":\"4431\"}],\"left\":[{\"id\":\"4386\"}],\"plot_height\":450,\"plot_width\":900,\"renderers\":[{\"id\":\"4408\"},{\"id\":\"4437\"},{\"id\":\"4467\"},{\"id\":\"4499\"},{\"id\":\"4533\"}],\"title\":{\"id\":\"4410\"},\"toolbar\":{\"id\":\"4397\"},\"x_range\":{\"id\":\"4374\"},\"x_scale\":{\"id\":\"4378\"},\"y_range\":{\"id\":\"4376\"},\"y_scale\":{\"id\":\"4380\"}},\"id\":\"4373\",\"subtype\":\"Figure\",\"type\":\"Plot\"},{\"attributes\":{\"fill_alpha\":{\"value\":0.01},\"fill_color\":{\"value\":\"blue\"},\"line_alpha\":{\"value\":0.01},\"line_color\":{\"value\":\"blue\"},\"size\":{\"units\":\"screen\",\"value\":10},\"x\":{\"field\":\"x\"},\"y\":{\"field\":\"y\"}},\"id\":\"4532\",\"type\":\"X\"},{\"attributes\":{\"data_source\":{\"id\":\"4463\"},\"glyph\":{\"id\":\"4464\"},\"hover_glyph\":null,\"muted_glyph\":{\"id\":\"4466\"},\"nonselection_glyph\":{\"id\":\"4465\"},\"selection_glyph\":null,\"view\":{\"id\":\"4468\"}},\"id\":\"4467\",\"type\":\"GlyphRenderer\"},{\"attributes\":{\"formatter\":{\"id\":\"4415\"},\"ticker\":{\"id\":\"4383\"}},\"id\":\"4382\",\"type\":\"DatetimeAxis\"},{\"attributes\":{\"label\":{\"value\":\"RH\"},\"renderers\":[{\"id\":\"4467\"}]},\"id\":\"4494\",\"type\":\"LegendItem\"},{\"attributes\":{\"fill_color\":{\"value\":\"darkolivegreen\"},\"line_color\":{\"value\":\"darkolivegreen\"},\"size\":{\"units\":\"screen\",\"value\":10},\"x\":{\"field\":\"x\"},\"y\":{\"field\":\"y\"}},\"id\":\"4464\",\"type\":\"X\"},{\"attributes\":{\"label\":{\"value\":\"U\"},\"renderers\":[{\"id\":\"4437\"}]},\"id\":\"4462\",\"type\":\"LegendItem\"},{\"attributes\":{\"source\":{\"id\":\"4463\"}},\"id\":\"4468\",\"type\":\"CDSView\"},{\"attributes\":{\"data_source\":{\"id\":\"4404\"},\"glyph\":{\"id\":\"4405\"},\"hover_glyph\":null,\"muted_glyph\":{\"id\":\"4407\"},\"nonselection_glyph\":{\"id\":\"4406\"},\"selection_glyph\":null,\"view\":{\"id\":\"4409\"}},\"id\":\"4408\",\"type\":\"GlyphRenderer\"},{\"attributes\":{\"fill_alpha\":{\"value\":0.01},\"fill_color\":{\"value\":\"darkolivegreen\"},\"line_alpha\":{\"value\":0.01},\"line_color\":{\"value\":\"darkolivegreen\"},\"size\":{\"units\":\"screen\",\"value\":10},\"x\":{\"field\":\"x\"},\"y\":{\"field\":\"y\"}},\"id\":\"4466\",\"type\":\"X\"},{\"attributes\":{\"fill_alpha\":{\"value\":0.1},\"fill_color\":{\"value\":\"pink\"},\"line_alpha\":{\"value\":0.1},\"line_color\":{\"value\":\"pink\"},\"size\":{\"units\":\"screen\",\"value\":10},\"x\":{\"field\":\"x\"},\"y\":{\"field\":\"y\"}},\"id\":\"4435\",\"type\":\"X\"},{\"attributes\":{\"fill_color\":{\"value\":\"blue\"},\"line_color\":{\"value\":\"blue\"},\"size\":{\"units\":\"screen\",\"value\":10},\"x\":{\"field\":\"x\"},\"y\":{\"field\":\"y\"}},\"id\":\"4530\",\"type\":\"X\"},{\"attributes\":{\"label\":{\"value\":\"D\"},\"renderers\":[{\"id\":\"4499\"}]},\"id\":\"4528\",\"type\":\"LegendItem\"},{\"attributes\":{},\"id\":\"4563\",\"type\":\"Selection\"},{\"attributes\":{\"fill_alpha\":{\"value\":0.01},\"fill_color\":{\"value\":\"lightblue\"},\"line_alpha\":{\"value\":0.01},\"line_color\":{\"value\":\"lightblue\"},\"size\":{\"units\":\"screen\",\"value\":10},\"x\":{\"field\":\"x\"},\"y\":{\"field\":\"y\"}},\"id\":\"4407\",\"type\":\"X\"},{\"attributes\":{\"source\":{\"id\":\"4529\"}},\"id\":\"4534\",\"type\":\"CDSView\"},{\"attributes\":{\"click_policy\":\"mute\",\"items\":[{\"id\":\"4432\"},{\"id\":\"4462\"},{\"id\":\"4494\"},{\"id\":\"4528\"},{\"id\":\"4564\"}],\"location\":\"top_left\"},\"id\":\"4431\",\"type\":\"Legend\"},{\"attributes\":{\"fill_alpha\":{\"value\":0.1},\"fill_color\":{\"value\":\"blue\"},\"line_alpha\":{\"value\":0.1},\"line_color\":{\"value\":\"blue\"},\"size\":{\"units\":\"screen\",\"value\":10},\"x\":{\"field\":\"x\"},\"y\":{\"field\":\"y\"}},\"id\":\"4531\",\"type\":\"X\"},{\"attributes\":{\"source\":{\"id\":\"4404\"}},\"id\":\"4409\",\"type\":\"CDSView\"},{\"attributes\":{\"months\":[0,4,8]},\"id\":\"4426\",\"type\":\"MonthsTicker\"},{\"attributes\":{\"months\":[0,2,4,6,8,10]},\"id\":\"4425\",\"type\":\"MonthsTicker\"},{\"attributes\":{\"fill_alpha\":{\"value\":0.1},\"fill_color\":{\"value\":\"lightblue\"},\"line_alpha\":{\"value\":0.1},\"line_color\":{\"value\":\"lightblue\"},\"size\":{\"units\":\"screen\",\"value\":10},\"x\":{\"field\":\"x\"},\"y\":{\"field\":\"y\"}},\"id\":\"4406\",\"type\":\"X\"},{\"attributes\":{\"fill_alpha\":{\"value\":0.1},\"fill_color\":{\"value\":\"darkolivegreen\"},\"line_alpha\":{\"value\":0.1},\"line_color\":{\"value\":\"darkolivegreen\"},\"size\":{\"units\":\"screen\",\"value\":10},\"x\":{\"field\":\"x\"},\"y\":{\"field\":\"y\"}},\"id\":\"4465\",\"type\":\"X\"},{\"attributes\":{\"mantissas\":[1,2,5],\"max_interval\":500.0,\"num_minor_ticks\":0},\"id\":\"4417\",\"type\":\"AdaptiveTicker\"},{\"attributes\":{\"data\":{\"x\":{\"__ndarray__\":\"AADAs1AGd0IAAIAZowZ3QgAAQH/1BndCAAAA5UcHd0IAAMBKmgd3QgAAgLDsB3dCAABAFj8Id0IAAAB8kQh3QgAAwOHjCHdCAACARzYJd0IAAECtiAl3QgAAABPbCXdCAADAeC0Kd0IAAIDefwp3QgAAQETSCndCAAAAqiQLd0IAAMAPdwt3QgAAgHXJC3dCAABA2xsMd0IAAABBbgx3QgAAwKbADHdCAACADBMNd0IAAEByZQ13QgAAANi3DXdCAADAPQoOd0IAAICjXA53QgAAQAmvDndCAAAAbwEPd0IAAMDUUw93QgAAgDqmD3dCAABAoPgPd0IAAAAGSxB3QgAAwGudEHdCAACA0e8Qd0IAAEA3QhF3QgAAAJ2UEXdCAADAAucRd0IAAIBoORJ3QgAAQM6LEndCAAAANN4Sd0IAAMCZMBN3QgAAgP+CE3dCAABAZdUTd0IAAADLJxR3QgAAwDB6FHdCAACAlswUd0IAAED8HhV3QgAAAGJxFXdCAADAx8MVd0IAAIAtFhZ3QgAAQJNoFndCAAAA+boWd0IAAMBeDRd3QgAAgMRfF3dCAABAKrIXd0IAAACQBBh3QgAAwPVWGHdCAACAW6kYd0IAAEDB+xh3QgAAACdOGXdCAADAjKAZd0IAAIDy8hl3QgAAQFhFGndCAAAAvpcad0IAAMAj6hp3QgAAgIk8G3dCAABA744bd0IAAABV4Rt3QgAAwLozHHdCAACAIIYcd0IAAECG2Bx3QgAAAOwqHXdCAADAUX0dd0IAAIC3zx13QgAAQB0iHndCAAAAg3Qed0IAAMDoxh53QgAAgE4ZH3dCAABAtGsfd0IAAAAavh93QgAAwH8QIHdC\",\"dtype\":\"float64\",\"order\":\"little\",\"shape\":[81]},\"y\":{\"__ndarray__\":\"AAAAAAAA+H8AAAAAAAD4fwAAAAAAAPh/AAAAAAAA+H8AAAAAAAD4fwAAAAAAAPh/AAAAAAAA+H8AAAAAAAD4fwAAAAAAAPh/AAAAAAAA+H8AAAAAAAD4fwAAAAAAAPh/AAAAAAAA+H8AAAAAAAD4fwAAAAAAAPh/AAAAAAAA+H8AAAAAAAD4fwAAAAAAAPh/AAAAAAAA+H8AAAAAAAD4fwAAAAAAAPh/AAAAAAAA+H8AAAAAAAD4fwAAAAAAAPh/AAAAAAAA+H8AAAAAAAD4fwAAAAAAgIlAAAAAAABwkkAAAAAAAMyYQAAAAAAATJxAAAAAAACKoEAAAAAAAA6kQAAAAAAAoqlAAAAAAADqr0AAAAAAAFOzQAAAAAAAQrZAAAAAAADguUAAAAAAANu7QAAAAAAA875AAAAAAIBxwkAAAAAAAFvFQAAAAACARchAAAAAAIBby0AAAAAAgCbOQAAAAAAAm89AAAAAAEDY0EAAAAAAAOLSQAAAAABAwdRAAAAAAECp1kAAAAAAwFjYQAAAAACAxdlAAAAAAECM2kAAAAAAQBHbQAAAAAAAIdxAAAAAAAA63kAAAAAAwATgQAAAAADAzeBAAAAAACCR4UAAAAAAgNvhQAAAAABgQ+JAAAAAAOAg40AAAAAAYNnjQAAAAABAjORAAAAAAMA75UAAAAAAYMXlQAAAAAAA7OVAAAAAAEA45kAAAAAAQJ7mQAAAAACgi+dAAAAAAKAn6EAAAAAAgIPoQAAAAABAr+hAAAAAAADL6EAAAAAAYBTpQAAAAAAAv+lAAAAAAGBZ6kAAAAAAQN3qQAAAAACgO+tAAAAAAKBb60AAAAAAAHLrQAAAAABgsetA\",\"dtype\":\"float64\",\"order\":\"little\",\"shape\":[81]}},\"selected\":{\"id\":\"4493\"},\"selection_policy\":{\"id\":\"4492\"}},\"id\":\"4463\",\"type\":\"ColumnDataSource\"},{\"attributes\":{\"data\":{\"x\":{\"__ndarray__\":\"AADAs1AGd0IAAIAZowZ3QgAAQH/1BndCAAAA5UcHd0IAAMBKmgd3QgAAgLDsB3dCAABAFj8Id0IAAAB8kQh3QgAAwOHjCHdCAACARzYJd0IAAECtiAl3QgAAABPbCXdCAADAeC0Kd0IAAIDefwp3QgAAQETSCndCAAAAqiQLd0IAAMAPdwt3QgAAgHXJC3dCAABA2xsMd0IAAABBbgx3QgAAwKbADHdCAACADBMNd0IAAEByZQ13QgAAANi3DXdCAADAPQoOd0IAAICjXA53QgAAQAmvDndCAAAAbwEPd0IAAMDUUw93QgAAgDqmD3dCAABAoPgPd0IAAAAGSxB3QgAAwGudEHdCAACA0e8Qd0IAAEA3QhF3QgAAAJ2UEXdCAADAAucRd0IAAIBoORJ3QgAAQM6LEndCAAAANN4Sd0IAAMCZMBN3QgAAgP+CE3dCAABAZdUTd0IAAADLJxR3QgAAwDB6FHdCAACAlswUd0IAAED8HhV3QgAAAGJxFXdCAADAx8MVd0IAAIAtFhZ3QgAAQJNoFndCAAAA+boWd0IAAMBeDRd3QgAAgMRfF3dCAABAKrIXd0IAAACQBBh3QgAAwPVWGHdCAACAW6kYd0IAAEDB+xh3QgAAACdOGXdCAADAjKAZd0IAAIDy8hl3QgAAQFhFGndCAAAAvpcad0IAAMAj6hp3QgAAgIk8G3dCAABA744bd0IAAABV4Rt3QgAAwLozHHdCAACAIIYcd0IAAECG2Bx3QgAAAOwqHXdCAADAUX0dd0IAAIC3zx13QgAAQB0iHndCAAAAg3Qed0IAAMDoxh53QgAAgE4ZH3dCAABAtGsfd0IAAAAavh93QgAAwH8QIHdC\",\"dtype\":\"float64\",\"order\":\"little\",\"shape\":[81]},\"y\":{\"__ndarray__\":\"AAAAAAAA+H8AAAAAAAD4fwAAAAAAAPh/AAAAAAAA+H8AAAAAAAD4fwAAAAAAAPh/AAAAAAAA+H8AAAAAAAD4fwAAAAAAAPh/AAAAAAAA+H8AAAAAAAD4fwAAAAAAAPh/AAAAAAAA+H8AAAAAAAD4fwAAAAAAAPh/AAAAAAAA+H8AAAAAAAD4fwAAAAAAAPh/AAAAAAAA+H8AAAAAAAD4fwAAAAAAAPh/AAAAAAAA+H8AAAAAAAD4fwAAAAAAAPh/AAAAAAAA+H8AAAAAAAD4fwAAAAAAGIhAAAAAAABQj0AAAAAAAESUQAAAAAAAtJZAAAAAAAAomkAAAAAAAECgQAAAAAAAjqNAAAAAAADupkAAAAAAAC6qQAAAAAAAXK1AAAAAAACMsEAAAAAAAPCxQAAAAAAAwLNAAAAAAAB4tUAAAAAAADS3QAAAAAAAobhAAAAAAACcuUAAAAAAAEO6QAAAAAAAy7pAAAAAAAAku0AAAAAAAFy7QAAAAAAAa7tAAAAAAAAZu0AAAAAAANu6QAAAAAAAYLpAAAAAAAA6ukAAAAAAACK6QAAAAAAAx7lAAAAAAAC7uEAAAAAAAPu3QAAAAAAAIrdAAAAAAABltkAAAAAAAAy2QAAAAAAA0LVAAAAAAADWtEAAAAAAAAe0QAAAAAAAZ7NAAAAAAACxskAAAAAAACGyQAAAAAAA9rFAAAAAAACusUAAAAAAACixQAAAAAAAILBAAAAAAADWrkAAAAAAANatQAAAAAAAdK1AAAAAAABkrUAAAAAAAG6sQAAAAAAAXqpAAAAAAAAuqEAAAAAAAL6mQAAAAAAACKZAAAAAAACYpUAAAAAAAFClQAAAAAAA1KRA\",\"dtype\":\"float64\",\"order\":\"little\",\"shape\":[81]}},\"selected\":{\"id\":\"4461\"},\"selection_policy\":{\"id\":\"4460\"}},\"id\":\"4433\",\"type\":\"ColumnDataSource\"},{\"attributes\":{\"days\":[1,8,15,22]},\"id\":\"4422\",\"type\":\"DaysTicker\"},{\"attributes\":{\"label\":{\"value\":\"H\"},\"renderers\":[{\"id\":\"4408\"}]},\"id\":\"4432\",\"type\":\"LegendItem\"},{\"attributes\":{\"days\":[1,4,7,10,13,16,19,22,25,28]},\"id\":\"4421\",\"type\":\"DaysTicker\"},{\"attributes\":{},\"id\":\"4492\",\"type\":\"UnionRenderers\"},{\"attributes\":{},\"id\":\"4493\",\"type\":\"Selection\"},{\"attributes\":{\"fill_color\":{\"value\":\"lightblue\"},\"line_color\":{\"value\":\"lightblue\"},\"size\":{\"units\":\"screen\",\"value\":10},\"x\":{\"field\":\"x\"},\"y\":{\"field\":\"y\"}},\"id\":\"4405\",\"type\":\"X\"},{\"attributes\":{\"months\":[0,1,2,3,4,5,6,7,8,9,10,11]},\"id\":\"4424\",\"type\":\"MonthsTicker\"},{\"attributes\":{\"months\":[0,6]},\"id\":\"4427\",\"type\":\"MonthsTicker\"},{\"attributes\":{\"days\":[1,15]},\"id\":\"4423\",\"type\":\"DaysTicker\"},{\"attributes\":{\"label\":{\"value\":\"DR\"},\"renderers\":[{\"id\":\"4533\"}]},\"id\":\"4564\",\"type\":\"LegendItem\"},{\"attributes\":{\"base\":60,\"mantissas\":[1,2,5,10,15,20,30],\"max_interval\":1800000.0,\"min_interval\":1000.0,\"num_minor_ticks\":0},\"id\":\"4418\",\"type\":\"AdaptiveTicker\"},{\"attributes\":{\"base\":24,\"mantissas\":[1,2,4,6,8,12],\"max_interval\":43200000.0,\"min_interval\":3600000.0,\"num_minor_ticks\":0},\"id\":\"4419\",\"type\":\"AdaptiveTicker\"},{\"attributes\":{\"source\":{\"id\":\"4495\"}},\"id\":\"4500\",\"type\":\"CDSView\"},{\"attributes\":{\"days\":[1,2,3,4,5,6,7,8,9,10,11,12,13,14,15,16,17,18,19,20,21,22,23,24,25,26,27,28,29,30,31]},\"id\":\"4420\",\"type\":\"DaysTicker\"},{\"attributes\":{\"data\":{\"x\":{\"__ndarray__\":\"AADAs1AGd0IAAIAZowZ3QgAAQH/1BndCAAAA5UcHd0IAAMBKmgd3QgAAgLDsB3dCAABAFj8Id0IAAAB8kQh3QgAAwOHjCHdCAACARzYJd0IAAECtiAl3QgAAABPbCXdCAADAeC0Kd0IAAIDefwp3QgAAQETSCndCAAAAqiQLd0IAAMAPdwt3QgAAgHXJC3dCAABA2xsMd0IAAABBbgx3QgAAwKbADHdCAACADBMNd0IAAEByZQ13QgAAANi3DXdCAADAPQoOd0IAAICjXA53QgAAQAmvDndCAAAAbwEPd0IAAMDUUw93QgAAgDqmD3dCAABAoPgPd0IAAAAGSxB3QgAAwGudEHdCAACA0e8Qd0IAAEA3QhF3QgAAAJ2UEXdCAADAAucRd0IAAIBoORJ3QgAAQM6LEndCAAAANN4Sd0IAAMCZMBN3QgAAgP+CE3dCAABAZdUTd0IAAADLJxR3QgAAwDB6FHdCAACAlswUd0IAAED8HhV3QgAAAGJxFXdCAADAx8MVd0IAAIAtFhZ3QgAAQJNoFndCAAAA+boWd0IAAMBeDRd3QgAAgMRfF3dCAABAKrIXd0IAAACQBBh3QgAAwPVWGHdCAACAW6kYd0IAAEDB+xh3QgAAACdOGXdCAADAjKAZd0IAAIDy8hl3QgAAQFhFGndCAAAAvpcad0IAAMAj6hp3QgAAgIk8G3dCAABA744bd0IAAABV4Rt3QgAAwLozHHdCAACAIIYcd0IAAECG2Bx3QgAAAOwqHXdCAADAUX0dd0IAAIC3zx13QgAAQB0iHndCAAAAg3Qed0IAAMDoxh53QgAAgE4ZH3dCAABAtGsfd0IAAAAavh93QgAAwH8QIHdC\",\"dtype\":\"float64\",\"order\":\"little\",\"shape\":[81]},\"y\":[12,0,0,0,2,4,20,35,27,30,61,21,73,138,190,336,177,286,372,497,595,785,838,924,1210,1097,1404,1861,1617,1847,1559,3838,2446,2928,3925,3809,4611,2599,4376,7578,4861,2116,5233,4267,1873,3911,3778,3881,4286,4342,3114,1613,2673,5497,2633,2641,405,2569,785,2051,2667,1827,1653,1773,1537,461,1195,1065,1607,1139,604,794,308,576,1104,4183,629,642,433,209,456]},\"selected\":{\"id\":\"4563\"},\"selection_policy\":{\"id\":\"4562\"}},\"id\":\"4529\",\"type\":\"ColumnDataSource\"},{\"attributes\":{\"data\":{\"x\":{\"__ndarray__\":\"AADAs1AGd0IAAIAZowZ3QgAAQH/1BndCAAAA5UcHd0IAAMBKmgd3QgAAgLDsB3dCAABAFj8Id0IAAAB8kQh3QgAAwOHjCHdCAACARzYJd0IAAECtiAl3QgAAABPbCXdCAADAeC0Kd0IAAIDefwp3QgAAQETSCndCAAAAqiQLd0IAAMAPdwt3QgAAgHXJC3dCAABA2xsMd0IAAABBbgx3QgAAwKbADHdCAACADBMNd0IAAEByZQ13QgAAANi3DXdCAADAPQoOd0IAAICjXA53QgAAQAmvDndCAAAAbwEPd0IAAMDUUw93QgAAgDqmD3dCAABAoPgPd0IAAAAGSxB3QgAAwGudEHdCAACA0e8Qd0IAAEA3QhF3QgAAAJ2UEXdCAADAAucRd0IAAIBoORJ3QgAAQM6LEndCAAAANN4Sd0IAAMCZMBN3QgAAgP+CE3dCAABAZdUTd0IAAADLJxR3QgAAwDB6FHdCAACAlswUd0IAAED8HhV3QgAAAGJxFXdCAADAx8MVd0IAAIAtFhZ3QgAAQJNoFndCAAAA+boWd0IAAMBeDRd3QgAAgMRfF3dCAABAKrIXd0IAAACQBBh3QgAAwPVWGHdCAACAW6kYd0IAAEDB+xh3QgAAACdOGXdCAADAjKAZd0IAAIDy8hl3QgAAQFhFGndCAAAAvpcad0IAAMAj6hp3QgAAgIk8G3dCAABA744bd0IAAABV4Rt3QgAAwLozHHdCAACAIIYcd0IAAECG2Bx3QgAAAOwqHXdCAADAUX0dd0IAAIC3zx13QgAAQB0iHndCAAAAg3Qed0IAAMDoxh53QgAAgE4ZH3dCAABAtGsfd0IAAAAavh93QgAAwH8QIHdC\",\"dtype\":\"float64\",\"order\":\"little\",\"shape\":[81]},\"y\":{\"__ndarray__\":\"AAAAAAAA+H8AAAAAAAD4fwAAAAAAAPh/AAAAAAAA+H8AAAAAAAD4fwAAAAAAAPh/AAAAAAAA+H8AAAAAAAD4fwAAAAAAAPh/AAAAAAAA+H8AAAAAAAD4fwAAAAAAAPh/AAAAAAAA+H8AAAAAAAD4fwAAAAAAAPh/AAAAAAAA+H8AAAAAAAD4fwAAAAAAAPh/AAAAAAAA+H8AAAAAAAD4fwAAAAAAAPh/AAAAAAAA+H8AAAAAAAD4fwAAAAAAAPh/AAAAAAAA+H8AAAAAAAD4fwAAAAAAQGtAAAAAAABwdEAAAAAAACB8QAAAAAAAaIBAAAAAAADAg0AAAAAAAOCKQAAAAAAAMJFAAAAAAACwlUAAAAAAAICaQAAAAAAALJ9AAAAAAAAUokAAAAAAAFykQAAAAAAAoKdAAAAAAACGq0AAAAAAAICvQAAAAAAAl7FAAAAAAADjs0AAAAAAAJy1QAAAAAAAAbdAAAAAAABeuUAAAAAAALO7QAAAAAAA0L1AAAAAAABsv0AAAAAAAMvAQAAAAACAd8FAAAAAAIASwkAAAAAAALrCQAAAAACAyMNAAAAAAIDJxEAAAAAAgJbFQAAAAAAAZ8ZAAAAAAAAdx0AAAAAAgI7HQAAAAACAbMhAAAAAAAAuyUAAAAAAgNTJQAAAAAAAcMpAAAAAAIAIy0AAAAAAgGvLQAAAAACAt8tAAAAAAABLzEAAAAAAAKrMQAAAAACAYM1AAAAAAIC/zUAAAAAAAPvNQAAAAAAANs5AAAAAAABmzkAAAAAAgN/OQAAAAACAVM9AAAAAAACtz0AAAAAAgPfPQAAAAACAF9BAAAAAAIAq0EAAAAAAwDvQQAAAAABAaNBA\",\"dtype\":\"float64\",\"order\":\"little\",\"shape\":[81]}},\"selected\":{\"id\":\"4527\"},\"selection_policy\":{\"id\":\"4526\"}},\"id\":\"4495\",\"type\":\"ColumnDataSource\"},{\"attributes\":{\"data_source\":{\"id\":\"4529\"},\"glyph\":{\"id\":\"4530\"},\"hover_glyph\":null,\"muted_glyph\":{\"id\":\"4532\"},\"nonselection_glyph\":{\"id\":\"4531\"},\"selection_glyph\":null,\"view\":{\"id\":\"4534\"}},\"id\":\"4533\",\"type\":\"GlyphRenderer\"},{\"attributes\":{},\"id\":\"4413\",\"type\":\"BasicTickFormatter\"},{\"attributes\":{\"bottom_units\":\"screen\",\"fill_alpha\":0.5,\"fill_color\":\"lightgrey\",\"left_units\":\"screen\",\"level\":\"overlay\",\"line_alpha\":1.0,\"line_color\":\"black\",\"line_dash\":[4,4],\"line_width\":2,\"right_units\":\"screen\",\"top_units\":\"screen\"},\"id\":\"4396\",\"type\":\"BoxAnnotation\"},{\"attributes\":{},\"id\":\"4430\",\"type\":\"Selection\"},{\"attributes\":{},\"id\":\"4460\",\"type\":\"UnionRenderers\"},{\"attributes\":{\"fill_color\":{\"value\":\"red\"},\"line_color\":{\"value\":\"red\"},\"size\":{\"units\":\"screen\",\"value\":10},\"x\":{\"field\":\"x\"},\"y\":{\"field\":\"y\"}},\"id\":\"4496\",\"type\":\"X\"},{\"attributes\":{},\"id\":\"4429\",\"type\":\"UnionRenderers\"},{\"attributes\":{\"data\":{\"x\":{\"__ndarray__\":\"AADAs1AGd0IAAIAZowZ3QgAAQH/1BndCAAAA5UcHd0IAAMBKmgd3QgAAgLDsB3dCAABAFj8Id0IAAAB8kQh3QgAAwOHjCHdCAACARzYJd0IAAECtiAl3QgAAABPbCXdCAADAeC0Kd0IAAIDefwp3QgAAQETSCndCAAAAqiQLd0IAAMAPdwt3QgAAgHXJC3dCAABA2xsMd0IAAABBbgx3QgAAwKbADHdCAACADBMNd0IAAEByZQ13QgAAANi3DXdCAADAPQoOd0IAAICjXA53QgAAQAmvDndCAAAAbwEPd0IAAMDUUw93QgAAgDqmD3dCAABAoPgPd0IAAAAGSxB3QgAAwGudEHdCAACA0e8Qd0IAAEA3QhF3QgAAAJ2UEXdCAADAAucRd0IAAIBoORJ3QgAAQM6LEndCAAAANN4Sd0IAAMCZMBN3QgAAgP+CE3dCAABAZdUTd0IAAADLJxR3QgAAwDB6FHdCAACAlswUd0IAAED8HhV3QgAAAGJxFXdCAADAx8MVd0IAAIAtFhZ3QgAAQJNoFndCAAAA+boWd0IAAMBeDRd3QgAAgMRfF3dCAABAKrIXd0IAAACQBBh3QgAAwPVWGHdCAACAW6kYd0IAAEDB+xh3QgAAACdOGXdCAADAjKAZd0IAAIDy8hl3QgAAQFhFGndCAAAAvpcad0IAAMAj6hp3QgAAgIk8G3dCAABA744bd0IAAABV4Rt3QgAAwLozHHdCAACAIIYcd0IAAECG2Bx3QgAAAOwqHXdCAADAUX0dd0IAAIC3zx13QgAAQB0iHndCAAAAg3Qed0IAAMDoxh53QgAAgE4ZH3dCAABAtGsfd0IAAAAavh93QgAAwH8QIHdC\",\"dtype\":\"float64\",\"order\":\"little\",\"shape\":[81]},\"y\":{\"__ndarray__\":\"AAAAAAAA+H8AAAAAAAD4fwAAAAAAAPh/AAAAAAAA+H8AAAAAAAD4fwAAAAAAAPh/AAAAAAAA+H8AAAAAAAD4fwAAAAAAAPh/AAAAAAAA+H8AAAAAAAD4fwAAAAAAAPh/AAAAAAAA+H8AAAAAAAD4fwAAAAAAAPh/AAAAAAAA+H8AAAAAAAD4fwAAAAAAAPh/AAAAAAAA+H8AAAAAAAD4fwAAAAAAAPh/AAAAAAAA+H8AAAAAAAD4fwAAAAAAAPh/AAAAAAAA+H8AAAAAAAD4fwAAAAAAOKdAAAAAAADSr0AAAAAAAGq0QAAAAAAADLdAAAAAAAAqu0AAAAAAgPDAQAAAAACA2cNAAAAAAACUx0AAAAAAgBvLQAAAAACAqs5AAAAAAAAr0UAAAAAAwNvSQAAAAACAdNRAAAAAAAAk1kAAAAAAwPfXQAAAAADAhNlAAAAAAICp2kAAAAAAwFjbQAAAAADAEtxAAAAAAEDg3EAAAAAAwCvdQAAAAABAgt1AAAAAAADk3UAAAAAAAGHeQAAAAADAbd5AAAAAAEDs3kAAAAAAADTfQAAAAADAYN9AAAAAAMDh3kAAAAAAAHHeQAAAAABAVd5AAAAAAMDM3UAAAAAAgMXdQAAAAACAv91AAAAAAABI3UAAAAAAwO7cQAAAAABAbtxAAAAAAIDi20AAAAAAwHXbQAAAAACAdNtAAAAAAIBM20AAAAAAwPXaQAAAAAAAHNpAAAAAAACU2UAAAAAAQDTZQAAAAADAJdlAAAAAAMAi2UAAAAAAAODYQAAAAABAH9hAAAAAAABa10AAAAAAwJjWQAAAAABAINZAAAAAAMAE1kAAAAAAgPnVQAAAAADAstVA\",\"dtype\":\"float64\",\"order\":\"little\",\"shape\":[81]}},\"selected\":{\"id\":\"4430\"},\"selection_policy\":{\"id\":\"4429\"}},\"id\":\"4404\",\"type\":\"ColumnDataSource\"},{\"attributes\":{},\"id\":\"4461\",\"type\":\"Selection\"},{\"attributes\":{\"data_source\":{\"id\":\"4495\"},\"glyph\":{\"id\":\"4496\"},\"hover_glyph\":null,\"muted_glyph\":{\"id\":\"4498\"},\"nonselection_glyph\":{\"id\":\"4497\"},\"selection_glyph\":null,\"view\":{\"id\":\"4500\"}},\"id\":\"4499\",\"type\":\"GlyphRenderer\"},{\"attributes\":{\"fill_alpha\":{\"value\":0.1},\"fill_color\":{\"value\":\"red\"},\"line_alpha\":{\"value\":0.1},\"line_color\":{\"value\":\"red\"},\"size\":{\"units\":\"screen\",\"value\":10},\"x\":{\"field\":\"x\"},\"y\":{\"field\":\"y\"}},\"id\":\"4497\",\"type\":\"X\"},{\"attributes\":{},\"id\":\"4428\",\"type\":\"YearsTicker\"},{\"attributes\":{},\"id\":\"4562\",\"type\":\"UnionRenderers\"},{\"attributes\":{\"fill_alpha\":{\"value\":0.01},\"fill_color\":{\"value\":\"red\"},\"line_alpha\":{\"value\":0.01},\"line_color\":{\"value\":\"red\"},\"size\":{\"units\":\"screen\",\"value\":10},\"x\":{\"field\":\"x\"},\"y\":{\"field\":\"y\"}},\"id\":\"4498\",\"type\":\"X\"},{\"attributes\":{},\"id\":\"4374\",\"type\":\"DataRange1d\"},{\"attributes\":{},\"id\":\"4527\",\"type\":\"Selection\"},{\"attributes\":{\"text\":\"\"},\"id\":\"4410\",\"type\":\"Title\"},{\"attributes\":{\"num_minor_ticks\":5,\"tickers\":[{\"id\":\"4417\"},{\"id\":\"4418\"},{\"id\":\"4419\"},{\"id\":\"4420\"},{\"id\":\"4421\"},{\"id\":\"4422\"},{\"id\":\"4423\"},{\"id\":\"4424\"},{\"id\":\"4425\"},{\"id\":\"4426\"},{\"id\":\"4427\"},{\"id\":\"4428\"}]},\"id\":\"4383\",\"type\":\"DatetimeTicker\"},{\"attributes\":{\"fill_alpha\":{\"value\":0.01},\"fill_color\":{\"value\":\"pink\"},\"line_alpha\":{\"value\":0.01},\"line_color\":{\"value\":\"pink\"},\"size\":{\"units\":\"screen\",\"value\":10},\"x\":{\"field\":\"x\"},\"y\":{\"field\":\"y\"}},\"id\":\"4436\",\"type\":\"X\"},{\"attributes\":{},\"id\":\"4526\",\"type\":\"UnionRenderers\"},{\"attributes\":{\"overlay\":{\"id\":\"4396\"}},\"id\":\"4392\",\"type\":\"BoxZoomTool\"},{\"attributes\":{},\"id\":\"4378\",\"type\":\"LinearScale\"},{\"attributes\":{\"source\":{\"id\":\"4433\"}},\"id\":\"4438\",\"type\":\"CDSView\"},{\"attributes\":{},\"id\":\"4394\",\"type\":\"ResetTool\"},{\"attributes\":{\"data_source\":{\"id\":\"4433\"},\"glyph\":{\"id\":\"4434\"},\"hover_glyph\":null,\"muted_glyph\":{\"id\":\"4436\"},\"nonselection_glyph\":{\"id\":\"4435\"},\"selection_glyph\":null,\"view\":{\"id\":\"4438\"}},\"id\":\"4437\",\"type\":\"GlyphRenderer\"},{\"attributes\":{},\"id\":\"4376\",\"type\":\"DataRange1d\"},{\"attributes\":{},\"id\":\"4395\",\"type\":\"HelpTool\"},{\"attributes\":{\"axis\":{\"id\":\"4382\"},\"ticker\":null},\"id\":\"4385\",\"type\":\"Grid\"},{\"attributes\":{},\"id\":\"4390\",\"type\":\"PanTool\"},{\"attributes\":{\"fill_color\":{\"value\":\"pink\"},\"line_color\":{\"value\":\"pink\"},\"size\":{\"units\":\"screen\",\"value\":10},\"x\":{\"field\":\"x\"},\"y\":{\"field\":\"y\"}},\"id\":\"4434\",\"type\":\"X\"},{\"attributes\":{},\"id\":\"4393\",\"type\":\"SaveTool\"},{\"attributes\":{\"formatter\":{\"id\":\"4413\"},\"ticker\":{\"id\":\"4387\"}},\"id\":\"4386\",\"type\":\"LinearAxis\"},{\"attributes\":{},\"id\":\"4415\",\"type\":\"DatetimeTickFormatter\"},{\"attributes\":{},\"id\":\"4380\",\"type\":\"LinearScale\"},{\"attributes\":{},\"id\":\"4391\",\"type\":\"WheelZoomTool\"},{\"attributes\":{\"axis\":{\"id\":\"4386\"},\"dimension\":1,\"ticker\":null},\"id\":\"4389\",\"type\":\"Grid\"},{\"attributes\":{},\"id\":\"4387\",\"type\":\"BasicTicker\"},{\"attributes\":{\"active_drag\":\"auto\",\"active_inspect\":\"auto\",\"active_multi\":null,\"active_scroll\":\"auto\",\"active_tap\":\"auto\",\"tools\":[{\"id\":\"4390\"},{\"id\":\"4391\"},{\"id\":\"4392\"},{\"id\":\"4393\"},{\"id\":\"4394\"},{\"id\":\"4395\"}]},\"id\":\"4397\",\"type\":\"Toolbar\"}],\"root_ids\":[\"4373\"]},\"title\":\"Bokeh Application\",\"version\":\"2.2.3\"}};\n",
       "  var render_items = [{\"docid\":\"6b584571-9063-45ef-b442-02e0dfac8b1d\",\"root_ids\":[\"4373\"],\"roots\":{\"4373\":\"4c9fee92-9b6c-4c75-92f4-51821d4deadf\"}}];\n",
       "  root.Bokeh.embed.embed_items_notebook(docs_json, render_items);\n",
       "\n",
       "  }\n",
       "  if (root.Bokeh !== undefined) {\n",
       "    embed_document(root);\n",
       "  } else {\n",
       "    var attempts = 0;\n",
       "    var timer = setInterval(function(root) {\n",
       "      if (root.Bokeh !== undefined) {\n",
       "        clearInterval(timer);\n",
       "        embed_document(root);\n",
       "      } else {\n",
       "        attempts++;\n",
       "        if (attempts > 100) {\n",
       "          clearInterval(timer);\n",
       "          console.log(\"Bokeh: ERROR: Unable to run BokehJS code because BokehJS library is missing\");\n",
       "        }\n",
       "      }\n",
       "    }, 10, root)\n",
       "  }\n",
       "})(window);"
      ],
      "application/vnd.bokehjs_exec.v0+json": ""
     },
     "metadata": {
      "application/vnd.bokehjs_exec.v0+json": {
       "id": "4373"
      }
     },
     "output_type": "display_data"
    }
   ],
   "source": [
    "plot_data(ground_truth_full)"
   ]
  },
  {
   "cell_type": "markdown",
   "metadata": {},
   "source": [
    "# Q7)"
   ]
  },
  {
   "cell_type": "code",
   "execution_count": 41,
   "metadata": {},
   "outputs": [],
   "source": [
    "from scipy.optimize import minimize\n",
    "from datetime import datetime"
   ]
  },
  {
   "cell_type": "code",
   "execution_count": 42,
   "metadata": {},
   "outputs": [],
   "source": [
    "def fun(x, target, data_start, t_end, select = ['H','U','RH','D','DR'], verbose = False):\n",
    "    from utils import init_date\n",
    "    debug=False\n",
    "\n",
    "    sol = f(x, tend = t_end)\n",
    "    \n",
    "    days_before_data = (data_start-init_date).days\n",
    "    idxes = [ykeys[n] for n in select] \n",
    "    pred =  sol[days_before_data:,idxes] # all times but only select indexes\n",
    "        \n",
    "    return least_squared(pred, target)\n",
    "\n",
    "def least_squared(pred, target):\n",
    "    eps = 1e-10\n",
    "    residuals = ((pred-target)/np.sqrt(pred+eps))**2\n",
    "    return np.sum(np.where(residuals == residuals, residuals, 0))"
   ]
  },
  {
   "cell_type": "markdown",
   "metadata": {},
   "source": [
    "On peut définir des contraintes pour la minimisation pour maintenir $t_0$, $N$ ou $I_0^-$ entiers. En pratique, on constate que cela fonctionne mieux sans contrainte. Pour l'utilisation des contraintes il faut donner *cons* à la fonction *launch_several_tests* définie après."
   ]
  },
  {
   "cell_type": "code",
   "execution_count": 43,
   "metadata": {},
   "outputs": [],
   "source": [
    "def contraints(x):\n",
    "    #N = x[key_to_idx['N']]\n",
    "    t0 = x[key_to_idx['t0']]\n",
    "\n",
    "    return t0-int(t0) # np.array([N-int(N), t0 - int(t0)])\n",
    "\n",
    "cons = {'type':'eq', 'fun': contraints}"
   ]
  },
  {
   "cell_type": "markdown",
   "metadata": {},
   "source": [
    "#### Minimizing"
   ]
  },
  {
   "cell_type": "code",
   "execution_count": 44,
   "metadata": {},
   "outputs": [
    {
     "data": {
      "text/html": [
       "\n",
       "\n",
       "\n",
       "\n",
       "\n",
       "\n",
       "  <div class=\"bk-root\" id=\"1c2bfd22-1d17-435f-b794-23cfa98ef253\" data-root-id=\"4939\"></div>\n"
      ]
     },
     "metadata": {},
     "output_type": "display_data"
    },
    {
     "data": {
      "application/javascript": [
       "(function(root) {\n",
       "  function embed_document(root) {\n",
       "    \n",
       "  var docs_json = {\"b76be80b-fdd6-4269-affa-f07406388e04\":{\"roots\":{\"references\":[{\"attributes\":{\"below\":[{\"id\":\"4948\"}],\"center\":[{\"id\":\"4951\"},{\"id\":\"4955\"},{\"id\":\"4997\"}],\"left\":[{\"id\":\"4952\"}],\"plot_height\":450,\"plot_width\":900,\"renderers\":[{\"id\":\"4974\"},{\"id\":\"5003\"},{\"id\":\"5033\"},{\"id\":\"5065\"},{\"id\":\"5099\"}],\"title\":{\"id\":\"4976\"},\"toolbar\":{\"id\":\"4963\"},\"x_range\":{\"id\":\"4940\"},\"x_scale\":{\"id\":\"4944\"},\"y_range\":{\"id\":\"4942\"},\"y_scale\":{\"id\":\"4946\"}},\"id\":\"4939\",\"subtype\":\"Figure\",\"type\":\"Plot\"},{\"attributes\":{\"formatter\":{\"id\":\"4981\"},\"ticker\":{\"id\":\"4949\"}},\"id\":\"4948\",\"type\":\"DatetimeAxis\"},{\"attributes\":{\"data\":{\"x\":{\"__ndarray__\":\"AABACa8Od0IAAABvAQ93QgAAwNRTD3dCAACAOqYPd0IAAECg+A93QgAAAAZLEHdCAADAa50Qd0IAAIDR7xB3QgAAQDdCEXdCAAAAnZQRd0IAAMAC5xF3QgAAgGg5EndCAABAzosSd0IAAAA03hJ3Qg==\",\"dtype\":\"float64\",\"order\":\"little\",\"shape\":[14]},\"y\":{\"__ndarray__\":\"AAAAAABAa0AAAAAAAHB0QAAAAAAAIHxAAAAAAABogEAAAAAAAMCDQAAAAAAA4IpAAAAAAAAwkUAAAAAAALCVQAAAAAAAgJpAAAAAAAAsn0AAAAAAABSiQAAAAAAAXKRAAAAAAACgp0AAAAAAAIarQA==\",\"dtype\":\"float64\",\"order\":\"little\",\"shape\":[14]}},\"selected\":{\"id\":\"5093\"},\"selection_policy\":{\"id\":\"5092\"}},\"id\":\"5061\",\"type\":\"ColumnDataSource\"},{\"attributes\":{},\"id\":\"4940\",\"type\":\"DataRange1d\"},{\"attributes\":{\"months\":[0,4,8]},\"id\":\"4992\",\"type\":\"MonthsTicker\"},{\"attributes\":{},\"id\":\"4944\",\"type\":\"LinearScale\"},{\"attributes\":{},\"id\":\"4957\",\"type\":\"WheelZoomTool\"},{\"attributes\":{},\"id\":\"4953\",\"type\":\"BasicTicker\"},{\"attributes\":{},\"id\":\"4956\",\"type\":\"PanTool\"},{\"attributes\":{\"num_minor_ticks\":5,\"tickers\":[{\"id\":\"4983\"},{\"id\":\"4984\"},{\"id\":\"4985\"},{\"id\":\"4986\"},{\"id\":\"4987\"},{\"id\":\"4988\"},{\"id\":\"4989\"},{\"id\":\"4990\"},{\"id\":\"4991\"},{\"id\":\"4992\"},{\"id\":\"4993\"},{\"id\":\"4994\"}]},\"id\":\"4949\",\"type\":\"DatetimeTicker\"},{\"attributes\":{\"formatter\":{\"id\":\"4979\"},\"ticker\":{\"id\":\"4953\"}},\"id\":\"4952\",\"type\":\"LinearAxis\"},{\"attributes\":{\"axis\":{\"id\":\"4948\"},\"ticker\":null},\"id\":\"4951\",\"type\":\"Grid\"},{\"attributes\":{},\"id\":\"4995\",\"type\":\"UnionRenderers\"},{\"attributes\":{},\"id\":\"4994\",\"type\":\"YearsTicker\"},{\"attributes\":{\"axis\":{\"id\":\"4952\"},\"dimension\":1,\"ticker\":null},\"id\":\"4955\",\"type\":\"Grid\"},{\"attributes\":{\"fill_color\":{\"value\":\"blue\"},\"line_color\":{\"value\":\"blue\"},\"size\":{\"units\":\"screen\",\"value\":10},\"x\":{\"field\":\"x\"},\"y\":{\"field\":\"y\"}},\"id\":\"5096\",\"type\":\"X\"},{\"attributes\":{},\"id\":\"4946\",\"type\":\"LinearScale\"},{\"attributes\":{},\"id\":\"4942\",\"type\":\"DataRange1d\"},{\"attributes\":{\"fill_alpha\":{\"value\":0.1},\"fill_color\":{\"value\":\"red\"},\"line_alpha\":{\"value\":0.1},\"line_color\":{\"value\":\"red\"},\"size\":{\"units\":\"screen\",\"value\":10},\"x\":{\"field\":\"x\"},\"y\":{\"field\":\"y\"}},\"id\":\"5063\",\"type\":\"X\"},{\"attributes\":{\"source\":{\"id\":\"5061\"}},\"id\":\"5066\",\"type\":\"CDSView\"},{\"attributes\":{\"bottom_units\":\"screen\",\"fill_alpha\":0.5,\"fill_color\":\"lightgrey\",\"left_units\":\"screen\",\"level\":\"overlay\",\"line_alpha\":1.0,\"line_color\":\"black\",\"line_dash\":[4,4],\"line_width\":2,\"right_units\":\"screen\",\"top_units\":\"screen\"},\"id\":\"4962\",\"type\":\"BoxAnnotation\"},{\"attributes\":{},\"id\":\"4996\",\"type\":\"Selection\"},{\"attributes\":{\"click_policy\":\"mute\",\"items\":[{\"id\":\"4998\"},{\"id\":\"5028\"},{\"id\":\"5060\"},{\"id\":\"5094\"},{\"id\":\"5130\"}],\"location\":\"top_left\"},\"id\":\"4997\",\"type\":\"Legend\"},{\"attributes\":{\"data\":{\"x\":{\"__ndarray__\":\"AABACa8Od0IAAABvAQ93QgAAwNRTD3dCAACAOqYPd0IAAECg+A93QgAAAAZLEHdCAADAa50Qd0IAAIDR7xB3QgAAQDdCEXdCAAAAnZQRd0IAAMAC5xF3QgAAgGg5EndCAABAzosSd0IAAAA03hJ3Qg==\",\"dtype\":\"float64\",\"order\":\"little\",\"shape\":[14]},\"y\":[1404,1861,1617,1847,1559,3838,2446,2928,3925,3809,4611,2599,4376,7578]},\"selected\":{\"id\":\"5129\"},\"selection_policy\":{\"id\":\"5128\"}},\"id\":\"5095\",\"type\":\"ColumnDataSource\"},{\"attributes\":{\"fill_alpha\":{\"value\":0.01},\"fill_color\":{\"value\":\"red\"},\"line_alpha\":{\"value\":0.01},\"line_color\":{\"value\":\"red\"},\"size\":{\"units\":\"screen\",\"value\":10},\"x\":{\"field\":\"x\"},\"y\":{\"field\":\"y\"}},\"id\":\"5064\",\"type\":\"X\"},{\"attributes\":{\"data_source\":{\"id\":\"5061\"},\"glyph\":{\"id\":\"5062\"},\"hover_glyph\":null,\"muted_glyph\":{\"id\":\"5064\"},\"nonselection_glyph\":{\"id\":\"5063\"},\"selection_glyph\":null,\"view\":{\"id\":\"5066\"}},\"id\":\"5065\",\"type\":\"GlyphRenderer\"},{\"attributes\":{\"source\":{\"id\":\"4970\"}},\"id\":\"4975\",\"type\":\"CDSView\"},{\"attributes\":{},\"id\":\"5093\",\"type\":\"Selection\"},{\"attributes\":{\"label\":{\"value\":\"D\"},\"renderers\":[{\"id\":\"5065\"}]},\"id\":\"5094\",\"type\":\"LegendItem\"},{\"attributes\":{\"fill_color\":{\"value\":\"red\"},\"line_color\":{\"value\":\"red\"},\"size\":{\"units\":\"screen\",\"value\":10},\"x\":{\"field\":\"x\"},\"y\":{\"field\":\"y\"}},\"id\":\"5062\",\"type\":\"X\"},{\"attributes\":{\"label\":{\"value\":\"H\"},\"renderers\":[{\"id\":\"4974\"}]},\"id\":\"4998\",\"type\":\"LegendItem\"},{\"attributes\":{},\"id\":\"5092\",\"type\":\"UnionRenderers\"},{\"attributes\":{\"months\":[0,6]},\"id\":\"4993\",\"type\":\"MonthsTicker\"},{\"attributes\":{\"text\":\"\"},\"id\":\"4976\",\"type\":\"Title\"},{\"attributes\":{\"fill_alpha\":{\"value\":0.01},\"fill_color\":{\"value\":\"darkolivegreen\"},\"line_alpha\":{\"value\":0.01},\"line_color\":{\"value\":\"darkolivegreen\"},\"size\":{\"units\":\"screen\",\"value\":10},\"x\":{\"field\":\"x\"},\"y\":{\"field\":\"y\"}},\"id\":\"5032\",\"type\":\"X\"},{\"attributes\":{\"label\":{\"value\":\"RH\"},\"renderers\":[{\"id\":\"5033\"}]},\"id\":\"5060\",\"type\":\"LegendItem\"},{\"attributes\":{\"overlay\":{\"id\":\"4962\"}},\"id\":\"4958\",\"type\":\"BoxZoomTool\"},{\"attributes\":{\"fill_alpha\":{\"value\":0.1},\"fill_color\":{\"value\":\"lightblue\"},\"line_alpha\":{\"value\":0.1},\"line_color\":{\"value\":\"lightblue\"},\"size\":{\"units\":\"screen\",\"value\":10},\"x\":{\"field\":\"x\"},\"y\":{\"field\":\"y\"}},\"id\":\"4972\",\"type\":\"X\"},{\"attributes\":{},\"id\":\"4960\",\"type\":\"ResetTool\"},{\"attributes\":{},\"id\":\"4961\",\"type\":\"HelpTool\"},{\"attributes\":{},\"id\":\"4979\",\"type\":\"BasicTickFormatter\"},{\"attributes\":{\"active_drag\":\"auto\",\"active_inspect\":\"auto\",\"active_multi\":null,\"active_scroll\":\"auto\",\"active_tap\":\"auto\",\"tools\":[{\"id\":\"4956\"},{\"id\":\"4957\"},{\"id\":\"4958\"},{\"id\":\"4959\"},{\"id\":\"4960\"},{\"id\":\"4961\"}]},\"id\":\"4963\",\"type\":\"Toolbar\"},{\"attributes\":{\"data_source\":{\"id\":\"4970\"},\"glyph\":{\"id\":\"4971\"},\"hover_glyph\":null,\"muted_glyph\":{\"id\":\"4973\"},\"nonselection_glyph\":{\"id\":\"4972\"},\"selection_glyph\":null,\"view\":{\"id\":\"4975\"}},\"id\":\"4974\",\"type\":\"GlyphRenderer\"},{\"attributes\":{\"fill_color\":{\"value\":\"lightblue\"},\"line_color\":{\"value\":\"lightblue\"},\"size\":{\"units\":\"screen\",\"value\":10},\"x\":{\"field\":\"x\"},\"y\":{\"field\":\"y\"}},\"id\":\"4971\",\"type\":\"X\"},{\"attributes\":{\"source\":{\"id\":\"5029\"}},\"id\":\"5034\",\"type\":\"CDSView\"},{\"attributes\":{},\"id\":\"5128\",\"type\":\"UnionRenderers\"},{\"attributes\":{},\"id\":\"4981\",\"type\":\"DatetimeTickFormatter\"},{\"attributes\":{\"fill_alpha\":{\"value\":0.01},\"fill_color\":{\"value\":\"blue\"},\"line_alpha\":{\"value\":0.01},\"line_color\":{\"value\":\"blue\"},\"size\":{\"units\":\"screen\",\"value\":10},\"x\":{\"field\":\"x\"},\"y\":{\"field\":\"y\"}},\"id\":\"5098\",\"type\":\"X\"},{\"attributes\":{\"fill_color\":{\"value\":\"darkolivegreen\"},\"line_color\":{\"value\":\"darkolivegreen\"},\"size\":{\"units\":\"screen\",\"value\":10},\"x\":{\"field\":\"x\"},\"y\":{\"field\":\"y\"}},\"id\":\"5030\",\"type\":\"X\"},{\"attributes\":{\"fill_alpha\":{\"value\":0.01},\"fill_color\":{\"value\":\"lightblue\"},\"line_alpha\":{\"value\":0.01},\"line_color\":{\"value\":\"lightblue\"},\"size\":{\"units\":\"screen\",\"value\":10},\"x\":{\"field\":\"x\"},\"y\":{\"field\":\"y\"}},\"id\":\"4973\",\"type\":\"X\"},{\"attributes\":{\"data_source\":{\"id\":\"5095\"},\"glyph\":{\"id\":\"5096\"},\"hover_glyph\":null,\"muted_glyph\":{\"id\":\"5098\"},\"nonselection_glyph\":{\"id\":\"5097\"},\"selection_glyph\":null,\"view\":{\"id\":\"5100\"}},\"id\":\"5099\",\"type\":\"GlyphRenderer\"},{\"attributes\":{},\"id\":\"4959\",\"type\":\"SaveTool\"},{\"attributes\":{\"data\":{\"x\":{\"__ndarray__\":\"AABACa8Od0IAAABvAQ93QgAAwNRTD3dCAACAOqYPd0IAAECg+A93QgAAAAZLEHdCAADAa50Qd0IAAIDR7xB3QgAAQDdCEXdCAAAAnZQRd0IAAMAC5xF3QgAAgGg5EndCAABAzosSd0IAAAA03hJ3Qg==\",\"dtype\":\"float64\",\"order\":\"little\",\"shape\":[14]},\"y\":{\"__ndarray__\":\"AAAAAACAiUAAAAAAAHCSQAAAAAAAzJhAAAAAAABMnEAAAAAAAIqgQAAAAAAADqRAAAAAAACiqUAAAAAAAOqvQAAAAAAAU7NAAAAAAABCtkAAAAAAAOC5QAAAAAAA27tAAAAAAADzvkAAAAAAgHHCQA==\",\"dtype\":\"float64\",\"order\":\"little\",\"shape\":[14]}},\"selected\":{\"id\":\"5059\"},\"selection_policy\":{\"id\":\"5058\"}},\"id\":\"5029\",\"type\":\"ColumnDataSource\"},{\"attributes\":{\"label\":{\"value\":\"U\"},\"renderers\":[{\"id\":\"5003\"}]},\"id\":\"5028\",\"type\":\"LegendItem\"},{\"attributes\":{\"days\":[1,4,7,10,13,16,19,22,25,28]},\"id\":\"4987\",\"type\":\"DaysTicker\"},{\"attributes\":{\"label\":{\"value\":\"DR\"},\"renderers\":[{\"id\":\"5099\"}]},\"id\":\"5130\",\"type\":\"LegendItem\"},{\"attributes\":{\"source\":{\"id\":\"4999\"}},\"id\":\"5004\",\"type\":\"CDSView\"},{\"attributes\":{\"base\":60,\"mantissas\":[1,2,5,10,15,20,30],\"max_interval\":1800000.0,\"min_interval\":1000.0,\"num_minor_ticks\":0},\"id\":\"4984\",\"type\":\"AdaptiveTicker\"},{\"attributes\":{},\"id\":\"5058\",\"type\":\"UnionRenderers\"},{\"attributes\":{\"data\":{\"x\":{\"__ndarray__\":\"AABACa8Od0IAAABvAQ93QgAAwNRTD3dCAACAOqYPd0IAAECg+A93QgAAAAZLEHdCAADAa50Qd0IAAIDR7xB3QgAAQDdCEXdCAAAAnZQRd0IAAMAC5xF3QgAAgGg5EndCAABAzosSd0IAAAA03hJ3Qg==\",\"dtype\":\"float64\",\"order\":\"little\",\"shape\":[14]},\"y\":{\"__ndarray__\":\"AAAAAAA4p0AAAAAAANKvQAAAAAAAarRAAAAAAAAMt0AAAAAAACq7QAAAAACA8MBAAAAAAIDZw0AAAAAAAJTHQAAAAACAG8tAAAAAAICqzkAAAAAAACvRQAAAAADA29JAAAAAAIB01EAAAAAAACTWQA==\",\"dtype\":\"float64\",\"order\":\"little\",\"shape\":[14]}},\"selected\":{\"id\":\"4996\"},\"selection_policy\":{\"id\":\"4995\"}},\"id\":\"4970\",\"type\":\"ColumnDataSource\"},{\"attributes\":{\"months\":[0,2,4,6,8,10]},\"id\":\"4991\",\"type\":\"MonthsTicker\"},{\"attributes\":{\"fill_alpha\":{\"value\":0.1},\"fill_color\":{\"value\":\"blue\"},\"line_alpha\":{\"value\":0.1},\"line_color\":{\"value\":\"blue\"},\"size\":{\"units\":\"screen\",\"value\":10},\"x\":{\"field\":\"x\"},\"y\":{\"field\":\"y\"}},\"id\":\"5097\",\"type\":\"X\"},{\"attributes\":{\"months\":[0,1,2,3,4,5,6,7,8,9,10,11]},\"id\":\"4990\",\"type\":\"MonthsTicker\"},{\"attributes\":{},\"id\":\"5129\",\"type\":\"Selection\"},{\"attributes\":{\"source\":{\"id\":\"5095\"}},\"id\":\"5100\",\"type\":\"CDSView\"},{\"attributes\":{\"mantissas\":[1,2,5],\"max_interval\":500.0,\"num_minor_ticks\":0},\"id\":\"4983\",\"type\":\"AdaptiveTicker\"},{\"attributes\":{},\"id\":\"5026\",\"type\":\"UnionRenderers\"},{\"attributes\":{\"days\":[1,8,15,22]},\"id\":\"4988\",\"type\":\"DaysTicker\"},{\"attributes\":{},\"id\":\"5027\",\"type\":\"Selection\"},{\"attributes\":{\"days\":[1,15]},\"id\":\"4989\",\"type\":\"DaysTicker\"},{\"attributes\":{\"fill_alpha\":{\"value\":0.01},\"fill_color\":{\"value\":\"pink\"},\"line_alpha\":{\"value\":0.01},\"line_color\":{\"value\":\"pink\"},\"size\":{\"units\":\"screen\",\"value\":10},\"x\":{\"field\":\"x\"},\"y\":{\"field\":\"y\"}},\"id\":\"5002\",\"type\":\"X\"},{\"attributes\":{\"data\":{\"x\":{\"__ndarray__\":\"AABACa8Od0IAAABvAQ93QgAAwNRTD3dCAACAOqYPd0IAAECg+A93QgAAAAZLEHdCAADAa50Qd0IAAIDR7xB3QgAAQDdCEXdCAAAAnZQRd0IAAMAC5xF3QgAAgGg5EndCAABAzosSd0IAAAA03hJ3Qg==\",\"dtype\":\"float64\",\"order\":\"little\",\"shape\":[14]},\"y\":{\"__ndarray__\":\"AAAAAAAYiEAAAAAAAFCPQAAAAAAARJRAAAAAAAC0lkAAAAAAACiaQAAAAAAAQKBAAAAAAACOo0AAAAAAAO6mQAAAAAAALqpAAAAAAABcrUAAAAAAAIywQAAAAAAA8LFAAAAAAADAs0AAAAAAAHi1QA==\",\"dtype\":\"float64\",\"order\":\"little\",\"shape\":[14]}},\"selected\":{\"id\":\"5027\"},\"selection_policy\":{\"id\":\"5026\"}},\"id\":\"4999\",\"type\":\"ColumnDataSource\"},{\"attributes\":{\"fill_color\":{\"value\":\"pink\"},\"line_color\":{\"value\":\"pink\"},\"size\":{\"units\":\"screen\",\"value\":10},\"x\":{\"field\":\"x\"},\"y\":{\"field\":\"y\"}},\"id\":\"5000\",\"type\":\"X\"},{\"attributes\":{\"data_source\":{\"id\":\"4999\"},\"glyph\":{\"id\":\"5000\"},\"hover_glyph\":null,\"muted_glyph\":{\"id\":\"5002\"},\"nonselection_glyph\":{\"id\":\"5001\"},\"selection_glyph\":null,\"view\":{\"id\":\"5004\"}},\"id\":\"5003\",\"type\":\"GlyphRenderer\"},{\"attributes\":{\"base\":24,\"mantissas\":[1,2,4,6,8,12],\"max_interval\":43200000.0,\"min_interval\":3600000.0,\"num_minor_ticks\":0},\"id\":\"4985\",\"type\":\"AdaptiveTicker\"},{\"attributes\":{\"fill_alpha\":{\"value\":0.1},\"fill_color\":{\"value\":\"darkolivegreen\"},\"line_alpha\":{\"value\":0.1},\"line_color\":{\"value\":\"darkolivegreen\"},\"size\":{\"units\":\"screen\",\"value\":10},\"x\":{\"field\":\"x\"},\"y\":{\"field\":\"y\"}},\"id\":\"5031\",\"type\":\"X\"},{\"attributes\":{\"fill_alpha\":{\"value\":0.1},\"fill_color\":{\"value\":\"pink\"},\"line_alpha\":{\"value\":0.1},\"line_color\":{\"value\":\"pink\"},\"size\":{\"units\":\"screen\",\"value\":10},\"x\":{\"field\":\"x\"},\"y\":{\"field\":\"y\"}},\"id\":\"5001\",\"type\":\"X\"},{\"attributes\":{\"days\":[1,2,3,4,5,6,7,8,9,10,11,12,13,14,15,16,17,18,19,20,21,22,23,24,25,26,27,28,29,30,31]},\"id\":\"4986\",\"type\":\"DaysTicker\"},{\"attributes\":{},\"id\":\"5059\",\"type\":\"Selection\"},{\"attributes\":{\"data_source\":{\"id\":\"5029\"},\"glyph\":{\"id\":\"5030\"},\"hover_glyph\":null,\"muted_glyph\":{\"id\":\"5032\"},\"nonselection_glyph\":{\"id\":\"5031\"},\"selection_glyph\":null,\"view\":{\"id\":\"5034\"}},\"id\":\"5033\",\"type\":\"GlyphRenderer\"}],\"root_ids\":[\"4939\"]},\"title\":\"Bokeh Application\",\"version\":\"2.2.3\"}};\n",
       "  var render_items = [{\"docid\":\"b76be80b-fdd6-4269-affa-f07406388e04\",\"root_ids\":[\"4939\"],\"roots\":{\"4939\":\"1c2bfd22-1d17-435f-b794-23cfa98ef253\"}}];\n",
       "  root.Bokeh.embed.embed_items_notebook(docs_json, render_items);\n",
       "\n",
       "  }\n",
       "  if (root.Bokeh !== undefined) {\n",
       "    embed_document(root);\n",
       "  } else {\n",
       "    var attempts = 0;\n",
       "    var timer = setInterval(function(root) {\n",
       "      if (root.Bokeh !== undefined) {\n",
       "        clearInterval(timer);\n",
       "        embed_document(root);\n",
       "      } else {\n",
       "        attempts++;\n",
       "        if (attempts > 100) {\n",
       "          clearInterval(timer);\n",
       "          console.log(\"Bokeh: ERROR: Unable to run BokehJS code because BokehJS library is missing\");\n",
       "        }\n",
       "      }\n",
       "    }, 10, root)\n",
       "  }\n",
       "})(window);"
      ],
      "application/vnd.bokehjs_exec.v0+json": ""
     },
     "metadata": {
      "application/vnd.bokehjs_exec.v0+json": {
       "id": "4939"
      }
     },
     "output_type": "display_data"
    }
   ],
   "source": [
    "first_lockdown = datetime(year = 2020, month = 3, day = 18) # date that we can use to get better results\n",
    "end_fit = datetime(year = 2020, month = 3, day = 31) # 31/03\n",
    "end_lockdown =  datetime(year = 2020, month = 5, day = 11) # end lockdown\n",
    "\n",
    "data_to_fit = convert_data(path, path_dr, start_date = first_lockdown, end_date_f = end_fit)\n",
    "plot_data(data_to_fit)"
   ]
  },
  {
   "cell_type": "markdown",
   "metadata": {},
   "source": [
    "Nous allons lancer la minimisation sur plus tirage des paramètres d'entrée différents pour essayer d'avoir le 'meilleur'."
   ]
  },
  {
   "cell_type": "code",
   "execution_count": 45,
   "metadata": {},
   "outputs": [],
   "source": [
    "def launch_several_tests(target, launches = 10, constraints = None):\n",
    "    from utils import input_params, lhs\n",
    "    bounds = input_params.values()\n",
    "    err_min = np.inf\n",
    "    x_best = None\n",
    "    X = lhs(launches)\n",
    "    for x in X:\n",
    "        fun_to_min = lambda x : fun(x, target = target, data_start = first_lockdown, t_end = end_fit)\n",
    "        argmin = minimize(fun_to_min, x, bounds=bounds, constraints = constraints)\n",
    "        err = argmin.fun\n",
    "        if(err < err_min):\n",
    "            x_best = argmin.x\n",
    "            err_min = err\n",
    "    return err_min, x_best"
   ]
  },
  {
   "cell_type": "code",
   "execution_count": 46,
   "metadata": {},
   "outputs": [
    {
     "name": "stdout",
     "output_type": "stream",
     "text": [
      "Best input params : [5.00187940e-01 5.95431204e-02 1.05669846e-02 1.99591307e-01\n",
      " 1.47974184e-01 3.98091140e-01 1.19994624e+01 1.50249505e+01\n",
      " 1.99637753e+01 3.28811614e+00 4.99805885e-02 5.19904238e+01\n",
      " 1.00172688e+01 9.97092476e+01 9.21489985e-04] with quadratic error : 4416.143524219642\n"
     ]
    }
   ],
   "source": [
    "target = data_to_fit.values[:,1:] # values.values[:dt_day_max,1:] # not taking datetime\n",
    "err_min, x_best = launch_several_tests(target, launches = 10)\n",
    "print('Best input params : {} with quadratic error : {}'.format(x_best, err_min))"
   ]
  },
  {
   "cell_type": "code",
   "execution_count": 47,
   "metadata": {},
   "outputs": [],
   "source": [
    "sol = f(x_best)\n",
    "pred_dict = pd.DataFrame({\n",
    "    'date': [init_date+k*delta_time for k in range(sol.shape[0])],\n",
    "    'H' : sol[:,ykeys['H']],\n",
    "    'U' : sol[:,ykeys['U']],\n",
    "    'RH' : sol[:,ykeys['RH']],\n",
    "    'D' : sol[:,ykeys['D']],\n",
    "    'DR' : sol[:,ykeys['DR']]\n",
    "})"
   ]
  },
  {
   "cell_type": "markdown",
   "metadata": {},
   "source": [
    "Avec seulement les données à fit :"
   ]
  },
  {
   "cell_type": "code",
   "execution_count": 48,
   "metadata": {},
   "outputs": [
    {
     "data": {
      "text/html": [
       "\n",
       "\n",
       "\n",
       "\n",
       "\n",
       "\n",
       "  <div class=\"bk-root\" id=\"63470171-ec48-49cd-8cbd-1633bd3bd092\" data-root-id=\"5534\"></div>\n"
      ]
     },
     "metadata": {},
     "output_type": "display_data"
    },
    {
     "data": {
      "application/javascript": [
       "(function(root) {\n",
       "  function embed_document(root) {\n",
       "    \n",
       "  var docs_json = {\"30a70c17-1e84-4428-89f8-e38fb339407a\":{\"roots\":{\"references\":[{\"attributes\":{\"below\":[{\"id\":\"5543\"}],\"center\":[{\"id\":\"5546\"},{\"id\":\"5550\"},{\"id\":\"5592\"}],\"left\":[{\"id\":\"5547\"}],\"plot_height\":450,\"plot_width\":900,\"renderers\":[{\"id\":\"5569\"},{\"id\":\"5598\"},{\"id\":\"5628\"},{\"id\":\"5660\"},{\"id\":\"5694\"},{\"id\":\"5730\"},{\"id\":\"5767\"},{\"id\":\"5806\"},{\"id\":\"5847\"},{\"id\":\"5890\"}],\"title\":{\"id\":\"5571\"},\"toolbar\":{\"id\":\"5558\"},\"x_range\":{\"id\":\"5535\"},\"x_scale\":{\"id\":\"5539\"},\"y_range\":{\"id\":\"5537\"},\"y_scale\":{\"id\":\"5541\"}},\"id\":\"5534\",\"subtype\":\"Figure\",\"type\":\"Plot\"},{\"attributes\":{},\"id\":\"5539\",\"type\":\"LinearScale\"},{\"attributes\":{\"line_color\":\"lightblue\",\"x\":{\"field\":\"x\"},\"y\":{\"field\":\"y\"}},\"id\":\"5727\",\"type\":\"Line\"},{\"attributes\":{},\"id\":\"5723\",\"type\":\"UnionRenderers\"},{\"attributes\":{\"line_color\":\"blue\",\"x\":{\"field\":\"x\"},\"y\":{\"field\":\"y\"}},\"id\":\"5887\",\"type\":\"Line\"},{\"attributes\":{\"data\":{\"x\":{\"__ndarray__\":\"AACA+J/9dkIAAEBe8v12QgAAAMRE/nZCAADAKZf+dkIAAICP6f52QgAAQPU7/3ZCAAAAW47/dkIAAMDA4P92QgAAgCYzAHdCAABAjIUAd0IAAADy1wB3QgAAwFcqAXdCAACAvXwBd0IAAEAjzwF3QgAAAIkhAndCAADA7nMCd0IAAIBUxgJ3QgAAQLoYA3dCAAAAIGsDd0IAAMCFvQN3QgAAgOsPBHdCAABAUWIEd0IAAAC3tAR3QgAAwBwHBXdCAACAglkFd0IAAEDoqwV3QgAAAE7+BXdCAADAs1AGd0IAAIAZowZ3QgAAQH/1BndCAAAA5UcHd0IAAMBKmgd3QgAAgLDsB3dCAABAFj8Id0IAAAB8kQh3QgAAwOHjCHdCAACARzYJd0IAAECtiAl3QgAAABPbCXdCAADAeC0Kd0IAAIDefwp3QgAAQETSCndCAAAAqiQLd0IAAMAPdwt3QgAAgHXJC3dCAABA2xsMd0IAAABBbgx3QgAAwKbADHdCAACADBMNd0IAAEByZQ13QgAAANi3DXdCAADAPQoOd0IAAICjXA53QgAAQAmvDndCAAAAbwEPd0IAAMDUUw93QgAAgDqmD3dCAABAoPgPd0IAAAAGSxB3QgAAwGudEHdCAACA0e8Qd0IAAEA3QhF3QgAAAJ2UEXdCAADAAucRd0IAAIBoORJ3QgAAQM6LEndCAAAANN4Sd0IAAMCZMBN3QgAAgP+CE3dCAABAZdUTd0IAAADLJxR3QgAAwDB6FHdCAACAlswUd0IAAED8HhV3QgAAAGJxFXdCAADAx8MVd0IAAIAtFhZ3QgAAQJNoFndCAAAA+boWd0IAAMBeDRd3QgAAgMRfF3dCAABAKrIXd0IAAACQBBh3QgAAwPVWGHdCAACAW6kYd0IAAEDB+xh3QgAAACdOGXdCAADAjKAZd0IAAIDy8hl3QgAAQFhFGndCAAAAvpcad0IAAMAj6hp3QgAAgIk8G3dCAABA744bd0IAAABV4Rt3QgAAwLozHHdCAACAIIYcd0IAAECG2Bx3QgAAAOwqHXdCAADAUX0dd0IAAIC3zx13QgAAQB0iHndCAAAAg3Qed0IAAMDoxh53QgAAgE4ZH3dCAABAtGsfd0IAAAAavh93QgAAwH8QIHdC\",\"dtype\":\"float64\",\"order\":\"little\",\"shape\":[108]},\"y\":{\"__ndarray__\":\"AAAAAAAAAAAAAAAAAAAAAAAAAAAAAAAAAAAAAAAAAAAAAAAAAAAAAAAAAAAAAAAAAAAAAAAAAAAAAAAAAAAAAAAAAAAAAAAAAAAAAAAAAAAAAAAAAAAAANG3Fm+h6dA/XdA9OWIs4j/sg5HvCnTtP4wWZzKDVPU/CBYGoe8d/T/IF/CkJC0DQCLate/krQhAWFQLPfhCD0BgAdVBTJQTQJ3C3QLbUxhAZaU1WVYMHkA1020wo3kiQApJoX3FpCZA7oJt1uKuK0BLTIqv0eMwQL4LXV9mlDRA0+ESWzQMOUCdjQFRsHU+QLwkX6wpgkJA6yJZukJ7RkB0MrwT+EtLQImX28YTkVBA2BvnZrYaVEA0wTFEmWRYQF0ZsOWZl11Ag5TCPaHyYUAbRFEh0MRlQCIOmry+ZmpAznisxUQCcEBBFpLK0mlzQAfdFtJsindA5UdGKVCLfEBH/YloAk6BQCpgM04N+4RAfFZ+EqFviUBHCB3J6dWOQKlooC52sJJARINu5iynlkAiiNaJX3SbQEOmCpqIoqBALTOMJcgnpEAl4yvFp2qoQFcQ6FOei61A8Jwb2/fOsUAUXxbFYFi1QM0QtvmnZ7lAwr3k3xwAvkDhrLL1PJHBQNpboO5aZsRA/r/Mefd8x0DNaAlrONHKQEO65EHqXc5A6H9YBk4O0UBfMKzD4gLTQOdImrd6CNVANP2C1IIa10B0OhFpKTTZQEb8lHB6UNtAlnkxWntq3UB1vXpPRX3fQH8h/Z0OwuBAyiN7gkS94UAtnGDBMK7iQBLujIfwkuNANZSKSddp5EAha4yWcjHlQG2DIUyM6OVAcs9tUCuO5kAILTD7kiHnQNBNPVtBoudA6jiyhuwP6ECOThcwf2roQAX6j5AUsuhAbiSEAvTm6EDb2jdFjAnpQPqyN6VuGulAgHQUIUoa6UA2Nkej5gnpQIvkXGYg6uhAVeewk+O76EAloq0rKIDoQPuyVTruN+hAOWesZDrk50CbPAzLEobnQP1ELEN8HudA/UOE+neu5kCSJq5aATfmQBIP4kYMueVAem63qoM15UAsZq5KSK3kQBCSZ9kvIeRALvCvSgSS40ApUhBVgwDjQCrqgi9ebeJAEz/gbjnZ4UCRuZMMrUThQJYb54xEsOBA\",\"dtype\":\"float64\",\"order\":\"little\",\"shape\":[108]}},\"selected\":{\"id\":\"5762\"},\"selection_policy\":{\"id\":\"5761\"}},\"id\":\"5726\",\"type\":\"ColumnDataSource\"},{\"attributes\":{\"label\":{\"value\":\"H\"},\"renderers\":[{\"id\":\"5569\"},{\"id\":\"5730\"}]},\"id\":\"5593\",\"type\":\"LegendItem\"},{\"attributes\":{\"formatter\":{\"id\":\"5576\"},\"ticker\":{\"id\":\"5544\"}},\"id\":\"5543\",\"type\":\"DatetimeAxis\"},{\"attributes\":{\"line_alpha\":0.1,\"line_color\":\"blue\",\"x\":{\"field\":\"x\"},\"y\":{\"field\":\"y\"}},\"id\":\"5888\",\"type\":\"Line\"},{\"attributes\":{\"label\":{\"value\":\"DR\"},\"renderers\":[{\"id\":\"5694\"},{\"id\":\"5890\"}]},\"id\":\"5725\",\"type\":\"LegendItem\"},{\"attributes\":{},\"id\":\"5621\",\"type\":\"UnionRenderers\"},{\"attributes\":{},\"id\":\"5537\",\"type\":\"DataRange1d\"},{\"attributes\":{\"data_source\":{\"id\":\"5726\"},\"glyph\":{\"id\":\"5727\"},\"hover_glyph\":null,\"muted_glyph\":{\"id\":\"5729\"},\"nonselection_glyph\":{\"id\":\"5728\"},\"selection_glyph\":null,\"view\":{\"id\":\"5731\"}},\"id\":\"5730\",\"type\":\"GlyphRenderer\"},{\"attributes\":{\"line_alpha\":0.1,\"line_color\":\"lightblue\",\"x\":{\"field\":\"x\"},\"y\":{\"field\":\"y\"}},\"id\":\"5728\",\"type\":\"Line\"},{\"attributes\":{\"months\":[0,1,2,3,4,5,6,7,8,9,10,11]},\"id\":\"5585\",\"type\":\"MonthsTicker\"},{\"attributes\":{},\"id\":\"5590\",\"type\":\"UnionRenderers\"},{\"attributes\":{\"num_minor_ticks\":5,\"tickers\":[{\"id\":\"5578\"},{\"id\":\"5579\"},{\"id\":\"5580\"},{\"id\":\"5581\"},{\"id\":\"5582\"},{\"id\":\"5583\"},{\"id\":\"5584\"},{\"id\":\"5585\"},{\"id\":\"5586\"},{\"id\":\"5587\"},{\"id\":\"5588\"},{\"id\":\"5589\"}]},\"id\":\"5544\",\"type\":\"DatetimeTicker\"},{\"attributes\":{\"data\":{\"x\":{\"__ndarray__\":\"AACA+J/9dkIAAEBe8v12QgAAAMRE/nZCAADAKZf+dkIAAICP6f52QgAAQPU7/3ZCAAAAW47/dkIAAMDA4P92QgAAgCYzAHdCAABAjIUAd0IAAADy1wB3QgAAwFcqAXdCAACAvXwBd0IAAEAjzwF3QgAAAIkhAndCAADA7nMCd0IAAIBUxgJ3QgAAQLoYA3dCAAAAIGsDd0IAAMCFvQN3QgAAgOsPBHdCAABAUWIEd0IAAAC3tAR3QgAAwBwHBXdCAACAglkFd0IAAEDoqwV3QgAAAE7+BXdCAADAs1AGd0IAAIAZowZ3QgAAQH/1BndCAAAA5UcHd0IAAMBKmgd3QgAAgLDsB3dCAABAFj8Id0IAAAB8kQh3QgAAwOHjCHdCAACARzYJd0IAAECtiAl3QgAAABPbCXdCAADAeC0Kd0IAAIDefwp3QgAAQETSCndCAAAAqiQLd0IAAMAPdwt3QgAAgHXJC3dCAABA2xsMd0IAAABBbgx3QgAAwKbADHdCAACADBMNd0IAAEByZQ13QgAAANi3DXdCAADAPQoOd0IAAICjXA53QgAAQAmvDndCAAAAbwEPd0IAAMDUUw93QgAAgDqmD3dCAABAoPgPd0IAAAAGSxB3QgAAwGudEHdCAACA0e8Qd0IAAEA3QhF3QgAAAJ2UEXdCAADAAucRd0IAAIBoORJ3QgAAQM6LEndCAAAANN4Sd0IAAMCZMBN3QgAAgP+CE3dCAABAZdUTd0IAAADLJxR3QgAAwDB6FHdCAACAlswUd0IAAED8HhV3QgAAAGJxFXdCAADAx8MVd0IAAIAtFhZ3QgAAQJNoFndCAAAA+boWd0IAAMBeDRd3QgAAgMRfF3dCAABAKrIXd0IAAACQBBh3QgAAwPVWGHdCAACAW6kYd0IAAEDB+xh3QgAAACdOGXdCAADAjKAZd0IAAIDy8hl3QgAAQFhFGndCAAAAvpcad0IAAMAj6hp3QgAAgIk8G3dCAABA744bd0IAAABV4Rt3QgAAwLozHHdCAACAIIYcd0IAAECG2Bx3QgAAAOwqHXdCAADAUX0dd0IAAIC3zx13QgAAQB0iHndCAAAAg3Qed0IAAMDoxh53QgAAgE4ZH3dCAABAtGsfd0IAAAAavh93QgAAwH8QIHdC\",\"dtype\":\"float64\",\"order\":\"little\",\"shape\":[108]},\"y\":{\"__ndarray__\":\"AAAAAAAAAAAAAAAAAAAAAAAAAAAAAAAAAAAAAAAAAAAAAAAAAAAAAAAAAAAAAAAAAAAAAAAAAAAAAAAAAAAAAAAAAAAAAAAAAAAAAAAAAAAAAAAAAAAAAKt/yE2w16g/2OP6yBGEuz92DlA6refGP1OwQBmN/NA/Wr0bIE2t1z88v/uBJcPfP4TwBo8txOQ/zAV8cZmr6j+Qyfr+VOfwPyQpG574N/U/6Hb7bB5w+j8bIo66ZmAAQEALjcbAMgRAAtucyjHTCEA9M6hDfW0OQH8/xb9bmxJAkRhwFaC3FkBdG9w+lLIbQKrpC/bG3SBAVs0IofmFJEA7XnwFr/QoQLUsunsZVC5ADd7rZLFrMkB6j5+mSV42QOAOgipwJztADhuS3V16QEBUP8YyuP5DQMMAzSxGQkhAfQDKmKFtTUDZlpun/9hRQDu622CApVVAw85tKHNAWkCamAq6m9VfQPidrgD+TGNAaqGP3+FmZ0AI2mv6Ul9sQPVydw+qMnFAG7TI4+DYdEB0yGZzrER5QGB6efiRn35A9hVeDNiNgkClfBziu3qGQIfViFDYNYtAvWn49QdrkECXYCEp3reTQCePToNQipdAloRSaZnpm0DHXmp0fW2gQNkIboW+MKNA/uxhO98+pkD8PvGk7JapQL6V5nCuNq1AKcBiDFeNsEBs3Y3JI5+yQEk93DzhzbRAQTyKFDkWt0Dv3A+ebXS5QJzCfFdu5LtArPlpfu1hvkC9h57rOnTAQCbRq/a/ucFA/0crI0P/wkAhon8AjELEQOIOJsZ0gcVAsnDvmvG5xkAic0O4FurHQPIw/GEdEMlA89tbumcqykB/blN8gzfLQBUsULMrNsxAL+oGgkklzUBggPQX9APOQMFiM+xv0c5AHCgPXS2Nz0CIB2xnYxvQQClfjzH/ZtBAXUSJsF2p0EDjkoeyg+LQQI2ahrWFEtFA5ZpwYoY50UCyCEMHtVfRQNDMwRNMbdFAk3qvoI960UDqfsMDzH/RQIbAa3JUfdFAVl5PwIFz0UAoytkqsWLRQO1kGj1DS9FA1v8kzpot0UBR9T8THArRQL5/Qsor4dBAV+JIfS6z0EDlnPDTh4DQQO64KgWaSdBAN5OpU8UO0EC8YG9Az6DPQBJ5nhq4Hc9A\",\"dtype\":\"float64\",\"order\":\"little\",\"shape\":[108]}},\"selected\":{\"id\":\"5801\"},\"selection_policy\":{\"id\":\"5800\"}},\"id\":\"5763\",\"type\":\"ColumnDataSource\"},{\"attributes\":{},\"id\":\"5622\",\"type\":\"Selection\"},{\"attributes\":{},\"id\":\"5724\",\"type\":\"Selection\"},{\"attributes\":{},\"id\":\"5551\",\"type\":\"PanTool\"},{\"attributes\":{\"axis\":{\"id\":\"5547\"},\"dimension\":1,\"ticker\":null},\"id\":\"5550\",\"type\":\"Grid\"},{\"attributes\":{\"data\":{\"x\":{\"__ndarray__\":\"AABACa8Od0IAAABvAQ93QgAAwNRTD3dCAACAOqYPd0IAAECg+A93QgAAAAZLEHdCAADAa50Qd0IAAIDR7xB3QgAAQDdCEXdCAAAAnZQRd0IAAMAC5xF3QgAAgGg5EndCAABAzosSd0IAAAA03hJ3Qg==\",\"dtype\":\"float64\",\"order\":\"little\",\"shape\":[14]},\"y\":{\"__ndarray__\":\"AAAAAAA4p0AAAAAAANKvQAAAAAAAarRAAAAAAAAMt0AAAAAAACq7QAAAAACA8MBAAAAAAIDZw0AAAAAAAJTHQAAAAACAG8tAAAAAAICqzkAAAAAAACvRQAAAAADA29JAAAAAAIB01EAAAAAAACTWQA==\",\"dtype\":\"float64\",\"order\":\"little\",\"shape\":[14]}},\"selected\":{\"id\":\"5591\"},\"selection_policy\":{\"id\":\"5590\"}},\"id\":\"5565\",\"type\":\"ColumnDataSource\"},{\"attributes\":{},\"id\":\"5535\",\"type\":\"DataRange1d\"},{\"attributes\":{\"axis\":{\"id\":\"5543\"},\"ticker\":null},\"id\":\"5546\",\"type\":\"Grid\"},{\"attributes\":{\"formatter\":{\"id\":\"5574\"},\"ticker\":{\"id\":\"5548\"}},\"id\":\"5547\",\"type\":\"LinearAxis\"},{\"attributes\":{\"months\":[0,4,8]},\"id\":\"5587\",\"type\":\"MonthsTicker\"},{\"attributes\":{\"months\":[0,2,4,6,8,10]},\"id\":\"5586\",\"type\":\"MonthsTicker\"},{\"attributes\":{},\"id\":\"5548\",\"type\":\"BasicTicker\"},{\"attributes\":{\"fill_color\":{\"value\":\"red\"},\"line_color\":{\"value\":\"red\"},\"size\":{\"units\":\"screen\",\"value\":10},\"x\":{\"field\":\"x\"},\"y\":{\"field\":\"y\"}},\"id\":\"5657\",\"type\":\"X\"},{\"attributes\":{\"bottom_units\":\"screen\",\"fill_alpha\":0.5,\"fill_color\":\"lightgrey\",\"left_units\":\"screen\",\"level\":\"overlay\",\"line_alpha\":1.0,\"line_color\":\"black\",\"line_dash\":[4,4],\"line_width\":2,\"right_units\":\"screen\",\"top_units\":\"screen\"},\"id\":\"5557\",\"type\":\"BoxAnnotation\"},{\"attributes\":{\"source\":{\"id\":\"5594\"}},\"id\":\"5599\",\"type\":\"CDSView\"},{\"attributes\":{\"line_alpha\":0.01,\"line_color\":\"lightblue\",\"x\":{\"field\":\"x\"},\"y\":{\"field\":\"y\"}},\"id\":\"5729\",\"type\":\"Line\"},{\"attributes\":{\"line_color\":\"pink\",\"x\":{\"field\":\"x\"},\"y\":{\"field\":\"y\"}},\"id\":\"5764\",\"type\":\"Line\"},{\"attributes\":{\"source\":{\"id\":\"5763\"}},\"id\":\"5768\",\"type\":\"CDSView\"},{\"attributes\":{\"days\":[1,15]},\"id\":\"5584\",\"type\":\"DaysTicker\"},{\"attributes\":{\"line_alpha\":0.1,\"line_color\":\"pink\",\"x\":{\"field\":\"x\"},\"y\":{\"field\":\"y\"}},\"id\":\"5765\",\"type\":\"Line\"},{\"attributes\":{\"source\":{\"id\":\"5726\"}},\"id\":\"5731\",\"type\":\"CDSView\"},{\"attributes\":{\"label\":{\"value\":\"U\"},\"renderers\":[{\"id\":\"5598\"},{\"id\":\"5767\"}]},\"id\":\"5623\",\"type\":\"LegendItem\"},{\"attributes\":{\"months\":[0,6]},\"id\":\"5588\",\"type\":\"MonthsTicker\"},{\"attributes\":{\"fill_color\":{\"value\":\"darkolivegreen\"},\"line_color\":{\"value\":\"darkolivegreen\"},\"size\":{\"units\":\"screen\",\"value\":10},\"x\":{\"field\":\"x\"},\"y\":{\"field\":\"y\"}},\"id\":\"5625\",\"type\":\"X\"},{\"attributes\":{\"fill_color\":{\"value\":\"pink\"},\"line_color\":{\"value\":\"pink\"},\"size\":{\"units\":\"screen\",\"value\":10},\"x\":{\"field\":\"x\"},\"y\":{\"field\":\"y\"}},\"id\":\"5595\",\"type\":\"X\"},{\"attributes\":{},\"id\":\"5762\",\"type\":\"Selection\"},{\"attributes\":{\"data\":{\"x\":{\"__ndarray__\":\"AABACa8Od0IAAABvAQ93QgAAwNRTD3dCAACAOqYPd0IAAECg+A93QgAAAAZLEHdCAADAa50Qd0IAAIDR7xB3QgAAQDdCEXdCAAAAnZQRd0IAAMAC5xF3QgAAgGg5EndCAABAzosSd0IAAAA03hJ3Qg==\",\"dtype\":\"float64\",\"order\":\"little\",\"shape\":[14]},\"y\":{\"__ndarray__\":\"AAAAAAAYiEAAAAAAAFCPQAAAAAAARJRAAAAAAAC0lkAAAAAAACiaQAAAAAAAQKBAAAAAAACOo0AAAAAAAO6mQAAAAAAALqpAAAAAAABcrUAAAAAAAIywQAAAAAAA8LFAAAAAAADAs0AAAAAAAHi1QA==\",\"dtype\":\"float64\",\"order\":\"little\",\"shape\":[14]}},\"selected\":{\"id\":\"5622\"},\"selection_policy\":{\"id\":\"5621\"}},\"id\":\"5594\",\"type\":\"ColumnDataSource\"},{\"attributes\":{\"click_policy\":\"mute\",\"items\":[{\"id\":\"5593\"},{\"id\":\"5623\"},{\"id\":\"5655\"},{\"id\":\"5689\"},{\"id\":\"5725\"}],\"location\":\"top_left\"},\"id\":\"5592\",\"type\":\"Legend\"},{\"attributes\":{\"fill_alpha\":{\"value\":0.1},\"fill_color\":{\"value\":\"pink\"},\"line_alpha\":{\"value\":0.1},\"line_color\":{\"value\":\"pink\"},\"size\":{\"units\":\"screen\",\"value\":10},\"x\":{\"field\":\"x\"},\"y\":{\"field\":\"y\"}},\"id\":\"5596\",\"type\":\"X\"},{\"attributes\":{},\"id\":\"5589\",\"type\":\"YearsTicker\"},{\"attributes\":{},\"id\":\"5541\",\"type\":\"LinearScale\"},{\"attributes\":{},\"id\":\"5761\",\"type\":\"UnionRenderers\"},{\"attributes\":{\"fill_alpha\":{\"value\":0.01},\"fill_color\":{\"value\":\"pink\"},\"line_alpha\":{\"value\":0.01},\"line_color\":{\"value\":\"pink\"},\"size\":{\"units\":\"screen\",\"value\":10},\"x\":{\"field\":\"x\"},\"y\":{\"field\":\"y\"}},\"id\":\"5597\",\"type\":\"X\"},{\"attributes\":{\"line_alpha\":0.01,\"line_color\":\"pink\",\"x\":{\"field\":\"x\"},\"y\":{\"field\":\"y\"}},\"id\":\"5766\",\"type\":\"Line\"},{\"attributes\":{\"fill_color\":{\"value\":\"lightblue\"},\"line_color\":{\"value\":\"lightblue\"},\"size\":{\"units\":\"screen\",\"value\":10},\"x\":{\"field\":\"x\"},\"y\":{\"field\":\"y\"}},\"id\":\"5566\",\"type\":\"X\"},{\"attributes\":{\"fill_alpha\":{\"value\":0.01},\"fill_color\":{\"value\":\"lightblue\"},\"line_alpha\":{\"value\":0.01},\"line_color\":{\"value\":\"lightblue\"},\"size\":{\"units\":\"screen\",\"value\":10},\"x\":{\"field\":\"x\"},\"y\":{\"field\":\"y\"}},\"id\":\"5568\",\"type\":\"X\"},{\"attributes\":{\"fill_alpha\":{\"value\":0.1},\"fill_color\":{\"value\":\"lightblue\"},\"line_alpha\":{\"value\":0.1},\"line_color\":{\"value\":\"lightblue\"},\"size\":{\"units\":\"screen\",\"value\":10},\"x\":{\"field\":\"x\"},\"y\":{\"field\":\"y\"}},\"id\":\"5567\",\"type\":\"X\"},{\"attributes\":{\"active_drag\":\"auto\",\"active_inspect\":\"auto\",\"active_multi\":null,\"active_scroll\":\"auto\",\"active_tap\":\"auto\",\"tools\":[{\"id\":\"5551\"},{\"id\":\"5552\"},{\"id\":\"5553\"},{\"id\":\"5554\"},{\"id\":\"5555\"},{\"id\":\"5556\"}]},\"id\":\"5558\",\"type\":\"Toolbar\"},{\"attributes\":{\"data_source\":{\"id\":\"5763\"},\"glyph\":{\"id\":\"5764\"},\"hover_glyph\":null,\"muted_glyph\":{\"id\":\"5766\"},\"nonselection_glyph\":{\"id\":\"5765\"},\"selection_glyph\":null,\"view\":{\"id\":\"5768\"}},\"id\":\"5767\",\"type\":\"GlyphRenderer\"},{\"attributes\":{\"data_source\":{\"id\":\"5802\"},\"glyph\":{\"id\":\"5803\"},\"hover_glyph\":null,\"muted_glyph\":{\"id\":\"5805\"},\"nonselection_glyph\":{\"id\":\"5804\"},\"selection_glyph\":null,\"view\":{\"id\":\"5807\"}},\"id\":\"5806\",\"type\":\"GlyphRenderer\"},{\"attributes\":{\"data_source\":{\"id\":\"5594\"},\"glyph\":{\"id\":\"5595\"},\"hover_glyph\":null,\"muted_glyph\":{\"id\":\"5597\"},\"nonselection_glyph\":{\"id\":\"5596\"},\"selection_glyph\":null,\"view\":{\"id\":\"5599\"}},\"id\":\"5598\",\"type\":\"GlyphRenderer\"},{\"attributes\":{\"line_alpha\":0.01,\"line_color\":\"blue\",\"x\":{\"field\":\"x\"},\"y\":{\"field\":\"y\"}},\"id\":\"5889\",\"type\":\"Line\"},{\"attributes\":{\"data_source\":{\"id\":\"5656\"},\"glyph\":{\"id\":\"5657\"},\"hover_glyph\":null,\"muted_glyph\":{\"id\":\"5659\"},\"nonselection_glyph\":{\"id\":\"5658\"},\"selection_glyph\":null,\"view\":{\"id\":\"5661\"}},\"id\":\"5660\",\"type\":\"GlyphRenderer\"},{\"attributes\":{},\"id\":\"5555\",\"type\":\"ResetTool\"},{\"attributes\":{\"source\":{\"id\":\"5886\"}},\"id\":\"5891\",\"type\":\"CDSView\"},{\"attributes\":{},\"id\":\"5801\",\"type\":\"Selection\"},{\"attributes\":{},\"id\":\"5800\",\"type\":\"UnionRenderers\"},{\"attributes\":{\"fill_alpha\":{\"value\":0.01},\"fill_color\":{\"value\":\"red\"},\"line_alpha\":{\"value\":0.01},\"line_color\":{\"value\":\"red\"},\"size\":{\"units\":\"screen\",\"value\":10},\"x\":{\"field\":\"x\"},\"y\":{\"field\":\"y\"}},\"id\":\"5659\",\"type\":\"X\"},{\"attributes\":{},\"id\":\"5930\",\"type\":\"Selection\"},{\"attributes\":{},\"id\":\"5552\",\"type\":\"WheelZoomTool\"},{\"attributes\":{\"source\":{\"id\":\"5690\"}},\"id\":\"5695\",\"type\":\"CDSView\"},{\"attributes\":{\"data\":{\"x\":{\"__ndarray__\":\"AACA+J/9dkIAAEBe8v12QgAAAMRE/nZCAADAKZf+dkIAAICP6f52QgAAQPU7/3ZCAAAAW47/dkIAAMDA4P92QgAAgCYzAHdCAABAjIUAd0IAAADy1wB3QgAAwFcqAXdCAACAvXwBd0IAAEAjzwF3QgAAAIkhAndCAADA7nMCd0IAAIBUxgJ3QgAAQLoYA3dCAAAAIGsDd0IAAMCFvQN3QgAAgOsPBHdCAABAUWIEd0IAAAC3tAR3QgAAwBwHBXdCAACAglkFd0IAAEDoqwV3QgAAAE7+BXdCAADAs1AGd0IAAIAZowZ3QgAAQH/1BndCAAAA5UcHd0IAAMBKmgd3QgAAgLDsB3dCAABAFj8Id0IAAAB8kQh3QgAAwOHjCHdCAACARzYJd0IAAECtiAl3QgAAABPbCXdCAADAeC0Kd0IAAIDefwp3QgAAQETSCndCAAAAqiQLd0IAAMAPdwt3QgAAgHXJC3dCAABA2xsMd0IAAABBbgx3QgAAwKbADHdCAACADBMNd0IAAEByZQ13QgAAANi3DXdCAADAPQoOd0IAAICjXA53QgAAQAmvDndCAAAAbwEPd0IAAMDUUw93QgAAgDqmD3dCAABAoPgPd0IAAAAGSxB3QgAAwGudEHdCAACA0e8Qd0IAAEA3QhF3QgAAAJ2UEXdCAADAAucRd0IAAIBoORJ3QgAAQM6LEndCAAAANN4Sd0IAAMCZMBN3QgAAgP+CE3dCAABAZdUTd0IAAADLJxR3QgAAwDB6FHdCAACAlswUd0IAAED8HhV3QgAAAGJxFXdCAADAx8MVd0IAAIAtFhZ3QgAAQJNoFndCAAAA+boWd0IAAMBeDRd3QgAAgMRfF3dCAABAKrIXd0IAAACQBBh3QgAAwPVWGHdCAACAW6kYd0IAAEDB+xh3QgAAACdOGXdCAADAjKAZd0IAAIDy8hl3QgAAQFhFGndCAAAAvpcad0IAAMAj6hp3QgAAgIk8G3dCAABA744bd0IAAABV4Rt3QgAAwLozHHdCAACAIIYcd0IAAECG2Bx3QgAAAOwqHXdCAADAUX0dd0IAAIC3zx13QgAAQB0iHndCAAAAg3Qed0IAAMDoxh53QgAAgE4ZH3dCAABAtGsfd0IAAAAavh93QgAAwH8QIHdC\",\"dtype\":\"float64\",\"order\":\"little\",\"shape\":[108]},\"y\":{\"__ndarray__\":\"AAAAAAAAAAAAAAAAAAAAAAAAAAAAAAAAAAAAAAAAAAAAAAAAAAAAAAAAAAAAAAAAAAAAAAAAAAAAAAAAAAAAAAAAAAAAAAAAAAAAAAAAAAAAAAAAAAAAABLYySt44Hk/h7FxQvwvmz+Ckrlcoh2wP3sDf6e1SL4/tRvm5w0WyT84PGYUHDbTP28Pt+Kd5ts/9IANJfmA4z9jZLe4xYHqP57VfChkoPE/CXovUqEM9z+DSrj2CL39P8O/Asp1+gJA81G7aQADCECTKywLuykOQPpVldpo1RJABrrAkKJnF0B+rIkz0vccQAVZhrnW3SFAEvK2fyz6JUD1yjEsa/gqQIDWGWk9hDBABWKH6TkyNECgUWxqZKk4QDx9YCNzFD5AS5SGF5hTQkB7ifBQM1BGQJGgATYcJktAkqcsn7yBUECPUAtrHhBUQBSPGoIcYFhAoHeAL9GaXUAvMPK3BvlhQGMZCAEY0WVA53+onS96akBu01dtThBwQNTr+o8FfXNAGfY3/rujd0B3KYI9yKt8QFCV9oViYoFAJ5Ad0iMUhUBvv37n9o2JQH5UukKJ+Y5AIj6RiOXCkkDT74oyn7KWQBIKXSOjZptAiii/dVR9oED4pbWPecWjQJUZV/DjmadA/Iuv5nAIrECiog+hN4+wQMx0kf0rdLNAJWv7YMW4tkDUESJUCGK6QGKLSmczdL5ALi92oVR5wUBFbcz47+/DQNAjfNKqnsZAVpokfMWFyUDqrKdVAaXMQBtWCyCj+89A3CxqzzvE0UBnDxYc7aTTQARWYaDentVAkwsH0dmw10DgRLzBfdnZQJ2mbtJEF9xAiP/SjYpo3kC5THjJyGXgQPutP7lEn+FAo7+GLsrf4kDt5WZCZibkQOhk26MkcuVAauus5hHC5kAyUp2rPRXoQGI994m8aulAHJ2OvqnB6kCjqVCgKBnsQKcbBNtlcO1AFnbucZjG7kAgAcBGgQ3wQPhc2wt5tvBAUDTolOBd8UDATZkoawPyQB7wa1bSpvJAefVL9NVH80CEhIsOPObzQIKB2MnQgfRA+WbYOmYa9UAMmmY01K/1QLzeFw74QfZAO3zyZbTQ9kDyOdPa8Fv3QMs4AMeZ4/dA659J9p9n+EB8g69b+Of4QAxbucabZPlA\",\"dtype\":\"float64\",\"order\":\"little\",\"shape\":[108]}},\"selected\":{\"id\":\"5842\"},\"selection_policy\":{\"id\":\"5841\"}},\"id\":\"5802\",\"type\":\"ColumnDataSource\"},{\"attributes\":{},\"id\":\"5929\",\"type\":\"UnionRenderers\"},{\"attributes\":{\"line_color\":\"darkolivegreen\",\"x\":{\"field\":\"x\"},\"y\":{\"field\":\"y\"}},\"id\":\"5803\",\"type\":\"Line\"},{\"attributes\":{\"line_alpha\":0.1,\"line_color\":\"darkolivegreen\",\"x\":{\"field\":\"x\"},\"y\":{\"field\":\"y\"}},\"id\":\"5804\",\"type\":\"Line\"},{\"attributes\":{},\"id\":\"5554\",\"type\":\"SaveTool\"},{\"attributes\":{\"line_alpha\":0.01,\"line_color\":\"darkolivegreen\",\"x\":{\"field\":\"x\"},\"y\":{\"field\":\"y\"}},\"id\":\"5805\",\"type\":\"Line\"},{\"attributes\":{\"source\":{\"id\":\"5656\"}},\"id\":\"5661\",\"type\":\"CDSView\"},{\"attributes\":{\"source\":{\"id\":\"5802\"}},\"id\":\"5807\",\"type\":\"CDSView\"},{\"attributes\":{\"source\":{\"id\":\"5624\"}},\"id\":\"5629\",\"type\":\"CDSView\"},{\"attributes\":{},\"id\":\"5556\",\"type\":\"HelpTool\"},{\"attributes\":{\"data\":{\"x\":{\"__ndarray__\":\"AACA+J/9dkIAAEBe8v12QgAAAMRE/nZCAADAKZf+dkIAAICP6f52QgAAQPU7/3ZCAAAAW47/dkIAAMDA4P92QgAAgCYzAHdCAABAjIUAd0IAAADy1wB3QgAAwFcqAXdCAACAvXwBd0IAAEAjzwF3QgAAAIkhAndCAADA7nMCd0IAAIBUxgJ3QgAAQLoYA3dCAAAAIGsDd0IAAMCFvQN3QgAAgOsPBHdCAABAUWIEd0IAAAC3tAR3QgAAwBwHBXdCAACAglkFd0IAAEDoqwV3QgAAAE7+BXdCAADAs1AGd0IAAIAZowZ3QgAAQH/1BndCAAAA5UcHd0IAAMBKmgd3QgAAgLDsB3dCAABAFj8Id0IAAAB8kQh3QgAAwOHjCHdCAACARzYJd0IAAECtiAl3QgAAABPbCXdCAADAeC0Kd0IAAIDefwp3QgAAQETSCndCAAAAqiQLd0IAAMAPdwt3QgAAgHXJC3dCAABA2xsMd0IAAABBbgx3QgAAwKbADHdCAACADBMNd0IAAEByZQ13QgAAANi3DXdCAADAPQoOd0IAAICjXA53QgAAQAmvDndCAAAAbwEPd0IAAMDUUw93QgAAgDqmD3dCAABAoPgPd0IAAAAGSxB3QgAAwGudEHdCAACA0e8Qd0IAAEA3QhF3QgAAAJ2UEXdCAADAAucRd0IAAIBoORJ3QgAAQM6LEndCAAAANN4Sd0IAAMCZMBN3QgAAgP+CE3dCAABAZdUTd0IAAADLJxR3QgAAwDB6FHdCAACAlswUd0IAAED8HhV3QgAAAGJxFXdCAADAx8MVd0IAAIAtFhZ3QgAAQJNoFndCAAAA+boWd0IAAMBeDRd3QgAAgMRfF3dCAABAKrIXd0IAAACQBBh3QgAAwPVWGHdCAACAW6kYd0IAAEDB+xh3QgAAACdOGXdCAADAjKAZd0IAAIDy8hl3QgAAQFhFGndCAAAAvpcad0IAAMAj6hp3QgAAgIk8G3dCAABA744bd0IAAABV4Rt3QgAAwLozHHdCAACAIIYcd0IAAECG2Bx3QgAAAOwqHXdCAADAUX0dd0IAAIC3zx13QgAAQB0iHndCAAAAg3Qed0IAAMDoxh53QgAAgE4ZH3dCAABAtGsfd0IAAAAavh93QgAAwH8QIHdC\",\"dtype\":\"float64\",\"order\":\"little\",\"shape\":[108]},\"y\":{\"__ndarray__\":\"AAAAAAAAAAAAAAAAAAAAAAAAAAAAAAAAAAAAAAAAAAAAAAAAAAAAAAAAAAAAAAAAAAAAAAAAAAAAAAAAAAAAAAAAAAAAAAAAAAAAAAAAAAAAAAAAAAAAACjt22h75GE/hApwHSvXgj+YNt82+mGWP0RBbYZXEqU/arhC+bB8sT9L4bpYaNS6Pw5BAdp7g8M/rlrNHmhSyz/Mz2LdaJfSP+/HelnAwdg/rIhN8Is04D+1c36QGu7kP2B+ptBcveo/24Snui3u8D/comNhwUj1PyZH7Aoimfo/TvYTrJGJAECgIB+I0XoEQByqDcdwRglAY/Co5KwaD0AIDhYCzRcTQFUcj/+cZBdAfCfejAKdHEBGp/sYf3khQOWXhr6YUSVAjGh2YZD7KUD6F8mL96MvQPyZ0MJrQDNAxHotqdlpN0A45+0P+3U8QAhcLoF5SkFArDBYMY0ARUDQldZglIBJQEtaBpNo9U5AmbaWxHrJUkCeD2sUEcxWQHe15Y6PqFtADRqb74vGYEDSUipqwVhkQHBdRQGzrGhA8NVBIEHrbUCZbpm86yJyQKBOJnrT+3VABCcGaLyhekCSFNDMVxyAQB+GNflwc4NAIZyW2hBqh0A/1AUElhSMQBXBgQa8w5BAqxxSo3Hrk0A+LmAUKYuXQDGIMA0UrJtATZuJRVQroEAnja9SOsmiQHekRdz7sqVA2fXs+0DrqECk9YeRDXSsQEwWYDJcJ7BANlPbCvM9skDdwwfww320QOs6Xedu5rZAEvhaHT53uUDLOc8SKi+8QLHkHgDfDL9AarfFm2EHwUCCd1Elf5nCQJunZV3AO8RAQUYb/wXtxUCuuuhRHazHQHReoDrEd8lArC7MMq1Oy0B+k2IRgy/NQLirBLPsGM9ACJbRIsiE0ECr3oExC4DRQFAi/WuWfdJA+vSljsR800BQxdhA9XzUQHZjlgKOfdVALte58/p91kDmKId2r33XQFRWBLAmfNhAGZ+M5+N42UCSzZnJcnPaQPaHmo5na9tAdO3QCF9g3EBLV66e/lHdQFqQpDD0P95At45J7/Up30DEzMMR4QfgQPEYa3WPeOBAsbK59ezm4EA1Ld7+41LhQGDU+WlivOFAgVGeTVkj4kBzJ1PNvIfiQH0WX+iD6eJA\",\"dtype\":\"float64\",\"order\":\"little\",\"shape\":[108]}},\"selected\":{\"id\":\"5885\"},\"selection_policy\":{\"id\":\"5884\"}},\"id\":\"5843\",\"type\":\"ColumnDataSource\"},{\"attributes\":{\"overlay\":{\"id\":\"5557\"}},\"id\":\"5553\",\"type\":\"BoxZoomTool\"},{\"attributes\":{\"fill_alpha\":{\"value\":0.1},\"fill_color\":{\"value\":\"red\"},\"line_alpha\":{\"value\":0.1},\"line_color\":{\"value\":\"red\"},\"size\":{\"units\":\"screen\",\"value\":10},\"x\":{\"field\":\"x\"},\"y\":{\"field\":\"y\"}},\"id\":\"5658\",\"type\":\"X\"},{\"attributes\":{},\"id\":\"5653\",\"type\":\"UnionRenderers\"},{\"attributes\":{\"label\":{\"value\":\"RH\"},\"renderers\":[{\"id\":\"5628\"},{\"id\":\"5806\"}]},\"id\":\"5655\",\"type\":\"LegendItem\"},{\"attributes\":{},\"id\":\"5591\",\"type\":\"Selection\"},{\"attributes\":{},\"id\":\"5842\",\"type\":\"Selection\"},{\"attributes\":{\"days\":[1,4,7,10,13,16,19,22,25,28]},\"id\":\"5582\",\"type\":\"DaysTicker\"},{\"attributes\":{\"fill_alpha\":{\"value\":0.01},\"fill_color\":{\"value\":\"blue\"},\"line_alpha\":{\"value\":0.01},\"line_color\":{\"value\":\"blue\"},\"size\":{\"units\":\"screen\",\"value\":10},\"x\":{\"field\":\"x\"},\"y\":{\"field\":\"y\"}},\"id\":\"5693\",\"type\":\"X\"},{\"attributes\":{},\"id\":\"5841\",\"type\":\"UnionRenderers\"},{\"attributes\":{},\"id\":\"5688\",\"type\":\"Selection\"},{\"attributes\":{},\"id\":\"5574\",\"type\":\"BasicTickFormatter\"},{\"attributes\":{\"fill_alpha\":{\"value\":0.01},\"fill_color\":{\"value\":\"darkolivegreen\"},\"line_alpha\":{\"value\":0.01},\"line_color\":{\"value\":\"darkolivegreen\"},\"size\":{\"units\":\"screen\",\"value\":10},\"x\":{\"field\":\"x\"},\"y\":{\"field\":\"y\"}},\"id\":\"5627\",\"type\":\"X\"},{\"attributes\":{\"base\":60,\"mantissas\":[1,2,5,10,15,20,30],\"max_interval\":1800000.0,\"min_interval\":1000.0,\"num_minor_ticks\":0},\"id\":\"5579\",\"type\":\"AdaptiveTicker\"},{\"attributes\":{\"data_source\":{\"id\":\"5843\"},\"glyph\":{\"id\":\"5844\"},\"hover_glyph\":null,\"muted_glyph\":{\"id\":\"5846\"},\"nonselection_glyph\":{\"id\":\"5845\"},\"selection_glyph\":null,\"view\":{\"id\":\"5848\"}},\"id\":\"5847\",\"type\":\"GlyphRenderer\"},{\"attributes\":{\"base\":24,\"mantissas\":[1,2,4,6,8,12],\"max_interval\":43200000.0,\"min_interval\":3600000.0,\"num_minor_ticks\":0},\"id\":\"5580\",\"type\":\"AdaptiveTicker\"},{\"attributes\":{\"text\":\"\"},\"id\":\"5571\",\"type\":\"Title\"},{\"attributes\":{\"fill_alpha\":{\"value\":0.1},\"fill_color\":{\"value\":\"blue\"},\"line_alpha\":{\"value\":0.1},\"line_color\":{\"value\":\"blue\"},\"size\":{\"units\":\"screen\",\"value\":10},\"x\":{\"field\":\"x\"},\"y\":{\"field\":\"y\"}},\"id\":\"5692\",\"type\":\"X\"},{\"attributes\":{\"fill_color\":{\"value\":\"blue\"},\"line_color\":{\"value\":\"blue\"},\"size\":{\"units\":\"screen\",\"value\":10},\"x\":{\"field\":\"x\"},\"y\":{\"field\":\"y\"}},\"id\":\"5691\",\"type\":\"X\"},{\"attributes\":{\"line_color\":\"red\",\"x\":{\"field\":\"x\"},\"y\":{\"field\":\"y\"}},\"id\":\"5844\",\"type\":\"Line\"},{\"attributes\":{\"data_source\":{\"id\":\"5690\"},\"glyph\":{\"id\":\"5691\"},\"hover_glyph\":null,\"muted_glyph\":{\"id\":\"5693\"},\"nonselection_glyph\":{\"id\":\"5692\"},\"selection_glyph\":null,\"view\":{\"id\":\"5695\"}},\"id\":\"5694\",\"type\":\"GlyphRenderer\"},{\"attributes\":{\"line_alpha\":0.1,\"line_color\":\"red\",\"x\":{\"field\":\"x\"},\"y\":{\"field\":\"y\"}},\"id\":\"5845\",\"type\":\"Line\"},{\"attributes\":{\"line_alpha\":0.01,\"line_color\":\"red\",\"x\":{\"field\":\"x\"},\"y\":{\"field\":\"y\"}},\"id\":\"5846\",\"type\":\"Line\"},{\"attributes\":{\"source\":{\"id\":\"5843\"}},\"id\":\"5848\",\"type\":\"CDSView\"},{\"attributes\":{\"data\":{\"x\":{\"__ndarray__\":\"AACA+J/9dkIAAEBe8v12QgAAAMRE/nZCAADAKZf+dkIAAICP6f52QgAAQPU7/3ZCAAAAW47/dkIAAMDA4P92QgAAgCYzAHdCAABAjIUAd0IAAADy1wB3QgAAwFcqAXdCAACAvXwBd0IAAEAjzwF3QgAAAIkhAndCAADA7nMCd0IAAIBUxgJ3QgAAQLoYA3dCAAAAIGsDd0IAAMCFvQN3QgAAgOsPBHdCAABAUWIEd0IAAAC3tAR3QgAAwBwHBXdCAACAglkFd0IAAEDoqwV3QgAAAE7+BXdCAADAs1AGd0IAAIAZowZ3QgAAQH/1BndCAAAA5UcHd0IAAMBKmgd3QgAAgLDsB3dCAABAFj8Id0IAAAB8kQh3QgAAwOHjCHdCAACARzYJd0IAAECtiAl3QgAAABPbCXdCAADAeC0Kd0IAAIDefwp3QgAAQETSCndCAAAAqiQLd0IAAMAPdwt3QgAAgHXJC3dCAABA2xsMd0IAAABBbgx3QgAAwKbADHdCAACADBMNd0IAAEByZQ13QgAAANi3DXdCAADAPQoOd0IAAICjXA53QgAAQAmvDndCAAAAbwEPd0IAAMDUUw93QgAAgDqmD3dCAABAoPgPd0IAAAAGSxB3QgAAwGudEHdCAACA0e8Qd0IAAEA3QhF3QgAAAJ2UEXdCAADAAucRd0IAAIBoORJ3QgAAQM6LEndCAAAANN4Sd0IAAMCZMBN3QgAAgP+CE3dCAABAZdUTd0IAAADLJxR3QgAAwDB6FHdCAACAlswUd0IAAED8HhV3QgAAAGJxFXdCAADAx8MVd0IAAIAtFhZ3QgAAQJNoFndCAAAA+boWd0IAAMBeDRd3QgAAgMRfF3dCAABAKrIXd0IAAACQBBh3QgAAwPVWGHdCAACAW6kYd0IAAEDB+xh3QgAAACdOGXdCAADAjKAZd0IAAIDy8hl3QgAAQFhFGndCAAAAvpcad0IAAMAj6hp3QgAAgIk8G3dCAABA744bd0IAAABV4Rt3QgAAwLozHHdCAACAIIYcd0IAAECG2Bx3QgAAAOwqHXdCAADAUX0dd0IAAIC3zx13QgAAQB0iHndCAAAAg3Qed0IAAMDoxh53QgAAgE4ZH3dCAABAtGsfd0IAAAAavh93QgAAwH8QIHdC\",\"dtype\":\"float64\",\"order\":\"little\",\"shape\":[108]},\"y\":{\"__ndarray__\":\"AAAAAAAAAAAAAAAAAAAAAAAAAAAAAAAAAAAAAAAAAAAAAAAAAAAAAAAAAAAAAAAAAAAAAAAAAAAAAAAAAAAAAAAAAAAAAAAAAAAAAAAAAAAAAAAAAAAAAOLlE//LXNE/vjRifg1x2z8CJwShK9DhP0y54yx0COY/RV7mBX/g6j9I0v8zPVPwP6rkos6gzvM/psjUfc8F+D8CNEvY0CH9P515ssDZqQFA6hp8UFlrBUCnrvF1RPkJQA9XX/wTfw9A+6b+a74YE0ACGnvMMygXQF6J9ROpFBxAz7u6r4wGIUDJaZzpPaUkQIMkMDzxCClAoE6RI4ZbLkDiRwaq4GcyQMOqOPiXUTZA0DvShzgQO0DQ/nfCfmhAQEIwxKld5UNA9syr4vMfSECKt5DRh0BNQJVeRDv0u1FAYUZUH52AVUCxqr/zERJaQAzAbgS4m19ARYSLSQ4pY0Cm40prbzpnQFR5bgR/KGxA0E3vzecQcUCqCepTWK90QL042n2WEXlANiZfRbZgfkAO7+KlImeCQB9GCq78SoZAU0RcMdb/ikBtTNrLa1iQQMM1GEf5t5NApbm2ftCLl0DKOkLwwcebQC/1zhKaMKBAJn6R8BymokCjPoHhXD2lQPa7mqI27qdAspTiGp+vqkAsE8Y76HetQLBsGN2HHrBAhDYJEIh6sUBq9od3F8uyQMT7tN6hC7RAEmN8oPo3tUD5SOcvdUy2QIjNPxX3RbdA9XH5VgMiuEBSGrVmv964QMvY0oTyerlA8gR07//1uUDW1AwZ3U+6QFR6iqAEibpAV9pPHmeiukDsxyGDWp26QLZ+TvOIe7pAJzeQl98+ukD9GD8jfum5QBgmOUKnfblAl0NIY7L9uEAppcAV/2u4QFZuur3pyrdAqHJ5YsIct0AdmmqixGO2QPWr1Y0RorVAkCLsrqrZtECrqj6Ybgy0QJFw+nIWPLNAkflItTRqskCQT32kNJixQCf0kp1ax7BALSow9Inxr0CyyMjN2lquQDK1WGVVzKxA3/2vpGVHq0BwARLwOc2pQCsEHj3IXqhARAu9gdL8pkCWDEio66elQF2z8T58YKRArGDr+cYmo0AbImE17fqhQPC+pfvy3KBAg8Q65oWZn0BB8Vb2Y5SdQGqzaQYFqptA\",\"dtype\":\"float64\",\"order\":\"little\",\"shape\":[108]}},\"selected\":{\"id\":\"5930\"},\"selection_policy\":{\"id\":\"5929\"}},\"id\":\"5886\",\"type\":\"ColumnDataSource\"},{\"attributes\":{\"fill_alpha\":{\"value\":0.1},\"fill_color\":{\"value\":\"darkolivegreen\"},\"line_alpha\":{\"value\":0.1},\"line_color\":{\"value\":\"darkolivegreen\"},\"size\":{\"units\":\"screen\",\"value\":10},\"x\":{\"field\":\"x\"},\"y\":{\"field\":\"y\"}},\"id\":\"5626\",\"type\":\"X\"},{\"attributes\":{\"data\":{\"x\":{\"__ndarray__\":\"AABACa8Od0IAAABvAQ93QgAAwNRTD3dCAACAOqYPd0IAAECg+A93QgAAAAZLEHdCAADAa50Qd0IAAIDR7xB3QgAAQDdCEXdCAAAAnZQRd0IAAMAC5xF3QgAAgGg5EndCAABAzosSd0IAAAA03hJ3Qg==\",\"dtype\":\"float64\",\"order\":\"little\",\"shape\":[14]},\"y\":[1404,1861,1617,1847,1559,3838,2446,2928,3925,3809,4611,2599,4376,7578]},\"selected\":{\"id\":\"5724\"},\"selection_policy\":{\"id\":\"5723\"}},\"id\":\"5690\",\"type\":\"ColumnDataSource\"},{\"attributes\":{\"days\":[1,8,15,22]},\"id\":\"5583\",\"type\":\"DaysTicker\"},{\"attributes\":{\"data_source\":{\"id\":\"5624\"},\"glyph\":{\"id\":\"5625\"},\"hover_glyph\":null,\"muted_glyph\":{\"id\":\"5627\"},\"nonselection_glyph\":{\"id\":\"5626\"},\"selection_glyph\":null,\"view\":{\"id\":\"5629\"}},\"id\":\"5628\",\"type\":\"GlyphRenderer\"},{\"attributes\":{\"mantissas\":[1,2,5],\"max_interval\":500.0,\"num_minor_ticks\":0},\"id\":\"5578\",\"type\":\"AdaptiveTicker\"},{\"attributes\":{\"days\":[1,2,3,4,5,6,7,8,9,10,11,12,13,14,15,16,17,18,19,20,21,22,23,24,25,26,27,28,29,30,31]},\"id\":\"5581\",\"type\":\"DaysTicker\"},{\"attributes\":{},\"id\":\"5885\",\"type\":\"Selection\"},{\"attributes\":{},\"id\":\"5884\",\"type\":\"UnionRenderers\"},{\"attributes\":{\"label\":{\"value\":\"D\"},\"renderers\":[{\"id\":\"5660\"},{\"id\":\"5847\"}]},\"id\":\"5689\",\"type\":\"LegendItem\"},{\"attributes\":{},\"id\":\"5576\",\"type\":\"DatetimeTickFormatter\"},{\"attributes\":{\"source\":{\"id\":\"5565\"}},\"id\":\"5570\",\"type\":\"CDSView\"},{\"attributes\":{},\"id\":\"5654\",\"type\":\"Selection\"},{\"attributes\":{},\"id\":\"5687\",\"type\":\"UnionRenderers\"},{\"attributes\":{\"data_source\":{\"id\":\"5886\"},\"glyph\":{\"id\":\"5887\"},\"hover_glyph\":null,\"muted_glyph\":{\"id\":\"5889\"},\"nonselection_glyph\":{\"id\":\"5888\"},\"selection_glyph\":null,\"view\":{\"id\":\"5891\"}},\"id\":\"5890\",\"type\":\"GlyphRenderer\"},{\"attributes\":{\"data\":{\"x\":{\"__ndarray__\":\"AABACa8Od0IAAABvAQ93QgAAwNRTD3dCAACAOqYPd0IAAECg+A93QgAAAAZLEHdCAADAa50Qd0IAAIDR7xB3QgAAQDdCEXdCAAAAnZQRd0IAAMAC5xF3QgAAgGg5EndCAABAzosSd0IAAAA03hJ3Qg==\",\"dtype\":\"float64\",\"order\":\"little\",\"shape\":[14]},\"y\":{\"__ndarray__\":\"AAAAAABAa0AAAAAAAHB0QAAAAAAAIHxAAAAAAABogEAAAAAAAMCDQAAAAAAA4IpAAAAAAAAwkUAAAAAAALCVQAAAAAAAgJpAAAAAAAAsn0AAAAAAABSiQAAAAAAAXKRAAAAAAACgp0AAAAAAAIarQA==\",\"dtype\":\"float64\",\"order\":\"little\",\"shape\":[14]}},\"selected\":{\"id\":\"5688\"},\"selection_policy\":{\"id\":\"5687\"}},\"id\":\"5656\",\"type\":\"ColumnDataSource\"},{\"attributes\":{\"data\":{\"x\":{\"__ndarray__\":\"AABACa8Od0IAAABvAQ93QgAAwNRTD3dCAACAOqYPd0IAAECg+A93QgAAAAZLEHdCAADAa50Qd0IAAIDR7xB3QgAAQDdCEXdCAAAAnZQRd0IAAMAC5xF3QgAAgGg5EndCAABAzosSd0IAAAA03hJ3Qg==\",\"dtype\":\"float64\",\"order\":\"little\",\"shape\":[14]},\"y\":{\"__ndarray__\":\"AAAAAACAiUAAAAAAAHCSQAAAAAAAzJhAAAAAAABMnEAAAAAAAIqgQAAAAAAADqRAAAAAAACiqUAAAAAAAOqvQAAAAAAAU7NAAAAAAABCtkAAAAAAAOC5QAAAAAAA27tAAAAAAADzvkAAAAAAgHHCQA==\",\"dtype\":\"float64\",\"order\":\"little\",\"shape\":[14]}},\"selected\":{\"id\":\"5654\"},\"selection_policy\":{\"id\":\"5653\"}},\"id\":\"5624\",\"type\":\"ColumnDataSource\"},{\"attributes\":{\"data_source\":{\"id\":\"5565\"},\"glyph\":{\"id\":\"5566\"},\"hover_glyph\":null,\"muted_glyph\":{\"id\":\"5568\"},\"nonselection_glyph\":{\"id\":\"5567\"},\"selection_glyph\":null,\"view\":{\"id\":\"5570\"}},\"id\":\"5569\",\"type\":\"GlyphRenderer\"}],\"root_ids\":[\"5534\"]},\"title\":\"Bokeh Application\",\"version\":\"2.2.3\"}};\n",
       "  var render_items = [{\"docid\":\"30a70c17-1e84-4428-89f8-e38fb339407a\",\"root_ids\":[\"5534\"],\"roots\":{\"5534\":\"63470171-ec48-49cd-8cbd-1633bd3bd092\"}}];\n",
       "  root.Bokeh.embed.embed_items_notebook(docs_json, render_items);\n",
       "\n",
       "  }\n",
       "  if (root.Bokeh !== undefined) {\n",
       "    embed_document(root);\n",
       "  } else {\n",
       "    var attempts = 0;\n",
       "    var timer = setInterval(function(root) {\n",
       "      if (root.Bokeh !== undefined) {\n",
       "        clearInterval(timer);\n",
       "        embed_document(root);\n",
       "      } else {\n",
       "        attempts++;\n",
       "        if (attempts > 100) {\n",
       "          clearInterval(timer);\n",
       "          console.log(\"Bokeh: ERROR: Unable to run BokehJS code because BokehJS library is missing\");\n",
       "        }\n",
       "      }\n",
       "    }, 10, root)\n",
       "  }\n",
       "})(window);"
      ],
      "application/vnd.bokehjs_exec.v0+json": ""
     },
     "metadata": {
      "application/vnd.bokehjs_exec.v0+json": {
       "id": "5534"
      }
     },
     "output_type": "display_data"
    }
   ],
   "source": [
    "plot_data(data_to_fit, pred_dict)"
   ]
  },
  {
   "cell_type": "markdown",
   "metadata": {},
   "source": [
    "En comparant avec toutes les données :"
   ]
  },
  {
   "cell_type": "code",
   "execution_count": 49,
   "metadata": {},
   "outputs": [
    {
     "data": {
      "text/html": [
       "\n",
       "\n",
       "\n",
       "\n",
       "\n",
       "\n",
       "  <div class=\"bk-root\" id=\"c2febd8b-aa14-475b-86bf-590a349bdcac\" data-root-id=\"6423\"></div>\n"
      ]
     },
     "metadata": {},
     "output_type": "display_data"
    },
    {
     "data": {
      "application/javascript": [
       "(function(root) {\n",
       "  function embed_document(root) {\n",
       "    \n",
       "  var docs_json = {\"34b9291f-5539-4d2c-a1af-4e8544a09062\":{\"roots\":{\"references\":[{\"attributes\":{\"below\":[{\"id\":\"6432\"}],\"center\":[{\"id\":\"6435\"},{\"id\":\"6439\"},{\"id\":\"6481\"}],\"left\":[{\"id\":\"6436\"}],\"plot_height\":450,\"plot_width\":900,\"renderers\":[{\"id\":\"6458\"},{\"id\":\"6487\"},{\"id\":\"6517\"},{\"id\":\"6549\"},{\"id\":\"6583\"},{\"id\":\"6619\"},{\"id\":\"6656\"},{\"id\":\"6695\"},{\"id\":\"6736\"},{\"id\":\"6779\"}],\"title\":{\"id\":\"6460\"},\"toolbar\":{\"id\":\"6447\"},\"x_range\":{\"id\":\"6424\"},\"x_scale\":{\"id\":\"6428\"},\"y_range\":{\"id\":\"6426\"},\"y_scale\":{\"id\":\"6430\"}},\"id\":\"6423\",\"subtype\":\"Figure\",\"type\":\"Plot\"},{\"attributes\":{\"months\":[0,6]},\"id\":\"6477\",\"type\":\"MonthsTicker\"},{\"attributes\":{\"line_color\":\"blue\",\"x\":{\"field\":\"x\"},\"y\":{\"field\":\"y\"}},\"id\":\"6776\",\"type\":\"Line\"},{\"attributes\":{},\"id\":\"6478\",\"type\":\"YearsTicker\"},{\"attributes\":{\"line_alpha\":0.1,\"line_color\":\"blue\",\"x\":{\"field\":\"x\"},\"y\":{\"field\":\"y\"}},\"id\":\"6777\",\"type\":\"Line\"},{\"attributes\":{\"line_color\":\"pink\",\"x\":{\"field\":\"x\"},\"y\":{\"field\":\"y\"}},\"id\":\"6653\",\"type\":\"Line\"},{\"attributes\":{\"line_alpha\":0.01,\"line_color\":\"blue\",\"x\":{\"field\":\"x\"},\"y\":{\"field\":\"y\"}},\"id\":\"6778\",\"type\":\"Line\"},{\"attributes\":{\"line_alpha\":0.1,\"line_color\":\"pink\",\"x\":{\"field\":\"x\"},\"y\":{\"field\":\"y\"}},\"id\":\"6654\",\"type\":\"Line\"},{\"attributes\":{\"source\":{\"id\":\"6775\"}},\"id\":\"6780\",\"type\":\"CDSView\"},{\"attributes\":{\"line_alpha\":0.01,\"line_color\":\"pink\",\"x\":{\"field\":\"x\"},\"y\":{\"field\":\"y\"}},\"id\":\"6655\",\"type\":\"Line\"},{\"attributes\":{\"line_color\":\"red\",\"x\":{\"field\":\"x\"},\"y\":{\"field\":\"y\"}},\"id\":\"6733\",\"type\":\"Line\"},{\"attributes\":{\"source\":{\"id\":\"6545\"}},\"id\":\"6550\",\"type\":\"CDSView\"},{\"attributes\":{\"source\":{\"id\":\"6652\"}},\"id\":\"6657\",\"type\":\"CDSView\"},{\"attributes\":{\"data_source\":{\"id\":\"6545\"},\"glyph\":{\"id\":\"6546\"},\"hover_glyph\":null,\"muted_glyph\":{\"id\":\"6548\"},\"nonselection_glyph\":{\"id\":\"6547\"},\"selection_glyph\":null,\"view\":{\"id\":\"6550\"}},\"id\":\"6549\",\"type\":\"GlyphRenderer\"},{\"attributes\":{},\"id\":\"6479\",\"type\":\"UnionRenderers\"},{\"attributes\":{\"fill_alpha\":{\"value\":0.1},\"fill_color\":{\"value\":\"blue\"},\"line_alpha\":{\"value\":0.1},\"line_color\":{\"value\":\"blue\"},\"size\":{\"units\":\"screen\",\"value\":10},\"x\":{\"field\":\"x\"},\"y\":{\"field\":\"y\"}},\"id\":\"6581\",\"type\":\"X\"},{\"attributes\":{\"line_color\":\"darkolivegreen\",\"x\":{\"field\":\"x\"},\"y\":{\"field\":\"y\"}},\"id\":\"6692\",\"type\":\"Line\"},{\"attributes\":{},\"id\":\"6480\",\"type\":\"Selection\"},{\"attributes\":{\"fill_alpha\":{\"value\":0.1},\"fill_color\":{\"value\":\"red\"},\"line_alpha\":{\"value\":0.1},\"line_color\":{\"value\":\"red\"},\"size\":{\"units\":\"screen\",\"value\":10},\"x\":{\"field\":\"x\"},\"y\":{\"field\":\"y\"}},\"id\":\"6547\",\"type\":\"X\"},{\"attributes\":{\"data\":{\"x\":{\"__ndarray__\":\"AADAs1AGd0IAAIAZowZ3QgAAQH/1BndCAAAA5UcHd0IAAMBKmgd3QgAAgLDsB3dCAABAFj8Id0IAAAB8kQh3QgAAwOHjCHdCAACARzYJd0IAAECtiAl3QgAAABPbCXdCAADAeC0Kd0IAAIDefwp3QgAAQETSCndCAAAAqiQLd0IAAMAPdwt3QgAAgHXJC3dCAABA2xsMd0IAAABBbgx3QgAAwKbADHdCAACADBMNd0IAAEByZQ13QgAAANi3DXdCAADAPQoOd0IAAICjXA53QgAAQAmvDndCAAAAbwEPd0IAAMDUUw93QgAAgDqmD3dCAABAoPgPd0IAAAAGSxB3QgAAwGudEHdCAACA0e8Qd0IAAEA3QhF3QgAAAJ2UEXdCAADAAucRd0IAAIBoORJ3QgAAQM6LEndCAAAANN4Sd0IAAMCZMBN3QgAAgP+CE3dCAABAZdUTd0IAAADLJxR3QgAAwDB6FHdCAACAlswUd0IAAED8HhV3QgAAAGJxFXdCAADAx8MVd0IAAIAtFhZ3QgAAQJNoFndCAAAA+boWd0IAAMBeDRd3QgAAgMRfF3dCAABAKrIXd0IAAACQBBh3QgAAwPVWGHdCAACAW6kYd0IAAEDB+xh3QgAAACdOGXdCAADAjKAZd0IAAIDy8hl3QgAAQFhFGndCAAAAvpcad0IAAMAj6hp3QgAAgIk8G3dCAABA744bd0IAAABV4Rt3QgAAwLozHHdCAACAIIYcd0IAAECG2Bx3QgAAAOwqHXdCAADAUX0dd0IAAIC3zx13QgAAQB0iHndCAAAAg3Qed0IAAMDoxh53QgAAgE4ZH3dCAABAtGsfd0IAAAAavh93QgAAwH8QIHdC\",\"dtype\":\"float64\",\"order\":\"little\",\"shape\":[81]},\"y\":{\"__ndarray__\":\"AAAAAAAA+H8AAAAAAAD4fwAAAAAAAPh/AAAAAAAA+H8AAAAAAAD4fwAAAAAAAPh/AAAAAAAA+H8AAAAAAAD4fwAAAAAAAPh/AAAAAAAA+H8AAAAAAAD4fwAAAAAAAPh/AAAAAAAA+H8AAAAAAAD4fwAAAAAAAPh/AAAAAAAA+H8AAAAAAAD4fwAAAAAAAPh/AAAAAAAA+H8AAAAAAAD4fwAAAAAAAPh/AAAAAAAA+H8AAAAAAAD4fwAAAAAAAPh/AAAAAAAA+H8AAAAAAAD4fwAAAAAAQGtAAAAAAABwdEAAAAAAACB8QAAAAAAAaIBAAAAAAADAg0AAAAAAAOCKQAAAAAAAMJFAAAAAAACwlUAAAAAAAICaQAAAAAAALJ9AAAAAAAAUokAAAAAAAFykQAAAAAAAoKdAAAAAAACGq0AAAAAAAICvQAAAAAAAl7FAAAAAAADjs0AAAAAAAJy1QAAAAAAAAbdAAAAAAABeuUAAAAAAALO7QAAAAAAA0L1AAAAAAABsv0AAAAAAAMvAQAAAAACAd8FAAAAAAIASwkAAAAAAALrCQAAAAACAyMNAAAAAAIDJxEAAAAAAgJbFQAAAAAAAZ8ZAAAAAAAAdx0AAAAAAgI7HQAAAAACAbMhAAAAAAAAuyUAAAAAAgNTJQAAAAAAAcMpAAAAAAIAIy0AAAAAAgGvLQAAAAACAt8tAAAAAAABLzEAAAAAAAKrMQAAAAACAYM1AAAAAAIC/zUAAAAAAAPvNQAAAAAAANs5AAAAAAABmzkAAAAAAgN/OQAAAAACAVM9AAAAAAACtz0AAAAAAgPfPQAAAAACAF9BAAAAAAIAq0EAAAAAAwDvQQAAAAABAaNBA\",\"dtype\":\"float64\",\"order\":\"little\",\"shape\":[81]}},\"selected\":{\"id\":\"6577\"},\"selection_policy\":{\"id\":\"6576\"}},\"id\":\"6545\",\"type\":\"ColumnDataSource\"},{\"attributes\":{\"fill_alpha\":{\"value\":0.01},\"fill_color\":{\"value\":\"red\"},\"line_alpha\":{\"value\":0.01},\"line_color\":{\"value\":\"red\"},\"size\":{\"units\":\"screen\",\"value\":10},\"x\":{\"field\":\"x\"},\"y\":{\"field\":\"y\"}},\"id\":\"6548\",\"type\":\"X\"},{\"attributes\":{},\"id\":\"6819\",\"type\":\"Selection\"},{\"attributes\":{\"source\":{\"id\":\"6579\"}},\"id\":\"6584\",\"type\":\"CDSView\"},{\"attributes\":{\"label\":{\"value\":\"D\"},\"renderers\":[{\"id\":\"6549\"},{\"id\":\"6736\"}]},\"id\":\"6578\",\"type\":\"LegendItem\"},{\"attributes\":{\"source\":{\"id\":\"6454\"}},\"id\":\"6459\",\"type\":\"CDSView\"},{\"attributes\":{},\"id\":\"6818\",\"type\":\"UnionRenderers\"},{\"attributes\":{\"data_source\":{\"id\":\"6454\"},\"glyph\":{\"id\":\"6455\"},\"hover_glyph\":null,\"muted_glyph\":{\"id\":\"6457\"},\"nonselection_glyph\":{\"id\":\"6456\"},\"selection_glyph\":null,\"view\":{\"id\":\"6459\"}},\"id\":\"6458\",\"type\":\"GlyphRenderer\"},{\"attributes\":{},\"id\":\"6690\",\"type\":\"Selection\"},{\"attributes\":{\"data\":{\"x\":{\"__ndarray__\":\"AACA+J/9dkIAAEBe8v12QgAAAMRE/nZCAADAKZf+dkIAAICP6f52QgAAQPU7/3ZCAAAAW47/dkIAAMDA4P92QgAAgCYzAHdCAABAjIUAd0IAAADy1wB3QgAAwFcqAXdCAACAvXwBd0IAAEAjzwF3QgAAAIkhAndCAADA7nMCd0IAAIBUxgJ3QgAAQLoYA3dCAAAAIGsDd0IAAMCFvQN3QgAAgOsPBHdCAABAUWIEd0IAAAC3tAR3QgAAwBwHBXdCAACAglkFd0IAAEDoqwV3QgAAAE7+BXdCAADAs1AGd0IAAIAZowZ3QgAAQH/1BndCAAAA5UcHd0IAAMBKmgd3QgAAgLDsB3dCAABAFj8Id0IAAAB8kQh3QgAAwOHjCHdCAACARzYJd0IAAECtiAl3QgAAABPbCXdCAADAeC0Kd0IAAIDefwp3QgAAQETSCndCAAAAqiQLd0IAAMAPdwt3QgAAgHXJC3dCAABA2xsMd0IAAABBbgx3QgAAwKbADHdCAACADBMNd0IAAEByZQ13QgAAANi3DXdCAADAPQoOd0IAAICjXA53QgAAQAmvDndCAAAAbwEPd0IAAMDUUw93QgAAgDqmD3dCAABAoPgPd0IAAAAGSxB3QgAAwGudEHdCAACA0e8Qd0IAAEA3QhF3QgAAAJ2UEXdCAADAAucRd0IAAIBoORJ3QgAAQM6LEndCAAAANN4Sd0IAAMCZMBN3QgAAgP+CE3dCAABAZdUTd0IAAADLJxR3QgAAwDB6FHdCAACAlswUd0IAAED8HhV3QgAAAGJxFXdCAADAx8MVd0IAAIAtFhZ3QgAAQJNoFndCAAAA+boWd0IAAMBeDRd3QgAAgMRfF3dCAABAKrIXd0IAAACQBBh3QgAAwPVWGHdCAACAW6kYd0IAAEDB+xh3QgAAACdOGXdCAADAjKAZd0IAAIDy8hl3QgAAQFhFGndCAAAAvpcad0IAAMAj6hp3QgAAgIk8G3dCAABA744bd0IAAABV4Rt3QgAAwLozHHdCAACAIIYcd0IAAECG2Bx3QgAAAOwqHXdCAADAUX0dd0IAAIC3zx13QgAAQB0iHndCAAAAg3Qed0IAAMDoxh53QgAAgE4ZH3dCAABAtGsfd0IAAAAavh93QgAAwH8QIHdC\",\"dtype\":\"float64\",\"order\":\"little\",\"shape\":[108]},\"y\":{\"__ndarray__\":\"AAAAAAAAAAAAAAAAAAAAAAAAAAAAAAAAAAAAAAAAAAAAAAAAAAAAAAAAAAAAAAAAAAAAAAAAAAAAAAAAAAAAAAAAAAAAAAAAAAAAAAAAAAAAAAAAAAAAANG3Fm+h6dA/XdA9OWIs4j/sg5HvCnTtP4wWZzKDVPU/CBYGoe8d/T/IF/CkJC0DQCLate/krQhAWFQLPfhCD0BgAdVBTJQTQJ3C3QLbUxhAZaU1WVYMHkA1020wo3kiQApJoX3FpCZA7oJt1uKuK0BLTIqv0eMwQL4LXV9mlDRA0+ESWzQMOUCdjQFRsHU+QLwkX6wpgkJA6yJZukJ7RkB0MrwT+EtLQImX28YTkVBA2BvnZrYaVEA0wTFEmWRYQF0ZsOWZl11Ag5TCPaHyYUAbRFEh0MRlQCIOmry+ZmpAznisxUQCcEBBFpLK0mlzQAfdFtJsindA5UdGKVCLfEBH/YloAk6BQCpgM04N+4RAfFZ+EqFviUBHCB3J6dWOQKlooC52sJJARINu5iynlkAiiNaJX3SbQEOmCpqIoqBALTOMJcgnpEAl4yvFp2qoQFcQ6FOei61A8Jwb2/fOsUAUXxbFYFi1QM0QtvmnZ7lAwr3k3xwAvkDhrLL1PJHBQNpboO5aZsRA/r/Mefd8x0DNaAlrONHKQEO65EHqXc5A6H9YBk4O0UBfMKzD4gLTQOdImrd6CNVANP2C1IIa10B0OhFpKTTZQEb8lHB6UNtAlnkxWntq3UB1vXpPRX3fQH8h/Z0OwuBAyiN7gkS94UAtnGDBMK7iQBLujIfwkuNANZSKSddp5EAha4yWcjHlQG2DIUyM6OVAcs9tUCuO5kAILTD7kiHnQNBNPVtBoudA6jiyhuwP6ECOThcwf2roQAX6j5AUsuhAbiSEAvTm6EDb2jdFjAnpQPqyN6VuGulAgHQUIUoa6UA2Nkej5gnpQIvkXGYg6uhAVeewk+O76EAloq0rKIDoQPuyVTruN+hAOWesZDrk50CbPAzLEobnQP1ELEN8HudA/UOE+neu5kCSJq5aATfmQBIP4kYMueVAem63qoM15UAsZq5KSK3kQBCSZ9kvIeRALvCvSgSS40ApUhBVgwDjQCrqgi9ebeJAEz/gbjnZ4UCRuZMMrUThQJYb54xEsOBA\",\"dtype\":\"float64\",\"order\":\"little\",\"shape\":[108]}},\"selected\":{\"id\":\"6651\"},\"selection_policy\":{\"id\":\"6650\"}},\"id\":\"6615\",\"type\":\"ColumnDataSource\"},{\"attributes\":{\"data_source\":{\"id\":\"6615\"},\"glyph\":{\"id\":\"6616\"},\"hover_glyph\":null,\"muted_glyph\":{\"id\":\"6618\"},\"nonselection_glyph\":{\"id\":\"6617\"},\"selection_glyph\":null,\"view\":{\"id\":\"6620\"}},\"id\":\"6619\",\"type\":\"GlyphRenderer\"},{\"attributes\":{\"label\":{\"value\":\"H\"},\"renderers\":[{\"id\":\"6458\"},{\"id\":\"6619\"}]},\"id\":\"6482\",\"type\":\"LegendItem\"},{\"attributes\":{},\"id\":\"6689\",\"type\":\"UnionRenderers\"},{\"attributes\":{\"fill_alpha\":{\"value\":0.1},\"fill_color\":{\"value\":\"lightblue\"},\"line_alpha\":{\"value\":0.1},\"line_color\":{\"value\":\"lightblue\"},\"size\":{\"units\":\"screen\",\"value\":10},\"x\":{\"field\":\"x\"},\"y\":{\"field\":\"y\"}},\"id\":\"6456\",\"type\":\"X\"},{\"attributes\":{\"fill_color\":{\"value\":\"blue\"},\"line_color\":{\"value\":\"blue\"},\"size\":{\"units\":\"screen\",\"value\":10},\"x\":{\"field\":\"x\"},\"y\":{\"field\":\"y\"}},\"id\":\"6580\",\"type\":\"X\"},{\"attributes\":{\"fill_color\":{\"value\":\"pink\"},\"line_color\":{\"value\":\"pink\"},\"size\":{\"units\":\"screen\",\"value\":10},\"x\":{\"field\":\"x\"},\"y\":{\"field\":\"y\"}},\"id\":\"6484\",\"type\":\"X\"},{\"attributes\":{\"text\":\"\"},\"id\":\"6460\",\"type\":\"Title\"},{\"attributes\":{\"line_color\":\"lightblue\",\"x\":{\"field\":\"x\"},\"y\":{\"field\":\"y\"}},\"id\":\"6616\",\"type\":\"Line\"},{\"attributes\":{\"data_source\":{\"id\":\"6579\"},\"glyph\":{\"id\":\"6580\"},\"hover_glyph\":null,\"muted_glyph\":{\"id\":\"6582\"},\"nonselection_glyph\":{\"id\":\"6581\"},\"selection_glyph\":null,\"view\":{\"id\":\"6584\"}},\"id\":\"6583\",\"type\":\"GlyphRenderer\"},{\"attributes\":{\"fill_alpha\":{\"value\":0.01},\"fill_color\":{\"value\":\"lightblue\"},\"line_alpha\":{\"value\":0.01},\"line_color\":{\"value\":\"lightblue\"},\"size\":{\"units\":\"screen\",\"value\":10},\"x\":{\"field\":\"x\"},\"y\":{\"field\":\"y\"}},\"id\":\"6457\",\"type\":\"X\"},{\"attributes\":{\"data_source\":{\"id\":\"6691\"},\"glyph\":{\"id\":\"6692\"},\"hover_glyph\":null,\"muted_glyph\":{\"id\":\"6694\"},\"nonselection_glyph\":{\"id\":\"6693\"},\"selection_glyph\":null,\"view\":{\"id\":\"6696\"}},\"id\":\"6695\",\"type\":\"GlyphRenderer\"},{\"attributes\":{\"data\":{\"x\":{\"__ndarray__\":\"AADAs1AGd0IAAIAZowZ3QgAAQH/1BndCAAAA5UcHd0IAAMBKmgd3QgAAgLDsB3dCAABAFj8Id0IAAAB8kQh3QgAAwOHjCHdCAACARzYJd0IAAECtiAl3QgAAABPbCXdCAADAeC0Kd0IAAIDefwp3QgAAQETSCndCAAAAqiQLd0IAAMAPdwt3QgAAgHXJC3dCAABA2xsMd0IAAABBbgx3QgAAwKbADHdCAACADBMNd0IAAEByZQ13QgAAANi3DXdCAADAPQoOd0IAAICjXA53QgAAQAmvDndCAAAAbwEPd0IAAMDUUw93QgAAgDqmD3dCAABAoPgPd0IAAAAGSxB3QgAAwGudEHdCAACA0e8Qd0IAAEA3QhF3QgAAAJ2UEXdCAADAAucRd0IAAIBoORJ3QgAAQM6LEndCAAAANN4Sd0IAAMCZMBN3QgAAgP+CE3dCAABAZdUTd0IAAADLJxR3QgAAwDB6FHdCAACAlswUd0IAAED8HhV3QgAAAGJxFXdCAADAx8MVd0IAAIAtFhZ3QgAAQJNoFndCAAAA+boWd0IAAMBeDRd3QgAAgMRfF3dCAABAKrIXd0IAAACQBBh3QgAAwPVWGHdCAACAW6kYd0IAAEDB+xh3QgAAACdOGXdCAADAjKAZd0IAAIDy8hl3QgAAQFhFGndCAAAAvpcad0IAAMAj6hp3QgAAgIk8G3dCAABA744bd0IAAABV4Rt3QgAAwLozHHdCAACAIIYcd0IAAECG2Bx3QgAAAOwqHXdCAADAUX0dd0IAAIC3zx13QgAAQB0iHndCAAAAg3Qed0IAAMDoxh53QgAAgE4ZH3dCAABAtGsfd0IAAAAavh93QgAAwH8QIHdC\",\"dtype\":\"float64\",\"order\":\"little\",\"shape\":[81]},\"y\":[12,0,0,0,2,4,20,35,27,30,61,21,73,138,190,336,177,286,372,497,595,785,838,924,1210,1097,1404,1861,1617,1847,1559,3838,2446,2928,3925,3809,4611,2599,4376,7578,4861,2116,5233,4267,1873,3911,3778,3881,4286,4342,3114,1613,2673,5497,2633,2641,405,2569,785,2051,2667,1827,1653,1773,1537,461,1195,1065,1607,1139,604,794,308,576,1104,4183,629,642,433,209,456]},\"selected\":{\"id\":\"6613\"},\"selection_policy\":{\"id\":\"6612\"}},\"id\":\"6579\",\"type\":\"ColumnDataSource\"},{\"attributes\":{\"click_policy\":\"mute\",\"items\":[{\"id\":\"6482\"},{\"id\":\"6512\"},{\"id\":\"6544\"},{\"id\":\"6578\"},{\"id\":\"6614\"}],\"location\":\"top_left\"},\"id\":\"6481\",\"type\":\"Legend\"},{\"attributes\":{\"data_source\":{\"id\":\"6483\"},\"glyph\":{\"id\":\"6484\"},\"hover_glyph\":null,\"muted_glyph\":{\"id\":\"6486\"},\"nonselection_glyph\":{\"id\":\"6485\"},\"selection_glyph\":null,\"view\":{\"id\":\"6488\"}},\"id\":\"6487\",\"type\":\"GlyphRenderer\"},{\"attributes\":{\"data\":{\"x\":{\"__ndarray__\":\"AACA+J/9dkIAAEBe8v12QgAAAMRE/nZCAADAKZf+dkIAAICP6f52QgAAQPU7/3ZCAAAAW47/dkIAAMDA4P92QgAAgCYzAHdCAABAjIUAd0IAAADy1wB3QgAAwFcqAXdCAACAvXwBd0IAAEAjzwF3QgAAAIkhAndCAADA7nMCd0IAAIBUxgJ3QgAAQLoYA3dCAAAAIGsDd0IAAMCFvQN3QgAAgOsPBHdCAABAUWIEd0IAAAC3tAR3QgAAwBwHBXdCAACAglkFd0IAAEDoqwV3QgAAAE7+BXdCAADAs1AGd0IAAIAZowZ3QgAAQH/1BndCAAAA5UcHd0IAAMBKmgd3QgAAgLDsB3dCAABAFj8Id0IAAAB8kQh3QgAAwOHjCHdCAACARzYJd0IAAECtiAl3QgAAABPbCXdCAADAeC0Kd0IAAIDefwp3QgAAQETSCndCAAAAqiQLd0IAAMAPdwt3QgAAgHXJC3dCAABA2xsMd0IAAABBbgx3QgAAwKbADHdCAACADBMNd0IAAEByZQ13QgAAANi3DXdCAADAPQoOd0IAAICjXA53QgAAQAmvDndCAAAAbwEPd0IAAMDUUw93QgAAgDqmD3dCAABAoPgPd0IAAAAGSxB3QgAAwGudEHdCAACA0e8Qd0IAAEA3QhF3QgAAAJ2UEXdCAADAAucRd0IAAIBoORJ3QgAAQM6LEndCAAAANN4Sd0IAAMCZMBN3QgAAgP+CE3dCAABAZdUTd0IAAADLJxR3QgAAwDB6FHdCAACAlswUd0IAAED8HhV3QgAAAGJxFXdCAADAx8MVd0IAAIAtFhZ3QgAAQJNoFndCAAAA+boWd0IAAMBeDRd3QgAAgMRfF3dCAABAKrIXd0IAAACQBBh3QgAAwPVWGHdCAACAW6kYd0IAAEDB+xh3QgAAACdOGXdCAADAjKAZd0IAAIDy8hl3QgAAQFhFGndCAAAAvpcad0IAAMAj6hp3QgAAgIk8G3dCAABA744bd0IAAABV4Rt3QgAAwLozHHdCAACAIIYcd0IAAECG2Bx3QgAAAOwqHXdCAADAUX0dd0IAAIC3zx13QgAAQB0iHndCAAAAg3Qed0IAAMDoxh53QgAAgE4ZH3dCAABAtGsfd0IAAAAavh93QgAAwH8QIHdC\",\"dtype\":\"float64\",\"order\":\"little\",\"shape\":[108]},\"y\":{\"__ndarray__\":\"AAAAAAAAAAAAAAAAAAAAAAAAAAAAAAAAAAAAAAAAAAAAAAAAAAAAAAAAAAAAAAAAAAAAAAAAAAAAAAAAAAAAAAAAAAAAAAAAAAAAAAAAAAAAAAAAAAAAABLYySt44Hk/h7FxQvwvmz+Ckrlcoh2wP3sDf6e1SL4/tRvm5w0WyT84PGYUHDbTP28Pt+Kd5ts/9IANJfmA4z9jZLe4xYHqP57VfChkoPE/CXovUqEM9z+DSrj2CL39P8O/Asp1+gJA81G7aQADCECTKywLuykOQPpVldpo1RJABrrAkKJnF0B+rIkz0vccQAVZhrnW3SFAEvK2fyz6JUD1yjEsa/gqQIDWGWk9hDBABWKH6TkyNECgUWxqZKk4QDx9YCNzFD5AS5SGF5hTQkB7ifBQM1BGQJGgATYcJktAkqcsn7yBUECPUAtrHhBUQBSPGoIcYFhAoHeAL9GaXUAvMPK3BvlhQGMZCAEY0WVA53+onS96akBu01dtThBwQNTr+o8FfXNAGfY3/rujd0B3KYI9yKt8QFCV9oViYoFAJ5Ad0iMUhUBvv37n9o2JQH5UukKJ+Y5AIj6RiOXCkkDT74oyn7KWQBIKXSOjZptAiii/dVR9oED4pbWPecWjQJUZV/DjmadA/Iuv5nAIrECiog+hN4+wQMx0kf0rdLNAJWv7YMW4tkDUESJUCGK6QGKLSmczdL5ALi92oVR5wUBFbcz47+/DQNAjfNKqnsZAVpokfMWFyUDqrKdVAaXMQBtWCyCj+89A3CxqzzvE0UBnDxYc7aTTQARWYaDentVAkwsH0dmw10DgRLzBfdnZQJ2mbtJEF9xAiP/SjYpo3kC5THjJyGXgQPutP7lEn+FAo7+GLsrf4kDt5WZCZibkQOhk26MkcuVAauus5hHC5kAyUp2rPRXoQGI994m8aulAHJ2OvqnB6kCjqVCgKBnsQKcbBNtlcO1AFnbucZjG7kAgAcBGgQ3wQPhc2wt5tvBAUDTolOBd8UDATZkoawPyQB7wa1bSpvJAefVL9NVH80CEhIsOPObzQIKB2MnQgfRA+WbYOmYa9UAMmmY01K/1QLzeFw74QfZAO3zyZbTQ9kDyOdPa8Fv3QMs4AMeZ4/dA659J9p9n+EB8g69b+Of4QAxbucabZPlA\",\"dtype\":\"float64\",\"order\":\"little\",\"shape\":[108]}},\"selected\":{\"id\":\"6731\"},\"selection_policy\":{\"id\":\"6730\"}},\"id\":\"6691\",\"type\":\"ColumnDataSource\"},{\"attributes\":{\"line_alpha\":0.1,\"line_color\":\"darkolivegreen\",\"x\":{\"field\":\"x\"},\"y\":{\"field\":\"y\"}},\"id\":\"6693\",\"type\":\"Line\"},{\"attributes\":{},\"id\":\"6576\",\"type\":\"UnionRenderers\"},{\"attributes\":{\"fill_alpha\":{\"value\":0.01},\"fill_color\":{\"value\":\"pink\"},\"line_alpha\":{\"value\":0.01},\"line_color\":{\"value\":\"pink\"},\"size\":{\"units\":\"screen\",\"value\":10},\"x\":{\"field\":\"x\"},\"y\":{\"field\":\"y\"}},\"id\":\"6486\",\"type\":\"X\"},{\"attributes\":{\"fill_alpha\":{\"value\":0.01},\"fill_color\":{\"value\":\"blue\"},\"line_alpha\":{\"value\":0.01},\"line_color\":{\"value\":\"blue\"},\"size\":{\"units\":\"screen\",\"value\":10},\"x\":{\"field\":\"x\"},\"y\":{\"field\":\"y\"}},\"id\":\"6582\",\"type\":\"X\"},{\"attributes\":{\"line_alpha\":0.01,\"line_color\":\"darkolivegreen\",\"x\":{\"field\":\"x\"},\"y\":{\"field\":\"y\"}},\"id\":\"6694\",\"type\":\"Line\"},{\"attributes\":{},\"id\":\"6577\",\"type\":\"Selection\"},{\"attributes\":{\"source\":{\"id\":\"6691\"}},\"id\":\"6696\",\"type\":\"CDSView\"},{\"attributes\":{\"fill_alpha\":{\"value\":0.1},\"fill_color\":{\"value\":\"darkolivegreen\"},\"line_alpha\":{\"value\":0.1},\"line_color\":{\"value\":\"darkolivegreen\"},\"size\":{\"units\":\"screen\",\"value\":10},\"x\":{\"field\":\"x\"},\"y\":{\"field\":\"y\"}},\"id\":\"6515\",\"type\":\"X\"},{\"attributes\":{\"line_alpha\":0.01,\"line_color\":\"lightblue\",\"x\":{\"field\":\"x\"},\"y\":{\"field\":\"y\"}},\"id\":\"6618\",\"type\":\"Line\"},{\"attributes\":{\"label\":{\"value\":\"DR\"},\"renderers\":[{\"id\":\"6583\"},{\"id\":\"6779\"}]},\"id\":\"6614\",\"type\":\"LegendItem\"},{\"attributes\":{\"source\":{\"id\":\"6483\"}},\"id\":\"6488\",\"type\":\"CDSView\"},{\"attributes\":{\"data\":{\"x\":{\"__ndarray__\":\"AACA+J/9dkIAAEBe8v12QgAAAMRE/nZCAADAKZf+dkIAAICP6f52QgAAQPU7/3ZCAAAAW47/dkIAAMDA4P92QgAAgCYzAHdCAABAjIUAd0IAAADy1wB3QgAAwFcqAXdCAACAvXwBd0IAAEAjzwF3QgAAAIkhAndCAADA7nMCd0IAAIBUxgJ3QgAAQLoYA3dCAAAAIGsDd0IAAMCFvQN3QgAAgOsPBHdCAABAUWIEd0IAAAC3tAR3QgAAwBwHBXdCAACAglkFd0IAAEDoqwV3QgAAAE7+BXdCAADAs1AGd0IAAIAZowZ3QgAAQH/1BndCAAAA5UcHd0IAAMBKmgd3QgAAgLDsB3dCAABAFj8Id0IAAAB8kQh3QgAAwOHjCHdCAACARzYJd0IAAECtiAl3QgAAABPbCXdCAADAeC0Kd0IAAIDefwp3QgAAQETSCndCAAAAqiQLd0IAAMAPdwt3QgAAgHXJC3dCAABA2xsMd0IAAABBbgx3QgAAwKbADHdCAACADBMNd0IAAEByZQ13QgAAANi3DXdCAADAPQoOd0IAAICjXA53QgAAQAmvDndCAAAAbwEPd0IAAMDUUw93QgAAgDqmD3dCAABAoPgPd0IAAAAGSxB3QgAAwGudEHdCAACA0e8Qd0IAAEA3QhF3QgAAAJ2UEXdCAADAAucRd0IAAIBoORJ3QgAAQM6LEndCAAAANN4Sd0IAAMCZMBN3QgAAgP+CE3dCAABAZdUTd0IAAADLJxR3QgAAwDB6FHdCAACAlswUd0IAAED8HhV3QgAAAGJxFXdCAADAx8MVd0IAAIAtFhZ3QgAAQJNoFndCAAAA+boWd0IAAMBeDRd3QgAAgMRfF3dCAABAKrIXd0IAAACQBBh3QgAAwPVWGHdCAACAW6kYd0IAAEDB+xh3QgAAACdOGXdCAADAjKAZd0IAAIDy8hl3QgAAQFhFGndCAAAAvpcad0IAAMAj6hp3QgAAgIk8G3dCAABA744bd0IAAABV4Rt3QgAAwLozHHdCAACAIIYcd0IAAECG2Bx3QgAAAOwqHXdCAADAUX0dd0IAAIC3zx13QgAAQB0iHndCAAAAg3Qed0IAAMDoxh53QgAAgE4ZH3dCAABAtGsfd0IAAAAavh93QgAAwH8QIHdC\",\"dtype\":\"float64\",\"order\":\"little\",\"shape\":[108]},\"y\":{\"__ndarray__\":\"AAAAAAAAAAAAAAAAAAAAAAAAAAAAAAAAAAAAAAAAAAAAAAAAAAAAAAAAAAAAAAAAAAAAAAAAAAAAAAAAAAAAAAAAAAAAAAAAAAAAAAAAAAAAAAAAAAAAAOLlE//LXNE/vjRifg1x2z8CJwShK9DhP0y54yx0COY/RV7mBX/g6j9I0v8zPVPwP6rkos6gzvM/psjUfc8F+D8CNEvY0CH9P515ssDZqQFA6hp8UFlrBUCnrvF1RPkJQA9XX/wTfw9A+6b+a74YE0ACGnvMMygXQF6J9ROpFBxAz7u6r4wGIUDJaZzpPaUkQIMkMDzxCClAoE6RI4ZbLkDiRwaq4GcyQMOqOPiXUTZA0DvShzgQO0DQ/nfCfmhAQEIwxKld5UNA9syr4vMfSECKt5DRh0BNQJVeRDv0u1FAYUZUH52AVUCxqr/zERJaQAzAbgS4m19ARYSLSQ4pY0Cm40prbzpnQFR5bgR/KGxA0E3vzecQcUCqCepTWK90QL042n2WEXlANiZfRbZgfkAO7+KlImeCQB9GCq78SoZAU0RcMdb/ikBtTNrLa1iQQMM1GEf5t5NApbm2ftCLl0DKOkLwwcebQC/1zhKaMKBAJn6R8BymokCjPoHhXD2lQPa7mqI27qdAspTiGp+vqkAsE8Y76HetQLBsGN2HHrBAhDYJEIh6sUBq9od3F8uyQMT7tN6hC7RAEmN8oPo3tUD5SOcvdUy2QIjNPxX3RbdA9XH5VgMiuEBSGrVmv964QMvY0oTyerlA8gR07//1uUDW1AwZ3U+6QFR6iqAEibpAV9pPHmeiukDsxyGDWp26QLZ+TvOIe7pAJzeQl98+ukD9GD8jfum5QBgmOUKnfblAl0NIY7L9uEAppcAV/2u4QFZuur3pyrdAqHJ5YsIct0AdmmqixGO2QPWr1Y0RorVAkCLsrqrZtECrqj6Ybgy0QJFw+nIWPLNAkflItTRqskCQT32kNJixQCf0kp1ax7BALSow9Inxr0CyyMjN2lquQDK1WGVVzKxA3/2vpGVHq0BwARLwOc2pQCsEHj3IXqhARAu9gdL8pkCWDEio66elQF2z8T58YKRArGDr+cYmo0AbImE17fqhQPC+pfvy3KBAg8Q65oWZn0BB8Vb2Y5SdQGqzaQYFqptA\",\"dtype\":\"float64\",\"order\":\"little\",\"shape\":[108]}},\"selected\":{\"id\":\"6819\"},\"selection_policy\":{\"id\":\"6818\"}},\"id\":\"6775\",\"type\":\"ColumnDataSource\"},{\"attributes\":{\"source\":{\"id\":\"6513\"}},\"id\":\"6518\",\"type\":\"CDSView\"},{\"attributes\":{\"label\":{\"value\":\"U\"},\"renderers\":[{\"id\":\"6487\"},{\"id\":\"6656\"}]},\"id\":\"6512\",\"type\":\"LegendItem\"},{\"attributes\":{},\"id\":\"6613\",\"type\":\"Selection\"},{\"attributes\":{},\"id\":\"6612\",\"type\":\"UnionRenderers\"},{\"attributes\":{},\"id\":\"6731\",\"type\":\"Selection\"},{\"attributes\":{},\"id\":\"6730\",\"type\":\"UnionRenderers\"},{\"attributes\":{},\"id\":\"6511\",\"type\":\"Selection\"},{\"attributes\":{},\"id\":\"6463\",\"type\":\"BasicTickFormatter\"},{\"attributes\":{\"data_source\":{\"id\":\"6732\"},\"glyph\":{\"id\":\"6733\"},\"hover_glyph\":null,\"muted_glyph\":{\"id\":\"6735\"},\"nonselection_glyph\":{\"id\":\"6734\"},\"selection_glyph\":null,\"view\":{\"id\":\"6737\"}},\"id\":\"6736\",\"type\":\"GlyphRenderer\"},{\"attributes\":{},\"id\":\"6510\",\"type\":\"UnionRenderers\"},{\"attributes\":{\"line_alpha\":0.1,\"line_color\":\"lightblue\",\"x\":{\"field\":\"x\"},\"y\":{\"field\":\"y\"}},\"id\":\"6617\",\"type\":\"Line\"},{\"attributes\":{\"data\":{\"x\":{\"__ndarray__\":\"AACA+J/9dkIAAEBe8v12QgAAAMRE/nZCAADAKZf+dkIAAICP6f52QgAAQPU7/3ZCAAAAW47/dkIAAMDA4P92QgAAgCYzAHdCAABAjIUAd0IAAADy1wB3QgAAwFcqAXdCAACAvXwBd0IAAEAjzwF3QgAAAIkhAndCAADA7nMCd0IAAIBUxgJ3QgAAQLoYA3dCAAAAIGsDd0IAAMCFvQN3QgAAgOsPBHdCAABAUWIEd0IAAAC3tAR3QgAAwBwHBXdCAACAglkFd0IAAEDoqwV3QgAAAE7+BXdCAADAs1AGd0IAAIAZowZ3QgAAQH/1BndCAAAA5UcHd0IAAMBKmgd3QgAAgLDsB3dCAABAFj8Id0IAAAB8kQh3QgAAwOHjCHdCAACARzYJd0IAAECtiAl3QgAAABPbCXdCAADAeC0Kd0IAAIDefwp3QgAAQETSCndCAAAAqiQLd0IAAMAPdwt3QgAAgHXJC3dCAABA2xsMd0IAAABBbgx3QgAAwKbADHdCAACADBMNd0IAAEByZQ13QgAAANi3DXdCAADAPQoOd0IAAICjXA53QgAAQAmvDndCAAAAbwEPd0IAAMDUUw93QgAAgDqmD3dCAABAoPgPd0IAAAAGSxB3QgAAwGudEHdCAACA0e8Qd0IAAEA3QhF3QgAAAJ2UEXdCAADAAucRd0IAAIBoORJ3QgAAQM6LEndCAAAANN4Sd0IAAMCZMBN3QgAAgP+CE3dCAABAZdUTd0IAAADLJxR3QgAAwDB6FHdCAACAlswUd0IAAED8HhV3QgAAAGJxFXdCAADAx8MVd0IAAIAtFhZ3QgAAQJNoFndCAAAA+boWd0IAAMBeDRd3QgAAgMRfF3dCAABAKrIXd0IAAACQBBh3QgAAwPVWGHdCAACAW6kYd0IAAEDB+xh3QgAAACdOGXdCAADAjKAZd0IAAIDy8hl3QgAAQFhFGndCAAAAvpcad0IAAMAj6hp3QgAAgIk8G3dCAABA744bd0IAAABV4Rt3QgAAwLozHHdCAACAIIYcd0IAAECG2Bx3QgAAAOwqHXdCAADAUX0dd0IAAIC3zx13QgAAQB0iHndCAAAAg3Qed0IAAMDoxh53QgAAgE4ZH3dCAABAtGsfd0IAAAAavh93QgAAwH8QIHdC\",\"dtype\":\"float64\",\"order\":\"little\",\"shape\":[108]},\"y\":{\"__ndarray__\":\"AAAAAAAAAAAAAAAAAAAAAAAAAAAAAAAAAAAAAAAAAAAAAAAAAAAAAAAAAAAAAAAAAAAAAAAAAAAAAAAAAAAAAAAAAAAAAAAAAAAAAAAAAAAAAAAAAAAAACjt22h75GE/hApwHSvXgj+YNt82+mGWP0RBbYZXEqU/arhC+bB8sT9L4bpYaNS6Pw5BAdp7g8M/rlrNHmhSyz/Mz2LdaJfSP+/HelnAwdg/rIhN8Is04D+1c36QGu7kP2B+ptBcveo/24Snui3u8D/comNhwUj1PyZH7Aoimfo/TvYTrJGJAECgIB+I0XoEQByqDcdwRglAY/Co5KwaD0AIDhYCzRcTQFUcj/+cZBdAfCfejAKdHEBGp/sYf3khQOWXhr6YUSVAjGh2YZD7KUD6F8mL96MvQPyZ0MJrQDNAxHotqdlpN0A45+0P+3U8QAhcLoF5SkFArDBYMY0ARUDQldZglIBJQEtaBpNo9U5AmbaWxHrJUkCeD2sUEcxWQHe15Y6PqFtADRqb74vGYEDSUipqwVhkQHBdRQGzrGhA8NVBIEHrbUCZbpm86yJyQKBOJnrT+3VABCcGaLyhekCSFNDMVxyAQB+GNflwc4NAIZyW2hBqh0A/1AUElhSMQBXBgQa8w5BAqxxSo3Hrk0A+LmAUKYuXQDGIMA0UrJtATZuJRVQroEAnja9SOsmiQHekRdz7sqVA2fXs+0DrqECk9YeRDXSsQEwWYDJcJ7BANlPbCvM9skDdwwfww320QOs6Xedu5rZAEvhaHT53uUDLOc8SKi+8QLHkHgDfDL9AarfFm2EHwUCCd1Elf5nCQJunZV3AO8RAQUYb/wXtxUCuuuhRHazHQHReoDrEd8lArC7MMq1Oy0B+k2IRgy/NQLirBLPsGM9ACJbRIsiE0ECr3oExC4DRQFAi/WuWfdJA+vSljsR800BQxdhA9XzUQHZjlgKOfdVALte58/p91kDmKId2r33XQFRWBLAmfNhAGZ+M5+N42UCSzZnJcnPaQPaHmo5na9tAdO3QCF9g3EBLV66e/lHdQFqQpDD0P95At45J7/Up30DEzMMR4QfgQPEYa3WPeOBAsbK59ezm4EA1Ld7+41LhQGDU+WlivOFAgVGeTVkj4kBzJ1PNvIfiQH0WX+iD6eJA\",\"dtype\":\"float64\",\"order\":\"little\",\"shape\":[108]}},\"selected\":{\"id\":\"6774\"},\"selection_policy\":{\"id\":\"6773\"}},\"id\":\"6732\",\"type\":\"ColumnDataSource\"},{\"attributes\":{\"line_alpha\":0.1,\"line_color\":\"red\",\"x\":{\"field\":\"x\"},\"y\":{\"field\":\"y\"}},\"id\":\"6734\",\"type\":\"Line\"},{\"attributes\":{\"line_alpha\":0.01,\"line_color\":\"red\",\"x\":{\"field\":\"x\"},\"y\":{\"field\":\"y\"}},\"id\":\"6735\",\"type\":\"Line\"},{\"attributes\":{},\"id\":\"6465\",\"type\":\"DatetimeTickFormatter\"},{\"attributes\":{\"data_source\":{\"id\":\"6652\"},\"glyph\":{\"id\":\"6653\"},\"hover_glyph\":null,\"muted_glyph\":{\"id\":\"6655\"},\"nonselection_glyph\":{\"id\":\"6654\"},\"selection_glyph\":null,\"view\":{\"id\":\"6657\"}},\"id\":\"6656\",\"type\":\"GlyphRenderer\"},{\"attributes\":{\"fill_color\":{\"value\":\"darkolivegreen\"},\"line_color\":{\"value\":\"darkolivegreen\"},\"size\":{\"units\":\"screen\",\"value\":10},\"x\":{\"field\":\"x\"},\"y\":{\"field\":\"y\"}},\"id\":\"6514\",\"type\":\"X\"},{\"attributes\":{\"source\":{\"id\":\"6732\"}},\"id\":\"6737\",\"type\":\"CDSView\"},{\"attributes\":{\"source\":{\"id\":\"6615\"}},\"id\":\"6620\",\"type\":\"CDSView\"},{\"attributes\":{\"fill_color\":{\"value\":\"red\"},\"line_color\":{\"value\":\"red\"},\"size\":{\"units\":\"screen\",\"value\":10},\"x\":{\"field\":\"x\"},\"y\":{\"field\":\"y\"}},\"id\":\"6546\",\"type\":\"X\"},{\"attributes\":{\"data\":{\"x\":{\"__ndarray__\":\"AACA+J/9dkIAAEBe8v12QgAAAMRE/nZCAADAKZf+dkIAAICP6f52QgAAQPU7/3ZCAAAAW47/dkIAAMDA4P92QgAAgCYzAHdCAABAjIUAd0IAAADy1wB3QgAAwFcqAXdCAACAvXwBd0IAAEAjzwF3QgAAAIkhAndCAADA7nMCd0IAAIBUxgJ3QgAAQLoYA3dCAAAAIGsDd0IAAMCFvQN3QgAAgOsPBHdCAABAUWIEd0IAAAC3tAR3QgAAwBwHBXdCAACAglkFd0IAAEDoqwV3QgAAAE7+BXdCAADAs1AGd0IAAIAZowZ3QgAAQH/1BndCAAAA5UcHd0IAAMBKmgd3QgAAgLDsB3dCAABAFj8Id0IAAAB8kQh3QgAAwOHjCHdCAACARzYJd0IAAECtiAl3QgAAABPbCXdCAADAeC0Kd0IAAIDefwp3QgAAQETSCndCAAAAqiQLd0IAAMAPdwt3QgAAgHXJC3dCAABA2xsMd0IAAABBbgx3QgAAwKbADHdCAACADBMNd0IAAEByZQ13QgAAANi3DXdCAADAPQoOd0IAAICjXA53QgAAQAmvDndCAAAAbwEPd0IAAMDUUw93QgAAgDqmD3dCAABAoPgPd0IAAAAGSxB3QgAAwGudEHdCAACA0e8Qd0IAAEA3QhF3QgAAAJ2UEXdCAADAAucRd0IAAIBoORJ3QgAAQM6LEndCAAAANN4Sd0IAAMCZMBN3QgAAgP+CE3dCAABAZdUTd0IAAADLJxR3QgAAwDB6FHdCAACAlswUd0IAAED8HhV3QgAAAGJxFXdCAADAx8MVd0IAAIAtFhZ3QgAAQJNoFndCAAAA+boWd0IAAMBeDRd3QgAAgMRfF3dCAABAKrIXd0IAAACQBBh3QgAAwPVWGHdCAACAW6kYd0IAAEDB+xh3QgAAACdOGXdCAADAjKAZd0IAAIDy8hl3QgAAQFhFGndCAAAAvpcad0IAAMAj6hp3QgAAgIk8G3dCAABA744bd0IAAABV4Rt3QgAAwLozHHdCAACAIIYcd0IAAECG2Bx3QgAAAOwqHXdCAADAUX0dd0IAAIC3zx13QgAAQB0iHndCAAAAg3Qed0IAAMDoxh53QgAAgE4ZH3dCAABAtGsfd0IAAAAavh93QgAAwH8QIHdC\",\"dtype\":\"float64\",\"order\":\"little\",\"shape\":[108]},\"y\":{\"__ndarray__\":\"AAAAAAAAAAAAAAAAAAAAAAAAAAAAAAAAAAAAAAAAAAAAAAAAAAAAAAAAAAAAAAAAAAAAAAAAAAAAAAAAAAAAAAAAAAAAAAAAAAAAAAAAAAAAAAAAAAAAAKt/yE2w16g/2OP6yBGEuz92DlA6refGP1OwQBmN/NA/Wr0bIE2t1z88v/uBJcPfP4TwBo8txOQ/zAV8cZmr6j+Qyfr+VOfwPyQpG574N/U/6Hb7bB5w+j8bIo66ZmAAQEALjcbAMgRAAtucyjHTCEA9M6hDfW0OQH8/xb9bmxJAkRhwFaC3FkBdG9w+lLIbQKrpC/bG3SBAVs0IofmFJEA7XnwFr/QoQLUsunsZVC5ADd7rZLFrMkB6j5+mSV42QOAOgipwJztADhuS3V16QEBUP8YyuP5DQMMAzSxGQkhAfQDKmKFtTUDZlpun/9hRQDu622CApVVAw85tKHNAWkCamAq6m9VfQPidrgD+TGNAaqGP3+FmZ0AI2mv6Ul9sQPVydw+qMnFAG7TI4+DYdEB0yGZzrER5QGB6efiRn35A9hVeDNiNgkClfBziu3qGQIfViFDYNYtAvWn49QdrkECXYCEp3reTQCePToNQipdAloRSaZnpm0DHXmp0fW2gQNkIboW+MKNA/uxhO98+pkD8PvGk7JapQL6V5nCuNq1AKcBiDFeNsEBs3Y3JI5+yQEk93DzhzbRAQTyKFDkWt0Dv3A+ebXS5QJzCfFdu5LtArPlpfu1hvkC9h57rOnTAQCbRq/a/ucFA/0crI0P/wkAhon8AjELEQOIOJsZ0gcVAsnDvmvG5xkAic0O4FurHQPIw/GEdEMlA89tbumcqykB/blN8gzfLQBUsULMrNsxAL+oGgkklzUBggPQX9APOQMFiM+xv0c5AHCgPXS2Nz0CIB2xnYxvQQClfjzH/ZtBAXUSJsF2p0EDjkoeyg+LQQI2ahrWFEtFA5ZpwYoY50UCyCEMHtVfRQNDMwRNMbdFAk3qvoI960UDqfsMDzH/RQIbAa3JUfdFAVl5PwIFz0UAoytkqsWLRQO1kGj1DS9FA1v8kzpot0UBR9T8THArRQL5/Qsor4dBAV+JIfS6z0EDlnPDTh4DQQO64KgWaSdBAN5OpU8UO0EC8YG9Az6DPQBJ5nhq4Hc9A\",\"dtype\":\"float64\",\"order\":\"little\",\"shape\":[108]}},\"selected\":{\"id\":\"6690\"},\"selection_policy\":{\"id\":\"6689\"}},\"id\":\"6652\",\"type\":\"ColumnDataSource\"},{\"attributes\":{\"data_source\":{\"id\":\"6513\"},\"glyph\":{\"id\":\"6514\"},\"hover_glyph\":null,\"muted_glyph\":{\"id\":\"6516\"},\"nonselection_glyph\":{\"id\":\"6515\"},\"selection_glyph\":null,\"view\":{\"id\":\"6518\"}},\"id\":\"6517\",\"type\":\"GlyphRenderer\"},{\"attributes\":{\"data_source\":{\"id\":\"6775\"},\"glyph\":{\"id\":\"6776\"},\"hover_glyph\":null,\"muted_glyph\":{\"id\":\"6778\"},\"nonselection_glyph\":{\"id\":\"6777\"},\"selection_glyph\":null,\"view\":{\"id\":\"6780\"}},\"id\":\"6779\",\"type\":\"GlyphRenderer\"},{\"attributes\":{\"data\":{\"x\":{\"__ndarray__\":\"AADAs1AGd0IAAIAZowZ3QgAAQH/1BndCAAAA5UcHd0IAAMBKmgd3QgAAgLDsB3dCAABAFj8Id0IAAAB8kQh3QgAAwOHjCHdCAACARzYJd0IAAECtiAl3QgAAABPbCXdCAADAeC0Kd0IAAIDefwp3QgAAQETSCndCAAAAqiQLd0IAAMAPdwt3QgAAgHXJC3dCAABA2xsMd0IAAABBbgx3QgAAwKbADHdCAACADBMNd0IAAEByZQ13QgAAANi3DXdCAADAPQoOd0IAAICjXA53QgAAQAmvDndCAAAAbwEPd0IAAMDUUw93QgAAgDqmD3dCAABAoPgPd0IAAAAGSxB3QgAAwGudEHdCAACA0e8Qd0IAAEA3QhF3QgAAAJ2UEXdCAADAAucRd0IAAIBoORJ3QgAAQM6LEndCAAAANN4Sd0IAAMCZMBN3QgAAgP+CE3dCAABAZdUTd0IAAADLJxR3QgAAwDB6FHdCAACAlswUd0IAAED8HhV3QgAAAGJxFXdCAADAx8MVd0IAAIAtFhZ3QgAAQJNoFndCAAAA+boWd0IAAMBeDRd3QgAAgMRfF3dCAABAKrIXd0IAAACQBBh3QgAAwPVWGHdCAACAW6kYd0IAAEDB+xh3QgAAACdOGXdCAADAjKAZd0IAAIDy8hl3QgAAQFhFGndCAAAAvpcad0IAAMAj6hp3QgAAgIk8G3dCAABA744bd0IAAABV4Rt3QgAAwLozHHdCAACAIIYcd0IAAECG2Bx3QgAAAOwqHXdCAADAUX0dd0IAAIC3zx13QgAAQB0iHndCAAAAg3Qed0IAAMDoxh53QgAAgE4ZH3dCAABAtGsfd0IAAAAavh93QgAAwH8QIHdC\",\"dtype\":\"float64\",\"order\":\"little\",\"shape\":[81]},\"y\":{\"__ndarray__\":\"AAAAAAAA+H8AAAAAAAD4fwAAAAAAAPh/AAAAAAAA+H8AAAAAAAD4fwAAAAAAAPh/AAAAAAAA+H8AAAAAAAD4fwAAAAAAAPh/AAAAAAAA+H8AAAAAAAD4fwAAAAAAAPh/AAAAAAAA+H8AAAAAAAD4fwAAAAAAAPh/AAAAAAAA+H8AAAAAAAD4fwAAAAAAAPh/AAAAAAAA+H8AAAAAAAD4fwAAAAAAAPh/AAAAAAAA+H8AAAAAAAD4fwAAAAAAAPh/AAAAAAAA+H8AAAAAAAD4fwAAAAAAgIlAAAAAAABwkkAAAAAAAMyYQAAAAAAATJxAAAAAAACKoEAAAAAAAA6kQAAAAAAAoqlAAAAAAADqr0AAAAAAAFOzQAAAAAAAQrZAAAAAAADguUAAAAAAANu7QAAAAAAA875AAAAAAIBxwkAAAAAAAFvFQAAAAACARchAAAAAAIBby0AAAAAAgCbOQAAAAAAAm89AAAAAAEDY0EAAAAAAAOLSQAAAAABAwdRAAAAAAECp1kAAAAAAwFjYQAAAAACAxdlAAAAAAECM2kAAAAAAQBHbQAAAAAAAIdxAAAAAAAA63kAAAAAAwATgQAAAAADAzeBAAAAAACCR4UAAAAAAgNvhQAAAAABgQ+JAAAAAAOAg40AAAAAAYNnjQAAAAABAjORAAAAAAMA75UAAAAAAYMXlQAAAAAAA7OVAAAAAAEA45kAAAAAAQJ7mQAAAAACgi+dAAAAAAKAn6EAAAAAAgIPoQAAAAABAr+hAAAAAAADL6EAAAAAAYBTpQAAAAAAAv+lAAAAAAGBZ6kAAAAAAQN3qQAAAAACgO+tAAAAAAKBb60AAAAAAAHLrQAAAAABgsetA\",\"dtype\":\"float64\",\"order\":\"little\",\"shape\":[81]}},\"selected\":{\"id\":\"6543\"},\"selection_policy\":{\"id\":\"6542\"}},\"id\":\"6513\",\"type\":\"ColumnDataSource\"},{\"attributes\":{\"fill_alpha\":{\"value\":0.01},\"fill_color\":{\"value\":\"darkolivegreen\"},\"line_alpha\":{\"value\":0.01},\"line_color\":{\"value\":\"darkolivegreen\"},\"size\":{\"units\":\"screen\",\"value\":10},\"x\":{\"field\":\"x\"},\"y\":{\"field\":\"y\"}},\"id\":\"6516\",\"type\":\"X\"},{\"attributes\":{\"mantissas\":[1,2,5],\"max_interval\":500.0,\"num_minor_ticks\":0},\"id\":\"6467\",\"type\":\"AdaptiveTicker\"},{\"attributes\":{\"base\":60,\"mantissas\":[1,2,5,10,15,20,30],\"max_interval\":1800000.0,\"min_interval\":1000.0,\"num_minor_ticks\":0},\"id\":\"6468\",\"type\":\"AdaptiveTicker\"},{\"attributes\":{\"label\":{\"value\":\"RH\"},\"renderers\":[{\"id\":\"6517\"},{\"id\":\"6695\"}]},\"id\":\"6544\",\"type\":\"LegendItem\"},{\"attributes\":{\"days\":[1,2,3,4,5,6,7,8,9,10,11,12,13,14,15,16,17,18,19,20,21,22,23,24,25,26,27,28,29,30,31]},\"id\":\"6470\",\"type\":\"DaysTicker\"},{\"attributes\":{\"base\":24,\"mantissas\":[1,2,4,6,8,12],\"max_interval\":43200000.0,\"min_interval\":3600000.0,\"num_minor_ticks\":0},\"id\":\"6469\",\"type\":\"AdaptiveTicker\"},{\"attributes\":{},\"id\":\"6774\",\"type\":\"Selection\"},{\"attributes\":{\"months\":[0,1,2,3,4,5,6,7,8,9,10,11]},\"id\":\"6474\",\"type\":\"MonthsTicker\"},{\"attributes\":{},\"id\":\"6773\",\"type\":\"UnionRenderers\"},{\"attributes\":{\"days\":[1,8,15,22]},\"id\":\"6472\",\"type\":\"DaysTicker\"},{\"attributes\":{},\"id\":\"6651\",\"type\":\"Selection\"},{\"attributes\":{\"days\":[1,4,7,10,13,16,19,22,25,28]},\"id\":\"6471\",\"type\":\"DaysTicker\"},{\"attributes\":{\"days\":[1,15]},\"id\":\"6473\",\"type\":\"DaysTicker\"},{\"attributes\":{},\"id\":\"6542\",\"type\":\"UnionRenderers\"},{\"attributes\":{},\"id\":\"6650\",\"type\":\"UnionRenderers\"},{\"attributes\":{\"months\":[0,2,4,6,8,10]},\"id\":\"6475\",\"type\":\"MonthsTicker\"},{\"attributes\":{\"months\":[0,4,8]},\"id\":\"6476\",\"type\":\"MonthsTicker\"},{\"attributes\":{},\"id\":\"6543\",\"type\":\"Selection\"},{\"attributes\":{},\"id\":\"6444\",\"type\":\"ResetTool\"},{\"attributes\":{},\"id\":\"6445\",\"type\":\"HelpTool\"},{\"attributes\":{\"data\":{\"x\":{\"__ndarray__\":\"AADAs1AGd0IAAIAZowZ3QgAAQH/1BndCAAAA5UcHd0IAAMBKmgd3QgAAgLDsB3dCAABAFj8Id0IAAAB8kQh3QgAAwOHjCHdCAACARzYJd0IAAECtiAl3QgAAABPbCXdCAADAeC0Kd0IAAIDefwp3QgAAQETSCndCAAAAqiQLd0IAAMAPdwt3QgAAgHXJC3dCAABA2xsMd0IAAABBbgx3QgAAwKbADHdCAACADBMNd0IAAEByZQ13QgAAANi3DXdCAADAPQoOd0IAAICjXA53QgAAQAmvDndCAAAAbwEPd0IAAMDUUw93QgAAgDqmD3dCAABAoPgPd0IAAAAGSxB3QgAAwGudEHdCAACA0e8Qd0IAAEA3QhF3QgAAAJ2UEXdCAADAAucRd0IAAIBoORJ3QgAAQM6LEndCAAAANN4Sd0IAAMCZMBN3QgAAgP+CE3dCAABAZdUTd0IAAADLJxR3QgAAwDB6FHdCAACAlswUd0IAAED8HhV3QgAAAGJxFXdCAADAx8MVd0IAAIAtFhZ3QgAAQJNoFndCAAAA+boWd0IAAMBeDRd3QgAAgMRfF3dCAABAKrIXd0IAAACQBBh3QgAAwPVWGHdCAACAW6kYd0IAAEDB+xh3QgAAACdOGXdCAADAjKAZd0IAAIDy8hl3QgAAQFhFGndCAAAAvpcad0IAAMAj6hp3QgAAgIk8G3dCAABA744bd0IAAABV4Rt3QgAAwLozHHdCAACAIIYcd0IAAECG2Bx3QgAAAOwqHXdCAADAUX0dd0IAAIC3zx13QgAAQB0iHndCAAAAg3Qed0IAAMDoxh53QgAAgE4ZH3dCAABAtGsfd0IAAAAavh93QgAAwH8QIHdC\",\"dtype\":\"float64\",\"order\":\"little\",\"shape\":[81]},\"y\":{\"__ndarray__\":\"AAAAAAAA+H8AAAAAAAD4fwAAAAAAAPh/AAAAAAAA+H8AAAAAAAD4fwAAAAAAAPh/AAAAAAAA+H8AAAAAAAD4fwAAAAAAAPh/AAAAAAAA+H8AAAAAAAD4fwAAAAAAAPh/AAAAAAAA+H8AAAAAAAD4fwAAAAAAAPh/AAAAAAAA+H8AAAAAAAD4fwAAAAAAAPh/AAAAAAAA+H8AAAAAAAD4fwAAAAAAAPh/AAAAAAAA+H8AAAAAAAD4fwAAAAAAAPh/AAAAAAAA+H8AAAAAAAD4fwAAAAAAOKdAAAAAAADSr0AAAAAAAGq0QAAAAAAADLdAAAAAAAAqu0AAAAAAgPDAQAAAAACA2cNAAAAAAACUx0AAAAAAgBvLQAAAAACAqs5AAAAAAAAr0UAAAAAAwNvSQAAAAACAdNRAAAAAAAAk1kAAAAAAwPfXQAAAAADAhNlAAAAAAICp2kAAAAAAwFjbQAAAAADAEtxAAAAAAEDg3EAAAAAAwCvdQAAAAABAgt1AAAAAAADk3UAAAAAAAGHeQAAAAADAbd5AAAAAAEDs3kAAAAAAADTfQAAAAADAYN9AAAAAAMDh3kAAAAAAAHHeQAAAAABAVd5AAAAAAMDM3UAAAAAAgMXdQAAAAACAv91AAAAAAABI3UAAAAAAwO7cQAAAAABAbtxAAAAAAIDi20AAAAAAwHXbQAAAAACAdNtAAAAAAIBM20AAAAAAwPXaQAAAAAAAHNpAAAAAAACU2UAAAAAAQDTZQAAAAADAJdlAAAAAAMAi2UAAAAAAAODYQAAAAABAH9hAAAAAAABa10AAAAAAwJjWQAAAAABAINZAAAAAAMAE1kAAAAAAgPnVQAAAAADAstVA\",\"dtype\":\"float64\",\"order\":\"little\",\"shape\":[81]}},\"selected\":{\"id\":\"6480\"},\"selection_policy\":{\"id\":\"6479\"}},\"id\":\"6454\",\"type\":\"ColumnDataSource\"},{\"attributes\":{},\"id\":\"6424\",\"type\":\"DataRange1d\"},{\"attributes\":{\"fill_color\":{\"value\":\"lightblue\"},\"line_color\":{\"value\":\"lightblue\"},\"size\":{\"units\":\"screen\",\"value\":10},\"x\":{\"field\":\"x\"},\"y\":{\"field\":\"y\"}},\"id\":\"6455\",\"type\":\"X\"},{\"attributes\":{},\"id\":\"6428\",\"type\":\"LinearScale\"},{\"attributes\":{\"formatter\":{\"id\":\"6465\"},\"ticker\":{\"id\":\"6433\"}},\"id\":\"6432\",\"type\":\"DatetimeAxis\"},{\"attributes\":{},\"id\":\"6426\",\"type\":\"DataRange1d\"},{\"attributes\":{},\"id\":\"6430\",\"type\":\"LinearScale\"},{\"attributes\":{\"num_minor_ticks\":5,\"tickers\":[{\"id\":\"6467\"},{\"id\":\"6468\"},{\"id\":\"6469\"},{\"id\":\"6470\"},{\"id\":\"6471\"},{\"id\":\"6472\"},{\"id\":\"6473\"},{\"id\":\"6474\"},{\"id\":\"6475\"},{\"id\":\"6476\"},{\"id\":\"6477\"},{\"id\":\"6478\"}]},\"id\":\"6433\",\"type\":\"DatetimeTicker\"},{\"attributes\":{\"axis\":{\"id\":\"6432\"},\"ticker\":null},\"id\":\"6435\",\"type\":\"Grid\"},{\"attributes\":{\"formatter\":{\"id\":\"6463\"},\"ticker\":{\"id\":\"6437\"}},\"id\":\"6436\",\"type\":\"LinearAxis\"},{\"attributes\":{\"axis\":{\"id\":\"6436\"},\"dimension\":1,\"ticker\":null},\"id\":\"6439\",\"type\":\"Grid\"},{\"attributes\":{},\"id\":\"6437\",\"type\":\"BasicTicker\"},{\"attributes\":{\"fill_alpha\":{\"value\":0.1},\"fill_color\":{\"value\":\"pink\"},\"line_alpha\":{\"value\":0.1},\"line_color\":{\"value\":\"pink\"},\"size\":{\"units\":\"screen\",\"value\":10},\"x\":{\"field\":\"x\"},\"y\":{\"field\":\"y\"}},\"id\":\"6485\",\"type\":\"X\"},{\"attributes\":{\"active_drag\":\"auto\",\"active_inspect\":\"auto\",\"active_multi\":null,\"active_scroll\":\"auto\",\"active_tap\":\"auto\",\"tools\":[{\"id\":\"6440\"},{\"id\":\"6441\"},{\"id\":\"6442\"},{\"id\":\"6443\"},{\"id\":\"6444\"},{\"id\":\"6445\"}]},\"id\":\"6447\",\"type\":\"Toolbar\"},{\"attributes\":{},\"id\":\"6441\",\"type\":\"WheelZoomTool\"},{\"attributes\":{},\"id\":\"6440\",\"type\":\"PanTool\"},{\"attributes\":{\"overlay\":{\"id\":\"6446\"}},\"id\":\"6442\",\"type\":\"BoxZoomTool\"},{\"attributes\":{},\"id\":\"6443\",\"type\":\"SaveTool\"},{\"attributes\":{\"data\":{\"x\":{\"__ndarray__\":\"AADAs1AGd0IAAIAZowZ3QgAAQH/1BndCAAAA5UcHd0IAAMBKmgd3QgAAgLDsB3dCAABAFj8Id0IAAAB8kQh3QgAAwOHjCHdCAACARzYJd0IAAECtiAl3QgAAABPbCXdCAADAeC0Kd0IAAIDefwp3QgAAQETSCndCAAAAqiQLd0IAAMAPdwt3QgAAgHXJC3dCAABA2xsMd0IAAABBbgx3QgAAwKbADHdCAACADBMNd0IAAEByZQ13QgAAANi3DXdCAADAPQoOd0IAAICjXA53QgAAQAmvDndCAAAAbwEPd0IAAMDUUw93QgAAgDqmD3dCAABAoPgPd0IAAAAGSxB3QgAAwGudEHdCAACA0e8Qd0IAAEA3QhF3QgAAAJ2UEXdCAADAAucRd0IAAIBoORJ3QgAAQM6LEndCAAAANN4Sd0IAAMCZMBN3QgAAgP+CE3dCAABAZdUTd0IAAADLJxR3QgAAwDB6FHdCAACAlswUd0IAAED8HhV3QgAAAGJxFXdCAADAx8MVd0IAAIAtFhZ3QgAAQJNoFndCAAAA+boWd0IAAMBeDRd3QgAAgMRfF3dCAABAKrIXd0IAAACQBBh3QgAAwPVWGHdCAACAW6kYd0IAAEDB+xh3QgAAACdOGXdCAADAjKAZd0IAAIDy8hl3QgAAQFhFGndCAAAAvpcad0IAAMAj6hp3QgAAgIk8G3dCAABA744bd0IAAABV4Rt3QgAAwLozHHdCAACAIIYcd0IAAECG2Bx3QgAAAOwqHXdCAADAUX0dd0IAAIC3zx13QgAAQB0iHndCAAAAg3Qed0IAAMDoxh53QgAAgE4ZH3dCAABAtGsfd0IAAAAavh93QgAAwH8QIHdC\",\"dtype\":\"float64\",\"order\":\"little\",\"shape\":[81]},\"y\":{\"__ndarray__\":\"AAAAAAAA+H8AAAAAAAD4fwAAAAAAAPh/AAAAAAAA+H8AAAAAAAD4fwAAAAAAAPh/AAAAAAAA+H8AAAAAAAD4fwAAAAAAAPh/AAAAAAAA+H8AAAAAAAD4fwAAAAAAAPh/AAAAAAAA+H8AAAAAAAD4fwAAAAAAAPh/AAAAAAAA+H8AAAAAAAD4fwAAAAAAAPh/AAAAAAAA+H8AAAAAAAD4fwAAAAAAAPh/AAAAAAAA+H8AAAAAAAD4fwAAAAAAAPh/AAAAAAAA+H8AAAAAAAD4fwAAAAAAGIhAAAAAAABQj0AAAAAAAESUQAAAAAAAtJZAAAAAAAAomkAAAAAAAECgQAAAAAAAjqNAAAAAAADupkAAAAAAAC6qQAAAAAAAXK1AAAAAAACMsEAAAAAAAPCxQAAAAAAAwLNAAAAAAAB4tUAAAAAAADS3QAAAAAAAobhAAAAAAACcuUAAAAAAAEO6QAAAAAAAy7pAAAAAAAAku0AAAAAAAFy7QAAAAAAAa7tAAAAAAAAZu0AAAAAAANu6QAAAAAAAYLpAAAAAAAA6ukAAAAAAACK6QAAAAAAAx7lAAAAAAAC7uEAAAAAAAPu3QAAAAAAAIrdAAAAAAABltkAAAAAAAAy2QAAAAAAA0LVAAAAAAADWtEAAAAAAAAe0QAAAAAAAZ7NAAAAAAACxskAAAAAAACGyQAAAAAAA9rFAAAAAAACusUAAAAAAACixQAAAAAAAILBAAAAAAADWrkAAAAAAANatQAAAAAAAdK1AAAAAAABkrUAAAAAAAG6sQAAAAAAAXqpAAAAAAAAuqEAAAAAAAL6mQAAAAAAACKZAAAAAAACYpUAAAAAAAFClQAAAAAAA1KRA\",\"dtype\":\"float64\",\"order\":\"little\",\"shape\":[81]}},\"selected\":{\"id\":\"6511\"},\"selection_policy\":{\"id\":\"6510\"}},\"id\":\"6483\",\"type\":\"ColumnDataSource\"},{\"attributes\":{\"bottom_units\":\"screen\",\"fill_alpha\":0.5,\"fill_color\":\"lightgrey\",\"left_units\":\"screen\",\"level\":\"overlay\",\"line_alpha\":1.0,\"line_color\":\"black\",\"line_dash\":[4,4],\"line_width\":2,\"right_units\":\"screen\",\"top_units\":\"screen\"},\"id\":\"6446\",\"type\":\"BoxAnnotation\"}],\"root_ids\":[\"6423\"]},\"title\":\"Bokeh Application\",\"version\":\"2.2.3\"}};\n",
       "  var render_items = [{\"docid\":\"34b9291f-5539-4d2c-a1af-4e8544a09062\",\"root_ids\":[\"6423\"],\"roots\":{\"6423\":\"c2febd8b-aa14-475b-86bf-590a349bdcac\"}}];\n",
       "  root.Bokeh.embed.embed_items_notebook(docs_json, render_items);\n",
       "\n",
       "  }\n",
       "  if (root.Bokeh !== undefined) {\n",
       "    embed_document(root);\n",
       "  } else {\n",
       "    var attempts = 0;\n",
       "    var timer = setInterval(function(root) {\n",
       "      if (root.Bokeh !== undefined) {\n",
       "        clearInterval(timer);\n",
       "        embed_document(root);\n",
       "      } else {\n",
       "        attempts++;\n",
       "        if (attempts > 100) {\n",
       "          clearInterval(timer);\n",
       "          console.log(\"Bokeh: ERROR: Unable to run BokehJS code because BokehJS library is missing\");\n",
       "        }\n",
       "      }\n",
       "    }, 10, root)\n",
       "  }\n",
       "})(window);"
      ],
      "application/vnd.bokehjs_exec.v0+json": ""
     },
     "metadata": {
      "application/vnd.bokehjs_exec.v0+json": {
       "id": "6423"
      }
     },
     "output_type": "display_data"
    }
   ],
   "source": [
    "plot_data(ground_truth_full, pred_dict)"
   ]
  },
  {
   "cell_type": "markdown",
   "metadata": {},
   "source": [
    "On peut également s'assurer qu'on vérifie bien les contraintes."
   ]
  },
  {
   "cell_type": "code",
   "execution_count": 50,
   "metadata": {},
   "outputs": [
    {
     "name": "stdout",
     "output_type": "stream",
     "text": [
      "0.4 < 0.5001879397966922 < 0.9\n",
      "0.05 < 0.05954312038107695 < 0.2\n",
      "0.01 < 0.010566984567111996 < 0.04\n",
      "0.1 < 0.19959130672179018 < 0.2\n",
      "0.1 < 0.1479741837114487 < 0.2\n",
      "0.2 < 0.39809114025945147 < 0.4\n",
      "8.0 < 11.999462437025368 < 12.0\n",
      "15.0 < 15.024950509819165 < 25.0\n",
      "10.0 < 19.963775266506236 < 20.0\n",
      "2.9 < 3.2881161366338896 < 3.4\n",
      "0.01 < 0.04998058851761259 < 0.08\n",
      "31 < 51.99042381039665 < 52\n",
      "0 < 10.017268842618588 < 31\n",
      "1.0 < 99.7092476109823 < 100.0\n",
      "0.0001 < 0.0009214899853773949 < 0.001\n"
     ]
    }
   ],
   "source": [
    "for k, p in enumerate(x_best):\n",
    "    param = input_params[idx_to_keys[k]]\n",
    "    print('{} < {} < {}'.format(param[0],p,param[1]))"
   ]
  },
  {
   "cell_type": "markdown",
   "metadata": {},
   "source": [
    "# Q8)"
   ]
  },
  {
   "cell_type": "markdown",
   "metadata": {},
   "source": [
    "$\\sigma^*_C$, $C \\in \\{DR, H, U, D, R\\}$ est tel que la vraisemblence $p(data |x^*, \\sigma) $ est maximal, où \n",
    "\\begin{equation*}\n",
    "    p(data |x^*, \\sigma) = (2 \\pi)^{-n_{DR} / 2 - 2n_H}\n",
    "    \\sigma_{DR}^{-n_{DR}} \\sigma_{H}^{-n_{DR}} \\sigma_{U}^{-n_{H}} \\sigma_{D}^{-n_{H}} \\sigma_{R}^{-n_{H}}\n",
    "    exp \n",
    "    \\left(\n",
    "        -\\frac{1}{2} \\sum \\limits_{i=1}^{n_{DR}} \\frac{f_{DR}(x, s_i)^2}{\\sigma^2_{DR}}\n",
    "        - \\frac{1}{2} \\sum_{i=1}^{n_H}  \n",
    "            \\frac{f_H(x, t_i)^2}{\\sigma^2_H} +\n",
    "            \\frac{f_U(x, t_i)^2}{\\sigma^2_U} +\n",
    "            \\frac{f_D(x, t_i)^2}{\\sigma^2_D} +\n",
    "            \\frac{f_R(x, t_i)^2}{\\sigma^2_R} \n",
    "    \\right)\n",
    "\\end{equation*}"
   ]
  },
  {
   "cell_type": "markdown",
   "metadata": {},
   "source": [
    "\\begin{equation*}\n",
    "    \\frac{\\partial}{\\partial \\sigma^2_C} log( p(data |x^*, \\sigma) ) = \n",
    "    -\\frac{n_{C}}{2 \\sigma^2_C} + \\frac{1}{2( \\sigma^4_C)} \\sum \\limits_{i=1}^{n_C}f_C(x, t_i)^2\n",
    "\\end{equation*}"
   ]
  },
  {
   "cell_type": "markdown",
   "metadata": {},
   "source": [
    "\\begin{equation*}\n",
    "    (\\sigma^*_C)^2 = \\frac{1}{n_C} \\sum \\limits_{i=1}^{n_C} f_{C}(x, t_i)^2\n",
    "\\end{equation*}"
   ]
  },
  {
   "cell_type": "markdown",
   "metadata": {},
   "source": [
    "Comme \n",
    "\\begin{equation*}\n",
    "    \\left. \\frac{\\partial}{\\partial^2 \\sigma^2_C} log( p(data |x^*, \\sigma) ) \\right|_{\\sigma^*_C} = \n",
    "    \\frac{n_{C}}{2 (\\sigma^*_C)^4} - \\frac{1}{(\\sigma^*_C)^6} \\sum \\limits_{i=1}^{n_C}f_C(x, t_i)^2 = -\\frac{n_C}{2} < 0\n",
    "\\end{equation*}\n",
    "\n",
    "$\\sigma^*_C$ est un point de maximum de $p(data|x^*, \\sigma)$."
   ]
  },
  {
   "cell_type": "markdown",
   "metadata": {},
   "source": [
    "# Q9)"
   ]
  },
  {
   "cell_type": "markdown",
   "metadata": {},
   "source": [
    "$p(x)$ est la density de la loi uniforme ($p(x) = const$)."
   ]
  },
  {
   "cell_type": "markdown",
   "metadata": {},
   "source": [
    "Plug-in : \n",
    "\\begin{equation*}\n",
    "    p(x | data) \\approx p(data | x, \\sigma^*) p(x) \\approx p(data | x, \\sigma^*)\n",
    "\\end{equation*}"
   ]
  },
  {
   "cell_type": "markdown",
   "metadata": {},
   "source": [
    "Full-bayésienne : \\\n",
    "On suppose que $x$ et $\\sigma$ sont indépendants\n",
    "\\begin{eqnarray*}\n",
    "    p(x | data) \\approx p(data | x) p(x) = \\int\\limits_{0}^{\\infty} p(data | x, \\sigma) p(x) p(\\sigma) d\\sigma\n",
    "\\end{eqnarray*}"
   ]
  },
  {
   "cell_type": "markdown",
   "metadata": {},
   "source": [
    "\\begin{equation*}\n",
    "    p(x | data) =\n",
    "    \\prod_{C \\in \\{DR, H, U, D, R\\}} \\int \\limits_{0}^{\\infty} \\frac{1}{\\sigma_C^{n_C + 1}} exp\\left( -\\frac{1}{2 \\sigma_C^2} \\sum\\limits_{i=1}^{n_C} f_c(x, s_i)^2\\right) d \\sigma\n",
    "\\end{equation*}"
   ]
  },
  {
   "cell_type": "markdown",
   "metadata": {},
   "source": [
    "Par le changement de varaible \n",
    "\\begin{equation*}\n",
    "    u = \\frac{1}{2 \\sigma_C ^ 2} \\sum\\limits_{i=1}^{n_C} f_C(x, s_i)^2\n",
    "\\end{equation*}\n",
    "on reçoit\n",
    "\\begin{eqnarray*}\n",
    "    \\int \\limits_{0}^{\\infty} \\frac{1}{\\sigma_C^{n_C + 1}} exp\\left( -\\frac{1}{2 \\sigma_C^2} \\sum\\limits_{i=1}^{n_C} f_c(x, s_i)^2\\right) d \\sigma\n",
    "    =\n",
    "    \\frac{ 2^{\\frac{n_C}{2} - 1}}{ \\left(  \\sum\\limits_{i=1}^{n_C} f_C(x, s_i)^2 \\right)^{\\frac{n_C}{2} - 1}}\n",
    "    \\int\\limits_{i=0}^{n_C} u^{\\frac{n_C}{2} - 1} e^{-u} du\n",
    "    =\n",
    "    \\frac{ 2^{\\frac{n_C}{2} - 1}}{ \\left(  \\sum\\limits_{i=1}^{n_C} f_C(x, s_i)^2 \\right)^{\\frac{n_C}{2} - 1}} Г(\\frac{n_C}{2} - 1)\n",
    "\\end{eqnarray*}\n",
    "Ainsi,\n",
    "\\begin{equation*}\n",
    "    p(x | data) \\approx \\frac{p(x)}{\\prod \\limits_{C \\in \\{DR, H, U, D, R \\}} \\left( \\sum \\limits_{i=1}^{n_C} f_C(x, s_i)^2 \\right)^{\\frac{n_C}{2} - 1} }\n",
    "    \\approx \n",
    "    \\frac{1}{\\prod \\limits_{C \\in \\{DR, H, U, D, R \\}} \\left( \\sum \\limits_{i=1}^{n_C} f_C(x, s_i)^2 \\right)^{\\frac{n_C}{2} - 1} }\n",
    "\\end{equation*}"
   ]
  },
  {
   "cell_type": "markdown",
   "metadata": {},
   "source": [
    "# Q10)"
   ]
  },
  {
   "cell_type": "code",
   "execution_count": 51,
   "metadata": {},
   "outputs": [],
   "source": [
    "bounds = np.array(list(input_params.values()))"
   ]
  },
  {
   "cell_type": "markdown",
   "metadata": {},
   "source": [
    "Le cas plug-in :"
   ]
  },
  {
   "cell_type": "code",
   "execution_count": 52,
   "metadata": {},
   "outputs": [],
   "source": [
    "def met_hast_plug(x, target, n_trial, n_sample, thinning = 1):\n",
    "    tini = (first_lockdown - init_date).days\n",
    "    pred = f(x, tend = datetime(year = 2020, month = 3, day = 31))[tini:, [5, 6, 7, 8, 9]]    \n",
    "    bounds = np.array(list(input_params.values()))\n",
    "    \n",
    "    def sigma_squared(pred, target):\n",
    "        eps = 1e-10\n",
    "        residuals = np.sum(((pred-target)**2/(pred+eps)), axis=0)\n",
    "        return residuals / pred.shape[0]\n",
    "    \n",
    "    optim_sigma_sq = sigma_squared(pred, target)\n",
    "    \n",
    "    def least_squared(pred, target, weight = np.ones(5)):\n",
    "        eps = 1e-10\n",
    "        residuals = ((pred-target)/np.sqrt(pred+eps))**2 * weight\n",
    "        return np.sum(np.where(residuals == residuals, residuals, 0))\n",
    "    \n",
    "    def compute_sqe(x):\n",
    "        pred = f(x, tend = datetime(year = 2020, month = 3, day = 31))[tini:, [5, 6, 7, 8, 9]]\n",
    "        return least_squared(pred, target, optim_sigma_sq)\n",
    "    \n",
    "    def sample(x, sqe):\n",
    "        x_new = x.copy()\n",
    "        k = 0.005*(bounds[:, 1] - bounds[:, 0])\n",
    "        x_new += k*np.random.randn(x.shape[0]) #(2*k*np.random.rand() - k)\n",
    "        if np.all(x_new >= bounds[:, 0]) and np.all(x_new <= bounds[:, 1]):\n",
    "            sqe_new = compute_sqe(x_new)  \n",
    "            \n",
    "            ro = min(0, 0.5*(sqe - sqe_new))\n",
    "            q = np.random.rand(1)\n",
    "            if np.log(q) <= ro:\n",
    "                return x_new, sqe_new\n",
    "            else:\n",
    "                return x, sqe\n",
    "        else:\n",
    "            return x, sqe\n",
    "        \n",
    "    result = np.zeros((n_sample, 15))\n",
    "    x = 0.8*bounds[:, 0] + 0.2*bounds[:, 1]\n",
    "    sqe = compute_sqe(x)\n",
    "\n",
    "    for i in range(n_trial):\n",
    "        x, sqe = sample(x, sqe)\n",
    "    \n",
    "    for i in range(thinning * n_sample):\n",
    "        x, sqe = sample(x, sqe)\n",
    "        if i % thinning == 0:\n",
    "            result[i // thinning] = x\n",
    "            \n",
    "    return result "
   ]
  },
  {
   "cell_type": "code",
   "execution_count": 53,
   "metadata": {},
   "outputs": [],
   "source": [
    "plug_in = met_hast_plug(x_best, target, 100, 5000, 20)"
   ]
  },
  {
   "cell_type": "markdown",
   "metadata": {},
   "source": [
    "Le cas full-bayésien : "
   ]
  },
  {
   "cell_type": "code",
   "execution_count": 54,
   "metadata": {},
   "outputs": [],
   "source": [
    "def met_hast_bays(x, target, n_trial, n_sample, thinning = 1):\n",
    "    tini = (first_lockdown - init_date).days\n",
    "    bounds = np.array(list(input_params.values()))\n",
    "    degree = (end_fit - first_lockdown).days + 1\n",
    "    \n",
    "    pred = f(x, tend = datetime(year = 2020, month = 3, day = 31))[tini:, [5, 6, 7, 8, 9]]    \n",
    "\n",
    "    def sigma_squared(pred, target):\n",
    "        eps = 1e-10\n",
    "        residuals = np.sum(((pred-target)**2/(pred+eps)), axis=0)\n",
    "        return residuals / pred.shape[0]\n",
    "    \n",
    "    optim_sigma_sq = sigma_squared(pred, target)\n",
    "    \n",
    "    def least_squared(pred, target, weight = np.ones(5)):\n",
    "        eps = 1e-10\n",
    "        residuals = ((pred-target)/np.sqrt(pred+eps))**2 * weight\n",
    "        return np.sum(np.where(residuals == residuals, residuals, 0))\n",
    "    \n",
    "    def compute_sigma_sq(x):\n",
    "        pred = f(x, tend = datetime(year = 2020, month = 3, day = 31))[tini:, [5, 6, 7, 8, 9]]\n",
    "        sigma_sq = sigma_squared(pred, target)\n",
    "        return np.array(sigma_sq)\n",
    "    \n",
    "    def sample(x, sigma_sq):\n",
    "        x_new = x.copy()\n",
    "        k = 0.005*(bounds[:, 1] - bounds[:, 0])\n",
    "        x_new += k*np.random.randn(x.shape[0]) #(2*k*np.random.rand() - k)\n",
    "        if np.all(x_new >= bounds[:, 0]) and np.all(x_new <= bounds[:, 1]):\n",
    "            sigma_sq_new = compute_sigma_sq(x_new)\n",
    "            ro = min(0, np.sum(np.log(sigma_sq / sigma_sq_new)*(degree - 2)))\n",
    "            q = np.random.rand(1)\n",
    "            if np.log(q) <= ro:\n",
    "                return x_new, sigma_sq_new\n",
    "            else:\n",
    "                return x, sigma_sq\n",
    "        else:\n",
    "            return x, sigma_sq\n",
    "        \n",
    "    result = np.zeros((n_sample, 15))\n",
    "    x = 0.8*bounds[:, 0] + 0.2*bounds[:, 1]\n",
    "    sigma_sq = compute_sigma_sq(x)\n",
    "\n",
    "    for i in range(n_trial):\n",
    "        x, sigma_sq = sample(x, sigma_sq)\n",
    "    \n",
    "    for i in range(thinning * n_sample):\n",
    "        x, sigma_sq = sample(x, sigma_sq)\n",
    "        if i % thinning == 0:\n",
    "            result[i // thinning] = x\n",
    "            \n",
    "    return result "
   ]
  },
  {
   "cell_type": "code",
   "execution_count": 55,
   "metadata": {},
   "outputs": [],
   "source": [
    "full_bayes = met_hast_bays(x_best, np.array(target, dtype=np.float64), 100, 5000, 20)"
   ]
  },
  {
   "cell_type": "code",
   "execution_count": 56,
   "metadata": {},
   "outputs": [
    {
     "data": {
      "image/png": "[encoded data removed]",
      "text/plain": [
       "<Figure size 1080x720 with 1 Axes>"
      ]
     },
     "metadata": {
      "needs_background": "light"
     },
     "output_type": "display_data"
    },
    {
     "data": {
      "image/png": "[encoded data removed]",
      "text/plain": [
       "<Figure size 1080x720 with 1 Axes>"
      ]
     },
     "metadata": {
      "needs_background": "light"
     },
     "output_type": "display_data"
    }
   ],
   "source": [
    "k = 8\n",
    "plot_hist(plug_in[:, k], bins = 50, name = f\"Plug In pour {idx_to_keys[k]}\")\n",
    "plot_hist(full_bayes[:, k], bins = 50, name = f\"Full Bays pour {idx_to_keys[k]}\")"
   ]
  },
  {
   "cell_type": "markdown",
   "metadata": {},
   "source": [
    "Prior mean :"
   ]
  },
  {
   "cell_type": "code",
   "execution_count": 57,
   "metadata": {},
   "outputs": [
    {
     "data": {
      "text/plain": [
       "array([6.50e-01, 1.25e-01, 2.50e-02, 1.50e-01, 1.50e-01, 3.00e-01,\n",
       "       1.00e+01, 2.00e+01, 1.50e+01, 3.15e+00, 4.50e-02, 4.15e+01,\n",
       "       1.55e+01, 5.05e+01, 5.50e-04])"
      ]
     },
     "execution_count": 57,
     "metadata": {},
     "output_type": "execute_result"
    }
   ],
   "source": [
    "np.mean(bounds, axis=1)"
   ]
  },
  {
   "cell_type": "markdown",
   "metadata": {},
   "source": [
    "Plug In mean :"
   ]
  },
  {
   "cell_type": "code",
   "execution_count": 58,
   "metadata": {},
   "outputs": [
    {
     "data": {
      "text/plain": [
       "array([6.80484787e-01, 5.16513423e-02, 1.36204315e-02, 1.78026146e-01,\n",
       "       1.41092473e-01, 3.26023913e-01, 8.13971673e+00, 1.73184609e+01,\n",
       "       1.02377363e+01, 3.05430460e+00, 2.10189531e-02, 3.84424222e+01,\n",
       "       6.53056728e+00, 6.72202995e+00, 7.44919735e-04])"
      ]
     },
     "execution_count": 58,
     "metadata": {},
     "output_type": "execute_result"
    }
   ],
   "source": [
    "np.mean(plug_in, axis=0)"
   ]
  },
  {
   "cell_type": "markdown",
   "metadata": {},
   "source": [
    "Full-bayesienne mean :"
   ]
  },
  {
   "cell_type": "code",
   "execution_count": 59,
   "metadata": {},
   "outputs": [
    {
     "data": {
      "text/plain": [
       "array([4.73438767e-01, 5.93287387e-02, 1.42086626e-02, 1.87794188e-01,\n",
       "       1.28436338e-01, 3.23084806e-01, 8.45955256e+00, 1.56734094e+01,\n",
       "       1.04240027e+01, 2.97830718e+00, 5.00943091e-02, 4.88796297e+01,\n",
       "       6.91883094e+00, 5.63938812e+00, 1.98563669e-04])"
      ]
     },
     "execution_count": 59,
     "metadata": {},
     "output_type": "execute_result"
    }
   ],
   "source": [
    "np.mean(full_bayes, axis=0)"
   ]
  },
  {
   "cell_type": "markdown",
   "metadata": {},
   "source": [
    "Prior std :"
   ]
  },
  {
   "cell_type": "code",
   "execution_count": 60,
   "metadata": {},
   "outputs": [
    {
     "data": {
      "text/plain": [
       "array([2.08333333e-02, 1.87500000e-03, 7.50000000e-05, 8.33333333e-04,\n",
       "       8.33333333e-04, 3.33333333e-03, 1.33333333e+00, 8.33333333e+00,\n",
       "       8.33333333e+00, 2.08333333e-02, 4.08333333e-04, 3.67500000e+01,\n",
       "       8.00833333e+01, 8.16750000e+02, 6.75000000e-08])"
      ]
     },
     "execution_count": 60,
     "metadata": {},
     "output_type": "execute_result"
    }
   ],
   "source": [
    "prior_std = (bounds[:, 1] - bounds[:, 0])**2 / 12\n",
    "prior_std"
   ]
  },
  {
   "cell_type": "markdown",
   "metadata": {},
   "source": [
    "Plug In std :"
   ]
  },
  {
   "cell_type": "code",
   "execution_count": 61,
   "metadata": {},
   "outputs": [
    {
     "data": {
      "text/plain": [
       "array([2.27784199e-02, 1.98219483e-03, 8.77572803e-04, 1.35927102e-02,\n",
       "       6.24734199e-03, 1.97234204e-02, 1.66317847e-01, 4.73353740e-01,\n",
       "       5.17613360e-01, 1.25256921e-02, 1.64960199e-03, 8.43767560e-01,\n",
       "       2.27914420e-01, 2.00215285e+00, 6.84333003e-05])"
      ]
     },
     "execution_count": 61,
     "metadata": {},
     "output_type": "execute_result"
    }
   ],
   "source": [
    "plug_in_std = np.std(plug_in, axis=0)\n",
    "plug_in_std"
   ]
  },
  {
   "cell_type": "markdown",
   "metadata": {},
   "source": [
    "Full-bayesienne std :"
   ]
  },
  {
   "cell_type": "code",
   "execution_count": 62,
   "metadata": {},
   "outputs": [
    {
     "data": {
      "text/plain": [
       "array([4.34453851e-02, 4.95239037e-03, 1.26758962e-03, 2.07730687e-02,\n",
       "       6.29073720e-03, 1.90895820e-02, 1.86222936e-01, 8.86246572e-01,\n",
       "       4.40302987e-01, 2.05075228e-02, 1.58183021e-02, 4.03458032e+00,\n",
       "       1.54496453e+00, 1.69043479e+00, 5.33513408e-05])"
      ]
     },
     "execution_count": 62,
     "metadata": {},
     "output_type": "execute_result"
    }
   ],
   "source": [
    "full_bayes_std = np.std(full_bayes, axis=0)\n",
    "full_bayes_std"
   ]
  },
  {
   "cell_type": "markdown",
   "metadata": {},
   "source": [
    "La matrice de corrélation pour PLug In :"
   ]
  },
  {
   "cell_type": "code",
   "execution_count": 63,
   "metadata": {},
   "outputs": [
    {
     "data": {
      "text/plain": [
       "array([[ 1.        , -0.47391147, -0.81264654,  0.64969228,  0.49438306,\n",
       "         0.71649965, -0.86962239, -0.19829463, -0.77791882,  0.41352845,\n",
       "         0.77190729,  0.68478378,  0.14267951, -0.74706859,  0.78291872],\n",
       "       [-0.47391147,  1.        ,  0.21617161, -0.03319802,  0.08641612,\n",
       "        -0.02875848,  0.26250351, -0.50530789,  0.09573833,  0.13960648,\n",
       "        -0.06440918,  0.01727385,  0.1454106 ,  0.00575219, -0.16192587],\n",
       "       [-0.81264654,  0.21617161,  1.        , -0.86295032, -0.74178686,\n",
       "        -0.89585299,  0.91660477,  0.5509663 ,  0.93663962, -0.41199432,\n",
       "        -0.90861771, -0.88403903, -0.21770089,  0.88540938, -0.84903492],\n",
       "       [ 0.64969228, -0.03319802, -0.86295032,  1.        ,  0.96099325,\n",
       "         0.98285577, -0.86849443, -0.77497624, -0.89852378,  0.60169127,\n",
       "         0.95422553,  0.94168121,  0.1990318 , -0.93953743,  0.93994313],\n",
       "       [ 0.49438306,  0.08641612, -0.74178686,  0.96099325,  1.        ,\n",
       "         0.92291684, -0.77394259, -0.82625216, -0.79987728,  0.5973843 ,\n",
       "         0.88982275,  0.88554254,  0.22372074, -0.87980948,  0.86522992],\n",
       "       [ 0.71649965, -0.02875848, -0.89585299,  0.98285577,  0.92291684,\n",
       "         1.        , -0.88625543, -0.76374459, -0.92123251,  0.63034362,\n",
       "         0.96796904,  0.95107401,  0.23483235, -0.95477794,  0.9573554 ],\n",
       "       [-0.86962239,  0.26250351,  0.91660477, -0.86849443, -0.77394259,\n",
       "        -0.88625543,  1.        ,  0.52987337,  0.93975653, -0.40227916,\n",
       "        -0.9385505 , -0.89637327, -0.24471218,  0.94164807, -0.87336218],\n",
       "       [-0.19829463, -0.50530789,  0.5509663 , -0.77497624, -0.82625216,\n",
       "        -0.76374459,  0.52987337,  1.        ,  0.67849864, -0.52539185,\n",
       "        -0.71960559, -0.79248977, -0.33600935,  0.7334666 , -0.61182799],\n",
       "       [-0.77791882,  0.09573833,  0.93663962, -0.89852378, -0.79987728,\n",
       "        -0.92123251,  0.93975653,  0.67849864,  1.        , -0.42228617,\n",
       "        -0.94504594, -0.95129055, -0.24322742,  0.93832117, -0.85188552],\n",
       "       [ 0.41352845,  0.13960648, -0.41199432,  0.60169127,  0.5973843 ,\n",
       "         0.63034362, -0.40227916, -0.52539185, -0.42228617,  1.        ,\n",
       "         0.6172663 ,  0.5497463 ,  0.08875018, -0.60424297,  0.71292028],\n",
       "       [ 0.77190729, -0.06440918, -0.90861771,  0.95422553,  0.88982275,\n",
       "         0.96796904, -0.9385505 , -0.71960559, -0.94504594,  0.6172663 ,\n",
       "         1.        ,  0.97612173,  0.25905555, -0.98181541,  0.94350183],\n",
       "       [ 0.68478378,  0.01727385, -0.88403903,  0.94168121,  0.88554254,\n",
       "         0.95107401, -0.89637327, -0.79248977, -0.95129055,  0.5497463 ,\n",
       "         0.97612173,  1.        ,  0.29477033, -0.96303316,  0.88790375],\n",
       "       [ 0.14267951,  0.1454106 , -0.21770089,  0.1990318 ,  0.22372074,\n",
       "         0.23483235, -0.24471218, -0.33600935, -0.24322742,  0.08875018,\n",
       "         0.25905555,  0.29477033,  1.        , -0.26977499,  0.19169562],\n",
       "       [-0.74706859,  0.00575219,  0.88540938, -0.93953743, -0.87980948,\n",
       "        -0.95477794,  0.94164807,  0.7334666 ,  0.93832117, -0.60424297,\n",
       "        -0.98181541, -0.96303316, -0.26977499,  1.        , -0.92343129],\n",
       "       [ 0.78291872, -0.16192587, -0.84903492,  0.93994313,  0.86522992,\n",
       "         0.9573554 , -0.87336218, -0.61182799, -0.85188552,  0.71292028,\n",
       "         0.94350183,  0.88790375,  0.19169562, -0.92343129,  1.        ]])"
      ]
     },
     "execution_count": 63,
     "metadata": {},
     "output_type": "execute_result"
    }
   ],
   "source": [
    "plug_in_corm = np.corrcoef(plug_in.T)\n",
    "plug_in_corm"
   ]
  },
  {
   "cell_type": "markdown",
   "metadata": {},
   "source": [
    "La matrice de corrélation pour Full-bayesienne :"
   ]
  },
  {
   "cell_type": "code",
   "execution_count": 64,
   "metadata": {},
   "outputs": [
    {
     "data": {
      "text/plain": [
       "array([[ 1.        ,  0.58020243,  0.61698582,  0.20676339, -0.41375241,\n",
       "        -0.0070596 ,  0.46764144, -0.14076215, -0.31150559, -0.14069221,\n",
       "         0.50704026,  0.37038513, -0.77842825, -0.4649811 ,  0.69182315],\n",
       "       [ 0.58020243,  1.        ,  0.94993308, -0.16106005, -0.24322494,\n",
       "        -0.17315525,  0.52030831, -0.10923559,  0.04522408, -0.33855043,\n",
       "         0.31587178,  0.06048951, -0.7585756 , -0.40852338,  0.77053854],\n",
       "       [ 0.61698582,  0.94993308,  1.        , -0.29643238, -0.39218692,\n",
       "        -0.3024381 ,  0.44690788,  0.11067201, -0.05175228, -0.25244777,\n",
       "         0.19150349, -0.05840574, -0.70810245, -0.34582629,  0.77255151],\n",
       "       [ 0.20676339, -0.16106005, -0.29643238,  1.        ,  0.37295263,\n",
       "         0.86317914,  0.31074562, -0.84529262, -0.52156945, -0.08616287,\n",
       "         0.79755032,  0.92566385, -0.18956782, -0.32547849,  0.02447932],\n",
       "       [-0.41375241, -0.24322494, -0.39218692,  0.37295263,  1.        ,\n",
       "         0.5058581 ,  0.18393492, -0.51748489, -0.20520845,  0.13562388,\n",
       "         0.37319239,  0.39812523,  0.2033475 , -0.03320645, -0.27067394],\n",
       "       [-0.0070596 , -0.17315525, -0.3024381 ,  0.86317914,  0.5058581 ,\n",
       "         1.        ,  0.15186828, -0.79917304, -0.53670667, -0.00693858,\n",
       "         0.74586035,  0.85756822, -0.08178842, -0.41020025, -0.04177536],\n",
       "       [ 0.46764144,  0.52030831,  0.44690788,  0.31074562,  0.18393492,\n",
       "         0.15186828,  1.        , -0.4074527 , -0.28730515, -0.04981351,\n",
       "         0.59737077,  0.47569927, -0.55120887, -0.03576851,  0.53679141],\n",
       "       [-0.14076215, -0.10923559,  0.11067201, -0.84529262, -0.51748489,\n",
       "        -0.79917304, -0.4074527 ,  1.        ,  0.31175952,  0.25317807,\n",
       "        -0.82619063, -0.84898059,  0.34813821,  0.44414975, -0.12220918],\n",
       "       [-0.31150559,  0.04522408, -0.05175228, -0.52156945, -0.20520845,\n",
       "        -0.53670667, -0.28730515,  0.31175952,  1.        , -0.21639145,\n",
       "        -0.60890769, -0.65665518,  0.17707933,  0.28876033, -0.19436253],\n",
       "       [-0.14069221, -0.33855043, -0.25244777, -0.08616287,  0.13562388,\n",
       "        -0.00693858, -0.04981351,  0.25317807, -0.21639145,  1.        ,\n",
       "        -0.11142365, -0.05841313,  0.34191988,  0.05085912, -0.17776717],\n",
       "       [ 0.50704026,  0.31587178,  0.19150349,  0.79755032,  0.37319239,\n",
       "         0.74586035,  0.59737077, -0.82619063, -0.60890769, -0.11142365,\n",
       "         1.        ,  0.95226864, -0.58051035, -0.58802621,  0.45555999],\n",
       "       [ 0.37038513,  0.06048951, -0.05840574,  0.92566385,  0.39812523,\n",
       "         0.85756822,  0.47569927, -0.84898059, -0.65665518, -0.05841313,\n",
       "         0.95226864,  1.        , -0.3875301 , -0.48727594,  0.25291435],\n",
       "       [-0.77842825, -0.7585756 , -0.70810245, -0.18956782,  0.2033475 ,\n",
       "        -0.08178842, -0.55120887,  0.34813821,  0.17707933,  0.34191988,\n",
       "        -0.58051035, -0.3875301 ,  1.        ,  0.67785254, -0.63396349],\n",
       "       [-0.4649811 , -0.40852338, -0.34582629, -0.32547849, -0.03320645,\n",
       "        -0.41020025, -0.03576851,  0.44414975,  0.28876033,  0.05085912,\n",
       "        -0.58802621, -0.48727594,  0.67785254,  1.        , -0.31499546],\n",
       "       [ 0.69182315,  0.77053854,  0.77255151,  0.02447932, -0.27067394,\n",
       "        -0.04177536,  0.53679141, -0.12220918, -0.19436253, -0.17776717,\n",
       "         0.45555999,  0.25291435, -0.63396349, -0.31499546,  1.        ]])"
      ]
     },
     "execution_count": 64,
     "metadata": {},
     "output_type": "execute_result"
    }
   ],
   "source": [
    "full_bayes_corm = np.corrcoef(full_bayes.T)\n",
    "full_bayes_corm"
   ]
  },
  {
   "cell_type": "markdown",
   "metadata": {},
   "source": [
    "On voit que les variances de $N_I, N_H, N_U, N, t_0, I^-_0$ de la loi a posteriori sont bien inférieures par rapport les variances du prior. Ainsi, nous pouvons dire que l'incertitude a été réduite pour ces paramètres. La variance n'a pas beaucoup changé pour les autres paramètres. "
   ]
  },
  {
   "cell_type": "markdown",
   "metadata": {},
   "source": [
    "# Q11)"
   ]
  },
  {
   "cell_type": "markdown",
   "metadata": {},
   "source": [
    "Les meilleurs paramètres du model est l'esperance de la loi a posteriori."
   ]
  },
  {
   "cell_type": "code",
   "execution_count": 65,
   "metadata": {},
   "outputs": [],
   "source": [
    "delta_time = timedelta(days = 1)"
   ]
  },
  {
   "cell_type": "markdown",
   "metadata": {},
   "source": [
    "Le cas Plug In:"
   ]
  },
  {
   "cell_type": "code",
   "execution_count": 66,
   "metadata": {},
   "outputs": [],
   "source": [
    "tini = (datetime(year = 2020, month = 4, day = 1) - init_date).days\n",
    "sol_plug_in = f(np.mean(plug_in, axis=0), tend = datetime(year = 2020, month = 5, day = 11))[tini: ]\n",
    "sol_frame_plug_in = pd.DataFrame({\n",
    "    'date': [datetime(year = 2020, month = 4, day = 1)+k*delta_time for k in range(sol_plug_in.shape[0])],\n",
    "    'H' : sol_plug_in[:,ykeys['H']],\n",
    "    'U' : sol_plug_in[:,ykeys['U']],\n",
    "    'D' : sol_plug_in[:,ykeys['D']],\n",
    "})"
   ]
  },
  {
   "cell_type": "code",
   "execution_count": 67,
   "metadata": {},
   "outputs": [
    {
     "data": {
      "text/html": [
       "\n",
       "\n",
       "\n",
       "\n",
       "\n",
       "\n",
       "  <div class=\"bk-root\" id=\"8df2ea08-b429-4533-b993-a2b034200996\" data-root-id=\"7351\"></div>\n"
      ]
     },
     "metadata": {},
     "output_type": "display_data"
    },
    {
     "data": {
      "application/javascript": [
       "(function(root) {\n",
       "  function embed_document(root) {\n",
       "    \n",
       "  var docs_json = {\"4f38c061-7fa1-4312-acef-0d566bc55fe1\":{\"roots\":{\"references\":[{\"attributes\":{\"below\":[{\"id\":\"7360\"}],\"center\":[{\"id\":\"7363\"},{\"id\":\"7367\"},{\"id\":\"7409\"}],\"left\":[{\"id\":\"7364\"}],\"plot_height\":450,\"plot_width\":900,\"renderers\":[{\"id\":\"7386\"},{\"id\":\"7415\"},{\"id\":\"7445\"}],\"title\":{\"id\":\"7388\"},\"toolbar\":{\"id\":\"7375\"},\"x_range\":{\"id\":\"7352\"},\"x_scale\":{\"id\":\"7356\"},\"y_range\":{\"id\":\"7354\"},\"y_scale\":{\"id\":\"7358\"}},\"id\":\"7351\",\"subtype\":\"Figure\",\"type\":\"Plot\"},{\"attributes\":{\"source\":{\"id\":\"7441\"}},\"id\":\"7446\",\"type\":\"CDSView\"},{\"attributes\":{\"data\":{\"x\":{\"__ndarray__\":\"AADAmTATd0IAAID/ghN3QgAAQGXVE3dCAAAAyycUd0IAAMAwehR3QgAAgJbMFHdCAABA/B4Vd0IAAABicRV3QgAAwMfDFXdCAACALRYWd0IAAECTaBZ3QgAAAPm6FndCAADAXg0Xd0IAAIDEXxd3QgAAQCqyF3dCAAAAkAQYd0IAAMD1Vhh3QgAAgFupGHdCAABAwfsYd0IAAAAnThl3QgAAwIygGXdCAACA8vIZd0IAAEBYRRp3QgAAAL6XGndCAADAI+oad0IAAICJPBt3QgAAQO+OG3dCAAAAVeEbd0IAAMC6Mxx3QgAAgCCGHHdCAABAhtgcd0IAAADsKh13QgAAwFF9HXdCAACAt88dd0IAAEAdIh53QgAAAIN0HndCAADA6MYed0IAAIBOGR93QgAAQLRrH3dCAAAAGr4fd0IAAMB/ECB3Qg==\",\"dtype\":\"float64\",\"order\":\"little\",\"shape\":[41]},\"y\":{\"__ndarray__\":\"lmNCeEBxukB+UY2tNh29QOzVB4sZ579AUu1HqbJlwUA+KLk9C+PCQEazRa9bacRASFBWZzj2xUANkWePDofHQOCGqIAuGclAb0hFztapykDDxuaUPzbMQEyDK72lu81ARiBr3VU3z0AE6Kc7W1PQQF0wKamoA9FAR5U/4G2r0UBRKPLUnknSQKAxtaNL3dJAOoJ/wKJl00DT9nJ48uHTQJPRwM6pUdRAmV6asli01EDgnmGtrwnVQKk0zwh/UdVAzGAziLWL1UD2j/fAXrjVQDDwPyeh19VAuPnP3rvp1UA8WwVnBO/VQG/b3hrk59VALXm3v9XU1UDHS8P9YrbVQLD5W+shjdVAuBsCq7JZ1UAZguIjvRzVQLkL3tvu1tRA0fnc9fiI1EBrrUBXjjPUQGEtlgBi19NA+QBFeSV100DAb1+Ihw3TQA==\",\"dtype\":\"float64\",\"order\":\"little\",\"shape\":[41]}},\"selected\":{\"id\":\"7439\"},\"selection_policy\":{\"id\":\"7438\"}},\"id\":\"7411\",\"type\":\"ColumnDataSource\"},{\"attributes\":{\"formatter\":{\"id\":\"7393\"},\"ticker\":{\"id\":\"7361\"}},\"id\":\"7360\",\"type\":\"DatetimeAxis\"},{\"attributes\":{\"fill_alpha\":{\"value\":0.1},\"fill_color\":{\"value\":\"pink\"},\"line_alpha\":{\"value\":0.1},\"line_color\":{\"value\":\"pink\"},\"size\":{\"units\":\"screen\",\"value\":10},\"x\":{\"field\":\"x\"},\"y\":{\"field\":\"y\"}},\"id\":\"7413\",\"type\":\"X\"},{\"attributes\":{\"fill_alpha\":{\"value\":0.01},\"fill_color\":{\"value\":\"red\"},\"line_alpha\":{\"value\":0.01},\"line_color\":{\"value\":\"red\"},\"size\":{\"units\":\"screen\",\"value\":10},\"x\":{\"field\":\"x\"},\"y\":{\"field\":\"y\"}},\"id\":\"7444\",\"type\":\"X\"},{\"attributes\":{\"formatter\":{\"id\":\"7391\"},\"ticker\":{\"id\":\"7365\"}},\"id\":\"7364\",\"type\":\"LinearAxis\"},{\"attributes\":{\"data_source\":{\"id\":\"7411\"},\"glyph\":{\"id\":\"7412\"},\"hover_glyph\":null,\"muted_glyph\":{\"id\":\"7414\"},\"nonselection_glyph\":{\"id\":\"7413\"},\"selection_glyph\":null,\"view\":{\"id\":\"7416\"}},\"id\":\"7415\",\"type\":\"GlyphRenderer\"},{\"attributes\":{\"label\":{\"value\":\"D\"},\"renderers\":[{\"id\":\"7445\"}]},\"id\":\"7472\",\"type\":\"LegendItem\"},{\"attributes\":{},\"id\":\"7393\",\"type\":\"DatetimeTickFormatter\"},{\"attributes\":{},\"id\":\"7354\",\"type\":\"DataRange1d\"},{\"attributes\":{\"source\":{\"id\":\"7411\"}},\"id\":\"7416\",\"type\":\"CDSView\"},{\"attributes\":{\"bottom_units\":\"screen\",\"fill_alpha\":0.5,\"fill_color\":\"lightgrey\",\"left_units\":\"screen\",\"level\":\"overlay\",\"line_alpha\":1.0,\"line_color\":\"black\",\"line_dash\":[4,4],\"line_width\":2,\"right_units\":\"screen\",\"top_units\":\"screen\"},\"id\":\"7374\",\"type\":\"BoxAnnotation\"},{\"attributes\":{\"fill_alpha\":{\"value\":0.1},\"fill_color\":{\"value\":\"lightblue\"},\"line_alpha\":{\"value\":0.1},\"line_color\":{\"value\":\"lightblue\"},\"size\":{\"units\":\"screen\",\"value\":10},\"x\":{\"field\":\"x\"},\"y\":{\"field\":\"y\"}},\"id\":\"7384\",\"type\":\"X\"},{\"attributes\":{\"fill_alpha\":{\"value\":0.01},\"fill_color\":{\"value\":\"pink\"},\"line_alpha\":{\"value\":0.01},\"line_color\":{\"value\":\"pink\"},\"size\":{\"units\":\"screen\",\"value\":10},\"x\":{\"field\":\"x\"},\"y\":{\"field\":\"y\"}},\"id\":\"7414\",\"type\":\"X\"},{\"attributes\":{\"days\":[1,2,3,4,5,6,7,8,9,10,11,12,13,14,15,16,17,18,19,20,21,22,23,24,25,26,27,28,29,30,31]},\"id\":\"7398\",\"type\":\"DaysTicker\"},{\"attributes\":{\"mantissas\":[1,2,5],\"max_interval\":500.0,\"num_minor_ticks\":0},\"id\":\"7395\",\"type\":\"AdaptiveTicker\"},{\"attributes\":{\"fill_alpha\":{\"value\":0.1},\"fill_color\":{\"value\":\"red\"},\"line_alpha\":{\"value\":0.1},\"line_color\":{\"value\":\"red\"},\"size\":{\"units\":\"screen\",\"value\":10},\"x\":{\"field\":\"x\"},\"y\":{\"field\":\"y\"}},\"id\":\"7443\",\"type\":\"X\"},{\"attributes\":{\"label\":{\"value\":\"U\"},\"renderers\":[{\"id\":\"7415\"}]},\"id\":\"7440\",\"type\":\"LegendItem\"},{\"attributes\":{},\"id\":\"7352\",\"type\":\"DataRange1d\"},{\"attributes\":{\"base\":24,\"mantissas\":[1,2,4,6,8,12],\"max_interval\":43200000.0,\"min_interval\":3600000.0,\"num_minor_ticks\":0},\"id\":\"7397\",\"type\":\"AdaptiveTicker\"},{\"attributes\":{\"text\":\"\"},\"id\":\"7388\",\"type\":\"Title\"},{\"attributes\":{},\"id\":\"7471\",\"type\":\"Selection\"},{\"attributes\":{\"base\":60,\"mantissas\":[1,2,5,10,15,20,30],\"max_interval\":1800000.0,\"min_interval\":1000.0,\"num_minor_ticks\":0},\"id\":\"7396\",\"type\":\"AdaptiveTicker\"},{\"attributes\":{},\"id\":\"7470\",\"type\":\"UnionRenderers\"},{\"attributes\":{\"months\":[0,2,4,6,8,10]},\"id\":\"7403\",\"type\":\"MonthsTicker\"},{\"attributes\":{\"data_source\":{\"id\":\"7382\"},\"glyph\":{\"id\":\"7383\"},\"hover_glyph\":null,\"muted_glyph\":{\"id\":\"7385\"},\"nonselection_glyph\":{\"id\":\"7384\"},\"selection_glyph\":null,\"view\":{\"id\":\"7387\"}},\"id\":\"7386\",\"type\":\"GlyphRenderer\"},{\"attributes\":{\"months\":[0,1,2,3,4,5,6,7,8,9,10,11]},\"id\":\"7402\",\"type\":\"MonthsTicker\"},{\"attributes\":{\"days\":[1,4,7,10,13,16,19,22,25,28]},\"id\":\"7399\",\"type\":\"DaysTicker\"},{\"attributes\":{\"days\":[1,15]},\"id\":\"7401\",\"type\":\"DaysTicker\"},{\"attributes\":{\"axis\":{\"id\":\"7360\"},\"ticker\":null},\"id\":\"7363\",\"type\":\"Grid\"},{\"attributes\":{\"source\":{\"id\":\"7382\"}},\"id\":\"7387\",\"type\":\"CDSView\"},{\"attributes\":{\"active_drag\":\"auto\",\"active_inspect\":\"auto\",\"active_multi\":null,\"active_scroll\":\"auto\",\"active_tap\":\"auto\",\"tools\":[{\"id\":\"7368\"},{\"id\":\"7369\"},{\"id\":\"7370\"},{\"id\":\"7371\"},{\"id\":\"7372\"},{\"id\":\"7373\"}]},\"id\":\"7375\",\"type\":\"Toolbar\"},{\"attributes\":{\"months\":[0,6]},\"id\":\"7405\",\"type\":\"MonthsTicker\"},{\"attributes\":{},\"id\":\"7365\",\"type\":\"BasicTicker\"},{\"attributes\":{\"label\":{\"value\":\"H\"},\"renderers\":[{\"id\":\"7386\"}]},\"id\":\"7410\",\"type\":\"LegendItem\"},{\"attributes\":{\"days\":[1,8,15,22]},\"id\":\"7400\",\"type\":\"DaysTicker\"},{\"attributes\":{},\"id\":\"7406\",\"type\":\"YearsTicker\"},{\"attributes\":{\"fill_alpha\":{\"value\":0.01},\"fill_color\":{\"value\":\"lightblue\"},\"line_alpha\":{\"value\":0.01},\"line_color\":{\"value\":\"lightblue\"},\"size\":{\"units\":\"screen\",\"value\":10},\"x\":{\"field\":\"x\"},\"y\":{\"field\":\"y\"}},\"id\":\"7385\",\"type\":\"X\"},{\"attributes\":{},\"id\":\"7439\",\"type\":\"Selection\"},{\"attributes\":{},\"id\":\"7368\",\"type\":\"PanTool\"},{\"attributes\":{\"months\":[0,4,8]},\"id\":\"7404\",\"type\":\"MonthsTicker\"},{\"attributes\":{},\"id\":\"7438\",\"type\":\"UnionRenderers\"},{\"attributes\":{},\"id\":\"7369\",\"type\":\"WheelZoomTool\"},{\"attributes\":{\"fill_color\":{\"value\":\"lightblue\"},\"line_color\":{\"value\":\"lightblue\"},\"size\":{\"units\":\"screen\",\"value\":10},\"x\":{\"field\":\"x\"},\"y\":{\"field\":\"y\"}},\"id\":\"7383\",\"type\":\"X\"},{\"attributes\":{\"data\":{\"x\":{\"__ndarray__\":\"AADAmTATd0IAAID/ghN3QgAAQGXVE3dCAAAAyycUd0IAAMAwehR3QgAAgJbMFHdCAABA/B4Vd0IAAABicRV3QgAAwMfDFXdCAACALRYWd0IAAECTaBZ3QgAAAPm6FndCAADAXg0Xd0IAAIDEXxd3QgAAQCqyF3dCAAAAkAQYd0IAAMD1Vhh3QgAAgFupGHdCAABAwfsYd0IAAAAnThl3QgAAwIygGXdCAACA8vIZd0IAAEBYRRp3QgAAAL6XGndCAADAI+oad0IAAICJPBt3QgAAQO+OG3dCAAAAVeEbd0IAAMC6Mxx3QgAAgCCGHHdCAABAhtgcd0IAAADsKh13QgAAwFF9HXdCAACAt88dd0IAAEAdIh53QgAAAIN0HndCAADA6MYed0IAAIBOGR93QgAAQLRrH3dCAAAAGr4fd0IAAMB/ECB3Qg==\",\"dtype\":\"float64\",\"order\":\"little\",\"shape\":[41]},\"y\":{\"__ndarray__\":\"EmFVGRcm2kA4z0t+atHcQHGIrnzjm99AozEp+xVB4UB/d1lpNsDiQCIRa1AtSeRAQmHUkqLZ5UD035qwFG/nQG9FWL/iBulAATrlCVee6kBxxrEFsjLsQNzLck41we1AoqPUVi5H70CgaK1FAGHwQHMwv1SXF/FA3pbaizHG8UDD/7qMu2vyQHP4HGM8B/NATuN92teX80A3qjot0Bz0QDLGYxWHlfRAQKmUOX4B9UDU5zEVV2D1QLMOX1nSsfVA8W6D4M719UDaMJo/SCz2QHXatAhVVfZA6LQqziRx9kDwbCn8/X/2QPdQooI7gvZA0L+Lhkp49kDPfEP5p2L2QIh+gTzeQfZAAU2s04IW9kCVo3IqNOH1QBfA3HeXovVA4YkqwVZb9UDyD2z/Hgz1QPGbrXSetfRA/a6MEINY9EAenQkfefXzQA==\",\"dtype\":\"float64\",\"order\":\"little\",\"shape\":[41]}},\"selected\":{\"id\":\"7408\"},\"selection_policy\":{\"id\":\"7407\"}},\"id\":\"7382\",\"type\":\"ColumnDataSource\"},{\"attributes\":{},\"id\":\"7373\",\"type\":\"HelpTool\"},{\"attributes\":{\"num_minor_ticks\":5,\"tickers\":[{\"id\":\"7395\"},{\"id\":\"7396\"},{\"id\":\"7397\"},{\"id\":\"7398\"},{\"id\":\"7399\"},{\"id\":\"7400\"},{\"id\":\"7401\"},{\"id\":\"7402\"},{\"id\":\"7403\"},{\"id\":\"7404\"},{\"id\":\"7405\"},{\"id\":\"7406\"}]},\"id\":\"7361\",\"type\":\"DatetimeTicker\"},{\"attributes\":{\"axis\":{\"id\":\"7364\"},\"dimension\":1,\"ticker\":null},\"id\":\"7367\",\"type\":\"Grid\"},{\"attributes\":{\"click_policy\":\"mute\",\"items\":[{\"id\":\"7410\"},{\"id\":\"7440\"},{\"id\":\"7472\"}],\"location\":\"top_left\"},\"id\":\"7409\",\"type\":\"Legend\"},{\"attributes\":{},\"id\":\"7358\",\"type\":\"LinearScale\"},{\"attributes\":{},\"id\":\"7356\",\"type\":\"LinearScale\"},{\"attributes\":{\"overlay\":{\"id\":\"7374\"}},\"id\":\"7370\",\"type\":\"BoxZoomTool\"},{\"attributes\":{},\"id\":\"7371\",\"type\":\"SaveTool\"},{\"attributes\":{},\"id\":\"7407\",\"type\":\"UnionRenderers\"},{\"attributes\":{},\"id\":\"7391\",\"type\":\"BasicTickFormatter\"},{\"attributes\":{\"data\":{\"x\":{\"__ndarray__\":\"AADAmTATd0IAAID/ghN3QgAAQGXVE3dCAAAAyycUd0IAAMAwehR3QgAAgJbMFHdCAABA/B4Vd0IAAABicRV3QgAAwMfDFXdCAACALRYWd0IAAECTaBZ3QgAAAPm6FndCAADAXg0Xd0IAAIDEXxd3QgAAQCqyF3dCAAAAkAQYd0IAAMD1Vhh3QgAAgFupGHdCAABAwfsYd0IAAAAnThl3QgAAwIygGXdCAACA8vIZd0IAAEBYRRp3QgAAAL6XGndCAADAI+oad0IAAICJPBt3QgAAQO+OG3dCAAAAVeEbd0IAAMC6Mxx3QgAAgCCGHHdCAABAhtgcd0IAAADsKh13QgAAwFF9HXdCAACAt88dd0IAAEAdIh53QgAAAIN0HndCAADA6MYed0IAAIBOGR93QgAAQLRrH3dCAAAAGr4fd0IAAMB/ECB3Qg==\",\"dtype\":\"float64\",\"order\":\"little\",\"shape\":[41]},\"y\":{\"__ndarray__\":\"sw9Up3f4rECpC0mfy3+wQMc9awdftrJAzt7AyhIitUCHuKsgv8S3QJAmAs/un7pAgotxUNe0vUA00LseKYLAQKWaTRBsR8JATT77aT4qxEAMthK8dirGQCE6xAW4R8hAncg7T3KBykB/wTYE5NbMQEYzUQgcR89AEObhN37o0EBJBgPknjnSQDJ5P205ltNAPTiKaIb91EAstgjOr27WQJfQrE3T6NdAihcIowRr2UBY+O/zT/TaQHSXxSK8g9xAy53oDk0Y3kC0cPm9BbHfQL3jCDJ1puBA/u0dJIF14UD60KG+LEXiQCL3nz0BFeNAd6UTvIvk40CdEyDSXbPkQPfqPBkOgeVAx2WXmjhN5kAobQ4ofxfnQEevbqCJ3+dABHL9IAal6EBTY6AkqWfpQONBeZItJ+pAIpRPvlTj6kD3bpVZ5pvrQA==\",\"dtype\":\"float64\",\"order\":\"little\",\"shape\":[41]}},\"selected\":{\"id\":\"7471\"},\"selection_policy\":{\"id\":\"7470\"}},\"id\":\"7441\",\"type\":\"ColumnDataSource\"},{\"attributes\":{},\"id\":\"7408\",\"type\":\"Selection\"},{\"attributes\":{\"fill_color\":{\"value\":\"red\"},\"line_color\":{\"value\":\"red\"},\"size\":{\"units\":\"screen\",\"value\":10},\"x\":{\"field\":\"x\"},\"y\":{\"field\":\"y\"}},\"id\":\"7442\",\"type\":\"X\"},{\"attributes\":{},\"id\":\"7372\",\"type\":\"ResetTool\"},{\"attributes\":{\"data_source\":{\"id\":\"7441\"},\"glyph\":{\"id\":\"7442\"},\"hover_glyph\":null,\"muted_glyph\":{\"id\":\"7444\"},\"nonselection_glyph\":{\"id\":\"7443\"},\"selection_glyph\":null,\"view\":{\"id\":\"7446\"}},\"id\":\"7445\",\"type\":\"GlyphRenderer\"},{\"attributes\":{\"fill_color\":{\"value\":\"pink\"},\"line_color\":{\"value\":\"pink\"},\"size\":{\"units\":\"screen\",\"value\":10},\"x\":{\"field\":\"x\"},\"y\":{\"field\":\"y\"}},\"id\":\"7412\",\"type\":\"X\"}],\"root_ids\":[\"7351\"]},\"title\":\"Bokeh Application\",\"version\":\"2.2.3\"}};\n",
       "  var render_items = [{\"docid\":\"4f38c061-7fa1-4312-acef-0d566bc55fe1\",\"root_ids\":[\"7351\"],\"roots\":{\"7351\":\"8df2ea08-b429-4533-b993-a2b034200996\"}}];\n",
       "  root.Bokeh.embed.embed_items_notebook(docs_json, render_items);\n",
       "\n",
       "  }\n",
       "  if (root.Bokeh !== undefined) {\n",
       "    embed_document(root);\n",
       "  } else {\n",
       "    var attempts = 0;\n",
       "    var timer = setInterval(function(root) {\n",
       "      if (root.Bokeh !== undefined) {\n",
       "        clearInterval(timer);\n",
       "        embed_document(root);\n",
       "      } else {\n",
       "        attempts++;\n",
       "        if (attempts > 100) {\n",
       "          clearInterval(timer);\n",
       "          console.log(\"Bokeh: ERROR: Unable to run BokehJS code because BokehJS library is missing\");\n",
       "        }\n",
       "      }\n",
       "    }, 10, root)\n",
       "  }\n",
       "})(window);"
      ],
      "application/vnd.bokehjs_exec.v0+json": ""
     },
     "metadata": {
      "application/vnd.bokehjs_exec.v0+json": {
       "id": "7351"
      }
     },
     "output_type": "display_data"
    }
   ],
   "source": [
    "plot_data(sol_frame_plug_in)"
   ]
  },
  {
   "cell_type": "markdown",
   "metadata": {},
   "source": [
    "Le cas Full bayesienne :"
   ]
  },
  {
   "cell_type": "code",
   "execution_count": 68,
   "metadata": {},
   "outputs": [],
   "source": [
    "tini = (datetime(year = 2020, month = 4, day = 1) - init_date).days\n",
    "sol_full_bayes = f(np.mean(full_bayes, axis=0), tend = datetime(year = 2020, month = 5, day = 11))[tini: ]\n",
    "sol_frame_full_bayes = pd.DataFrame({\n",
    "    'date': [datetime(year = 2020, month = 4, day = 1)+k*delta_time for k in range(sol_full_bayes.shape[0])],\n",
    "    'H' : sol_full_bayes[:,ykeys['H']],\n",
    "    'U' : sol_full_bayes[:,ykeys['U']],\n",
    "    'D' : sol_full_bayes[:,ykeys['D']],\n",
    "})"
   ]
  },
  {
   "cell_type": "code",
   "execution_count": 69,
   "metadata": {},
   "outputs": [
    {
     "data": {
      "text/html": [
       "\n",
       "\n",
       "\n",
       "\n",
       "\n",
       "\n",
       "  <div class=\"bk-root\" id=\"1a776c86-80ea-4ebe-853b-0d495feb29cf\" data-root-id=\"7959\"></div>\n"
      ]
     },
     "metadata": {},
     "output_type": "display_data"
    },
    {
     "data": {
      "application/javascript": [
       "(function(root) {\n",
       "  function embed_document(root) {\n",
       "    \n",
       "  var docs_json = {\"1b5d6f0e-e261-4ebb-a438-0cdd14476f75\":{\"roots\":{\"references\":[{\"attributes\":{\"below\":[{\"id\":\"7968\"}],\"center\":[{\"id\":\"7971\"},{\"id\":\"7975\"},{\"id\":\"8017\"}],\"left\":[{\"id\":\"7972\"}],\"plot_height\":450,\"plot_width\":900,\"renderers\":[{\"id\":\"7994\"},{\"id\":\"8023\"},{\"id\":\"8053\"}],\"title\":{\"id\":\"7996\"},\"toolbar\":{\"id\":\"7983\"},\"x_range\":{\"id\":\"7960\"},\"x_scale\":{\"id\":\"7964\"},\"y_range\":{\"id\":\"7962\"},\"y_scale\":{\"id\":\"7966\"}},\"id\":\"7959\",\"subtype\":\"Figure\",\"type\":\"Plot\"},{\"attributes\":{},\"id\":\"7977\",\"type\":\"WheelZoomTool\"},{\"attributes\":{\"mantissas\":[1,2,5],\"max_interval\":500.0,\"num_minor_ticks\":0},\"id\":\"8003\",\"type\":\"AdaptiveTicker\"},{\"attributes\":{\"overlay\":{\"id\":\"7982\"}},\"id\":\"7978\",\"type\":\"BoxZoomTool\"},{\"attributes\":{\"base\":60,\"mantissas\":[1,2,5,10,15,20,30],\"max_interval\":1800000.0,\"min_interval\":1000.0,\"num_minor_ticks\":0},\"id\":\"8004\",\"type\":\"AdaptiveTicker\"},{\"attributes\":{},\"id\":\"7979\",\"type\":\"SaveTool\"},{\"attributes\":{\"days\":[1,2,3,4,5,6,7,8,9,10,11,12,13,14,15,16,17,18,19,20,21,22,23,24,25,26,27,28,29,30,31]},\"id\":\"8006\",\"type\":\"DaysTicker\"},{\"attributes\":{\"text\":\"\"},\"id\":\"7996\",\"type\":\"Title\"},{\"attributes\":{},\"id\":\"7980\",\"type\":\"ResetTool\"},{\"attributes\":{\"base\":24,\"mantissas\":[1,2,4,6,8,12],\"max_interval\":43200000.0,\"min_interval\":3600000.0,\"num_minor_ticks\":0},\"id\":\"8005\",\"type\":\"AdaptiveTicker\"},{\"attributes\":{\"months\":[0,1,2,3,4,5,6,7,8,9,10,11]},\"id\":\"8010\",\"type\":\"MonthsTicker\"},{\"attributes\":{\"fill_alpha\":{\"value\":0.1},\"fill_color\":{\"value\":\"lightblue\"},\"line_alpha\":{\"value\":0.1},\"line_color\":{\"value\":\"lightblue\"},\"size\":{\"units\":\"screen\",\"value\":10},\"x\":{\"field\":\"x\"},\"y\":{\"field\":\"y\"}},\"id\":\"7992\",\"type\":\"X\"},{\"attributes\":{\"months\":[0,2,4,6,8,10]},\"id\":\"8011\",\"type\":\"MonthsTicker\"},{\"attributes\":{},\"id\":\"8047\",\"type\":\"Selection\"},{\"attributes\":{\"days\":[1,4,7,10,13,16,19,22,25,28]},\"id\":\"8007\",\"type\":\"DaysTicker\"},{\"attributes\":{\"days\":[1,15]},\"id\":\"8009\",\"type\":\"DaysTicker\"},{\"attributes\":{},\"id\":\"8046\",\"type\":\"UnionRenderers\"},{\"attributes\":{\"label\":{\"value\":\"H\"},\"renderers\":[{\"id\":\"7994\"}]},\"id\":\"8018\",\"type\":\"LegendItem\"},{\"attributes\":{\"months\":[0,6]},\"id\":\"8013\",\"type\":\"MonthsTicker\"},{\"attributes\":{\"data\":{\"x\":{\"__ndarray__\":\"AADAmTATd0IAAID/ghN3QgAAQGXVE3dCAAAAyycUd0IAAMAwehR3QgAAgJbMFHdCAABA/B4Vd0IAAABicRV3QgAAwMfDFXdCAACALRYWd0IAAECTaBZ3QgAAAPm6FndCAADAXg0Xd0IAAIDEXxd3QgAAQCqyF3dCAAAAkAQYd0IAAMD1Vhh3QgAAgFupGHdCAABAwfsYd0IAAAAnThl3QgAAwIygGXdCAACA8vIZd0IAAEBYRRp3QgAAAL6XGndCAADAI+oad0IAAICJPBt3QgAAQO+OG3dCAAAAVeEbd0IAAMC6Mxx3QgAAgCCGHHdCAABAhtgcd0IAAADsKh13QgAAwFF9HXdCAACAt88dd0IAAEAdIh53QgAAAIN0HndCAADA6MYed0IAAIBOGR93QgAAQLRrH3dCAAAAGr4fd0IAAMB/ECB3Qg==\",\"dtype\":\"float64\",\"order\":\"little\",\"shape\":[41]},\"y\":{\"__ndarray__\":\"3FDXbbNL2UDbympzFBLbQDikaja2xtxA1YUPHQ9l3kC/3RwbEunfQOhaEeeep+BAo6A/K1NK4UChSUsbfdvhQAF5dFVBWuJAwrFyBRDG4kB43bpooR7jQBQkufrwY+NAffWYoDeW40DoQmUT5bXjQJV9juqYw+NAuHIybRvA40DqkxlvVqzjQGAFpWJOieNAggNcwxtY40AWbNX05BnjQP/7yKnYz+JA9rtQ3Sh74kCFgClmBh3iQHYm+CSdtuFA77Z4yRBJ4UAqiGYoetXgQKR5ShrlXOBACwGErZ3A30BXjOaDScHeQOwiOT6Hvd1ASHovPu623EB+QKpy867bQBmRno/pptpAwMn1tAGg2UCo+lptTJvYQCaskfW6mddA1Fd1uiCc1kDL3Nr+NKPVQFDKnJyUr9RAGAAB18PB00CADlozMNrSQA==\",\"dtype\":\"float64\",\"order\":\"little\",\"shape\":[41]}},\"selected\":{\"id\":\"8016\"},\"selection_policy\":{\"id\":\"8015\"}},\"id\":\"7990\",\"type\":\"ColumnDataSource\"},{\"attributes\":{\"source\":{\"id\":\"7990\"}},\"id\":\"7995\",\"type\":\"CDSView\"},{\"attributes\":{\"days\":[1,8,15,22]},\"id\":\"8008\",\"type\":\"DaysTicker\"},{\"attributes\":{},\"id\":\"8014\",\"type\":\"YearsTicker\"},{\"attributes\":{\"data_source\":{\"id\":\"7990\"},\"glyph\":{\"id\":\"7991\"},\"hover_glyph\":null,\"muted_glyph\":{\"id\":\"7993\"},\"nonselection_glyph\":{\"id\":\"7992\"},\"selection_glyph\":null,\"view\":{\"id\":\"7995\"}},\"id\":\"7994\",\"type\":\"GlyphRenderer\"},{\"attributes\":{\"click_policy\":\"mute\",\"items\":[{\"id\":\"8018\"},{\"id\":\"8048\"},{\"id\":\"8080\"}],\"location\":\"top_left\"},\"id\":\"8017\",\"type\":\"Legend\"},{\"attributes\":{\"months\":[0,4,8]},\"id\":\"8012\",\"type\":\"MonthsTicker\"},{\"attributes\":{\"fill_alpha\":{\"value\":0.01},\"fill_color\":{\"value\":\"lightblue\"},\"line_alpha\":{\"value\":0.01},\"line_color\":{\"value\":\"lightblue\"},\"size\":{\"units\":\"screen\",\"value\":10},\"x\":{\"field\":\"x\"},\"y\":{\"field\":\"y\"}},\"id\":\"7993\",\"type\":\"X\"},{\"attributes\":{\"fill_color\":{\"value\":\"lightblue\"},\"line_color\":{\"value\":\"lightblue\"},\"size\":{\"units\":\"screen\",\"value\":10},\"x\":{\"field\":\"x\"},\"y\":{\"field\":\"y\"}},\"id\":\"7991\",\"type\":\"X\"},{\"attributes\":{\"bottom_units\":\"screen\",\"fill_alpha\":0.5,\"fill_color\":\"lightgrey\",\"left_units\":\"screen\",\"level\":\"overlay\",\"line_alpha\":1.0,\"line_color\":\"black\",\"line_dash\":[4,4],\"line_width\":2,\"right_units\":\"screen\",\"top_units\":\"screen\"},\"id\":\"7982\",\"type\":\"BoxAnnotation\"},{\"attributes\":{\"data\":{\"x\":{\"__ndarray__\":\"AADAmTATd0IAAID/ghN3QgAAQGXVE3dCAAAAyycUd0IAAMAwehR3QgAAgJbMFHdCAABA/B4Vd0IAAABicRV3QgAAwMfDFXdCAACALRYWd0IAAECTaBZ3QgAAAPm6FndCAADAXg0Xd0IAAIDEXxd3QgAAQCqyF3dCAAAAkAQYd0IAAMD1Vhh3QgAAgFupGHdCAABAwfsYd0IAAAAnThl3QgAAwIygGXdCAACA8vIZd0IAAEBYRRp3QgAAAL6XGndCAADAI+oad0IAAICJPBt3QgAAQO+OG3dCAAAAVeEbd0IAAMC6Mxx3QgAAgCCGHHdCAABAhtgcd0IAAADsKh13QgAAwFF9HXdCAACAt88dd0IAAEAdIh53QgAAAIN0HndCAADA6MYed0IAAIBOGR93QgAAQLRrH3dCAAAAGr4fd0IAAMB/ECB3Qg==\",\"dtype\":\"float64\",\"order\":\"little\",\"shape\":[41]},\"y\":{\"__ndarray__\":\"XZPXmmnFr0AjHjqlJ+2xQPEA97duGrRA2f87Bv1otkDWmXum79a4QDU9mQoYYrtAHuA2PwcIvkC+XJ7fDGPAQCv2RL7BzMFAtFyn5K0/w0D0t5VsVLrEQOvy3k41O8ZAjR8yZdLAx0DVo/f4s0nJQJAGmr9s1MpARBcWU51fzEB72joZ9+nNQFos9p0+cs9Ap/NEtKZ70EChRaSoCTzRQA+y5rDL+dFAxXKEJny00kAWgN1DtmvTQDVHVAchH9RA4WNR827O1ECCO7OwXXnVQLhSbJm1H9ZAY1APMEnB1kCABDGJ9F3XQAfO1amc9ddA+yVT4S6I2EBYf3seoBXZQPdmHkXsndlAjZN+hRUh2kDWZL+3I5/aQOSu6bwjGNtASAC65iaM20DC1zhnQvvbQFINnMiOZdxA/CEZbifL3EAEwcUdKizdQA==\",\"dtype\":\"float64\",\"order\":\"little\",\"shape\":[41]}},\"selected\":{\"id\":\"8079\"},\"selection_policy\":{\"id\":\"8078\"}},\"id\":\"8049\",\"type\":\"ColumnDataSource\"},{\"attributes\":{\"fill_color\":{\"value\":\"red\"},\"line_color\":{\"value\":\"red\"},\"size\":{\"units\":\"screen\",\"value\":10},\"x\":{\"field\":\"x\"},\"y\":{\"field\":\"y\"}},\"id\":\"8050\",\"type\":\"X\"},{\"attributes\":{},\"id\":\"7960\",\"type\":\"DataRange1d\"},{\"attributes\":{\"data_source\":{\"id\":\"8049\"},\"glyph\":{\"id\":\"8050\"},\"hover_glyph\":null,\"muted_glyph\":{\"id\":\"8052\"},\"nonselection_glyph\":{\"id\":\"8051\"},\"selection_glyph\":null,\"view\":{\"id\":\"8054\"}},\"id\":\"8053\",\"type\":\"GlyphRenderer\"},{\"attributes\":{},\"id\":\"8015\",\"type\":\"UnionRenderers\"},{\"attributes\":{},\"id\":\"7976\",\"type\":\"PanTool\"},{\"attributes\":{\"source\":{\"id\":\"8049\"}},\"id\":\"8054\",\"type\":\"CDSView\"},{\"attributes\":{},\"id\":\"8016\",\"type\":\"Selection\"},{\"attributes\":{},\"id\":\"7964\",\"type\":\"LinearScale\"},{\"attributes\":{\"fill_color\":{\"value\":\"pink\"},\"line_color\":{\"value\":\"pink\"},\"size\":{\"units\":\"screen\",\"value\":10},\"x\":{\"field\":\"x\"},\"y\":{\"field\":\"y\"}},\"id\":\"8020\",\"type\":\"X\"},{\"attributes\":{\"formatter\":{\"id\":\"8001\"},\"ticker\":{\"id\":\"7969\"}},\"id\":\"7968\",\"type\":\"DatetimeAxis\"},{\"attributes\":{},\"id\":\"7999\",\"type\":\"BasicTickFormatter\"},{\"attributes\":{\"data\":{\"x\":{\"__ndarray__\":\"AADAmTATd0IAAID/ghN3QgAAQGXVE3dCAAAAyycUd0IAAMAwehR3QgAAgJbMFHdCAABA/B4Vd0IAAABicRV3QgAAwMfDFXdCAACALRYWd0IAAECTaBZ3QgAAAPm6FndCAADAXg0Xd0IAAIDEXxd3QgAAQCqyF3dCAAAAkAQYd0IAAMD1Vhh3QgAAgFupGHdCAABAwfsYd0IAAAAnThl3QgAAwIygGXdCAACA8vIZd0IAAEBYRRp3QgAAAL6XGndCAADAI+oad0IAAICJPBt3QgAAQO+OG3dCAAAAVeEbd0IAAMC6Mxx3QgAAgCCGHHdCAABAhtgcd0IAAADsKh13QgAAwFF9HXdCAACAt88dd0IAAEAdIh53QgAAAIN0HndCAADA6MYed0IAAIBOGR93QgAAQLRrH3dCAAAAGr4fd0IAAMB/ECB3Qg==\",\"dtype\":\"float64\",\"order\":\"little\",\"shape\":[41]},\"y\":{\"__ndarray__\":\"Bugadzp7uEDeiXBDdTW6QD2vqnrm3rtAULceiiZzvUDW11NyRO6+QEtpYklqJsBAqq3GNP3FwED6VoTFtlTBQBmmnh690cFA4DCvH388wkBj4UgqsZTCQB0BMplI2sJAMRU0PXYNw0BTy8oboC7DQKp9g81aPsNAE+FdoWI9w0Azj2vHlCzDQOoEnKroDMNAXldqnGnfwkCtcmntMKXCQNhPIoZgX8JA3FNkCh4PwkAmP9+OjrXBQIfDc+LSU8FAqa2oZwTrwEAPXaV4MnzAQHpMgk5gCMBA3dZwwAYhv0Ci8BZfBCu+QOY3/O5mML1A2hm8Z7syvEB76+XhbTO7QEEMwbjJM7pAp29oGPo0uUBQayHiCji4QIVrNNjpPbdABSkQAGhHtkBa0XssO1W1QNbph6P/Z7RAtefF1jmAs0ANgfQiWJ6yQA==\",\"dtype\":\"float64\",\"order\":\"little\",\"shape\":[41]}},\"selected\":{\"id\":\"8047\"},\"selection_policy\":{\"id\":\"8046\"}},\"id\":\"8019\",\"type\":\"ColumnDataSource\"},{\"attributes\":{\"active_drag\":\"auto\",\"active_inspect\":\"auto\",\"active_multi\":null,\"active_scroll\":\"auto\",\"active_tap\":\"auto\",\"tools\":[{\"id\":\"7976\"},{\"id\":\"7977\"},{\"id\":\"7978\"},{\"id\":\"7979\"},{\"id\":\"7980\"},{\"id\":\"7981\"}]},\"id\":\"7983\",\"type\":\"Toolbar\"},{\"attributes\":{\"fill_alpha\":{\"value\":0.01},\"fill_color\":{\"value\":\"red\"},\"line_alpha\":{\"value\":0.01},\"line_color\":{\"value\":\"red\"},\"size\":{\"units\":\"screen\",\"value\":10},\"x\":{\"field\":\"x\"},\"y\":{\"field\":\"y\"}},\"id\":\"8052\",\"type\":\"X\"},{\"attributes\":{\"num_minor_ticks\":5,\"tickers\":[{\"id\":\"8003\"},{\"id\":\"8004\"},{\"id\":\"8005\"},{\"id\":\"8006\"},{\"id\":\"8007\"},{\"id\":\"8008\"},{\"id\":\"8009\"},{\"id\":\"8010\"},{\"id\":\"8011\"},{\"id\":\"8012\"},{\"id\":\"8013\"},{\"id\":\"8014\"}]},\"id\":\"7969\",\"type\":\"DatetimeTicker\"},{\"attributes\":{\"fill_alpha\":{\"value\":0.1},\"fill_color\":{\"value\":\"pink\"},\"line_alpha\":{\"value\":0.1},\"line_color\":{\"value\":\"pink\"},\"size\":{\"units\":\"screen\",\"value\":10},\"x\":{\"field\":\"x\"},\"y\":{\"field\":\"y\"}},\"id\":\"8021\",\"type\":\"X\"},{\"attributes\":{\"data_source\":{\"id\":\"8019\"},\"glyph\":{\"id\":\"8020\"},\"hover_glyph\":null,\"muted_glyph\":{\"id\":\"8022\"},\"nonselection_glyph\":{\"id\":\"8021\"},\"selection_glyph\":null,\"view\":{\"id\":\"8024\"}},\"id\":\"8023\",\"type\":\"GlyphRenderer\"},{\"attributes\":{\"label\":{\"value\":\"D\"},\"renderers\":[{\"id\":\"8053\"}]},\"id\":\"8080\",\"type\":\"LegendItem\"},{\"attributes\":{\"source\":{\"id\":\"8019\"}},\"id\":\"8024\",\"type\":\"CDSView\"},{\"attributes\":{},\"id\":\"7962\",\"type\":\"DataRange1d\"},{\"attributes\":{},\"id\":\"8001\",\"type\":\"DatetimeTickFormatter\"},{\"attributes\":{\"axis\":{\"id\":\"7968\"},\"ticker\":null},\"id\":\"7971\",\"type\":\"Grid\"},{\"attributes\":{\"fill_alpha\":{\"value\":0.01},\"fill_color\":{\"value\":\"pink\"},\"line_alpha\":{\"value\":0.01},\"line_color\":{\"value\":\"pink\"},\"size\":{\"units\":\"screen\",\"value\":10},\"x\":{\"field\":\"x\"},\"y\":{\"field\":\"y\"}},\"id\":\"8022\",\"type\":\"X\"},{\"attributes\":{},\"id\":\"7981\",\"type\":\"HelpTool\"},{\"attributes\":{\"fill_alpha\":{\"value\":0.1},\"fill_color\":{\"value\":\"red\"},\"line_alpha\":{\"value\":0.1},\"line_color\":{\"value\":\"red\"},\"size\":{\"units\":\"screen\",\"value\":10},\"x\":{\"field\":\"x\"},\"y\":{\"field\":\"y\"}},\"id\":\"8051\",\"type\":\"X\"},{\"attributes\":{\"formatter\":{\"id\":\"7999\"},\"ticker\":{\"id\":\"7973\"}},\"id\":\"7972\",\"type\":\"LinearAxis\"},{\"attributes\":{\"label\":{\"value\":\"U\"},\"renderers\":[{\"id\":\"8023\"}]},\"id\":\"8048\",\"type\":\"LegendItem\"},{\"attributes\":{},\"id\":\"8078\",\"type\":\"UnionRenderers\"},{\"attributes\":{\"axis\":{\"id\":\"7972\"},\"dimension\":1,\"ticker\":null},\"id\":\"7975\",\"type\":\"Grid\"},{\"attributes\":{},\"id\":\"7966\",\"type\":\"LinearScale\"},{\"attributes\":{},\"id\":\"8079\",\"type\":\"Selection\"},{\"attributes\":{},\"id\":\"7973\",\"type\":\"BasicTicker\"}],\"root_ids\":[\"7959\"]},\"title\":\"Bokeh Application\",\"version\":\"2.2.3\"}};\n",
       "  var render_items = [{\"docid\":\"1b5d6f0e-e261-4ebb-a438-0cdd14476f75\",\"root_ids\":[\"7959\"],\"roots\":{\"7959\":\"1a776c86-80ea-4ebe-853b-0d495feb29cf\"}}];\n",
       "  root.Bokeh.embed.embed_items_notebook(docs_json, render_items);\n",
       "\n",
       "  }\n",
       "  if (root.Bokeh !== undefined) {\n",
       "    embed_document(root);\n",
       "  } else {\n",
       "    var attempts = 0;\n",
       "    var timer = setInterval(function(root) {\n",
       "      if (root.Bokeh !== undefined) {\n",
       "        clearInterval(timer);\n",
       "        embed_document(root);\n",
       "      } else {\n",
       "        attempts++;\n",
       "        if (attempts > 100) {\n",
       "          clearInterval(timer);\n",
       "          console.log(\"Bokeh: ERROR: Unable to run BokehJS code because BokehJS library is missing\");\n",
       "        }\n",
       "      }\n",
       "    }, 10, root)\n",
       "  }\n",
       "})(window);"
      ],
      "application/vnd.bokehjs_exec.v0+json": ""
     },
     "metadata": {
      "application/vnd.bokehjs_exec.v0+json": {
       "id": "7959"
      }
     },
     "output_type": "display_data"
    }
   ],
   "source": [
    "plot_data(sol_frame_full_bayes)"
   ]
  }
 ],
 "metadata": {
  "kernelspec": {
   "display_name": "Python 3",
   "language": "python",
   "name": "python3"
  },
  "language_info": {
   "codemirror_mode": {
    "name": "ipython",
    "version": 3
   },
   "file_extension": ".py",
   "mimetype": "text/x-python",
   "name": "python",
   "nbconvert_exporter": "python",
   "pygments_lexer": "ipython3",
   "version": "3.8.5"
  }
 },
 "nbformat": 4,
 "nbformat_minor": 5
}
